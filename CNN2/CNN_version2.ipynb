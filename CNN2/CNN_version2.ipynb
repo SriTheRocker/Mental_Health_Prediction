{
  "cells": [
    {
      "cell_type": "code",
      "execution_count": null,
      "metadata": {
        "id": "MFpD76vyaMv2"
      },
      "outputs": [],
      "source": [
        "import pandas as pd\n",
        "import numpy as np\n",
        "import warnings\n",
        "warnings.filterwarnings('ignore')\n",
        "from sklearn.model_selection import train_test_split\n",
        "from sklearn.preprocessing import LabelEncoder, StandardScaler\n",
        "from sklearn.feature_extraction.text import TfidfVectorizer\n",
        "from sklearn.linear_model import LogisticRegression\n",
        "from sklearn.tree import DecisionTreeClassifier\n",
        "from sklearn.svm import SVC\n",
        "import matplotlib.pyplot as plt\n",
        "from sklearn.model_selection import StratifiedKFold, learning_curve\n",
        "from sklearn.metrics import accuracy_score, classification_report, confusion_matrix, ConfusionMatrixDisplay\n",
        "from sklearn.ensemble import RandomForestClassifier\n",
        "from sklearn.pipeline import FeatureUnion\n",
        "from sklearn.compose import ColumnTransformer"
      ]
    },
    {
      "cell_type": "markdown",
      "metadata": {
        "id": "zGKWBbbd_LJE"
      },
      "source": [
        "## Data Loading\n",
        "\n",
        "Loaded the save data from Feature Engineering"
      ]
    },
    {
      "cell_type": "code",
      "execution_count": null,
      "metadata": {
        "colab": {
          "base_uri": "https://localhost:8080/",
          "height": 660
        },
        "id": "biZMUvC7aQv-",
        "outputId": "c63a9ccf-2d7f-4512-b30d-2e0be176f1d1"
      },
      "outputs": [
        {
          "data": {
            "application/vnd.google.colaboratory.intrinsic+json": {
              "type": "dataframe",
              "variable_name": "data"
            },
            "text/html": [
              "\n",
              "  <div id=\"df-18d2ffae-4cd6-4d6c-973d-4df2acd63176\" class=\"colab-df-container\">\n",
              "    <div>\n",
              "<style scoped>\n",
              "    .dataframe tbody tr th:only-of-type {\n",
              "        vertical-align: middle;\n",
              "    }\n",
              "\n",
              "    .dataframe tbody tr th {\n",
              "        vertical-align: top;\n",
              "    }\n",
              "\n",
              "    .dataframe thead th {\n",
              "        text-align: right;\n",
              "    }\n",
              "</style>\n",
              "<table border=\"1\" class=\"dataframe\">\n",
              "  <thead>\n",
              "    <tr style=\"text-align: right;\">\n",
              "      <th></th>\n",
              "      <th>index</th>\n",
              "      <th>Timestamp</th>\n",
              "      <th>Subreddit</th>\n",
              "      <th>Type</th>\n",
              "      <th>Post_id</th>\n",
              "      <th>Title</th>\n",
              "      <th>Author</th>\n",
              "      <th>Text</th>\n",
              "      <th>Score</th>\n",
              "      <th>Total_comments</th>\n",
              "      <th>month</th>\n",
              "      <th>hour</th>\n",
              "      <th>day_of_week</th>\n",
              "      <th>Sentiment</th>\n",
              "      <th>Title_word_count</th>\n",
              "      <th>Text_word_count</th>\n",
              "      <th>Category</th>\n",
              "      <th>Processed_Title</th>\n",
              "      <th>Processed_Text</th>\n",
              "    </tr>\n",
              "  </thead>\n",
              "  <tbody>\n",
              "    <tr>\n",
              "      <th>0</th>\n",
              "      <td>0</td>\n",
              "      <td>2018-05-28 19:41:32</td>\n",
              "      <td>mentalhealth</td>\n",
              "      <td>Comment</td>\n",
              "      <td>8msp9v</td>\n",
              "      <td>Mental Health Awareness Month: I have schizoaf...</td>\n",
              "      <td>Candle1nTh3Dark</td>\n",
              "      <td>Thank you for posting this, I've failed univer...</td>\n",
              "      <td>141.0</td>\n",
              "      <td>0.0</td>\n",
              "      <td>5</td>\n",
              "      <td>19</td>\n",
              "      <td>Monday</td>\n",
              "      <td>negative</td>\n",
              "      <td>48</td>\n",
              "      <td>20</td>\n",
              "      <td>MH_Improvement</td>\n",
              "      <td>mental health awareness month schizoaffective ...</td>\n",
              "      <td>thank posting failed university 3 time due hos...</td>\n",
              "    </tr>\n",
              "    <tr>\n",
              "      <th>1</th>\n",
              "      <td>1</td>\n",
              "      <td>2018-05-28 19:53:47</td>\n",
              "      <td>mentalhealth</td>\n",
              "      <td>Comment</td>\n",
              "      <td>8msp9v</td>\n",
              "      <td>Mental Health Awareness Month: I have schizoaf...</td>\n",
              "      <td>sciencelove1994</td>\n",
              "      <td>I have schizoaffective mixed episode type. I a...</td>\n",
              "      <td>61.0</td>\n",
              "      <td>0.0</td>\n",
              "      <td>5</td>\n",
              "      <td>19</td>\n",
              "      <td>Monday</td>\n",
              "      <td>positive</td>\n",
              "      <td>48</td>\n",
              "      <td>33</td>\n",
              "      <td>MH_Improvement</td>\n",
              "      <td>mental health awareness month schizoaffective ...</td>\n",
              "      <td>schizoaffective mixed episode type junior ivy ...</td>\n",
              "    </tr>\n",
              "    <tr>\n",
              "      <th>2</th>\n",
              "      <td>2</td>\n",
              "      <td>2018-05-28 20:04:29</td>\n",
              "      <td>mentalhealth</td>\n",
              "      <td>Comment</td>\n",
              "      <td>8msp9v</td>\n",
              "      <td>Mental Health Awareness Month: I have schizoaf...</td>\n",
              "      <td>Unknown</td>\n",
              "      <td>As someone who is struggling with mental illne...</td>\n",
              "      <td>36.0</td>\n",
              "      <td>0.0</td>\n",
              "      <td>5</td>\n",
              "      <td>20</td>\n",
              "      <td>Monday</td>\n",
              "      <td>negative</td>\n",
              "      <td>48</td>\n",
              "      <td>49</td>\n",
              "      <td>MH_Improvement</td>\n",
              "      <td>mental health awareness month schizoaffective ...</td>\n",
              "      <td>someone struggling mental illness currently co...</td>\n",
              "    </tr>\n",
              "    <tr>\n",
              "      <th>3</th>\n",
              "      <td>3</td>\n",
              "      <td>2018-05-28 20:00:07</td>\n",
              "      <td>mentalhealth</td>\n",
              "      <td>Comment</td>\n",
              "      <td>8msp9v</td>\n",
              "      <td>Mental Health Awareness Month: I have schizoaf...</td>\n",
              "      <td>swild89</td>\n",
              "      <td>I’m heading back now at 28! Thanks for the ins...</td>\n",
              "      <td>28.0</td>\n",
              "      <td>0.0</td>\n",
              "      <td>5</td>\n",
              "      <td>20</td>\n",
              "      <td>Monday</td>\n",
              "      <td>positive</td>\n",
              "      <td>48</td>\n",
              "      <td>11</td>\n",
              "      <td>MH_Improvement</td>\n",
              "      <td>mental health awareness month schizoaffective ...</td>\n",
              "      <td>heading back 28 thanks inspiration</td>\n",
              "    </tr>\n",
              "    <tr>\n",
              "      <th>4</th>\n",
              "      <td>4</td>\n",
              "      <td>2018-05-28 21:21:11</td>\n",
              "      <td>mentalhealth</td>\n",
              "      <td>Comment</td>\n",
              "      <td>8msp9v</td>\n",
              "      <td>Mental Health Awareness Month: I have schizoaf...</td>\n",
              "      <td>BoozeMeUpScotty</td>\n",
              "      <td>Yayyyy!!! Good for you! This is my favorite ki...</td>\n",
              "      <td>11.0</td>\n",
              "      <td>0.0</td>\n",
              "      <td>5</td>\n",
              "      <td>21</td>\n",
              "      <td>Monday</td>\n",
              "      <td>positive</td>\n",
              "      <td>48</td>\n",
              "      <td>499</td>\n",
              "      <td>MH_Improvement</td>\n",
              "      <td>mental health awareness month schizoaffective ...</td>\n",
              "      <td>yayyyy good favorite kind post see anywhere wo...</td>\n",
              "    </tr>\n",
              "  </tbody>\n",
              "</table>\n",
              "</div>\n",
              "    <div class=\"colab-df-buttons\">\n",
              "\n",
              "  <div class=\"colab-df-container\">\n",
              "    <button class=\"colab-df-convert\" onclick=\"convertToInteractive('df-18d2ffae-4cd6-4d6c-973d-4df2acd63176')\"\n",
              "            title=\"Convert this dataframe to an interactive table.\"\n",
              "            style=\"display:none;\">\n",
              "\n",
              "  <svg xmlns=\"http://www.w3.org/2000/svg\" height=\"24px\" viewBox=\"0 -960 960 960\">\n",
              "    <path d=\"M120-120v-720h720v720H120Zm60-500h600v-160H180v160Zm220 220h160v-160H400v160Zm0 220h160v-160H400v160ZM180-400h160v-160H180v160Zm440 0h160v-160H620v160ZM180-180h160v-160H180v160Zm440 0h160v-160H620v160Z\"/>\n",
              "  </svg>\n",
              "    </button>\n",
              "\n",
              "  <style>\n",
              "    .colab-df-container {\n",
              "      display:flex;\n",
              "      gap: 12px;\n",
              "    }\n",
              "\n",
              "    .colab-df-convert {\n",
              "      background-color: #E8F0FE;\n",
              "      border: none;\n",
              "      border-radius: 50%;\n",
              "      cursor: pointer;\n",
              "      display: none;\n",
              "      fill: #1967D2;\n",
              "      height: 32px;\n",
              "      padding: 0 0 0 0;\n",
              "      width: 32px;\n",
              "    }\n",
              "\n",
              "    .colab-df-convert:hover {\n",
              "      background-color: #E2EBFA;\n",
              "      box-shadow: 0px 1px 2px rgba(60, 64, 67, 0.3), 0px 1px 3px 1px rgba(60, 64, 67, 0.15);\n",
              "      fill: #174EA6;\n",
              "    }\n",
              "\n",
              "    .colab-df-buttons div {\n",
              "      margin-bottom: 4px;\n",
              "    }\n",
              "\n",
              "    [theme=dark] .colab-df-convert {\n",
              "      background-color: #3B4455;\n",
              "      fill: #D2E3FC;\n",
              "    }\n",
              "\n",
              "    [theme=dark] .colab-df-convert:hover {\n",
              "      background-color: #434B5C;\n",
              "      box-shadow: 0px 1px 3px 1px rgba(0, 0, 0, 0.15);\n",
              "      filter: drop-shadow(0px 1px 2px rgba(0, 0, 0, 0.3));\n",
              "      fill: #FFFFFF;\n",
              "    }\n",
              "  </style>\n",
              "\n",
              "    <script>\n",
              "      const buttonEl =\n",
              "        document.querySelector('#df-18d2ffae-4cd6-4d6c-973d-4df2acd63176 button.colab-df-convert');\n",
              "      buttonEl.style.display =\n",
              "        google.colab.kernel.accessAllowed ? 'block' : 'none';\n",
              "\n",
              "      async function convertToInteractive(key) {\n",
              "        const element = document.querySelector('#df-18d2ffae-4cd6-4d6c-973d-4df2acd63176');\n",
              "        const dataTable =\n",
              "          await google.colab.kernel.invokeFunction('convertToInteractive',\n",
              "                                                    [key], {});\n",
              "        if (!dataTable) return;\n",
              "\n",
              "        const docLinkHtml = 'Like what you see? Visit the ' +\n",
              "          '<a target=\"_blank\" href=https://colab.research.google.com/notebooks/data_table.ipynb>data table notebook</a>'\n",
              "          + ' to learn more about interactive tables.';\n",
              "        element.innerHTML = '';\n",
              "        dataTable['output_type'] = 'display_data';\n",
              "        await google.colab.output.renderOutput(dataTable, element);\n",
              "        const docLink = document.createElement('div');\n",
              "        docLink.innerHTML = docLinkHtml;\n",
              "        element.appendChild(docLink);\n",
              "      }\n",
              "    </script>\n",
              "  </div>\n",
              "\n",
              "\n",
              "<div id=\"df-5ad86a65-99b5-4988-af39-6174e7255951\">\n",
              "  <button class=\"colab-df-quickchart\" onclick=\"quickchart('df-5ad86a65-99b5-4988-af39-6174e7255951')\"\n",
              "            title=\"Suggest charts\"\n",
              "            style=\"display:none;\">\n",
              "\n",
              "<svg xmlns=\"http://www.w3.org/2000/svg\" height=\"24px\"viewBox=\"0 0 24 24\"\n",
              "     width=\"24px\">\n",
              "    <g>\n",
              "        <path d=\"M19 3H5c-1.1 0-2 .9-2 2v14c0 1.1.9 2 2 2h14c1.1 0 2-.9 2-2V5c0-1.1-.9-2-2-2zM9 17H7v-7h2v7zm4 0h-2V7h2v10zm4 0h-2v-4h2v4z\"/>\n",
              "    </g>\n",
              "</svg>\n",
              "  </button>\n",
              "\n",
              "<style>\n",
              "  .colab-df-quickchart {\n",
              "      --bg-color: #E8F0FE;\n",
              "      --fill-color: #1967D2;\n",
              "      --hover-bg-color: #E2EBFA;\n",
              "      --hover-fill-color: #174EA6;\n",
              "      --disabled-fill-color: #AAA;\n",
              "      --disabled-bg-color: #DDD;\n",
              "  }\n",
              "\n",
              "  [theme=dark] .colab-df-quickchart {\n",
              "      --bg-color: #3B4455;\n",
              "      --fill-color: #D2E3FC;\n",
              "      --hover-bg-color: #434B5C;\n",
              "      --hover-fill-color: #FFFFFF;\n",
              "      --disabled-bg-color: #3B4455;\n",
              "      --disabled-fill-color: #666;\n",
              "  }\n",
              "\n",
              "  .colab-df-quickchart {\n",
              "    background-color: var(--bg-color);\n",
              "    border: none;\n",
              "    border-radius: 50%;\n",
              "    cursor: pointer;\n",
              "    display: none;\n",
              "    fill: var(--fill-color);\n",
              "    height: 32px;\n",
              "    padding: 0;\n",
              "    width: 32px;\n",
              "  }\n",
              "\n",
              "  .colab-df-quickchart:hover {\n",
              "    background-color: var(--hover-bg-color);\n",
              "    box-shadow: 0 1px 2px rgba(60, 64, 67, 0.3), 0 1px 3px 1px rgba(60, 64, 67, 0.15);\n",
              "    fill: var(--button-hover-fill-color);\n",
              "  }\n",
              "\n",
              "  .colab-df-quickchart-complete:disabled,\n",
              "  .colab-df-quickchart-complete:disabled:hover {\n",
              "    background-color: var(--disabled-bg-color);\n",
              "    fill: var(--disabled-fill-color);\n",
              "    box-shadow: none;\n",
              "  }\n",
              "\n",
              "  .colab-df-spinner {\n",
              "    border: 2px solid var(--fill-color);\n",
              "    border-color: transparent;\n",
              "    border-bottom-color: var(--fill-color);\n",
              "    animation:\n",
              "      spin 1s steps(1) infinite;\n",
              "  }\n",
              "\n",
              "  @keyframes spin {\n",
              "    0% {\n",
              "      border-color: transparent;\n",
              "      border-bottom-color: var(--fill-color);\n",
              "      border-left-color: var(--fill-color);\n",
              "    }\n",
              "    20% {\n",
              "      border-color: transparent;\n",
              "      border-left-color: var(--fill-color);\n",
              "      border-top-color: var(--fill-color);\n",
              "    }\n",
              "    30% {\n",
              "      border-color: transparent;\n",
              "      border-left-color: var(--fill-color);\n",
              "      border-top-color: var(--fill-color);\n",
              "      border-right-color: var(--fill-color);\n",
              "    }\n",
              "    40% {\n",
              "      border-color: transparent;\n",
              "      border-right-color: var(--fill-color);\n",
              "      border-top-color: var(--fill-color);\n",
              "    }\n",
              "    60% {\n",
              "      border-color: transparent;\n",
              "      border-right-color: var(--fill-color);\n",
              "    }\n",
              "    80% {\n",
              "      border-color: transparent;\n",
              "      border-right-color: var(--fill-color);\n",
              "      border-bottom-color: var(--fill-color);\n",
              "    }\n",
              "    90% {\n",
              "      border-color: transparent;\n",
              "      border-bottom-color: var(--fill-color);\n",
              "    }\n",
              "  }\n",
              "</style>\n",
              "\n",
              "  <script>\n",
              "    async function quickchart(key) {\n",
              "      const quickchartButtonEl =\n",
              "        document.querySelector('#' + key + ' button');\n",
              "      quickchartButtonEl.disabled = true;  // To prevent multiple clicks.\n",
              "      quickchartButtonEl.classList.add('colab-df-spinner');\n",
              "      try {\n",
              "        const charts = await google.colab.kernel.invokeFunction(\n",
              "            'suggestCharts', [key], {});\n",
              "      } catch (error) {\n",
              "        console.error('Error during call to suggestCharts:', error);\n",
              "      }\n",
              "      quickchartButtonEl.classList.remove('colab-df-spinner');\n",
              "      quickchartButtonEl.classList.add('colab-df-quickchart-complete');\n",
              "    }\n",
              "    (() => {\n",
              "      let quickchartButtonEl =\n",
              "        document.querySelector('#df-5ad86a65-99b5-4988-af39-6174e7255951 button');\n",
              "      quickchartButtonEl.style.display =\n",
              "        google.colab.kernel.accessAllowed ? 'block' : 'none';\n",
              "    })();\n",
              "  </script>\n",
              "</div>\n",
              "\n",
              "    </div>\n",
              "  </div>\n"
            ],
            "text/plain": [
              "   index            Timestamp     Subreddit     Type Post_id  \\\n",
              "0      0  2018-05-28 19:41:32  mentalhealth  Comment  8msp9v   \n",
              "1      1  2018-05-28 19:53:47  mentalhealth  Comment  8msp9v   \n",
              "2      2  2018-05-28 20:04:29  mentalhealth  Comment  8msp9v   \n",
              "3      3  2018-05-28 20:00:07  mentalhealth  Comment  8msp9v   \n",
              "4      4  2018-05-28 21:21:11  mentalhealth  Comment  8msp9v   \n",
              "\n",
              "                                               Title           Author  \\\n",
              "0  Mental Health Awareness Month: I have schizoaf...  Candle1nTh3Dark   \n",
              "1  Mental Health Awareness Month: I have schizoaf...  sciencelove1994   \n",
              "2  Mental Health Awareness Month: I have schizoaf...          Unknown   \n",
              "3  Mental Health Awareness Month: I have schizoaf...          swild89   \n",
              "4  Mental Health Awareness Month: I have schizoaf...  BoozeMeUpScotty   \n",
              "\n",
              "                                                Text  Score  Total_comments  \\\n",
              "0  Thank you for posting this, I've failed univer...  141.0             0.0   \n",
              "1  I have schizoaffective mixed episode type. I a...   61.0             0.0   \n",
              "2  As someone who is struggling with mental illne...   36.0             0.0   \n",
              "3  I’m heading back now at 28! Thanks for the ins...   28.0             0.0   \n",
              "4  Yayyyy!!! Good for you! This is my favorite ki...   11.0             0.0   \n",
              "\n",
              "   month  hour day_of_week Sentiment  Title_word_count  Text_word_count  \\\n",
              "0      5    19      Monday  negative                48               20   \n",
              "1      5    19      Monday  positive                48               33   \n",
              "2      5    20      Monday  negative                48               49   \n",
              "3      5    20      Monday  positive                48               11   \n",
              "4      5    21      Monday  positive                48              499   \n",
              "\n",
              "         Category                                    Processed_Title  \\\n",
              "0  MH_Improvement  mental health awareness month schizoaffective ...   \n",
              "1  MH_Improvement  mental health awareness month schizoaffective ...   \n",
              "2  MH_Improvement  mental health awareness month schizoaffective ...   \n",
              "3  MH_Improvement  mental health awareness month schizoaffective ...   \n",
              "4  MH_Improvement  mental health awareness month schizoaffective ...   \n",
              "\n",
              "                                      Processed_Text  \n",
              "0  thank posting failed university 3 time due hos...  \n",
              "1  schizoaffective mixed episode type junior ivy ...  \n",
              "2  someone struggling mental illness currently co...  \n",
              "3                 heading back 28 thanks inspiration  \n",
              "4  yayyyy good favorite kind post see anywhere wo...  "
            ]
          },
          "execution_count": 2,
          "metadata": {},
          "output_type": "execute_result"
        }
      ],
      "source": [
        "# Load the CSV file into a DataFrame\n",
        "data = pd.read_csv('/content/drive/MyDrive/Relevant_health_data.csv')\n",
        "\n",
        "# Display the first few rows of the DataFrame\n",
        "data.head()"
      ]
    },
    {
      "cell_type": "markdown",
      "metadata": {
        "id": "q93QtcZK_Ris"
      },
      "source": [
        "> The above data has the preprocessed title, text and category"
      ]
    },
    {
      "cell_type": "code",
      "execution_count": null,
      "metadata": {
        "colab": {
          "base_uri": "https://localhost:8080/"
        },
        "id": "xTwOFg_EcWkD",
        "outputId": "63dcbcdf-ce21-4955-df1b-355d6f40e76b"
      },
      "outputs": [
        {
          "name": "stdout",
          "output_type": "stream",
          "text": [
            "<class 'pandas.core.frame.DataFrame'>\n",
            "RangeIndex: 838721 entries, 0 to 838720\n",
            "Data columns (total 19 columns):\n",
            " #   Column            Non-Null Count   Dtype  \n",
            "---  ------            --------------   -----  \n",
            " 0   index             838721 non-null  int64  \n",
            " 1   Timestamp         838721 non-null  object \n",
            " 2   Subreddit         838721 non-null  object \n",
            " 3   Type              838721 non-null  object \n",
            " 4   Post_id           838721 non-null  object \n",
            " 5   Title             838721 non-null  object \n",
            " 6   Author            838721 non-null  object \n",
            " 7   Text              838721 non-null  object \n",
            " 8   Score             838721 non-null  float64\n",
            " 9   Total_comments    838721 non-null  float64\n",
            " 10  month             838721 non-null  int64  \n",
            " 11  hour              838721 non-null  int64  \n",
            " 12  day_of_week       838721 non-null  object \n",
            " 13  Sentiment         838721 non-null  object \n",
            " 14  Title_word_count  838721 non-null  int64  \n",
            " 15  Text_word_count   838721 non-null  int64  \n",
            " 16  Category          838721 non-null  object \n",
            " 17  Processed_Title   834656 non-null  object \n",
            " 18  Processed_Text    829648 non-null  object \n",
            "dtypes: float64(2), int64(5), object(12)\n",
            "memory usage: 121.6+ MB\n"
          ]
        }
      ],
      "source": [
        "data.info()"
      ]
    },
    {
      "cell_type": "code",
      "execution_count": null,
      "metadata": {
        "colab": {
          "base_uri": "https://localhost:8080/",
          "height": 679
        },
        "id": "dtRoqKaBk5DT",
        "outputId": "72671b59-dbf4-41af-c647-82ddd79b7301"
      },
      "outputs": [
        {
          "data": {
            "text/html": [
              "<div>\n",
              "<style scoped>\n",
              "    .dataframe tbody tr th:only-of-type {\n",
              "        vertical-align: middle;\n",
              "    }\n",
              "\n",
              "    .dataframe tbody tr th {\n",
              "        vertical-align: top;\n",
              "    }\n",
              "\n",
              "    .dataframe thead th {\n",
              "        text-align: right;\n",
              "    }\n",
              "</style>\n",
              "<table border=\"1\" class=\"dataframe\">\n",
              "  <thead>\n",
              "    <tr style=\"text-align: right;\">\n",
              "      <th></th>\n",
              "      <th>0</th>\n",
              "    </tr>\n",
              "  </thead>\n",
              "  <tbody>\n",
              "    <tr>\n",
              "      <th>index</th>\n",
              "      <td>0</td>\n",
              "    </tr>\n",
              "    <tr>\n",
              "      <th>Timestamp</th>\n",
              "      <td>0</td>\n",
              "    </tr>\n",
              "    <tr>\n",
              "      <th>Subreddit</th>\n",
              "      <td>0</td>\n",
              "    </tr>\n",
              "    <tr>\n",
              "      <th>Type</th>\n",
              "      <td>0</td>\n",
              "    </tr>\n",
              "    <tr>\n",
              "      <th>Post_id</th>\n",
              "      <td>0</td>\n",
              "    </tr>\n",
              "    <tr>\n",
              "      <th>Title</th>\n",
              "      <td>0</td>\n",
              "    </tr>\n",
              "    <tr>\n",
              "      <th>Author</th>\n",
              "      <td>0</td>\n",
              "    </tr>\n",
              "    <tr>\n",
              "      <th>Text</th>\n",
              "      <td>0</td>\n",
              "    </tr>\n",
              "    <tr>\n",
              "      <th>Score</th>\n",
              "      <td>0</td>\n",
              "    </tr>\n",
              "    <tr>\n",
              "      <th>Total_comments</th>\n",
              "      <td>0</td>\n",
              "    </tr>\n",
              "    <tr>\n",
              "      <th>month</th>\n",
              "      <td>0</td>\n",
              "    </tr>\n",
              "    <tr>\n",
              "      <th>hour</th>\n",
              "      <td>0</td>\n",
              "    </tr>\n",
              "    <tr>\n",
              "      <th>day_of_week</th>\n",
              "      <td>0</td>\n",
              "    </tr>\n",
              "    <tr>\n",
              "      <th>Sentiment</th>\n",
              "      <td>0</td>\n",
              "    </tr>\n",
              "    <tr>\n",
              "      <th>Title_word_count</th>\n",
              "      <td>0</td>\n",
              "    </tr>\n",
              "    <tr>\n",
              "      <th>Text_word_count</th>\n",
              "      <td>0</td>\n",
              "    </tr>\n",
              "    <tr>\n",
              "      <th>Category</th>\n",
              "      <td>0</td>\n",
              "    </tr>\n",
              "    <tr>\n",
              "      <th>Processed_Title</th>\n",
              "      <td>4065</td>\n",
              "    </tr>\n",
              "    <tr>\n",
              "      <th>Processed_Text</th>\n",
              "      <td>9073</td>\n",
              "    </tr>\n",
              "  </tbody>\n",
              "</table>\n",
              "</div><br><label><b>dtype:</b> int64</label>"
            ],
            "text/plain": [
              "index                  0\n",
              "Timestamp              0\n",
              "Subreddit              0\n",
              "Type                   0\n",
              "Post_id                0\n",
              "Title                  0\n",
              "Author                 0\n",
              "Text                   0\n",
              "Score                  0\n",
              "Total_comments         0\n",
              "month                  0\n",
              "hour                   0\n",
              "day_of_week            0\n",
              "Sentiment              0\n",
              "Title_word_count       0\n",
              "Text_word_count        0\n",
              "Category               0\n",
              "Processed_Title     4065\n",
              "Processed_Text      9073\n",
              "dtype: int64"
            ]
          },
          "execution_count": 4,
          "metadata": {},
          "output_type": "execute_result"
        }
      ],
      "source": [
        "data.isnull().sum()"
      ]
    },
    {
      "cell_type": "code",
      "execution_count": null,
      "metadata": {
        "id": "n5LexG9ck9Cl"
      },
      "outputs": [],
      "source": [
        "data = data.dropna(subset=['Processed_Title', 'Processed_Text']).reset_index(drop=True)\n"
      ]
    },
    {
      "cell_type": "code",
      "execution_count": null,
      "metadata": {
        "colab": {
          "base_uri": "https://localhost:8080/",
          "height": 679
        },
        "id": "sxBj9y-IlJTe",
        "outputId": "1e5b790b-0a7e-4913-a24c-12f948dd7cb3"
      },
      "outputs": [
        {
          "data": {
            "text/html": [
              "<div>\n",
              "<style scoped>\n",
              "    .dataframe tbody tr th:only-of-type {\n",
              "        vertical-align: middle;\n",
              "    }\n",
              "\n",
              "    .dataframe tbody tr th {\n",
              "        vertical-align: top;\n",
              "    }\n",
              "\n",
              "    .dataframe thead th {\n",
              "        text-align: right;\n",
              "    }\n",
              "</style>\n",
              "<table border=\"1\" class=\"dataframe\">\n",
              "  <thead>\n",
              "    <tr style=\"text-align: right;\">\n",
              "      <th></th>\n",
              "      <th>0</th>\n",
              "    </tr>\n",
              "  </thead>\n",
              "  <tbody>\n",
              "    <tr>\n",
              "      <th>index</th>\n",
              "      <td>0</td>\n",
              "    </tr>\n",
              "    <tr>\n",
              "      <th>Timestamp</th>\n",
              "      <td>0</td>\n",
              "    </tr>\n",
              "    <tr>\n",
              "      <th>Subreddit</th>\n",
              "      <td>0</td>\n",
              "    </tr>\n",
              "    <tr>\n",
              "      <th>Type</th>\n",
              "      <td>0</td>\n",
              "    </tr>\n",
              "    <tr>\n",
              "      <th>Post_id</th>\n",
              "      <td>0</td>\n",
              "    </tr>\n",
              "    <tr>\n",
              "      <th>Title</th>\n",
              "      <td>0</td>\n",
              "    </tr>\n",
              "    <tr>\n",
              "      <th>Author</th>\n",
              "      <td>0</td>\n",
              "    </tr>\n",
              "    <tr>\n",
              "      <th>Text</th>\n",
              "      <td>0</td>\n",
              "    </tr>\n",
              "    <tr>\n",
              "      <th>Score</th>\n",
              "      <td>0</td>\n",
              "    </tr>\n",
              "    <tr>\n",
              "      <th>Total_comments</th>\n",
              "      <td>0</td>\n",
              "    </tr>\n",
              "    <tr>\n",
              "      <th>month</th>\n",
              "      <td>0</td>\n",
              "    </tr>\n",
              "    <tr>\n",
              "      <th>hour</th>\n",
              "      <td>0</td>\n",
              "    </tr>\n",
              "    <tr>\n",
              "      <th>day_of_week</th>\n",
              "      <td>0</td>\n",
              "    </tr>\n",
              "    <tr>\n",
              "      <th>Sentiment</th>\n",
              "      <td>0</td>\n",
              "    </tr>\n",
              "    <tr>\n",
              "      <th>Title_word_count</th>\n",
              "      <td>0</td>\n",
              "    </tr>\n",
              "    <tr>\n",
              "      <th>Text_word_count</th>\n",
              "      <td>0</td>\n",
              "    </tr>\n",
              "    <tr>\n",
              "      <th>Category</th>\n",
              "      <td>0</td>\n",
              "    </tr>\n",
              "    <tr>\n",
              "      <th>Processed_Title</th>\n",
              "      <td>0</td>\n",
              "    </tr>\n",
              "    <tr>\n",
              "      <th>Processed_Text</th>\n",
              "      <td>0</td>\n",
              "    </tr>\n",
              "  </tbody>\n",
              "</table>\n",
              "</div><br><label><b>dtype:</b> int64</label>"
            ],
            "text/plain": [
              "index               0\n",
              "Timestamp           0\n",
              "Subreddit           0\n",
              "Type                0\n",
              "Post_id             0\n",
              "Title               0\n",
              "Author              0\n",
              "Text                0\n",
              "Score               0\n",
              "Total_comments      0\n",
              "month               0\n",
              "hour                0\n",
              "day_of_week         0\n",
              "Sentiment           0\n",
              "Title_word_count    0\n",
              "Text_word_count     0\n",
              "Category            0\n",
              "Processed_Title     0\n",
              "Processed_Text      0\n",
              "dtype: int64"
            ]
          },
          "execution_count": 6,
          "metadata": {},
          "output_type": "execute_result"
        }
      ],
      "source": [
        "data.isnull().sum()"
      ]
    },
    {
      "cell_type": "markdown",
      "metadata": {
        "id": "82xBMCnQ_a6a"
      },
      "source": [
        "## Model Training"
      ]
    },
    {
      "cell_type": "markdown",
      "metadata": {
        "id": "M-vVOQQ0_exk"
      },
      "source": [
        "> Considered the relevant columns for X and target value for y"
      ]
    },
    {
      "cell_type": "code",
      "execution_count": null,
      "metadata": {
        "id": "TC1UgZOpjqVr"
      },
      "outputs": [],
      "source": [
        "relevant_columns = [\n",
        "    'Subreddit',  'Title_word_count', 'Text_word_count',\n",
        "    'Score', 'Total_comments','Sentiment' ,'Processed_Title', 'Processed_Text'\n",
        "]"
      ]
    },
    {
      "cell_type": "markdown",
      "metadata": {
        "id": "noi5sz-1_mh9"
      },
      "source": [
        "## Label Encoding and Text vectorization"
      ]
    },
    {
      "cell_type": "code",
      "execution_count": null,
      "metadata": {
        "id": "4qz4_iNjj70c"
      },
      "outputs": [],
      "source": [
        "# Selecting relevant data for X\n",
        "X = data[relevant_columns]\n",
        "y = data['Category']\n",
        "\n",
        "# Text vectorization for 'Processed_Title' and 'Processed_Text'\n",
        "vectorizer_title = TfidfVectorizer(max_features=1000)\n",
        "vectorizer_text = TfidfVectorizer(max_features=5000)\n",
        "\n",
        "\n",
        "# Label encoding for categorical variables\n",
        "label_encoder = LabelEncoder()\n",
        "X['Subreddit'] = label_encoder.fit_transform(X['Subreddit'])\n",
        "X['Sentiment'] = label_encoder.fit_transform(X['Sentiment'])\n",
        "\n",
        "# Standardizing numerical columns\n",
        "scaler = StandardScaler()"
      ]
    },
    {
      "cell_type": "code",
      "execution_count": null,
      "metadata": {
        "id": "VwoBgy-ej-br"
      },
      "outputs": [],
      "source": [
        "\n",
        "\n",
        "# Splitting data into train and test sets\n",
        "X_train, X_test, y_train, y_test = train_test_split(X, y, test_size=0.4, random_state=4)"
      ]
    },
    {
      "cell_type": "code",
      "execution_count": null,
      "metadata": {
        "id": "KWv2ZrODkMZE"
      },
      "outputs": [],
      "source": [
        "\n",
        "# Vectorizing text features for training data\n",
        "X_train_title_tfidf = vectorizer_title.fit_transform(X_train['Processed_Title'])\n",
        "X_train_text_tfidf = vectorizer_text.fit_transform(X_train['Processed_Text'])\n",
        "\n",
        "X_test_title_tfidf = vectorizer_title.transform(X_test['Processed_Title'])\n",
        "X_test_text_tfidf = vectorizer_text.transform(X_test['Processed_Text'])\n",
        "\n",
        "# Dropping the original text columns (since they are now vectorized)\n",
        "X_train = X_train.drop(columns=['Processed_Title', 'Processed_Text'])\n",
        "X_test = X_test.drop(columns=['Processed_Title', 'Processed_Text'])"
      ]
    },
    {
      "cell_type": "code",
      "execution_count": null,
      "metadata": {
        "id": "h3ZskYfRkGvK"
      },
      "outputs": [],
      "source": [
        "\n",
        "# Scaling numerical columns\n",
        "X_train[['Title_word_count', 'Text_word_count', 'Score', 'Total_comments']] = scaler.fit_transform(\n",
        "    X_train[['Title_word_count', 'Text_word_count', 'Score', 'Total_comments']]\n",
        ")\n",
        "X_test[['Title_word_count', 'Text_word_count', 'Score', 'Total_comments']] = scaler.transform(\n",
        "    X_test[['Title_word_count', 'Text_word_count', 'Score', 'Total_comments']]\n",
        ")"
      ]
    },
    {
      "cell_type": "code",
      "execution_count": null,
      "metadata": {
        "id": "B4VROQMPkNNb"
      },
      "outputs": [],
      "source": [
        "# Concatenating vectorized text data with the other features\n",
        "import scipy\n",
        "X_train_combined = scipy.sparse.hstack([X_train, X_train_title_tfidf, X_train_text_tfidf])\n",
        "X_test_combined = scipy.sparse.hstack([X_test, X_test_title_tfidf, X_test_text_tfidf])"
      ]
    },
    {
      "cell_type": "code",
      "execution_count": null,
      "metadata": {
        "id": "So1zvtkc9IKU"
      },
      "outputs": [],
      "source": [
        "import joblib\n",
        "import os\n",
        "\n",
        "# Directory to save the models\n",
        "model_dir = './content/drive/MyDrive/saved_models'\n",
        "os.makedirs(model_dir, exist_ok=True)\n"
      ]
    },
    {
      "cell_type": "code",
      "execution_count": null,
      "metadata": {
        "id": "KoieNmOQ9TMU"
      },
      "outputs": [],
      "source": [
        "# Function to save and evaluate model\n",
        "def train_save_evaluate_model(model, model_name):\n",
        "    # Train the model\n",
        "    model.fit(X_train_combined, y_train)\n",
        "\n",
        "    # Save the trained model\n",
        "    model_path = os.path.join(model_dir, f'{model_name}.joblib')\n",
        "    joblib.dump(model, model_path)\n",
        "    print(f\"{model_name} saved to {model_path}\")\n",
        "\n",
        "    # Evaluate the model\n",
        "    y_pred = model.predict(X_test_combined)\n",
        "    accuracy = accuracy_score(y_test, y_pred)\n",
        "    print(f\"{model_name} Accuracy: {accuracy:.2f}\")\n",
        "    print(f\"Classification Report for {model_name}:\\n\", classification_report(y_test, y_pred))\n"
      ]
    },
    {
      "cell_type": "markdown",
      "metadata": {
        "id": "2zmmZ8Nt_zof"
      },
      "source": [
        "## Logistic Regression\n"
      ]
    },
    {
      "cell_type": "code",
      "execution_count": null,
      "metadata": {
        "id": "Cj7ALrQO9nKz"
      },
      "outputs": [],
      "source": [
        "# Logistic Regression\n",
        "logistic_model = LogisticRegression(max_iter=1000)\n",
        "train_save_evaluate_model(logistic_model, 'logistic_regression')\n",
        "\n"
      ]
    },
    {
      "cell_type": "markdown",
      "metadata": {
        "id": "zKkdaY3P_30M"
      },
      "source": [
        "# Random Forest Classifier"
      ]
    },
    {
      "cell_type": "code",
      "execution_count": null,
      "metadata": {
        "id": "TcdDQ7599r_1"
      },
      "outputs": [],
      "source": [
        "Random Forest Classifier\n",
        "rf_model = RandomForestClassifier(n_estimators=100, random_state=42)\n",
        "train_save_evaluate_model(model=rf_model, model_name='random_forest')\n",
        "\n"
      ]
    },
    {
      "cell_type": "markdown",
      "metadata": {
        "id": "UZ6Vl5M4__FU"
      },
      "source": [
        "# Deep Learning Models"
      ]
    },
    {
      "cell_type": "code",
      "execution_count": null,
      "metadata": {
        "id": "lr3bXUyb_NIi"
      },
      "outputs": [],
      "source": [
        "import tensorflow as tf\n",
        "from tensorflow.keras.models import Sequential\n",
        "from tensorflow.keras.layers import Embedding, Conv1D, GlobalMaxPooling1D, Dense, Dropout,Input, Concatenate\n",
        "from tensorflow.keras.callbacks import ModelCheckpoint, EarlyStopping\n",
        "from tensorflow.keras.preprocessing.text import Tokenizer\n",
        "from tensorflow.keras.preprocessing.sequence import pad_sequences\n",
        "from sklearn.preprocessing import LabelEncoder\n",
        "from sklearn.model_selection import train_test_split\n",
        "import json\n",
        "import os\n"
      ]
    },
    {
      "cell_type": "code",
      "execution_count": null,
      "metadata": {
        "id": "x92-pMPk_QfG"
      },
      "outputs": [],
      "source": [
        "# Parameters\n",
        "max_vocab_size = 20000\n",
        "max_sequence_length = 100\n",
        "embedding_dim = 50"
      ]
    },
    {
      "cell_type": "code",
      "execution_count": null,
      "metadata": {
        "id": "WxnFk57g_NRo"
      },
      "outputs": [],
      "source": [
        "tokenizer = Tokenizer(num_words=max_vocab_size)\n",
        "tokenizer.fit_on_texts(data['Processed_Text'].values)\n",
        "X_text = tokenizer.texts_to_sequences(data['Processed_Text'].values)\n",
        "X_text = pad_sequences(X_text, maxlen=max_sequence_length)\n"
      ]
    },
    {
      "cell_type": "code",
      "execution_count": null,
      "metadata": {
        "id": "nleahJ2S_VVA"
      },
      "outputs": [],
      "source": [
        "\n",
        "# Select relevant columns and separate categorical from numerical\n",
        "relevant_columns = ['Title_word_count', 'Text_word_count', 'Score', 'Total_comments', 'Sentiment']\n",
        "numerical_columns = ['Title_word_count', 'Text_word_count', 'Score', 'Total_comments']\n",
        "categorical_columns = ['Sentiment']\n",
        "\n",
        "# Scale the numerical features\n",
        "X_numerical = data[numerical_columns]\n",
        "scaler = StandardScaler()\n",
        "X_numerical = scaler.fit_transform(X_numerical)\n",
        "\n",
        "# Encode the categorical features\n",
        "label_encoder = LabelEncoder()\n",
        "X_categorical = label_encoder.fit_transform(data['Sentiment'])\n",
        "\n",
        "# Combine numerical and categorical features\n",
        "X_additional = np.concatenate([X_numerical, X_categorical.reshape(-1, 1)], axis=1)\n",
        "\n"
      ]
    },
    {
      "cell_type": "code",
      "execution_count": null,
      "metadata": {
        "id": "Vrv8cSQz_Y_I"
      },
      "outputs": [],
      "source": [
        "\n",
        "# Concatenate text and additional features along the second axis\n",
        "X_combined = np.concatenate([X_text, X_additional], axis=1)\n",
        "\n",
        "# Prepare labels\n",
        "label_encoder = LabelEncoder()\n",
        "y = label_encoder.fit_transform(data['Category'].values)\n",
        "\n",
        "# Train-test split\n",
        "X_train, X_test, y_train, y_test = train_test_split(X_combined, y, test_size=0.2, random_state=42)\n"
      ]
    },
    {
      "cell_type": "markdown",
      "metadata": {
        "id": "ARf5L1r3c5bE"
      },
      "source": []
    },
    {
      "cell_type": "code",
      "execution_count": null,
      "metadata": {
        "colab": {
          "base_uri": "https://localhost:8080/",
          "height": 465
        },
        "id": "8kXUZDqReGHg",
        "outputId": "14a21045-e654-476b-abf6-65675c06cfe9"
      },
      "outputs": [
        {
          "data": {
            "text/html": [
              "<pre style=\"white-space:pre;overflow-x:auto;line-height:normal;font-family:Menlo,'DejaVu Sans Mono',consolas,'Courier New',monospace\"><span style=\"font-weight: bold\">Model: \"functional\"</span>\n",
              "</pre>\n"
            ],
            "text/plain": [
              "\u001b[1mModel: \"functional\"\u001b[0m\n"
            ]
          },
          "metadata": {},
          "output_type": "display_data"
        },
        {
          "data": {
            "text/html": [
              "<pre style=\"white-space:pre;overflow-x:auto;line-height:normal;font-family:Menlo,'DejaVu Sans Mono',consolas,'Courier New',monospace\">┏━━━━━━━━━━━━━━━━━━━━━━━━━━━┳━━━━━━━━━━━━━━━━━━━━━━━━┳━━━━━━━━━━━━━━━━┳━━━━━━━━━━━━━━━━━━━━━━━━┓\n",
              "┃<span style=\"font-weight: bold\"> Layer (type)              </span>┃<span style=\"font-weight: bold\"> Output Shape           </span>┃<span style=\"font-weight: bold\">        Param # </span>┃<span style=\"font-weight: bold\"> Connected to           </span>┃\n",
              "┡━━━━━━━━━━━━━━━━━━━━━━━━━━━╇━━━━━━━━━━━━━━━━━━━━━━━━╇━━━━━━━━━━━━━━━━╇━━━━━━━━━━━━━━━━━━━━━━━━┩\n",
              "│ input_layer (<span style=\"color: #0087ff; text-decoration-color: #0087ff\">InputLayer</span>)  │ (<span style=\"color: #00d7ff; text-decoration-color: #00d7ff\">None</span>, <span style=\"color: #00af00; text-decoration-color: #00af00\">100</span>)            │              <span style=\"color: #00af00; text-decoration-color: #00af00\">0</span> │ -                      │\n",
              "├───────────────────────────┼────────────────────────┼────────────────┼────────────────────────┤\n",
              "│ embedding (<span style=\"color: #0087ff; text-decoration-color: #0087ff\">Embedding</span>)     │ (<span style=\"color: #00d7ff; text-decoration-color: #00d7ff\">None</span>, <span style=\"color: #00af00; text-decoration-color: #00af00\">100</span>, <span style=\"color: #00af00; text-decoration-color: #00af00\">50</span>)        │      <span style=\"color: #00af00; text-decoration-color: #00af00\">1,000,000</span> │ input_layer[<span style=\"color: #00af00; text-decoration-color: #00af00\">0</span>][<span style=\"color: #00af00; text-decoration-color: #00af00\">0</span>]      │\n",
              "├───────────────────────────┼────────────────────────┼────────────────┼────────────────────────┤\n",
              "│ conv1d (<span style=\"color: #0087ff; text-decoration-color: #0087ff\">Conv1D</span>)           │ (<span style=\"color: #00d7ff; text-decoration-color: #00d7ff\">None</span>, <span style=\"color: #00af00; text-decoration-color: #00af00\">96</span>, <span style=\"color: #00af00; text-decoration-color: #00af00\">128</span>)        │         <span style=\"color: #00af00; text-decoration-color: #00af00\">32,128</span> │ embedding[<span style=\"color: #00af00; text-decoration-color: #00af00\">0</span>][<span style=\"color: #00af00; text-decoration-color: #00af00\">0</span>]        │\n",
              "├───────────────────────────┼────────────────────────┼────────────────┼────────────────────────┤\n",
              "│ global_max_pooling1d      │ (<span style=\"color: #00d7ff; text-decoration-color: #00d7ff\">None</span>, <span style=\"color: #00af00; text-decoration-color: #00af00\">128</span>)            │              <span style=\"color: #00af00; text-decoration-color: #00af00\">0</span> │ conv1d[<span style=\"color: #00af00; text-decoration-color: #00af00\">0</span>][<span style=\"color: #00af00; text-decoration-color: #00af00\">0</span>]           │\n",
              "│ (<span style=\"color: #0087ff; text-decoration-color: #0087ff\">GlobalMaxPooling1D</span>)      │                        │                │                        │\n",
              "├───────────────────────────┼────────────────────────┼────────────────┼────────────────────────┤\n",
              "│ input_layer_1             │ (<span style=\"color: #00d7ff; text-decoration-color: #00d7ff\">None</span>, <span style=\"color: #00af00; text-decoration-color: #00af00\">5</span>)              │              <span style=\"color: #00af00; text-decoration-color: #00af00\">0</span> │ -                      │\n",
              "│ (<span style=\"color: #0087ff; text-decoration-color: #0087ff\">InputLayer</span>)              │                        │                │                        │\n",
              "├───────────────────────────┼────────────────────────┼────────────────┼────────────────────────┤\n",
              "│ concatenate (<span style=\"color: #0087ff; text-decoration-color: #0087ff\">Concatenate</span>) │ (<span style=\"color: #00d7ff; text-decoration-color: #00d7ff\">None</span>, <span style=\"color: #00af00; text-decoration-color: #00af00\">133</span>)            │              <span style=\"color: #00af00; text-decoration-color: #00af00\">0</span> │ global_max_pooling1d[<span style=\"color: #00af00; text-decoration-color: #00af00\">…</span> │\n",
              "│                           │                        │                │ input_layer_1[<span style=\"color: #00af00; text-decoration-color: #00af00\">0</span>][<span style=\"color: #00af00; text-decoration-color: #00af00\">0</span>]    │\n",
              "├───────────────────────────┼────────────────────────┼────────────────┼────────────────────────┤\n",
              "│ dense (<span style=\"color: #0087ff; text-decoration-color: #0087ff\">Dense</span>)             │ (<span style=\"color: #00d7ff; text-decoration-color: #00d7ff\">None</span>, <span style=\"color: #00af00; text-decoration-color: #00af00\">32</span>)             │          <span style=\"color: #00af00; text-decoration-color: #00af00\">4,288</span> │ concatenate[<span style=\"color: #00af00; text-decoration-color: #00af00\">0</span>][<span style=\"color: #00af00; text-decoration-color: #00af00\">0</span>]      │\n",
              "├───────────────────────────┼────────────────────────┼────────────────┼────────────────────────┤\n",
              "│ dropout (<span style=\"color: #0087ff; text-decoration-color: #0087ff\">Dropout</span>)         │ (<span style=\"color: #00d7ff; text-decoration-color: #00d7ff\">None</span>, <span style=\"color: #00af00; text-decoration-color: #00af00\">32</span>)             │              <span style=\"color: #00af00; text-decoration-color: #00af00\">0</span> │ dense[<span style=\"color: #00af00; text-decoration-color: #00af00\">0</span>][<span style=\"color: #00af00; text-decoration-color: #00af00\">0</span>]            │\n",
              "├───────────────────────────┼────────────────────────┼────────────────┼────────────────────────┤\n",
              "│ dense_1 (<span style=\"color: #0087ff; text-decoration-color: #0087ff\">Dense</span>)           │ (<span style=\"color: #00d7ff; text-decoration-color: #00d7ff\">None</span>, <span style=\"color: #00af00; text-decoration-color: #00af00\">4</span>)              │            <span style=\"color: #00af00; text-decoration-color: #00af00\">132</span> │ dropout[<span style=\"color: #00af00; text-decoration-color: #00af00\">0</span>][<span style=\"color: #00af00; text-decoration-color: #00af00\">0</span>]          │\n",
              "└───────────────────────────┴────────────────────────┴────────────────┴────────────────────────┘\n",
              "</pre>\n"
            ],
            "text/plain": [
              "┏━━━━━━━━━━━━━━━━━━━━━━━━━━━┳━━━━━━━━━━━━━━━━━━━━━━━━┳━━━━━━━━━━━━━━━━┳━━━━━━━━━━━━━━━━━━━━━━━━┓\n",
              "┃\u001b[1m \u001b[0m\u001b[1mLayer (type)             \u001b[0m\u001b[1m \u001b[0m┃\u001b[1m \u001b[0m\u001b[1mOutput Shape          \u001b[0m\u001b[1m \u001b[0m┃\u001b[1m \u001b[0m\u001b[1m       Param #\u001b[0m\u001b[1m \u001b[0m┃\u001b[1m \u001b[0m\u001b[1mConnected to          \u001b[0m\u001b[1m \u001b[0m┃\n",
              "┡━━━━━━━━━━━━━━━━━━━━━━━━━━━╇━━━━━━━━━━━━━━━━━━━━━━━━╇━━━━━━━━━━━━━━━━╇━━━━━━━━━━━━━━━━━━━━━━━━┩\n",
              "│ input_layer (\u001b[38;5;33mInputLayer\u001b[0m)  │ (\u001b[38;5;45mNone\u001b[0m, \u001b[38;5;34m100\u001b[0m)            │              \u001b[38;5;34m0\u001b[0m │ -                      │\n",
              "├───────────────────────────┼────────────────────────┼────────────────┼────────────────────────┤\n",
              "│ embedding (\u001b[38;5;33mEmbedding\u001b[0m)     │ (\u001b[38;5;45mNone\u001b[0m, \u001b[38;5;34m100\u001b[0m, \u001b[38;5;34m50\u001b[0m)        │      \u001b[38;5;34m1,000,000\u001b[0m │ input_layer[\u001b[38;5;34m0\u001b[0m][\u001b[38;5;34m0\u001b[0m]      │\n",
              "├───────────────────────────┼────────────────────────┼────────────────┼────────────────────────┤\n",
              "│ conv1d (\u001b[38;5;33mConv1D\u001b[0m)           │ (\u001b[38;5;45mNone\u001b[0m, \u001b[38;5;34m96\u001b[0m, \u001b[38;5;34m128\u001b[0m)        │         \u001b[38;5;34m32,128\u001b[0m │ embedding[\u001b[38;5;34m0\u001b[0m][\u001b[38;5;34m0\u001b[0m]        │\n",
              "├───────────────────────────┼────────────────────────┼────────────────┼────────────────────────┤\n",
              "│ global_max_pooling1d      │ (\u001b[38;5;45mNone\u001b[0m, \u001b[38;5;34m128\u001b[0m)            │              \u001b[38;5;34m0\u001b[0m │ conv1d[\u001b[38;5;34m0\u001b[0m][\u001b[38;5;34m0\u001b[0m]           │\n",
              "│ (\u001b[38;5;33mGlobalMaxPooling1D\u001b[0m)      │                        │                │                        │\n",
              "├───────────────────────────┼────────────────────────┼────────────────┼────────────────────────┤\n",
              "│ input_layer_1             │ (\u001b[38;5;45mNone\u001b[0m, \u001b[38;5;34m5\u001b[0m)              │              \u001b[38;5;34m0\u001b[0m │ -                      │\n",
              "│ (\u001b[38;5;33mInputLayer\u001b[0m)              │                        │                │                        │\n",
              "├───────────────────────────┼────────────────────────┼────────────────┼────────────────────────┤\n",
              "│ concatenate (\u001b[38;5;33mConcatenate\u001b[0m) │ (\u001b[38;5;45mNone\u001b[0m, \u001b[38;5;34m133\u001b[0m)            │              \u001b[38;5;34m0\u001b[0m │ global_max_pooling1d[\u001b[38;5;34m…\u001b[0m │\n",
              "│                           │                        │                │ input_layer_1[\u001b[38;5;34m0\u001b[0m][\u001b[38;5;34m0\u001b[0m]    │\n",
              "├───────────────────────────┼────────────────────────┼────────────────┼────────────────────────┤\n",
              "│ dense (\u001b[38;5;33mDense\u001b[0m)             │ (\u001b[38;5;45mNone\u001b[0m, \u001b[38;5;34m32\u001b[0m)             │          \u001b[38;5;34m4,288\u001b[0m │ concatenate[\u001b[38;5;34m0\u001b[0m][\u001b[38;5;34m0\u001b[0m]      │\n",
              "├───────────────────────────┼────────────────────────┼────────────────┼────────────────────────┤\n",
              "│ dropout (\u001b[38;5;33mDropout\u001b[0m)         │ (\u001b[38;5;45mNone\u001b[0m, \u001b[38;5;34m32\u001b[0m)             │              \u001b[38;5;34m0\u001b[0m │ dense[\u001b[38;5;34m0\u001b[0m][\u001b[38;5;34m0\u001b[0m]            │\n",
              "├───────────────────────────┼────────────────────────┼────────────────┼────────────────────────┤\n",
              "│ dense_1 (\u001b[38;5;33mDense\u001b[0m)           │ (\u001b[38;5;45mNone\u001b[0m, \u001b[38;5;34m4\u001b[0m)              │            \u001b[38;5;34m132\u001b[0m │ dropout[\u001b[38;5;34m0\u001b[0m][\u001b[38;5;34m0\u001b[0m]          │\n",
              "└───────────────────────────┴────────────────────────┴────────────────┴────────────────────────┘\n"
            ]
          },
          "metadata": {},
          "output_type": "display_data"
        },
        {
          "data": {
            "text/html": [
              "<pre style=\"white-space:pre;overflow-x:auto;line-height:normal;font-family:Menlo,'DejaVu Sans Mono',consolas,'Courier New',monospace\"><span style=\"font-weight: bold\"> Total params: </span><span style=\"color: #00af00; text-decoration-color: #00af00\">1,036,548</span> (3.95 MB)\n",
              "</pre>\n"
            ],
            "text/plain": [
              "\u001b[1m Total params: \u001b[0m\u001b[38;5;34m1,036,548\u001b[0m (3.95 MB)\n"
            ]
          },
          "metadata": {},
          "output_type": "display_data"
        },
        {
          "data": {
            "text/html": [
              "<pre style=\"white-space:pre;overflow-x:auto;line-height:normal;font-family:Menlo,'DejaVu Sans Mono',consolas,'Courier New',monospace\"><span style=\"font-weight: bold\"> Trainable params: </span><span style=\"color: #00af00; text-decoration-color: #00af00\">1,036,548</span> (3.95 MB)\n",
              "</pre>\n"
            ],
            "text/plain": [
              "\u001b[1m Trainable params: \u001b[0m\u001b[38;5;34m1,036,548\u001b[0m (3.95 MB)\n"
            ]
          },
          "metadata": {},
          "output_type": "display_data"
        },
        {
          "data": {
            "text/html": [
              "<pre style=\"white-space:pre;overflow-x:auto;line-height:normal;font-family:Menlo,'DejaVu Sans Mono',consolas,'Courier New',monospace\"><span style=\"font-weight: bold\"> Non-trainable params: </span><span style=\"color: #00af00; text-decoration-color: #00af00\">0</span> (0.00 B)\n",
              "</pre>\n"
            ],
            "text/plain": [
              "\u001b[1m Non-trainable params: \u001b[0m\u001b[38;5;34m0\u001b[0m (0.00 B)\n"
            ]
          },
          "metadata": {},
          "output_type": "display_data"
        }
      ],
      "source": [
        "from tensorflow.keras.models import Model  # Ensure Model is imported\n",
        "from tensorflow.keras.layers import Embedding, Conv1D, GlobalMaxPooling1D, Dense, Dropout, Input, Concatenate\n",
        "\n",
        "# Define the inputs for the model\n",
        "text_input = Input(shape=(max_sequence_length,))\n",
        "additional_input = Input(shape=(X_additional.shape[1],))\n",
        "\n",
        "# Text processing layers (embedding and convolution for text data)\n",
        "embedding_layer = Embedding(input_dim=max_vocab_size, output_dim=embedding_dim, input_length=max_sequence_length)(text_input)\n",
        "conv_layer = Conv1D(128, 5, activation='relu')(embedding_layer)\n",
        "pooling_layer = GlobalMaxPooling1D()(conv_layer)\n",
        "\n",
        "# Concatenate text and additional inputs\n",
        "concatenated = Concatenate()([pooling_layer, additional_input])\n",
        "\n",
        "# Fully connected layers\n",
        "dense_layer = Dense(32, activation='relu')(concatenated)\n",
        "dropout_layer = Dropout(0.7)(dense_layer)\n",
        "output_layer = Dense(4, activation='softmax')(dropout_layer)  # Multi classification\n",
        "\n",
        "# Compile the model with appropriate loss function for multi-class classification\n",
        "model = Model(inputs=[text_input, additional_input], outputs=output_layer)\n",
        "model.compile(optimizer='adam', loss='sparse_categorical_crossentropy', metrics=['accuracy'])\n",
        "\n",
        "\n",
        "# Model summary\n",
        "model.summary()\n",
        "\n",
        "\n"
      ]
    },
    {
      "cell_type": "code",
      "execution_count": null,
      "metadata": {
        "colab": {
          "base_uri": "https://localhost:8080/"
        },
        "id": "49P0FzW5_5d_",
        "outputId": "f916d3e3-e345-47ee-9723-1df9ecf5d3bf"
      },
      "outputs": [
        {
          "name": "stdout",
          "output_type": "stream",
          "text": [
            "Epoch 1/10\n",
            "\u001b[1m16514/16514\u001b[0m \u001b[32m━━━━━━━━━━━━━━━━━━━━\u001b[0m\u001b[37m\u001b[0m \u001b[1m0s\u001b[0m 24ms/step - accuracy: 0.6693 - loss: 0.7620\n",
            "Epoch 1: val_accuracy improved from -inf to 0.71460, saving model to ./content/drive/MyDrive/checkpoints/model-01-0.71.weights.h5\n",
            "\u001b[1m16514/16514\u001b[0m \u001b[32m━━━━━━━━━━━━━━━━━━━━\u001b[0m\u001b[37m\u001b[0m \u001b[1m423s\u001b[0m 26ms/step - accuracy: 0.6693 - loss: 0.7620 - val_accuracy: 0.7146 - val_loss: 0.6558\n",
            "Epoch 2/10\n",
            "\u001b[1m16512/16514\u001b[0m \u001b[32m━━━━━━━━━━━━━━━━━━━\u001b[0m\u001b[37m━\u001b[0m \u001b[1m0s\u001b[0m 24ms/step - accuracy: 0.7148 - loss: 0.6657\n",
            "Epoch 2: val_accuracy did not improve from 0.71460\n",
            "\u001b[1m16514/16514\u001b[0m \u001b[32m━━━━━━━━━━━━━━━━━━━━\u001b[0m\u001b[37m\u001b[0m \u001b[1m442s\u001b[0m 26ms/step - accuracy: 0.7148 - loss: 0.6657 - val_accuracy: 0.7146 - val_loss: 0.6498\n",
            "Epoch 3/10\n",
            "\u001b[1m16513/16514\u001b[0m \u001b[32m━━━━━━━━━━━━━━━━━━━\u001b[0m\u001b[37m━\u001b[0m \u001b[1m0s\u001b[0m 24ms/step - accuracy: 0.7304 - loss: 0.6359\n",
            "Epoch 3: val_accuracy improved from 0.71460 to 0.71603, saving model to ./content/drive/MyDrive/checkpoints/model-03-0.72.weights.h5\n",
            "\u001b[1m16514/16514\u001b[0m \u001b[32m━━━━━━━━━━━━━━━━━━━━\u001b[0m\u001b[37m\u001b[0m \u001b[1m438s\u001b[0m 25ms/step - accuracy: 0.7304 - loss: 0.6359 - val_accuracy: 0.7160 - val_loss: 0.6507\n",
            "Epoch 4/10\n",
            "\u001b[1m16512/16514\u001b[0m \u001b[32m━━━━━━━━━━━━━━━━━━━\u001b[0m\u001b[37m━\u001b[0m \u001b[1m0s\u001b[0m 25ms/step - accuracy: 0.7478 - loss: 0.6001\n",
            "Epoch 4: val_accuracy did not improve from 0.71603\n",
            "\u001b[1m16514/16514\u001b[0m \u001b[32m━━━━━━━━━━━━━━━━━━━━\u001b[0m\u001b[37m\u001b[0m \u001b[1m452s\u001b[0m 26ms/step - accuracy: 0.7478 - loss: 0.6001 - val_accuracy: 0.7129 - val_loss: 0.6650\n",
            "Epoch 5/10\n",
            "\u001b[1m16514/16514\u001b[0m \u001b[32m━━━━━━━━━━━━━━━━━━━━\u001b[0m\u001b[37m\u001b[0m \u001b[1m0s\u001b[0m 25ms/step - accuracy: 0.7657 - loss: 0.5648\n",
            "Epoch 5: val_accuracy did not improve from 0.71603\n",
            "\u001b[1m16514/16514\u001b[0m \u001b[32m━━━━━━━━━━━━━━━━━━━━\u001b[0m\u001b[37m\u001b[0m \u001b[1m443s\u001b[0m 26ms/step - accuracy: 0.7657 - loss: 0.5648 - val_accuracy: 0.7110 - val_loss: 0.6899\n",
            "Epoch 6/10\n",
            "\u001b[1m16514/16514\u001b[0m \u001b[32m━━━━━━━━━━━━━━━━━━━━\u001b[0m\u001b[37m\u001b[0m \u001b[1m0s\u001b[0m 24ms/step - accuracy: 0.7806 - loss: 0.5312\n",
            "Epoch 6: val_accuracy did not improve from 0.71603\n",
            "\u001b[1m16514/16514\u001b[0m \u001b[32m━━━━━━━━━━━━━━━━━━━━\u001b[0m\u001b[37m\u001b[0m \u001b[1m436s\u001b[0m 26ms/step - accuracy: 0.7806 - loss: 0.5312 - val_accuracy: 0.7071 - val_loss: 0.7123\n",
            "Epoch 6: early stopping\n",
            "Restoring model weights from the end of the best epoch: 2.\n",
            "Training history saved to training_history.json\n"
          ]
        }
      ],
      "source": [
        "# Set up checkpointing to save model weights\n",
        "checkpoint_dir = './content/drive/MyDrive/checkpoints'\n",
        "os.makedirs(checkpoint_dir, exist_ok=True)\n",
        "checkpoint_path = os.path.join(checkpoint_dir, \"model-{epoch:02d}-{val_accuracy:.2f}.weights.h5\")\n",
        "checkpoint_callback = ModelCheckpoint(filepath=checkpoint_path,\n",
        "                                      save_weights_only=True,\n",
        "                                      save_best_only=True,\n",
        "                                      monitor='val_accuracy',\n",
        "                                      mode='max',\n",
        "                                      verbose=1)\n",
        "\n",
        "\n",
        "# Early stopping to prevent overfitting\n",
        "early_stopping_callback = EarlyStopping(\n",
        "    monitor='val_loss',  # Monitor the validation loss\n",
        "    patience=4,          # Stop after 1 epoch with no improvement\n",
        "    restore_best_weights=True,  # Restore model weights from the epoch with the best validation loss\n",
        "    verbose=1\n",
        ")\n",
        "\n",
        "# Train the model and save history\n",
        "history = model.fit(\n",
        "    [X_train[:, :max_sequence_length], X_train[:, max_sequence_length:]],  # Adjust input data as needed\n",
        "    y_train,\n",
        "    epochs=10,\n",
        "    validation_split=0.2,\n",
        "    batch_size=32,\n",
        "    callbacks=[checkpoint_callback, early_stopping_callback]\n",
        ")\n",
        "\n",
        "# Save training history\n",
        "history_path = 'training_history.json'\n",
        "with open(history_path, 'w') as f:\n",
        "    json.dump(history.history, f)\n",
        "\n",
        "print(f\"Training history saved to {history_path}\")\n",
        "\n"
      ]
    },
    {
      "cell_type": "code",
      "execution_count": null,
      "metadata": {
        "id": "yrtuQeOQ-n93"
      },
      "outputs": [],
      "source": [
        "# # Reload model from checkpoint\n",
        "# latest_checkpoint = tf.train.latest_checkpoint(checkpoint_dir)\n",
        "# if latest_checkpoint:\n",
        "#     model.load_weights(latest_checkpoint)\n",
        "#     print(f\"Loaded model from {latest_checkpoint}\")\n",
        "\n",
        "# # Continue training if needed\n",
        "# model.fit(\n",
        "#     X_train, y_train,\n",
        "#     epochs=5,  # Add more epochs as needed\n",
        "#     validation_split=0.2,\n",
        "#     batch_size=32\n",
        "# )\n",
        "\n",
        "# Load and plot training history\n",
        "with open(history_path, 'r') as f:\n",
        "    saved_history = json.load(f)\n",
        "\n"
      ]
    },
    {
      "cell_type": "code",
      "execution_count": null,
      "metadata": {
        "colab": {
          "base_uri": "https://localhost:8080/"
        },
        "id": "wUC6wEeuwxDW",
        "outputId": "30102597-b57c-4c43-a09a-b299aaa66114"
      },
      "outputs": [
        {
          "name": "stdout",
          "output_type": "stream",
          "text": [
            "\u001b[1m5161/5161\u001b[0m \u001b[32m━━━━━━━━━━━━━━━━━━━━\u001b[0m\u001b[37m\u001b[0m \u001b[1m31s\u001b[0m 6ms/step - accuracy: 0.7151 - loss: 0.6505\n",
            "Test Accuracy: 0.71\n"
          ]
        }
      ],
      "source": [
        "# Split X_test into text and additional features\n",
        "X_test_text = X_test[:, :max_sequence_length]           # Text input\n",
        "X_test_additional = X_test[:, max_sequence_length:]     # Additional features input\n",
        "\n",
        "# Evaluate the model on the test set\n",
        "test_loss, test_accuracy = model.evaluate([X_test_text, X_test_additional], y_test)\n",
        "print(f\"Test Accuracy: {test_accuracy:.2f}\")\n"
      ]
    },
    {
      "cell_type": "code",
      "execution_count": null,
      "metadata": {
        "colab": {
          "base_uri": "https://localhost:8080/"
        },
        "id": "2K1lH7m2-o97",
        "outputId": "227ed48d-f6d5-4fd2-b9b1-a734ceade505"
      },
      "outputs": [
        {
          "name": "stdout",
          "output_type": "stream",
          "text": [
            "Training and Validation Accuracy: [0.6881565451622009, 0.7140991687774658, 0.7286913394927979, 0.7452439665794373, 0.7611929774284363, 0.7757245302200317] [0.7145993113517761, 0.7145917415618896, 0.716029942035675, 0.7128734588623047, 0.7110189199447632, 0.7070600986480713]\n"
          ]
        }
      ],
      "source": [
        "# Print saved history or plot (if you want to visualize training progress)\n",
        "print(\"Training and Validation Accuracy:\", saved_history.get('accuracy'), saved_history.get('val_accuracy'))\n"
      ]
    },
    {
      "cell_type": "code",
      "execution_count": null,
      "metadata": {
        "colab": {
          "base_uri": "https://localhost:8080/",
          "height": 502
        },
        "id": "CU7eqRlqoTJq",
        "outputId": "1ff0bf0f-04dc-4f28-f1cf-718212d260a9"
      },
      "outputs": [
        {
          "data": {
            "image/png": "[encoded data removed]",
            "text/plain": [
              "<Figure size 1200x500 with 2 Axes>"
            ]
          },
          "metadata": {},
          "output_type": "display_data"
        }
      ],
      "source": [
        "import json\n",
        "import matplotlib.pyplot as plt\n",
        "\n",
        "# Load training history\n",
        "history_path = 'training_history.json'\n",
        "with open(history_path, 'r') as f:\n",
        "    saved_history = json.load(f)\n",
        "\n",
        "# Extract accuracy and loss data\n",
        "train_accuracy = saved_history.get('accuracy', [])\n",
        "val_accuracy = saved_history.get('val_accuracy', [])\n",
        "train_loss = saved_history.get('loss', [])\n",
        "val_loss = saved_history.get('val_loss', [])\n",
        "\n",
        "# Plot training & validation accuracy values\n",
        "plt.figure(figsize=(12, 5))\n",
        "\n",
        "# Accuracy\n",
        "plt.subplot(1, 2, 1)\n",
        "plt.plot(train_accuracy, label='Training Accuracy')\n",
        "plt.plot(val_accuracy, label='Validation Accuracy')\n",
        "plt.title('Training and Validation Accuracy')\n",
        "plt.xlabel('Epochs')\n",
        "plt.ylabel('Accuracy')\n",
        "plt.legend()\n",
        "\n",
        "# Loss\n",
        "plt.subplot(1, 2, 2)\n",
        "plt.plot(train_loss, label='Training Loss')\n",
        "plt.plot(val_loss, label='Validation Loss')\n",
        "plt.title('Training and Validation Loss')\n",
        "plt.xlabel('Epochs')\n",
        "plt.ylabel('Loss')\n",
        "plt.legend()\n",
        "\n",
        "# Show the plots\n",
        "plt.tight_layout()\n",
        "plt.show()\n"
      ]
    },
    {
      "cell_type": "markdown",
      "metadata": {
        "id": "W9o3s9KBprxP"
      },
      "source": [
        "\n",
        "\n",
        "Accuracy:\n",
        "\n",
        "Training Accuracy: There is a steady increase in training accuracy across the epochs, indicating that the model is learning from the training data and improving in performance.\n",
        "Validation Accuracy: The validation accuracy initially shows a slight improvement but plateaus early and even begins to decrease. This suggests that the model might be starting to overfit, as it performs well on the training data but not as effectively on unseen validation data.\n",
        "Loss:\n",
        "\n",
        "Training Loss: The training loss consistently decreases, showing that the model is minimizing the error on the training data.\n",
        "Validation Loss: The validation loss, on the other hand, does not follow the same trend. It decreases slightly at the start but begins to increase in later epochs. This divergence between training and validation loss is a sign of overfitting.\n",
        "Early Stopping:\n",
        "\n",
        "Early stopping was triggered after epoch 6, restoring the model weights to epoch 2, which had the best validation accuracy of around 71.60%. This is a good decision as the model's performance on validation data deteriorated after epoch 2, further confirming overfitting.\n",
        "Test Performance:\n",
        "\n",
        "The final test accuracy is 71.51%, which aligns closely with the best validation accuracy, suggesting that the early-stopped model has generalized reasonably well to unseen data.\n",
        "\n",
        "Training Accuracy vs. Validation Accuracy:\n",
        "\n",
        "The training accuracy consistently improves, reaching close to 78%, while the validation accuracy peaks early and then gradually declines. This reinforces the likelihood of overfitting.\n",
        "Training Loss vs. Validation Loss:\n",
        "\n",
        "The training loss decreases steadily, indicating effective learning on the training data.\n",
        "The validation loss, however, initially drops but then starts to increase after the second epoch, which again suggests overfitting. The model is unable to generalize effectively to validation data, as seen by the increase in validation loss and the decrease in validation accuracy.\n"
      ]
    },
    {
      "cell_type": "code",
      "execution_count": null,
      "metadata": {
        "colab": {
          "base_uri": "https://localhost:8080/"
        },
        "id": "sGuFy_DJOCsP",
        "outputId": "92592230-5aea-4ad9-d336-254c2142c929"
      },
      "outputs": [
        {
          "name": "stdout",
          "output_type": "stream",
          "text": [
            "Epoch 1/50\n",
            "\u001b[1m16514/16514\u001b[0m \u001b[32m━━━━━━━━━━━━━━━━━━━━\u001b[0m\u001b[37m\u001b[0m \u001b[1m0s\u001b[0m 26ms/step - accuracy: 0.7320 - loss: 0.6310\n",
            "Epoch 1: val_accuracy improved from -inf to 0.71717, saving model to ./checkpoints/model1-50-01-0.72.weights.h5\n",
            "\u001b[1m16514/16514\u001b[0m \u001b[32m━━━━━━━━━━━━━━━━━━━━\u001b[0m\u001b[37m\u001b[0m \u001b[1m464s\u001b[0m 28ms/step - accuracy: 0.7320 - loss: 0.6310 - val_accuracy: 0.7172 - val_loss: 0.6537\n",
            "Epoch 2/50\n",
            "\u001b[1m16512/16514\u001b[0m \u001b[32m━━━━━━━━━━━━━━━━━━━\u001b[0m\u001b[37m━\u001b[0m \u001b[1m0s\u001b[0m 25ms/step - accuracy: 0.7487 - loss: 0.6002\n",
            "Epoch 2: val_accuracy did not improve from 0.71717\n",
            "\u001b[1m16514/16514\u001b[0m \u001b[32m━━━━━━━━━━━━━━━━━━━━\u001b[0m\u001b[37m\u001b[0m \u001b[1m426s\u001b[0m 26ms/step - accuracy: 0.7487 - loss: 0.6002 - val_accuracy: 0.7133 - val_loss: 0.6656\n",
            "Epoch 3/50\n",
            "\u001b[1m16514/16514\u001b[0m \u001b[32m━━━━━━━━━━━━━━━━━━━━\u001b[0m\u001b[37m\u001b[0m \u001b[1m0s\u001b[0m 25ms/step - accuracy: 0.7654 - loss: 0.5671\n",
            "Epoch 3: val_accuracy did not improve from 0.71717\n",
            "\u001b[1m16514/16514\u001b[0m \u001b[32m━━━━━━━━━━━━━━━━━━━━\u001b[0m\u001b[37m\u001b[0m \u001b[1m450s\u001b[0m 26ms/step - accuracy: 0.7654 - loss: 0.5671 - val_accuracy: 0.7131 - val_loss: 0.6892\n",
            "Epoch 4/50\n",
            "\u001b[1m16512/16514\u001b[0m \u001b[32m━━━━━━━━━━━━━━━━━━━\u001b[0m\u001b[37m━\u001b[0m \u001b[1m0s\u001b[0m 25ms/step - accuracy: 0.7819 - loss: 0.5319\n",
            "Epoch 4: val_accuracy did not improve from 0.71717\n",
            "\u001b[1m16514/16514\u001b[0m \u001b[32m━━━━━━━━━━━━━━━━━━━━\u001b[0m\u001b[37m\u001b[0m \u001b[1m433s\u001b[0m 26ms/step - accuracy: 0.7819 - loss: 0.5319 - val_accuracy: 0.7065 - val_loss: 0.7139\n",
            "Epoch 4: early stopping\n",
            "Restoring model weights from the end of the best epoch: 1.\n",
            "Training history saved to training_history50.json\n"
          ]
        }
      ],
      "source": [
        "# Set up checkpointing to save model weights\n",
        "checkpoint_dir = './checkpoints'\n",
        "os.makedirs(checkpoint_dir, exist_ok=True)\n",
        "checkpoint_path = os.path.join(checkpoint_dir, \"model1-50-{epoch:02d}-{val_accuracy:.2f}.weights.h5\")  # Changed extension to .weights.h5\n",
        "checkpoint_callback = ModelCheckpoint(filepath=checkpoint_path,\n",
        "                                      save_weights_only=True,\n",
        "                                      save_best_only=True,\n",
        "                                      monitor='val_accuracy',\n",
        "                                      mode='max',\n",
        "                                      verbose=1)\n",
        "\n",
        "# Early stopping to prevent overfitting\n",
        "early_stopping_callback = EarlyStopping(\n",
        "    monitor='val_loss',  # Monitor the validation loss\n",
        "    patience=3,          # Stop after 1 epoch with no improvement\n",
        "    restore_best_weights=True,  # Restore model weights from the epoch with the best validation loss\n",
        "    verbose=1\n",
        ")\n",
        "\n",
        "# Train the model and save history\n",
        "history = model.fit(\n",
        "    [X_train[:, :max_sequence_length], X_train[:, max_sequence_length:]],  # Adjust input data as needed\n",
        "    y_train,\n",
        "    epochs=50,\n",
        "    validation_split=0.2,\n",
        "    batch_size=32,\n",
        "    callbacks=[checkpoint_callback, early_stopping_callback]\n",
        ")\n",
        "\n",
        "# Save training history\n",
        "history_path = 'training_history50.json'\n",
        "with open(history_path, 'w') as f:\n",
        "    json.dump(history.history, f)\n",
        "\n",
        "print(f\"Training history saved to {history_path}\")\n"
      ]
    },
    {
      "cell_type": "code",
      "execution_count": null,
      "metadata": {
        "colab": {
          "base_uri": "https://localhost:8080/",
          "height": 502
        },
        "id": "IfUn0wDHovuV",
        "outputId": "1b4a5c30-a4e2-471c-ade1-a3e1e3a31701"
      },
      "outputs": [
        {
          "data": {
            "image/png": "[encoded data removed]",
            "text/plain": [
              "<Figure size 1200x500 with 2 Axes>"
            ]
          },
          "metadata": {},
          "output_type": "display_data"
        }
      ],
      "source": [
        "import json\n",
        "import matplotlib.pyplot as plt\n",
        "\n",
        "# Load training history\n",
        "history_path = 'training_history50.json'\n",
        "with open(history_path, 'r') as f:\n",
        "    saved_history = json.load(f)\n",
        "\n",
        "# Extract accuracy and loss data\n",
        "train_accuracy = saved_history.get('accuracy', [])\n",
        "val_accuracy = saved_history.get('val_accuracy', [])\n",
        "train_loss = saved_history.get('loss', [])\n",
        "val_loss = saved_history.get('val_loss', [])\n",
        "\n",
        "# Plot training & validation accuracy values\n",
        "plt.figure(figsize=(12, 5))\n",
        "\n",
        "# Accuracy\n",
        "plt.subplot(1, 2, 1)\n",
        "plt.plot(train_accuracy, label='Training Accuracy')\n",
        "plt.plot(val_accuracy, label='Validation Accuracy')\n",
        "plt.title('Training and Validation Accuracy')\n",
        "plt.xlabel('Epochs')\n",
        "plt.ylabel('Accuracy')\n",
        "plt.legend()\n",
        "\n",
        "# Loss\n",
        "plt.subplot(1, 2, 2)\n",
        "plt.plot(train_loss, label='Training Loss')\n",
        "plt.plot(val_loss, label='Validation Loss')\n",
        "plt.title('Training and Validation Loss')\n",
        "plt.xlabel('Epochs')\n",
        "plt.ylabel('Loss')\n",
        "plt.legend()\n",
        "\n",
        "# Show the plots\n",
        "plt.tight_layout()\n",
        "plt.show()"
      ]
    },
    {
      "cell_type": "markdown",
      "metadata": {
        "id": "C9Z1trR2pnPa"
      },
      "source": [
        "\n",
        "Training accuracy steadily improves over the epochs, reaching close to 78% by the fourth epoch, indicating that the model is learning effectively on the training set.\n",
        "Validation accuracy peaks in the first epoch at around 71.72% and then declines, indicating early signs of overfitting. This is confirmed by the validation accuracy not improving after the first epoch.\n",
        "\n",
        "Training loss consistently decreases, showing that the model is minimizing error on the training data.\n",
        "Validation loss starts low but increases from the second epoch onward. This divergence between training and validation loss is a classic sign of overfitting, as the model performs well on the training data but fails to generalize effectively on the validation data.\n",
        "Early Stopping:\n",
        "\n",
        "Early stopping was triggered after the fourth epoch, restoring the model weights to those from the first epoch, where the highest validation accuracy was observed. This suggests that the model achieved its best generalization early in training.\n",
        "Test Performance:\n",
        "\n",
        "The final test accuracy is around 71.67%, which aligns closely with the validation accuracy at the best epoch, indicating consistency in generalization."
      ]
    },
    {
      "cell_type": "code",
      "execution_count": null,
      "metadata": {
        "id": "hJmLOId8N5j3"
      },
      "outputs": [],
      "source": [
        "# Load and plot training history\n",
        "with open(history_path, 'r') as f:\n",
        "    saved_history = json.load(f)"
      ]
    },
    {
      "cell_type": "code",
      "execution_count": null,
      "metadata": {
        "colab": {
          "base_uri": "https://localhost:8080/"
        },
        "id": "LHt9rEI1OACs",
        "outputId": "edd84fe4-7208-439f-fddd-292f86350b2b"
      },
      "outputs": [
        {
          "name": "stdout",
          "output_type": "stream",
          "text": [
            "\u001b[1m5161/5161\u001b[0m \u001b[32m━━━━━━━━━━━━━━━━━━━━\u001b[0m\u001b[37m\u001b[0m \u001b[1m33s\u001b[0m 6ms/step - accuracy: 0.7167 - loss: 0.6546\n",
            "Test Accuracy: 0.72\n"
          ]
        }
      ],
      "source": [
        "# Split X_test into text and additional features\n",
        "X_test_text = X_test[:, :max_sequence_length]           # Text input\n",
        "X_test_additional = X_test[:, max_sequence_length:]     # Additional features input\n",
        "\n",
        "# Evaluate the model on the test set\n",
        "test_loss, test_accuracy = model.evaluate([X_test_text, X_test_additional], y_test)\n",
        "print(f\"Test Accuracy: {test_accuracy:.2f}\")"
      ]
    },
    {
      "cell_type": "code",
      "execution_count": null,
      "metadata": {
        "colab": {
          "base_uri": "https://localhost:8080/"
        },
        "id": "lL1VLvRWOKTx",
        "outputId": "6ad8454b-a355-4fe8-f0a0-bdf36f55e70b"
      },
      "outputs": [
        {
          "name": "stdout",
          "output_type": "stream",
          "text": [
            "Training and Validation Accuracy: [0.7302525639533997, 0.7448163032531738, 0.7611078023910522, 0.7759232521057129] [0.7171653509140015, 0.7132670879364014, 0.7130929827690125, 0.706545352935791]\n"
          ]
        }
      ],
      "source": [
        "# Print saved history or plot (if you want to visualize training progress)\n",
        "print(\"Training and Validation Accuracy:\", saved_history.get('accuracy'), saved_history.get('val_accuracy'))\n"
      ]
    },
    {
      "cell_type": "code",
      "execution_count": null,
      "metadata": {
        "colab": {
          "base_uri": "https://localhost:8080/",
          "height": 657
        },
        "id": "SX9wAEBBOMWj",
        "outputId": "4ae1dec3-d734-472d-fce0-1601b8610302"
      },
      "outputs": [
        {
          "data": {
            "text/html": [
              "<pre style=\"white-space:pre;overflow-x:auto;line-height:normal;font-family:Menlo,'DejaVu Sans Mono',consolas,'Courier New',monospace\"><span style=\"font-weight: bold\">Model: \"functional_1\"</span>\n",
              "</pre>\n"
            ],
            "text/plain": [
              "\u001b[1mModel: \"functional_1\"\u001b[0m\n"
            ]
          },
          "metadata": {},
          "output_type": "display_data"
        },
        {
          "data": {
            "text/html": [
              "<pre style=\"white-space:pre;overflow-x:auto;line-height:normal;font-family:Menlo,'DejaVu Sans Mono',consolas,'Courier New',monospace\">┏━━━━━━━━━━━━━━━━━━━━━━━━━━━┳━━━━━━━━━━━━━━━━━━━━━━━━┳━━━━━━━━━━━━━━━━┳━━━━━━━━━━━━━━━━━━━━━━━━┓\n",
              "┃<span style=\"font-weight: bold\"> Layer (type)              </span>┃<span style=\"font-weight: bold\"> Output Shape           </span>┃<span style=\"font-weight: bold\">        Param # </span>┃<span style=\"font-weight: bold\"> Connected to           </span>┃\n",
              "┡━━━━━━━━━━━━━━━━━━━━━━━━━━━╇━━━━━━━━━━━━━━━━━━━━━━━━╇━━━━━━━━━━━━━━━━╇━━━━━━━━━━━━━━━━━━━━━━━━┩\n",
              "│ text_input (<span style=\"color: #0087ff; text-decoration-color: #0087ff\">InputLayer</span>)   │ (<span style=\"color: #00d7ff; text-decoration-color: #00d7ff\">None</span>, <span style=\"color: #00af00; text-decoration-color: #00af00\">100</span>)            │              <span style=\"color: #00af00; text-decoration-color: #00af00\">0</span> │ -                      │\n",
              "├───────────────────────────┼────────────────────────┼────────────────┼────────────────────────┤\n",
              "│ embedding_1 (<span style=\"color: #0087ff; text-decoration-color: #0087ff\">Embedding</span>)   │ (<span style=\"color: #00d7ff; text-decoration-color: #00d7ff\">None</span>, <span style=\"color: #00af00; text-decoration-color: #00af00\">100</span>, <span style=\"color: #00af00; text-decoration-color: #00af00\">64</span>)        │      <span style=\"color: #00af00; text-decoration-color: #00af00\">1,280,000</span> │ text_input[<span style=\"color: #00af00; text-decoration-color: #00af00\">0</span>][<span style=\"color: #00af00; text-decoration-color: #00af00\">0</span>]       │\n",
              "├───────────────────────────┼────────────────────────┼────────────────┼────────────────────────┤\n",
              "│ conv1d_1 (<span style=\"color: #0087ff; text-decoration-color: #0087ff\">Conv1D</span>)         │ (<span style=\"color: #00d7ff; text-decoration-color: #00d7ff\">None</span>, <span style=\"color: #00af00; text-decoration-color: #00af00\">98</span>, <span style=\"color: #00af00; text-decoration-color: #00af00\">64</span>)         │         <span style=\"color: #00af00; text-decoration-color: #00af00\">12,352</span> │ embedding_1[<span style=\"color: #00af00; text-decoration-color: #00af00\">0</span>][<span style=\"color: #00af00; text-decoration-color: #00af00\">0</span>]      │\n",
              "├───────────────────────────┼────────────────────────┼────────────────┼────────────────────────┤\n",
              "│ conv1d_2 (<span style=\"color: #0087ff; text-decoration-color: #0087ff\">Conv1D</span>)         │ (<span style=\"color: #00d7ff; text-decoration-color: #00d7ff\">None</span>, <span style=\"color: #00af00; text-decoration-color: #00af00\">97</span>, <span style=\"color: #00af00; text-decoration-color: #00af00\">64</span>)         │         <span style=\"color: #00af00; text-decoration-color: #00af00\">16,448</span> │ embedding_1[<span style=\"color: #00af00; text-decoration-color: #00af00\">0</span>][<span style=\"color: #00af00; text-decoration-color: #00af00\">0</span>]      │\n",
              "├───────────────────────────┼────────────────────────┼────────────────┼────────────────────────┤\n",
              "│ conv1d_3 (<span style=\"color: #0087ff; text-decoration-color: #0087ff\">Conv1D</span>)         │ (<span style=\"color: #00d7ff; text-decoration-color: #00d7ff\">None</span>, <span style=\"color: #00af00; text-decoration-color: #00af00\">96</span>, <span style=\"color: #00af00; text-decoration-color: #00af00\">64</span>)         │         <span style=\"color: #00af00; text-decoration-color: #00af00\">20,544</span> │ embedding_1[<span style=\"color: #00af00; text-decoration-color: #00af00\">0</span>][<span style=\"color: #00af00; text-decoration-color: #00af00\">0</span>]      │\n",
              "├───────────────────────────┼────────────────────────┼────────────────┼────────────────────────┤\n",
              "│ global_max_pooling1d_1    │ (<span style=\"color: #00d7ff; text-decoration-color: #00d7ff\">None</span>, <span style=\"color: #00af00; text-decoration-color: #00af00\">64</span>)             │              <span style=\"color: #00af00; text-decoration-color: #00af00\">0</span> │ conv1d_1[<span style=\"color: #00af00; text-decoration-color: #00af00\">0</span>][<span style=\"color: #00af00; text-decoration-color: #00af00\">0</span>]         │\n",
              "│ (<span style=\"color: #0087ff; text-decoration-color: #0087ff\">GlobalMaxPooling1D</span>)      │                        │                │                        │\n",
              "├───────────────────────────┼────────────────────────┼────────────────┼────────────────────────┤\n",
              "│ global_max_pooling1d_2    │ (<span style=\"color: #00d7ff; text-decoration-color: #00d7ff\">None</span>, <span style=\"color: #00af00; text-decoration-color: #00af00\">64</span>)             │              <span style=\"color: #00af00; text-decoration-color: #00af00\">0</span> │ conv1d_2[<span style=\"color: #00af00; text-decoration-color: #00af00\">0</span>][<span style=\"color: #00af00; text-decoration-color: #00af00\">0</span>]         │\n",
              "│ (<span style=\"color: #0087ff; text-decoration-color: #0087ff\">GlobalMaxPooling1D</span>)      │                        │                │                        │\n",
              "├───────────────────────────┼────────────────────────┼────────────────┼────────────────────────┤\n",
              "│ global_max_pooling1d_3    │ (<span style=\"color: #00d7ff; text-decoration-color: #00d7ff\">None</span>, <span style=\"color: #00af00; text-decoration-color: #00af00\">64</span>)             │              <span style=\"color: #00af00; text-decoration-color: #00af00\">0</span> │ conv1d_3[<span style=\"color: #00af00; text-decoration-color: #00af00\">0</span>][<span style=\"color: #00af00; text-decoration-color: #00af00\">0</span>]         │\n",
              "│ (<span style=\"color: #0087ff; text-decoration-color: #0087ff\">GlobalMaxPooling1D</span>)      │                        │                │                        │\n",
              "├───────────────────────────┼────────────────────────┼────────────────┼────────────────────────┤\n",
              "│ additional_input          │ (<span style=\"color: #00d7ff; text-decoration-color: #00d7ff\">None</span>, <span style=\"color: #00af00; text-decoration-color: #00af00\">5</span>)              │              <span style=\"color: #00af00; text-decoration-color: #00af00\">0</span> │ -                      │\n",
              "│ (<span style=\"color: #0087ff; text-decoration-color: #0087ff\">InputLayer</span>)              │                        │                │                        │\n",
              "├───────────────────────────┼────────────────────────┼────────────────┼────────────────────────┤\n",
              "│ concatenate_1             │ (<span style=\"color: #00d7ff; text-decoration-color: #00d7ff\">None</span>, <span style=\"color: #00af00; text-decoration-color: #00af00\">197</span>)            │              <span style=\"color: #00af00; text-decoration-color: #00af00\">0</span> │ global_max_pooling1d_… │\n",
              "│ (<span style=\"color: #0087ff; text-decoration-color: #0087ff\">Concatenate</span>)             │                        │                │ global_max_pooling1d_… │\n",
              "│                           │                        │                │ global_max_pooling1d_… │\n",
              "│                           │                        │                │ additional_input[<span style=\"color: #00af00; text-decoration-color: #00af00\">0</span>][<span style=\"color: #00af00; text-decoration-color: #00af00\">0</span>] │\n",
              "├───────────────────────────┼────────────────────────┼────────────────┼────────────────────────┤\n",
              "│ dense_2 (<span style=\"color: #0087ff; text-decoration-color: #0087ff\">Dense</span>)           │ (<span style=\"color: #00d7ff; text-decoration-color: #00d7ff\">None</span>, <span style=\"color: #00af00; text-decoration-color: #00af00\">32</span>)             │          <span style=\"color: #00af00; text-decoration-color: #00af00\">6,336</span> │ concatenate_1[<span style=\"color: #00af00; text-decoration-color: #00af00\">0</span>][<span style=\"color: #00af00; text-decoration-color: #00af00\">0</span>]    │\n",
              "├───────────────────────────┼────────────────────────┼────────────────┼────────────────────────┤\n",
              "│ dropout_1 (<span style=\"color: #0087ff; text-decoration-color: #0087ff\">Dropout</span>)       │ (<span style=\"color: #00d7ff; text-decoration-color: #00d7ff\">None</span>, <span style=\"color: #00af00; text-decoration-color: #00af00\">32</span>)             │              <span style=\"color: #00af00; text-decoration-color: #00af00\">0</span> │ dense_2[<span style=\"color: #00af00; text-decoration-color: #00af00\">0</span>][<span style=\"color: #00af00; text-decoration-color: #00af00\">0</span>]          │\n",
              "├───────────────────────────┼────────────────────────┼────────────────┼────────────────────────┤\n",
              "│ dense_3 (<span style=\"color: #0087ff; text-decoration-color: #0087ff\">Dense</span>)           │ (<span style=\"color: #00d7ff; text-decoration-color: #00d7ff\">None</span>, <span style=\"color: #00af00; text-decoration-color: #00af00\">4</span>)              │            <span style=\"color: #00af00; text-decoration-color: #00af00\">132</span> │ dropout_1[<span style=\"color: #00af00; text-decoration-color: #00af00\">0</span>][<span style=\"color: #00af00; text-decoration-color: #00af00\">0</span>]        │\n",
              "└───────────────────────────┴────────────────────────┴────────────────┴────────────────────────┘\n",
              "</pre>\n"
            ],
            "text/plain": [
              "┏━━━━━━━━━━━━━━━━━━━━━━━━━━━┳━━━━━━━━━━━━━━━━━━━━━━━━┳━━━━━━━━━━━━━━━━┳━━━━━━━━━━━━━━━━━━━━━━━━┓\n",
              "┃\u001b[1m \u001b[0m\u001b[1mLayer (type)             \u001b[0m\u001b[1m \u001b[0m┃\u001b[1m \u001b[0m\u001b[1mOutput Shape          \u001b[0m\u001b[1m \u001b[0m┃\u001b[1m \u001b[0m\u001b[1m       Param #\u001b[0m\u001b[1m \u001b[0m┃\u001b[1m \u001b[0m\u001b[1mConnected to          \u001b[0m\u001b[1m \u001b[0m┃\n",
              "┡━━━━━━━━━━━━━━━━━━━━━━━━━━━╇━━━━━━━━━━━━━━━━━━━━━━━━╇━━━━━━━━━━━━━━━━╇━━━━━━━━━━━━━━━━━━━━━━━━┩\n",
              "│ text_input (\u001b[38;5;33mInputLayer\u001b[0m)   │ (\u001b[38;5;45mNone\u001b[0m, \u001b[38;5;34m100\u001b[0m)            │              \u001b[38;5;34m0\u001b[0m │ -                      │\n",
              "├───────────────────────────┼────────────────────────┼────────────────┼────────────────────────┤\n",
              "│ embedding_1 (\u001b[38;5;33mEmbedding\u001b[0m)   │ (\u001b[38;5;45mNone\u001b[0m, \u001b[38;5;34m100\u001b[0m, \u001b[38;5;34m64\u001b[0m)        │      \u001b[38;5;34m1,280,000\u001b[0m │ text_input[\u001b[38;5;34m0\u001b[0m][\u001b[38;5;34m0\u001b[0m]       │\n",
              "├───────────────────────────┼────────────────────────┼────────────────┼────────────────────────┤\n",
              "│ conv1d_1 (\u001b[38;5;33mConv1D\u001b[0m)         │ (\u001b[38;5;45mNone\u001b[0m, \u001b[38;5;34m98\u001b[0m, \u001b[38;5;34m64\u001b[0m)         │         \u001b[38;5;34m12,352\u001b[0m │ embedding_1[\u001b[38;5;34m0\u001b[0m][\u001b[38;5;34m0\u001b[0m]      │\n",
              "├───────────────────────────┼────────────────────────┼────────────────┼────────────────────────┤\n",
              "│ conv1d_2 (\u001b[38;5;33mConv1D\u001b[0m)         │ (\u001b[38;5;45mNone\u001b[0m, \u001b[38;5;34m97\u001b[0m, \u001b[38;5;34m64\u001b[0m)         │         \u001b[38;5;34m16,448\u001b[0m │ embedding_1[\u001b[38;5;34m0\u001b[0m][\u001b[38;5;34m0\u001b[0m]      │\n",
              "├───────────────────────────┼────────────────────────┼────────────────┼────────────────────────┤\n",
              "│ conv1d_3 (\u001b[38;5;33mConv1D\u001b[0m)         │ (\u001b[38;5;45mNone\u001b[0m, \u001b[38;5;34m96\u001b[0m, \u001b[38;5;34m64\u001b[0m)         │         \u001b[38;5;34m20,544\u001b[0m │ embedding_1[\u001b[38;5;34m0\u001b[0m][\u001b[38;5;34m0\u001b[0m]      │\n",
              "├───────────────────────────┼────────────────────────┼────────────────┼────────────────────────┤\n",
              "│ global_max_pooling1d_1    │ (\u001b[38;5;45mNone\u001b[0m, \u001b[38;5;34m64\u001b[0m)             │              \u001b[38;5;34m0\u001b[0m │ conv1d_1[\u001b[38;5;34m0\u001b[0m][\u001b[38;5;34m0\u001b[0m]         │\n",
              "│ (\u001b[38;5;33mGlobalMaxPooling1D\u001b[0m)      │                        │                │                        │\n",
              "├───────────────────────────┼────────────────────────┼────────────────┼────────────────────────┤\n",
              "│ global_max_pooling1d_2    │ (\u001b[38;5;45mNone\u001b[0m, \u001b[38;5;34m64\u001b[0m)             │              \u001b[38;5;34m0\u001b[0m │ conv1d_2[\u001b[38;5;34m0\u001b[0m][\u001b[38;5;34m0\u001b[0m]         │\n",
              "│ (\u001b[38;5;33mGlobalMaxPooling1D\u001b[0m)      │                        │                │                        │\n",
              "├───────────────────────────┼────────────────────────┼────────────────┼────────────────────────┤\n",
              "│ global_max_pooling1d_3    │ (\u001b[38;5;45mNone\u001b[0m, \u001b[38;5;34m64\u001b[0m)             │              \u001b[38;5;34m0\u001b[0m │ conv1d_3[\u001b[38;5;34m0\u001b[0m][\u001b[38;5;34m0\u001b[0m]         │\n",
              "│ (\u001b[38;5;33mGlobalMaxPooling1D\u001b[0m)      │                        │                │                        │\n",
              "├───────────────────────────┼────────────────────────┼────────────────┼────────────────────────┤\n",
              "│ additional_input          │ (\u001b[38;5;45mNone\u001b[0m, \u001b[38;5;34m5\u001b[0m)              │              \u001b[38;5;34m0\u001b[0m │ -                      │\n",
              "│ (\u001b[38;5;33mInputLayer\u001b[0m)              │                        │                │                        │\n",
              "├───────────────────────────┼────────────────────────┼────────────────┼────────────────────────┤\n",
              "│ concatenate_1             │ (\u001b[38;5;45mNone\u001b[0m, \u001b[38;5;34m197\u001b[0m)            │              \u001b[38;5;34m0\u001b[0m │ global_max_pooling1d_… │\n",
              "│ (\u001b[38;5;33mConcatenate\u001b[0m)             │                        │                │ global_max_pooling1d_… │\n",
              "│                           │                        │                │ global_max_pooling1d_… │\n",
              "│                           │                        │                │ additional_input[\u001b[38;5;34m0\u001b[0m][\u001b[38;5;34m0\u001b[0m] │\n",
              "├───────────────────────────┼────────────────────────┼────────────────┼────────────────────────┤\n",
              "│ dense_2 (\u001b[38;5;33mDense\u001b[0m)           │ (\u001b[38;5;45mNone\u001b[0m, \u001b[38;5;34m32\u001b[0m)             │          \u001b[38;5;34m6,336\u001b[0m │ concatenate_1[\u001b[38;5;34m0\u001b[0m][\u001b[38;5;34m0\u001b[0m]    │\n",
              "├───────────────────────────┼────────────────────────┼────────────────┼────────────────────────┤\n",
              "│ dropout_1 (\u001b[38;5;33mDropout\u001b[0m)       │ (\u001b[38;5;45mNone\u001b[0m, \u001b[38;5;34m32\u001b[0m)             │              \u001b[38;5;34m0\u001b[0m │ dense_2[\u001b[38;5;34m0\u001b[0m][\u001b[38;5;34m0\u001b[0m]          │\n",
              "├───────────────────────────┼────────────────────────┼────────────────┼────────────────────────┤\n",
              "│ dense_3 (\u001b[38;5;33mDense\u001b[0m)           │ (\u001b[38;5;45mNone\u001b[0m, \u001b[38;5;34m4\u001b[0m)              │            \u001b[38;5;34m132\u001b[0m │ dropout_1[\u001b[38;5;34m0\u001b[0m][\u001b[38;5;34m0\u001b[0m]        │\n",
              "└───────────────────────────┴────────────────────────┴────────────────┴────────────────────────┘\n"
            ]
          },
          "metadata": {},
          "output_type": "display_data"
        },
        {
          "data": {
            "text/html": [
              "<pre style=\"white-space:pre;overflow-x:auto;line-height:normal;font-family:Menlo,'DejaVu Sans Mono',consolas,'Courier New',monospace\"><span style=\"font-weight: bold\"> Total params: </span><span style=\"color: #00af00; text-decoration-color: #00af00\">1,335,812</span> (5.10 MB)\n",
              "</pre>\n"
            ],
            "text/plain": [
              "\u001b[1m Total params: \u001b[0m\u001b[38;5;34m1,335,812\u001b[0m (5.10 MB)\n"
            ]
          },
          "metadata": {},
          "output_type": "display_data"
        },
        {
          "data": {
            "text/html": [
              "<pre style=\"white-space:pre;overflow-x:auto;line-height:normal;font-family:Menlo,'DejaVu Sans Mono',consolas,'Courier New',monospace\"><span style=\"font-weight: bold\"> Trainable params: </span><span style=\"color: #00af00; text-decoration-color: #00af00\">1,335,812</span> (5.10 MB)\n",
              "</pre>\n"
            ],
            "text/plain": [
              "\u001b[1m Trainable params: \u001b[0m\u001b[38;5;34m1,335,812\u001b[0m (5.10 MB)\n"
            ]
          },
          "metadata": {},
          "output_type": "display_data"
        },
        {
          "data": {
            "text/html": [
              "<pre style=\"white-space:pre;overflow-x:auto;line-height:normal;font-family:Menlo,'DejaVu Sans Mono',consolas,'Courier New',monospace\"><span style=\"font-weight: bold\"> Non-trainable params: </span><span style=\"color: #00af00; text-decoration-color: #00af00\">0</span> (0.00 B)\n",
              "</pre>\n"
            ],
            "text/plain": [
              "\u001b[1m Non-trainable params: \u001b[0m\u001b[38;5;34m0\u001b[0m (0.00 B)\n"
            ]
          },
          "metadata": {},
          "output_type": "display_data"
        }
      ],
      "source": [
        "from tensorflow.keras.layers import Concatenate, Input, Embedding, Conv1D, GlobalMaxPooling1D, Dense, Dropout\n",
        "from tensorflow.keras.models import Model\n",
        "\n",
        "# Define inputs for text and additional features\n",
        "text_input = Input(shape=(max_sequence_length,), name=\"text_input\")\n",
        "additional_input = Input(shape=(X_additional.shape[1],), name=\"additional_input\")\n",
        "\n",
        "# Embedding layer\n",
        "embedding_layer = Embedding(input_dim=max_vocab_size, output_dim=64, input_length=max_sequence_length)(text_input)\n",
        "\n",
        "# Multiple Conv1D layers with different filter sizes (Kim's model)\n",
        "conv_3 = Conv1D(64, 3, activation='relu')(embedding_layer)\n",
        "conv_4 = Conv1D(64, 4, activation='relu')(embedding_layer)\n",
        "conv_5 = Conv1D(64, 5, activation='relu')(embedding_layer)\n",
        "\n",
        "# Global Max Pooling for each convolution layer\n",
        "pool_3 = GlobalMaxPooling1D()(conv_3)\n",
        "pool_4 = GlobalMaxPooling1D()(conv_4)\n",
        "pool_5 = GlobalMaxPooling1D()(conv_5)\n",
        "\n",
        "# Concatenate all pooled features\n",
        "concatenated = Concatenate()([pool_3, pool_4, pool_5, additional_input])\n",
        "\n",
        "# Fully connected layers\n",
        "dense_layer = Dense(32, activation='relu')(concatenated)\n",
        "dropout_layer = Dropout(0.7)(dense_layer)\n",
        "output_layer = Dense(4, activation='softmax')(dropout_layer)  # Multi-class classification (4 classes)\n",
        "\n",
        "# Compile the model with appropriate loss for multi-class classification\n",
        "model_kim = Model(inputs=[text_input, additional_input], outputs=output_layer)\n",
        "model_kim.compile(optimizer='adam', loss='sparse_categorical_crossentropy', metrics=['accuracy'])\n",
        "\n",
        "# Model summary\n",
        "model_kim.summary()\n",
        "\n",
        "\n"
      ]
    },
    {
      "cell_type": "code",
      "execution_count": null,
      "metadata": {
        "colab": {
          "base_uri": "https://localhost:8080/"
        },
        "id": "uOwxjeTYamMM",
        "outputId": "f36ed7c5-7b73-4c05-931e-0dfb70aa6770"
      },
      "outputs": [
        {
          "name": "stdout",
          "output_type": "stream",
          "text": [
            "Epoch 1/50\n",
            "\u001b[1m16513/16514\u001b[0m \u001b[32m━━━━━━━━━━━━━━━━━━━\u001b[0m\u001b[37m━\u001b[0m \u001b[1m0s\u001b[0m 38ms/step - accuracy: 0.6694 - loss: 0.7569\n",
            "Epoch 1: val_accuracy improved from -inf to 0.71097, saving model to ./checkpoints/modelkim-01-0.71.weights.h5\n",
            "\u001b[1m16514/16514\u001b[0m \u001b[32m━━━━━━━━━━━━━━━━━━━━\u001b[0m\u001b[37m\u001b[0m \u001b[1m662s\u001b[0m 40ms/step - accuracy: 0.6694 - loss: 0.7569 - val_accuracy: 0.7110 - val_loss: 0.6628\n",
            "Epoch 2/50\n",
            "\u001b[1m16513/16514\u001b[0m \u001b[32m━━━━━━━━━━━━━━━━━━━\u001b[0m\u001b[37m━\u001b[0m \u001b[1m0s\u001b[0m 37ms/step - accuracy: 0.7148 - loss: 0.6630\n",
            "Epoch 2: val_accuracy improved from 0.71097 to 0.71530, saving model to ./checkpoints/modelkim-02-0.72.weights.h5\n",
            "\u001b[1m16514/16514\u001b[0m \u001b[32m━━━━━━━━━━━━━━━━━━━━\u001b[0m\u001b[37m\u001b[0m \u001b[1m672s\u001b[0m 39ms/step - accuracy: 0.7148 - loss: 0.6630 - val_accuracy: 0.7153 - val_loss: 0.6486\n",
            "Epoch 3/50\n",
            "\u001b[1m16513/16514\u001b[0m \u001b[32m━━━━━━━━━━━━━━━━━━━\u001b[0m\u001b[37m━\u001b[0m \u001b[1m0s\u001b[0m 38ms/step - accuracy: 0.7299 - loss: 0.6349\n",
            "Epoch 3: val_accuracy improved from 0.71530 to 0.71730, saving model to ./checkpoints/modelkim-03-0.72.weights.h5\n",
            "\u001b[1m16514/16514\u001b[0m \u001b[32m━━━━━━━━━━━━━━━━━━━━\u001b[0m\u001b[37m\u001b[0m \u001b[1m688s\u001b[0m 40ms/step - accuracy: 0.7299 - loss: 0.6349 - val_accuracy: 0.7173 - val_loss: 0.6526\n",
            "Epoch 4/50\n",
            "\u001b[1m16514/16514\u001b[0m \u001b[32m━━━━━━━━━━━━━━━━━━━━\u001b[0m\u001b[37m\u001b[0m \u001b[1m0s\u001b[0m 37ms/step - accuracy: 0.7489 - loss: 0.5957\n",
            "Epoch 4: val_accuracy did not improve from 0.71730\n",
            "\u001b[1m16514/16514\u001b[0m \u001b[32m━━━━━━━━━━━━━━━━━━━━\u001b[0m\u001b[37m\u001b[0m \u001b[1m639s\u001b[0m 39ms/step - accuracy: 0.7489 - loss: 0.5957 - val_accuracy: 0.7147 - val_loss: 0.6791\n",
            "Epoch 5/50\n",
            "\u001b[1m16514/16514\u001b[0m \u001b[32m━━━━━━━━━━━━━━━━━━━━\u001b[0m\u001b[37m\u001b[0m \u001b[1m0s\u001b[0m 38ms/step - accuracy: 0.7673 - loss: 0.5574\n",
            "Epoch 5: val_accuracy did not improve from 0.71730\n",
            "\u001b[1m16514/16514\u001b[0m \u001b[32m━━━━━━━━━━━━━━━━━━━━\u001b[0m\u001b[37m\u001b[0m \u001b[1m696s\u001b[0m 40ms/step - accuracy: 0.7673 - loss: 0.5574 - val_accuracy: 0.7123 - val_loss: 0.7000\n",
            "Training history saved to kim_cnn_history.json\n",
            "\u001b[1m5161/5161\u001b[0m \u001b[32m━━━━━━━━━━━━━━━━━━━━\u001b[0m\u001b[37m\u001b[0m \u001b[1m45s\u001b[0m 9ms/step - accuracy: 0.7144 - loss: 0.7002\n",
            "Test Accuracy: 0.71\n"
          ]
        }
      ],
      "source": [
        "# Split X_train and X_test into separate inputs for training and testing\n",
        "X_train_text = X_train[:, :max_sequence_length]           # Text input\n",
        "X_train_additional = X_train[:, max_sequence_length:]     # Additional features input\n",
        "\n",
        "# Set up checkpointing and early stopping\n",
        "checkpoint_dir = './checkpoints'\n",
        "os.makedirs(checkpoint_dir, exist_ok=True)\n",
        "checkpoint_path = os.path.join(checkpoint_dir, \"modelkim-{epoch:02d}-{val_accuracy:.2f}.weights.h5\")\n",
        "checkpoint_callback = ModelCheckpoint(filepath=checkpoint_path, save_weights_only=True, save_best_only=True, monitor='val_accuracy', mode='max', verbose=1)\n",
        "early_stopping_callback = EarlyStopping(monitor='val_loss', patience=3)\n",
        "\n",
        "# Train the model\n",
        "history_kim = model_kim.fit(\n",
        "    [X_train_text, X_train_additional],  # Provided text and additional inputs separately\n",
        "    y_train,\n",
        "    epochs=50,\n",
        "    validation_split=0.2,\n",
        "    batch_size=32,\n",
        "    callbacks=[checkpoint_callback, early_stopping_callback]\n",
        ")\n",
        "\n",
        "# Save the training history\n",
        "history_path = 'kim_cnn_history.json'\n",
        "with open(history_path, 'w') as f:\n",
        "    json.dump(history_kim.history, f)\n",
        "print(f\"Training history saved to {history_path}\")\n",
        "\n",
        "# Prepare test data for evaluation\n",
        "X_test_text = X_test[:, :max_sequence_length]\n",
        "X_test_additional = X_test[:, max_sequence_length:]\n",
        "\n",
        "# Evaluate the model on test data\n",
        "test_loss, test_accuracy = model_kim.evaluate([X_test_text, X_test_additional], y_test)\n",
        "print(f\"Test Accuracy: {test_accuracy:.2f}\")\n",
        "\n"
      ]
    },
    {
      "cell_type": "code",
      "execution_count": null,
      "metadata": {
        "id": "3t3kE3IbbeoN"
      },
      "outputs": [],
      "source": [
        "# Load and plot training history\n",
        "with open(history_path, 'r') as f:\n",
        "    saved_history = json.load(f)"
      ]
    },
    {
      "cell_type": "code",
      "execution_count": null,
      "metadata": {
        "colab": {
          "base_uri": "https://localhost:8080/"
        },
        "id": "qV6LhR5vbSjD",
        "outputId": "4c98e55e-551c-4e37-fc73-17dec8d2a2d2"
      },
      "outputs": [
        {
          "name": "stdout",
          "output_type": "stream",
          "text": [
            "Training and Validation Accuracy: [0.6877023577690125, 0.7134785056114197, 0.7286686301231384, 0.7454445958137512, 0.7624116539955139] [0.7109735012054443, 0.7152957320213318, 0.717301607131958, 0.7146825790405273, 0.7122754454612732]\n"
          ]
        }
      ],
      "source": [
        "# Print saved history or plot (if you want to visualize training progress)\n",
        "print(\"Training and Validation Accuracy:\", saved_history.get('accuracy'), saved_history.get('val_accuracy'))"
      ]
    },
    {
      "cell_type": "code",
      "execution_count": null,
      "metadata": {
        "colab": {
          "base_uri": "https://localhost:8080/",
          "height": 502
        },
        "id": "akpb-NGmcNsw",
        "outputId": "09d19c00-ab62-49c8-a732-c8c8dccb43c3"
      },
      "outputs": [
        {
          "data": {
            "image/png": "[encoded data removed]",
            "text/plain": [
              "<Figure size 1200x500 with 2 Axes>"
            ]
          },
          "metadata": {},
          "output_type": "display_data"
        }
      ],
      "source": [
        "import json\n",
        "import matplotlib.pyplot as plt\n",
        "\n",
        "# Load training history\n",
        "history_path = 'kim_cnn_history.json'\n",
        "with open(history_path, 'r') as f:\n",
        "    saved_history = json.load(f)\n",
        "\n",
        "# Extract accuracy and loss data\n",
        "train_accuracy = saved_history.get('accuracy', [])\n",
        "val_accuracy = saved_history.get('val_accuracy', [])\n",
        "train_loss = saved_history.get('loss', [])\n",
        "val_loss = saved_history.get('val_loss', [])\n",
        "\n",
        "# Plot training & validation accuracy values\n",
        "plt.figure(figsize=(12, 5))\n",
        "\n",
        "# Accuracy\n",
        "plt.subplot(1, 2, 1)\n",
        "plt.plot(train_accuracy, label='Training Accuracy')\n",
        "plt.plot(val_accuracy, label='Validation Accuracy')\n",
        "plt.title('Training and Validation Accuracy')\n",
        "plt.xlabel('Epochs')\n",
        "plt.ylabel('Accuracy')\n",
        "plt.legend()\n",
        "\n",
        "# Loss\n",
        "plt.subplot(1, 2, 2)\n",
        "plt.plot(train_loss, label='Training Loss')\n",
        "plt.plot(val_loss, label='Validation Loss')\n",
        "plt.title('Training and Validation Loss')\n",
        "plt.xlabel('Epochs')\n",
        "plt.ylabel('Loss')\n",
        "plt.legend()\n",
        "\n",
        "# Show the plots\n",
        "plt.tight_layout()\n",
        "plt.show()"
      ]
    },
    {
      "cell_type": "markdown",
      "metadata": {
        "id": "v8wEvumrp2Uh"
      },
      "source": [
        "\n",
        "Training and Validation Accuracy:\n",
        "\n",
        "Training accuracy continues to increase, reaching around 76% by the fifth epoch, which shows that the model is effectively learning the training data.\n",
        "Validation accuracy initially improves, peaking at around epoch 3, but then starts to decline. This suggests that after a few epochs, the model begins to overfit, as it is not able to maintain performance on the validation set.\n",
        "Training and Validation Loss:\n",
        "\n",
        "Training loss consistently decreases, which is expected as the model gets better at fitting the training data.\n",
        "Validation loss, however, shows a different trend. It decreases initially, reaches a minimum, and then starts increasing again, confirming overfitting after a few epochs.\n",
        "Model Checkpointing:\n",
        "\n",
        "The best validation accuracy achieved is around 71.73% in the third epoch, and the model saves its weights at this point. This indicates that the best generalization was achieved early in the training, and subsequent epochs did not improve validation performance.\n",
        "Test Performance:\n",
        "\n",
        "The test accuracy is around 71.44%, which is consistent with the validation accuracy achieved in the early epochs, confirming the model's generalization ability when early-stopping was applied.\n",
        "\n"
      ]
    },
    {
      "cell_type": "markdown",
      "metadata": {
        "id": "D8dLmIQVvdvu"
      },
      "source": [
        "## Recurrent Neural Network (RNN) with LSTM\n"
      ]
    },
    {
      "cell_type": "code",
      "execution_count": null,
      "metadata": {
        "colab": {
          "base_uri": "https://localhost:8080/",
          "height": 417
        },
        "id": "bMcWFVVppKKw",
        "outputId": "c5aaa50c-5eb5-49e1-b5a2-d0bb13c24405"
      },
      "outputs": [
        {
          "data": {
            "text/html": [
              "<pre style=\"white-space:pre;overflow-x:auto;line-height:normal;font-family:Menlo,'DejaVu Sans Mono',consolas,'Courier New',monospace\"><span style=\"font-weight: bold\">Model: \"functional_2\"</span>\n",
              "</pre>\n"
            ],
            "text/plain": [
              "\u001b[1mModel: \"functional_2\"\u001b[0m\n"
            ]
          },
          "metadata": {},
          "output_type": "display_data"
        },
        {
          "data": {
            "text/html": [
              "<pre style=\"white-space:pre;overflow-x:auto;line-height:normal;font-family:Menlo,'DejaVu Sans Mono',consolas,'Courier New',monospace\">┏━━━━━━━━━━━━━━━━━━━━━━━━━━━┳━━━━━━━━━━━━━━━━━━━━━━━━┳━━━━━━━━━━━━━━━━┳━━━━━━━━━━━━━━━━━━━━━━━━┓\n",
              "┃<span style=\"font-weight: bold\"> Layer (type)              </span>┃<span style=\"font-weight: bold\"> Output Shape           </span>┃<span style=\"font-weight: bold\">        Param # </span>┃<span style=\"font-weight: bold\"> Connected to           </span>┃\n",
              "┡━━━━━━━━━━━━━━━━━━━━━━━━━━━╇━━━━━━━━━━━━━━━━━━━━━━━━╇━━━━━━━━━━━━━━━━╇━━━━━━━━━━━━━━━━━━━━━━━━┩\n",
              "│ text_input (<span style=\"color: #0087ff; text-decoration-color: #0087ff\">InputLayer</span>)   │ (<span style=\"color: #00d7ff; text-decoration-color: #00d7ff\">None</span>, <span style=\"color: #00af00; text-decoration-color: #00af00\">100</span>)            │              <span style=\"color: #00af00; text-decoration-color: #00af00\">0</span> │ -                      │\n",
              "├───────────────────────────┼────────────────────────┼────────────────┼────────────────────────┤\n",
              "│ embedding_2 (<span style=\"color: #0087ff; text-decoration-color: #0087ff\">Embedding</span>)   │ (<span style=\"color: #00d7ff; text-decoration-color: #00d7ff\">None</span>, <span style=\"color: #00af00; text-decoration-color: #00af00\">100</span>, <span style=\"color: #00af00; text-decoration-color: #00af00\">32</span>)        │        <span style=\"color: #00af00; text-decoration-color: #00af00\">640,000</span> │ text_input[<span style=\"color: #00af00; text-decoration-color: #00af00\">0</span>][<span style=\"color: #00af00; text-decoration-color: #00af00\">0</span>]       │\n",
              "├───────────────────────────┼────────────────────────┼────────────────┼────────────────────────┤\n",
              "│ lstm (<span style=\"color: #0087ff; text-decoration-color: #0087ff\">LSTM</span>)               │ (<span style=\"color: #00d7ff; text-decoration-color: #00d7ff\">None</span>, <span style=\"color: #00af00; text-decoration-color: #00af00\">32</span>)             │          <span style=\"color: #00af00; text-decoration-color: #00af00\">8,320</span> │ embedding_2[<span style=\"color: #00af00; text-decoration-color: #00af00\">0</span>][<span style=\"color: #00af00; text-decoration-color: #00af00\">0</span>]      │\n",
              "├───────────────────────────┼────────────────────────┼────────────────┼────────────────────────┤\n",
              "│ additional_input          │ (<span style=\"color: #00d7ff; text-decoration-color: #00d7ff\">None</span>, <span style=\"color: #00af00; text-decoration-color: #00af00\">5</span>)              │              <span style=\"color: #00af00; text-decoration-color: #00af00\">0</span> │ -                      │\n",
              "│ (<span style=\"color: #0087ff; text-decoration-color: #0087ff\">InputLayer</span>)              │                        │                │                        │\n",
              "├───────────────────────────┼────────────────────────┼────────────────┼────────────────────────┤\n",
              "│ concatenate_2             │ (<span style=\"color: #00d7ff; text-decoration-color: #00d7ff\">None</span>, <span style=\"color: #00af00; text-decoration-color: #00af00\">37</span>)             │              <span style=\"color: #00af00; text-decoration-color: #00af00\">0</span> │ lstm[<span style=\"color: #00af00; text-decoration-color: #00af00\">0</span>][<span style=\"color: #00af00; text-decoration-color: #00af00\">0</span>],            │\n",
              "│ (<span style=\"color: #0087ff; text-decoration-color: #0087ff\">Concatenate</span>)             │                        │                │ additional_input[<span style=\"color: #00af00; text-decoration-color: #00af00\">0</span>][<span style=\"color: #00af00; text-decoration-color: #00af00\">0</span>] │\n",
              "├───────────────────────────┼────────────────────────┼────────────────┼────────────────────────┤\n",
              "│ dense_4 (<span style=\"color: #0087ff; text-decoration-color: #0087ff\">Dense</span>)           │ (<span style=\"color: #00d7ff; text-decoration-color: #00d7ff\">None</span>, <span style=\"color: #00af00; text-decoration-color: #00af00\">32</span>)             │          <span style=\"color: #00af00; text-decoration-color: #00af00\">1,216</span> │ concatenate_2[<span style=\"color: #00af00; text-decoration-color: #00af00\">0</span>][<span style=\"color: #00af00; text-decoration-color: #00af00\">0</span>]    │\n",
              "├───────────────────────────┼────────────────────────┼────────────────┼────────────────────────┤\n",
              "│ dropout_2 (<span style=\"color: #0087ff; text-decoration-color: #0087ff\">Dropout</span>)       │ (<span style=\"color: #00d7ff; text-decoration-color: #00d7ff\">None</span>, <span style=\"color: #00af00; text-decoration-color: #00af00\">32</span>)             │              <span style=\"color: #00af00; text-decoration-color: #00af00\">0</span> │ dense_4[<span style=\"color: #00af00; text-decoration-color: #00af00\">0</span>][<span style=\"color: #00af00; text-decoration-color: #00af00\">0</span>]          │\n",
              "├───────────────────────────┼────────────────────────┼────────────────┼────────────────────────┤\n",
              "│ dense_5 (<span style=\"color: #0087ff; text-decoration-color: #0087ff\">Dense</span>)           │ (<span style=\"color: #00d7ff; text-decoration-color: #00d7ff\">None</span>, <span style=\"color: #00af00; text-decoration-color: #00af00\">4</span>)              │            <span style=\"color: #00af00; text-decoration-color: #00af00\">132</span> │ dropout_2[<span style=\"color: #00af00; text-decoration-color: #00af00\">0</span>][<span style=\"color: #00af00; text-decoration-color: #00af00\">0</span>]        │\n",
              "└───────────────────────────┴────────────────────────┴────────────────┴────────────────────────┘\n",
              "</pre>\n"
            ],
            "text/plain": [
              "┏━━━━━━━━━━━━━━━━━━━━━━━━━━━┳━━━━━━━━━━━━━━━━━━━━━━━━┳━━━━━━━━━━━━━━━━┳━━━━━━━━━━━━━━━━━━━━━━━━┓\n",
              "┃\u001b[1m \u001b[0m\u001b[1mLayer (type)             \u001b[0m\u001b[1m \u001b[0m┃\u001b[1m \u001b[0m\u001b[1mOutput Shape          \u001b[0m\u001b[1m \u001b[0m┃\u001b[1m \u001b[0m\u001b[1m       Param #\u001b[0m\u001b[1m \u001b[0m┃\u001b[1m \u001b[0m\u001b[1mConnected to          \u001b[0m\u001b[1m \u001b[0m┃\n",
              "┡━━━━━━━━━━━━━━━━━━━━━━━━━━━╇━━━━━━━━━━━━━━━━━━━━━━━━╇━━━━━━━━━━━━━━━━╇━━━━━━━━━━━━━━━━━━━━━━━━┩\n",
              "│ text_input (\u001b[38;5;33mInputLayer\u001b[0m)   │ (\u001b[38;5;45mNone\u001b[0m, \u001b[38;5;34m100\u001b[0m)            │              \u001b[38;5;34m0\u001b[0m │ -                      │\n",
              "├───────────────────────────┼────────────────────────┼────────────────┼────────────────────────┤\n",
              "│ embedding_2 (\u001b[38;5;33mEmbedding\u001b[0m)   │ (\u001b[38;5;45mNone\u001b[0m, \u001b[38;5;34m100\u001b[0m, \u001b[38;5;34m32\u001b[0m)        │        \u001b[38;5;34m640,000\u001b[0m │ text_input[\u001b[38;5;34m0\u001b[0m][\u001b[38;5;34m0\u001b[0m]       │\n",
              "├───────────────────────────┼────────────────────────┼────────────────┼────────────────────────┤\n",
              "│ lstm (\u001b[38;5;33mLSTM\u001b[0m)               │ (\u001b[38;5;45mNone\u001b[0m, \u001b[38;5;34m32\u001b[0m)             │          \u001b[38;5;34m8,320\u001b[0m │ embedding_2[\u001b[38;5;34m0\u001b[0m][\u001b[38;5;34m0\u001b[0m]      │\n",
              "├───────────────────────────┼────────────────────────┼────────────────┼────────────────────────┤\n",
              "│ additional_input          │ (\u001b[38;5;45mNone\u001b[0m, \u001b[38;5;34m5\u001b[0m)              │              \u001b[38;5;34m0\u001b[0m │ -                      │\n",
              "│ (\u001b[38;5;33mInputLayer\u001b[0m)              │                        │                │                        │\n",
              "├───────────────────────────┼────────────────────────┼────────────────┼────────────────────────┤\n",
              "│ concatenate_2             │ (\u001b[38;5;45mNone\u001b[0m, \u001b[38;5;34m37\u001b[0m)             │              \u001b[38;5;34m0\u001b[0m │ lstm[\u001b[38;5;34m0\u001b[0m][\u001b[38;5;34m0\u001b[0m],            │\n",
              "│ (\u001b[38;5;33mConcatenate\u001b[0m)             │                        │                │ additional_input[\u001b[38;5;34m0\u001b[0m][\u001b[38;5;34m0\u001b[0m] │\n",
              "├───────────────────────────┼────────────────────────┼────────────────┼────────────────────────┤\n",
              "│ dense_4 (\u001b[38;5;33mDense\u001b[0m)           │ (\u001b[38;5;45mNone\u001b[0m, \u001b[38;5;34m32\u001b[0m)             │          \u001b[38;5;34m1,216\u001b[0m │ concatenate_2[\u001b[38;5;34m0\u001b[0m][\u001b[38;5;34m0\u001b[0m]    │\n",
              "├───────────────────────────┼────────────────────────┼────────────────┼────────────────────────┤\n",
              "│ dropout_2 (\u001b[38;5;33mDropout\u001b[0m)       │ (\u001b[38;5;45mNone\u001b[0m, \u001b[38;5;34m32\u001b[0m)             │              \u001b[38;5;34m0\u001b[0m │ dense_4[\u001b[38;5;34m0\u001b[0m][\u001b[38;5;34m0\u001b[0m]          │\n",
              "├───────────────────────────┼────────────────────────┼────────────────┼────────────────────────┤\n",
              "│ dense_5 (\u001b[38;5;33mDense\u001b[0m)           │ (\u001b[38;5;45mNone\u001b[0m, \u001b[38;5;34m4\u001b[0m)              │            \u001b[38;5;34m132\u001b[0m │ dropout_2[\u001b[38;5;34m0\u001b[0m][\u001b[38;5;34m0\u001b[0m]        │\n",
              "└───────────────────────────┴────────────────────────┴────────────────┴────────────────────────┘\n"
            ]
          },
          "metadata": {},
          "output_type": "display_data"
        },
        {
          "data": {
            "text/html": [
              "<pre style=\"white-space:pre;overflow-x:auto;line-height:normal;font-family:Menlo,'DejaVu Sans Mono',consolas,'Courier New',monospace\"><span style=\"font-weight: bold\"> Total params: </span><span style=\"color: #00af00; text-decoration-color: #00af00\">649,668</span> (2.48 MB)\n",
              "</pre>\n"
            ],
            "text/plain": [
              "\u001b[1m Total params: \u001b[0m\u001b[38;5;34m649,668\u001b[0m (2.48 MB)\n"
            ]
          },
          "metadata": {},
          "output_type": "display_data"
        },
        {
          "data": {
            "text/html": [
              "<pre style=\"white-space:pre;overflow-x:auto;line-height:normal;font-family:Menlo,'DejaVu Sans Mono',consolas,'Courier New',monospace\"><span style=\"font-weight: bold\"> Trainable params: </span><span style=\"color: #00af00; text-decoration-color: #00af00\">649,668</span> (2.48 MB)\n",
              "</pre>\n"
            ],
            "text/plain": [
              "\u001b[1m Trainable params: \u001b[0m\u001b[38;5;34m649,668\u001b[0m (2.48 MB)\n"
            ]
          },
          "metadata": {},
          "output_type": "display_data"
        },
        {
          "data": {
            "text/html": [
              "<pre style=\"white-space:pre;overflow-x:auto;line-height:normal;font-family:Menlo,'DejaVu Sans Mono',consolas,'Courier New',monospace\"><span style=\"font-weight: bold\"> Non-trainable params: </span><span style=\"color: #00af00; text-decoration-color: #00af00\">0</span> (0.00 B)\n",
              "</pre>\n"
            ],
            "text/plain": [
              "\u001b[1m Non-trainable params: \u001b[0m\u001b[38;5;34m0\u001b[0m (0.00 B)\n"
            ]
          },
          "metadata": {},
          "output_type": "display_data"
        }
      ],
      "source": [
        "from tensorflow.keras.layers import Input, Embedding, LSTM, Dense, Dropout, Concatenate\n",
        "from tensorflow.keras.models import Model\n",
        "\n",
        "# Define inputs for text and additional features\n",
        "text_input = Input(shape=(max_sequence_length,), name=\"text_input\")\n",
        "additional_input = Input(shape=(X_additional.shape[1],), name=\"additional_input\")\n",
        "\n",
        "# Embedding layer with LSTM\n",
        "embedding_layer = Embedding(input_dim=max_vocab_size, output_dim=32, input_length=max_sequence_length)(text_input)\n",
        "lstm_layer = LSTM(32)(embedding_layer)  # Use a single LSTM layer\n",
        "\n",
        "# Concatenate LSTM output with additional features\n",
        "concatenated = Concatenate()([lstm_layer, additional_input])\n",
        "\n",
        "# Dense layer\n",
        "dense_layer = Dense(32, activation='relu')(concatenated)\n",
        "dropout_layer = Dropout(0.5)(dense_layer)\n",
        "output_layer = Dense(4, activation='softmax')(dropout_layer)\n",
        "\n",
        "# Compile model\n",
        "model = Model(inputs=[text_input, additional_input], outputs=output_layer)\n",
        "model.compile(optimizer='adam', loss='sparse_categorical_crossentropy', metrics=['accuracy'])\n",
        "\n",
        "# Model summary\n",
        "model.summary()\n"
      ]
    },
    {
      "cell_type": "code",
      "execution_count": null,
      "metadata": {
        "colab": {
          "base_uri": "https://localhost:8080/"
        },
        "id": "rn-rqZRuvf4y",
        "outputId": "ab956e31-ff07-4b2b-fa96-207969a57f00"
      },
      "outputs": [
        {
          "name": "stdout",
          "output_type": "stream",
          "text": [
            "Epoch 1/50\n",
            "\u001b[1m16513/16514\u001b[0m \u001b[32m━━━━━━━━━━━━━━━━━━━\u001b[0m\u001b[37m━\u001b[0m \u001b[1m0s\u001b[0m 45ms/step - accuracy: 0.6780 - loss: 0.7449\n",
            "Epoch 1: val_accuracy improved from -inf to 0.71885, saving model to ./checkpoints/modelkim-01-0.72.weights.h5\n",
            "\u001b[1m16514/16514\u001b[0m \u001b[32m━━━━━━━━━━━━━━━━━━━━\u001b[0m\u001b[37m\u001b[0m \u001b[1m783s\u001b[0m 47ms/step - accuracy: 0.6780 - loss: 0.7449 - val_accuracy: 0.7189 - val_loss: 0.6440\n",
            "Epoch 2/50\n",
            "\u001b[1m16513/16514\u001b[0m \u001b[32m━━━━━━━━━━━━━━━━━━━\u001b[0m\u001b[37m━\u001b[0m \u001b[1m0s\u001b[0m 43ms/step - accuracy: 0.7280 - loss: 0.6337\n",
            "Epoch 2: val_accuracy improved from 0.71885 to 0.72600, saving model to ./checkpoints/modelkim-02-0.73.weights.h5\n",
            "\u001b[1m16514/16514\u001b[0m \u001b[32m━━━━━━━━━━━━━━━━━━━━\u001b[0m\u001b[37m\u001b[0m \u001b[1m779s\u001b[0m 46ms/step - accuracy: 0.7280 - loss: 0.6337 - val_accuracy: 0.7260 - val_loss: 0.6300\n",
            "Epoch 3/50\n",
            "\u001b[1m16514/16514\u001b[0m \u001b[32m━━━━━━━━━━━━━━━━━━━━\u001b[0m\u001b[37m\u001b[0m \u001b[1m0s\u001b[0m 43ms/step - accuracy: 0.7413 - loss: 0.6033\n",
            "Epoch 3: val_accuracy improved from 0.72600 to 0.72732, saving model to ./checkpoints/modelkim-03-0.73.weights.h5\n",
            "\u001b[1m16514/16514\u001b[0m \u001b[32m━━━━━━━━━━━━━━━━━━━━\u001b[0m\u001b[37m\u001b[0m \u001b[1m800s\u001b[0m 46ms/step - accuracy: 0.7413 - loss: 0.6033 - val_accuracy: 0.7273 - val_loss: 0.6320\n",
            "Epoch 4/50\n",
            "\u001b[1m16514/16514\u001b[0m \u001b[32m━━━━━━━━━━━━━━━━━━━━\u001b[0m\u001b[37m\u001b[0m \u001b[1m0s\u001b[0m 43ms/step - accuracy: 0.7512 - loss: 0.5804\n",
            "Epoch 4: val_accuracy did not improve from 0.72732\n",
            "\u001b[1m16514/16514\u001b[0m \u001b[32m━━━━━━━━━━━━━━━━━━━━\u001b[0m\u001b[37m\u001b[0m \u001b[1m804s\u001b[0m 46ms/step - accuracy: 0.7512 - loss: 0.5804 - val_accuracy: 0.7256 - val_loss: 0.6395\n",
            "Epoch 5/50\n",
            "\u001b[1m16514/16514\u001b[0m \u001b[32m━━━━━━━━━━━━━━━━━━━━\u001b[0m\u001b[37m\u001b[0m \u001b[1m0s\u001b[0m 43ms/step - accuracy: 0.7614 - loss: 0.5595\n",
            "Epoch 5: val_accuracy did not improve from 0.72732\n",
            "\u001b[1m16514/16514\u001b[0m \u001b[32m━━━━━━━━━━━━━━━━━━━━\u001b[0m\u001b[37m\u001b[0m \u001b[1m801s\u001b[0m 46ms/step - accuracy: 0.7614 - loss: 0.5595 - val_accuracy: 0.7219 - val_loss: 0.6534\n",
            "Training history saved to rnn_lstm_history.json\n",
            "\u001b[1m5161/5161\u001b[0m \u001b[32m━━━━━━━━━━━━━━━━━━━━\u001b[0m\u001b[37m\u001b[0m \u001b[1m48s\u001b[0m 9ms/step - accuracy: 0.7144 - loss: 0.7002\n",
            "Test Accuracy: 0.71\n"
          ]
        }
      ],
      "source": [
        "# Split X_train and X_test into separate inputs for training and testing\n",
        "X_train_text = X_train[:, :max_sequence_length]           # Text input\n",
        "X_train_additional = X_train[:, max_sequence_length:]     # Additional features input\n",
        "\n",
        "# Set up checkpointing and early stopping\n",
        "checkpoint_dir = './checkpoints'\n",
        "os.makedirs(checkpoint_dir, exist_ok=True)\n",
        "checkpoint_path = os.path.join(checkpoint_dir, \"modelkim-{epoch:02d}-{val_accuracy:.2f}.weights.h5\")\n",
        "checkpoint_callback = ModelCheckpoint(filepath=checkpoint_path, save_weights_only=True, save_best_only=True, monitor='val_accuracy', mode='max', verbose=1)\n",
        "early_stopping_callback = EarlyStopping(monitor='val_loss', patience=3)\n",
        "\n",
        "# Train the model\n",
        "history_kim = model.fit(\n",
        "    [X_train_text, X_train_additional],  # Provided text and additional inputs separately\n",
        "    y_train,\n",
        "    epochs=50,\n",
        "    validation_split=0.2,\n",
        "    batch_size=32,\n",
        "    callbacks=[checkpoint_callback, early_stopping_callback]\n",
        ")\n",
        "\n",
        "# Save the training history\n",
        "history_path = 'rnn_lstm_history.json'\n",
        "with open(history_path, 'w') as f:\n",
        "    json.dump(history_kim.history, f)\n",
        "print(f\"Training history saved to {history_path}\")\n",
        "\n",
        "# Prepare test data for evaluation\n",
        "X_test_text = X_test[:, :max_sequence_length]\n",
        "X_test_additional = X_test[:, max_sequence_length:]\n",
        "\n",
        "# Evaluate the model on test data\n",
        "test_loss, test_accuracy = model_kim.evaluate([X_test_text, X_test_additional], y_test)\n",
        "print(f\"Test Accuracy: {test_accuracy:.2f}\")\n",
        "\n"
      ]
    },
    {
      "cell_type": "code",
      "execution_count": null,
      "metadata": {
        "id": "WdhlnagWvoAl"
      },
      "outputs": [],
      "source": [
        "# Load and plot training history\n",
        "with open(history_path, 'r') as f:\n",
        "    saved_history = json.load(f)"
      ]
    },
    {
      "cell_type": "code",
      "execution_count": null,
      "metadata": {
        "colab": {
          "base_uri": "https://localhost:8080/"
        },
        "id": "EnO6fSLvvqmJ",
        "outputId": "497d221b-a681-4a33-b865-64c1a0bb8497"
      },
      "outputs": [
        {
          "name": "stdout",
          "output_type": "stream",
          "text": [
            "Training and Validation Accuracy: [0.6998306512832642, 0.7268443703651428, 0.7389669418334961, 0.7483247518539429, 0.7589145302772522] [0.7188533544540405, 0.7259989976882935, 0.7273236513137817, 0.7255902290344238, 0.7218962907791138]\n"
          ]
        }
      ],
      "source": [
        "# Print saved history or plot (if you want to visualize training progress)\n",
        "print(\"Training and Validation Accuracy:\", saved_history.get('accuracy'), saved_history.get('val_accuracy'))"
      ]
    },
    {
      "cell_type": "code",
      "execution_count": null,
      "metadata": {
        "colab": {
          "base_uri": "https://localhost:8080/",
          "height": 502
        },
        "id": "6er41wjTvvmi",
        "outputId": "f11b8f22-c2da-42ab-a677-672646b38a5a"
      },
      "outputs": [
        {
          "data": {
            "image/png": "[encoded data removed]",
            "text/plain": [
              "<Figure size 1200x500 with 2 Axes>"
            ]
          },
          "metadata": {},
          "output_type": "display_data"
        }
      ],
      "source": [
        "\n",
        "\n",
        "# Load training history\n",
        "history_path = 'rnn_lstm_history.json'\n",
        "with open(history_path, 'r') as f:\n",
        "    saved_history = json.load(f)\n",
        "\n",
        "# Extract accuracy and loss data\n",
        "train_accuracy = saved_history.get('accuracy', [])\n",
        "val_accuracy = saved_history.get('val_accuracy', [])\n",
        "train_loss = saved_history.get('loss', [])\n",
        "val_loss = saved_history.get('val_loss', [])\n",
        "\n",
        "# Plot training & validation accuracy values\n",
        "plt.figure(figsize=(12, 5))\n",
        "\n",
        "# Accuracy\n",
        "plt.subplot(1, 2, 1)\n",
        "plt.plot(train_accuracy, label='Training Accuracy')\n",
        "plt.plot(val_accuracy, label='Validation Accuracy')\n",
        "plt.title('Training and Validation Accuracy')\n",
        "plt.xlabel('Epochs')\n",
        "plt.ylabel('Accuracy')\n",
        "plt.legend()\n",
        "\n",
        "# Loss\n",
        "plt.subplot(1, 2, 2)\n",
        "plt.plot(train_loss, label='Training Loss')\n",
        "plt.plot(val_loss, label='Validation Loss')\n",
        "plt.title('Training and Validation Loss')\n",
        "plt.xlabel('Epochs')\n",
        "plt.ylabel('Loss')\n",
        "plt.legend()\n",
        "\n",
        "# Show the plots\n",
        "plt.tight_layout()\n",
        "plt.show()"
      ]
    }
  ],
  "metadata": {
    "accelerator": "GPU",
    "colab": {
      "gpuType": "T4",
      "provenance": []
    },
    "kernelspec": {
      "display_name": "Python 3",
      "name": "python3"
    },
    "language_info": {
      "name": "python"
    }
  },
  "nbformat": 4,
  "nbformat_minor": 0
}
