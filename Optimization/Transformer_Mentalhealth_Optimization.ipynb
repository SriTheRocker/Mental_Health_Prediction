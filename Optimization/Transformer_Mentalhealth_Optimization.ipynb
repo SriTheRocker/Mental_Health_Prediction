{
  "cells": [
    {
      "cell_type": "markdown",
      "metadata": {
        "id": "lhlH7GRZWeX4"
      },
      "source": [
        "\n",
        "# Model Optimizations"
      ]
    },
    {
      "cell_type": "markdown",
      "metadata": {
        "id": "xmHsiqIo0fB9"
      },
      "source": [
        "### Importing statements"
      ]
    },
    {
      "cell_type": "code",
      "execution_count": null,
      "metadata": {
        "id": "MFpD76vyaMv2"
      },
      "outputs": [],
      "source": [
        "import pandas as pd\n",
        "import numpy as np\n",
        "import warnings\n",
        "warnings.filterwarnings('ignore')\n",
        "from sklearn.model_selection import train_test_split\n",
        "from sklearn.preprocessing import LabelEncoder, StandardScaler\n",
        "from sklearn.feature_extraction.text import TfidfVectorizer\n",
        "from sklearn.linear_model import LogisticRegression\n",
        "from sklearn.tree import DecisionTreeClassifier\n",
        "from sklearn.svm import SVC\n",
        "import matplotlib.pyplot as plt\n",
        "from sklearn.model_selection import StratifiedKFold, learning_curve\n",
        "from sklearn.metrics import accuracy_score, classification_report, confusion_matrix, ConfusionMatrixDisplay\n",
        "from sklearn.ensemble import RandomForestClassifier\n",
        "from sklearn.pipeline import FeatureUnion\n",
        "from sklearn.compose import ColumnTransformer\n",
        "\n",
        "import joblib\n",
        "import os\n",
        "\n",
        "import tensorflow as tf\n",
        "from tensorflow.keras.models import Sequential\n",
        "from tensorflow.keras.layers import Embedding, Conv1D, GlobalMaxPooling1D, Dense, Dropout,Input, Concatenate\n",
        "from tensorflow.keras.callbacks import ModelCheckpoint, EarlyStopping\n",
        "from tensorflow.keras.preprocessing.text import Tokenizer\n",
        "from tensorflow.keras.preprocessing.sequence import pad_sequences\n",
        "from sklearn.preprocessing import LabelEncoder\n",
        "from sklearn.model_selection import train_test_split\n",
        "import json\n",
        "from sklearn.model_selection import RandomizedSearchCV\n",
        "import scipy\n",
        "import json\n",
        "import matplotlib.pyplot as plt\n",
        "from tensorflow.keras.models import Model\n",
        "from tensorflow.keras.layers import Embedding, Conv1D, GlobalMaxPooling1D, Dense, Dropout, Input, Concatenate, LSTM\n"
      ]
    },
    {
      "cell_type": "markdown",
      "metadata": {
        "id": "zGKWBbbd_LJE"
      },
      "source": [
        "## Data Loading\n",
        "\n",
        "Loaded the save data that was saved after calculating sentiment score with sentiment for each row based on preprocessed text from distilbert transformer"
      ]
    },
    {
      "cell_type": "code",
      "execution_count": null,
      "metadata": {
        "colab": {
          "base_uri": "https://localhost:8080/"
        },
        "id": "qbuh_pCFse9p",
        "outputId": "abcd5137-a301-472a-c5dc-af9d9b4eef62"
      },
      "outputs": [
        {
          "name": "stdout",
          "output_type": "stream",
          "text": [
            "Mounted at /content/drive\n"
          ]
        }
      ],
      "source": [
        "from google.colab import drive\n",
        "drive.mount('/content/drive')"
      ]
    },
    {
      "cell_type": "code",
      "execution_count": null,
      "metadata": {
        "colab": {
          "base_uri": "https://localhost:8080/",
          "height": 690
        },
        "id": "biZMUvC7aQv-",
        "outputId": "6d3ab9a1-0745-4550-f680-91aec91b342f"
      },
      "outputs": [
        {
          "data": {
            "application/vnd.google.colaboratory.intrinsic+json": {
              "type": "dataframe",
              "variable_name": "data"
            },
            "text/html": [
              "\n",
              "  <div id=\"df-3c42a5ef-bc9b-4dcd-bb20-050bde087e95\" class=\"colab-df-container\">\n",
              "    <div>\n",
              "<style scoped>\n",
              "    .dataframe tbody tr th:only-of-type {\n",
              "        vertical-align: middle;\n",
              "    }\n",
              "\n",
              "    .dataframe tbody tr th {\n",
              "        vertical-align: top;\n",
              "    }\n",
              "\n",
              "    .dataframe thead th {\n",
              "        text-align: right;\n",
              "    }\n",
              "</style>\n",
              "<table border=\"1\" class=\"dataframe\">\n",
              "  <thead>\n",
              "    <tr style=\"text-align: right;\">\n",
              "      <th></th>\n",
              "      <th>index</th>\n",
              "      <th>Timestamp</th>\n",
              "      <th>Subreddit</th>\n",
              "      <th>Type</th>\n",
              "      <th>Post_id</th>\n",
              "      <th>Title</th>\n",
              "      <th>Author</th>\n",
              "      <th>Text</th>\n",
              "      <th>Score</th>\n",
              "      <th>Total_comments</th>\n",
              "      <th>...</th>\n",
              "      <th>hour</th>\n",
              "      <th>day_of_week</th>\n",
              "      <th>Sentiment</th>\n",
              "      <th>Title_word_count</th>\n",
              "      <th>Text_word_count</th>\n",
              "      <th>Category</th>\n",
              "      <th>Processed_Title</th>\n",
              "      <th>Processed_Text</th>\n",
              "      <th>Sentiment2</th>\n",
              "      <th>Sentiment_Score</th>\n",
              "    </tr>\n",
              "  </thead>\n",
              "  <tbody>\n",
              "    <tr>\n",
              "      <th>0</th>\n",
              "      <td>42306</td>\n",
              "      <td>2022-08-04 06:20:31</td>\n",
              "      <td>mentalhealth</td>\n",
              "      <td>Comment</td>\n",
              "      <td>wfa03v</td>\n",
              "      <td>just found out someone whose mentally tortured...</td>\n",
              "      <td>Takeitoff3000</td>\n",
              "      <td>Honestly all I can say is Congratulations, tha...</td>\n",
              "      <td>1.0</td>\n",
              "      <td>0.0</td>\n",
              "      <td>...</td>\n",
              "      <td>6</td>\n",
              "      <td>Thursday</td>\n",
              "      <td>positive</td>\n",
              "      <td>13</td>\n",
              "      <td>11</td>\n",
              "      <td>MH_Improvement</td>\n",
              "      <td>found someone whose mentally tortured year killed</td>\n",
              "      <td>honestly say congratulation thats fucking awesome</td>\n",
              "      <td>POSITIVE</td>\n",
              "      <td>0.999609</td>\n",
              "    </tr>\n",
              "    <tr>\n",
              "      <th>1</th>\n",
              "      <td>42307</td>\n",
              "      <td>2022-08-04 08:25:19</td>\n",
              "      <td>mentalhealth</td>\n",
              "      <td>Comment</td>\n",
              "      <td>wfa03v</td>\n",
              "      <td>just found out someone whose mentally tortured...</td>\n",
              "      <td>Yandereii</td>\n",
              "      <td>Bless you. I love when Karma finally shows. If...</td>\n",
              "      <td>1.0</td>\n",
              "      <td>0.0</td>\n",
              "      <td>...</td>\n",
              "      <td>8</td>\n",
              "      <td>Thursday</td>\n",
              "      <td>positive</td>\n",
              "      <td>13</td>\n",
              "      <td>13</td>\n",
              "      <td>MH_Improvement</td>\n",
              "      <td>found someone whose mentally tortured year killed</td>\n",
              "      <td>bless love karma finally show consistent</td>\n",
              "      <td>POSITIVE</td>\n",
              "      <td>0.999763</td>\n",
              "    </tr>\n",
              "    <tr>\n",
              "      <th>2</th>\n",
              "      <td>42308</td>\n",
              "      <td>2022-08-04 11:26:10</td>\n",
              "      <td>mentalhealth</td>\n",
              "      <td>Comment</td>\n",
              "      <td>wfa03v</td>\n",
              "      <td>just found out someone whose mentally tortured...</td>\n",
              "      <td>Unknown</td>\n",
              "      <td>FUCK YEAHHH</td>\n",
              "      <td>1.0</td>\n",
              "      <td>0.0</td>\n",
              "      <td>...</td>\n",
              "      <td>11</td>\n",
              "      <td>Thursday</td>\n",
              "      <td>negative</td>\n",
              "      <td>13</td>\n",
              "      <td>2</td>\n",
              "      <td>MH_Improvement</td>\n",
              "      <td>found someone whose mentally tortured year killed</td>\n",
              "      <td>fuck yeahhh</td>\n",
              "      <td>NEGATIVE</td>\n",
              "      <td>0.908888</td>\n",
              "    </tr>\n",
              "    <tr>\n",
              "      <th>3</th>\n",
              "      <td>42309</td>\n",
              "      <td>2022-08-03 18:15:22</td>\n",
              "      <td>mentalhealth</td>\n",
              "      <td>Comment</td>\n",
              "      <td>wfa03v</td>\n",
              "      <td>just found out someone whose mentally tortured...</td>\n",
              "      <td>thesnapening</td>\n",
              "      <td>Yep the police tweeted about having respect fo...</td>\n",
              "      <td>56.0</td>\n",
              "      <td>0.0</td>\n",
              "      <td>...</td>\n",
              "      <td>18</td>\n",
              "      <td>Wednesday</td>\n",
              "      <td>negative</td>\n",
              "      <td>13</td>\n",
              "      <td>25</td>\n",
              "      <td>MH_Improvement</td>\n",
              "      <td>found someone whose mentally tortured year killed</td>\n",
              "      <td>yep police tweeted respect family sad time tem...</td>\n",
              "      <td>NEGATIVE</td>\n",
              "      <td>0.994511</td>\n",
              "    </tr>\n",
              "    <tr>\n",
              "      <th>4</th>\n",
              "      <td>42310</td>\n",
              "      <td>2022-08-04 02:20:04</td>\n",
              "      <td>mentalhealth</td>\n",
              "      <td>Comment</td>\n",
              "      <td>wfa03v</td>\n",
              "      <td>just found out someone whose mentally tortured...</td>\n",
              "      <td>wonderlandisgone</td>\n",
              "      <td>Or when everyone just lies and says how amazin...</td>\n",
              "      <td>3.0</td>\n",
              "      <td>0.0</td>\n",
              "      <td>...</td>\n",
              "      <td>2</td>\n",
              "      <td>Thursday</td>\n",
              "      <td>negative</td>\n",
              "      <td>13</td>\n",
              "      <td>44</td>\n",
              "      <td>MH_Improvement</td>\n",
              "      <td>found someone whose mentally tortured year killed</td>\n",
              "      <td>everyone lie say amazing like someone died mea...</td>\n",
              "      <td>NEGATIVE</td>\n",
              "      <td>0.992835</td>\n",
              "    </tr>\n",
              "  </tbody>\n",
              "</table>\n",
              "<p>5 rows × 21 columns</p>\n",
              "</div>\n",
              "    <div class=\"colab-df-buttons\">\n",
              "\n",
              "  <div class=\"colab-df-container\">\n",
              "    <button class=\"colab-df-convert\" onclick=\"convertToInteractive('df-3c42a5ef-bc9b-4dcd-bb20-050bde087e95')\"\n",
              "            title=\"Convert this dataframe to an interactive table.\"\n",
              "            style=\"display:none;\">\n",
              "\n",
              "  <svg xmlns=\"http://www.w3.org/2000/svg\" height=\"24px\" viewBox=\"0 -960 960 960\">\n",
              "    <path d=\"M120-120v-720h720v720H120Zm60-500h600v-160H180v160Zm220 220h160v-160H400v160Zm0 220h160v-160H400v160ZM180-400h160v-160H180v160Zm440 0h160v-160H620v160ZM180-180h160v-160H180v160Zm440 0h160v-160H620v160Z\"/>\n",
              "  </svg>\n",
              "    </button>\n",
              "\n",
              "  <style>\n",
              "    .colab-df-container {\n",
              "      display:flex;\n",
              "      gap: 12px;\n",
              "    }\n",
              "\n",
              "    .colab-df-convert {\n",
              "      background-color: #E8F0FE;\n",
              "      border: none;\n",
              "      border-radius: 50%;\n",
              "      cursor: pointer;\n",
              "      display: none;\n",
              "      fill: #1967D2;\n",
              "      height: 32px;\n",
              "      padding: 0 0 0 0;\n",
              "      width: 32px;\n",
              "    }\n",
              "\n",
              "    .colab-df-convert:hover {\n",
              "      background-color: #E2EBFA;\n",
              "      box-shadow: 0px 1px 2px rgba(60, 64, 67, 0.3), 0px 1px 3px 1px rgba(60, 64, 67, 0.15);\n",
              "      fill: #174EA6;\n",
              "    }\n",
              "\n",
              "    .colab-df-buttons div {\n",
              "      margin-bottom: 4px;\n",
              "    }\n",
              "\n",
              "    [theme=dark] .colab-df-convert {\n",
              "      background-color: #3B4455;\n",
              "      fill: #D2E3FC;\n",
              "    }\n",
              "\n",
              "    [theme=dark] .colab-df-convert:hover {\n",
              "      background-color: #434B5C;\n",
              "      box-shadow: 0px 1px 3px 1px rgba(0, 0, 0, 0.15);\n",
              "      filter: drop-shadow(0px 1px 2px rgba(0, 0, 0, 0.3));\n",
              "      fill: #FFFFFF;\n",
              "    }\n",
              "  </style>\n",
              "\n",
              "    <script>\n",
              "      const buttonEl =\n",
              "        document.querySelector('#df-3c42a5ef-bc9b-4dcd-bb20-050bde087e95 button.colab-df-convert');\n",
              "      buttonEl.style.display =\n",
              "        google.colab.kernel.accessAllowed ? 'block' : 'none';\n",
              "\n",
              "      async function convertToInteractive(key) {\n",
              "        const element = document.querySelector('#df-3c42a5ef-bc9b-4dcd-bb20-050bde087e95');\n",
              "        const dataTable =\n",
              "          await google.colab.kernel.invokeFunction('convertToInteractive',\n",
              "                                                    [key], {});\n",
              "        if (!dataTable) return;\n",
              "\n",
              "        const docLinkHtml = 'Like what you see? Visit the ' +\n",
              "          '<a target=\"_blank\" href=https://colab.research.google.com/notebooks/data_table.ipynb>data table notebook</a>'\n",
              "          + ' to learn more about interactive tables.';\n",
              "        element.innerHTML = '';\n",
              "        dataTable['output_type'] = 'display_data';\n",
              "        await google.colab.output.renderOutput(dataTable, element);\n",
              "        const docLink = document.createElement('div');\n",
              "        docLink.innerHTML = docLinkHtml;\n",
              "        element.appendChild(docLink);\n",
              "      }\n",
              "    </script>\n",
              "  </div>\n",
              "\n",
              "\n",
              "<div id=\"df-5cf43aea-35f4-492c-b154-89b5053b3e5a\">\n",
              "  <button class=\"colab-df-quickchart\" onclick=\"quickchart('df-5cf43aea-35f4-492c-b154-89b5053b3e5a')\"\n",
              "            title=\"Suggest charts\"\n",
              "            style=\"display:none;\">\n",
              "\n",
              "<svg xmlns=\"http://www.w3.org/2000/svg\" height=\"24px\"viewBox=\"0 0 24 24\"\n",
              "     width=\"24px\">\n",
              "    <g>\n",
              "        <path d=\"M19 3H5c-1.1 0-2 .9-2 2v14c0 1.1.9 2 2 2h14c1.1 0 2-.9 2-2V5c0-1.1-.9-2-2-2zM9 17H7v-7h2v7zm4 0h-2V7h2v10zm4 0h-2v-4h2v4z\"/>\n",
              "    </g>\n",
              "</svg>\n",
              "  </button>\n",
              "\n",
              "<style>\n",
              "  .colab-df-quickchart {\n",
              "      --bg-color: #E8F0FE;\n",
              "      --fill-color: #1967D2;\n",
              "      --hover-bg-color: #E2EBFA;\n",
              "      --hover-fill-color: #174EA6;\n",
              "      --disabled-fill-color: #AAA;\n",
              "      --disabled-bg-color: #DDD;\n",
              "  }\n",
              "\n",
              "  [theme=dark] .colab-df-quickchart {\n",
              "      --bg-color: #3B4455;\n",
              "      --fill-color: #D2E3FC;\n",
              "      --hover-bg-color: #434B5C;\n",
              "      --hover-fill-color: #FFFFFF;\n",
              "      --disabled-bg-color: #3B4455;\n",
              "      --disabled-fill-color: #666;\n",
              "  }\n",
              "\n",
              "  .colab-df-quickchart {\n",
              "    background-color: var(--bg-color);\n",
              "    border: none;\n",
              "    border-radius: 50%;\n",
              "    cursor: pointer;\n",
              "    display: none;\n",
              "    fill: var(--fill-color);\n",
              "    height: 32px;\n",
              "    padding: 0;\n",
              "    width: 32px;\n",
              "  }\n",
              "\n",
              "  .colab-df-quickchart:hover {\n",
              "    background-color: var(--hover-bg-color);\n",
              "    box-shadow: 0 1px 2px rgba(60, 64, 67, 0.3), 0 1px 3px 1px rgba(60, 64, 67, 0.15);\n",
              "    fill: var(--button-hover-fill-color);\n",
              "  }\n",
              "\n",
              "  .colab-df-quickchart-complete:disabled,\n",
              "  .colab-df-quickchart-complete:disabled:hover {\n",
              "    background-color: var(--disabled-bg-color);\n",
              "    fill: var(--disabled-fill-color);\n",
              "    box-shadow: none;\n",
              "  }\n",
              "\n",
              "  .colab-df-spinner {\n",
              "    border: 2px solid var(--fill-color);\n",
              "    border-color: transparent;\n",
              "    border-bottom-color: var(--fill-color);\n",
              "    animation:\n",
              "      spin 1s steps(1) infinite;\n",
              "  }\n",
              "\n",
              "  @keyframes spin {\n",
              "    0% {\n",
              "      border-color: transparent;\n",
              "      border-bottom-color: var(--fill-color);\n",
              "      border-left-color: var(--fill-color);\n",
              "    }\n",
              "    20% {\n",
              "      border-color: transparent;\n",
              "      border-left-color: var(--fill-color);\n",
              "      border-top-color: var(--fill-color);\n",
              "    }\n",
              "    30% {\n",
              "      border-color: transparent;\n",
              "      border-left-color: var(--fill-color);\n",
              "      border-top-color: var(--fill-color);\n",
              "      border-right-color: var(--fill-color);\n",
              "    }\n",
              "    40% {\n",
              "      border-color: transparent;\n",
              "      border-right-color: var(--fill-color);\n",
              "      border-top-color: var(--fill-color);\n",
              "    }\n",
              "    60% {\n",
              "      border-color: transparent;\n",
              "      border-right-color: var(--fill-color);\n",
              "    }\n",
              "    80% {\n",
              "      border-color: transparent;\n",
              "      border-right-color: var(--fill-color);\n",
              "      border-bottom-color: var(--fill-color);\n",
              "    }\n",
              "    90% {\n",
              "      border-color: transparent;\n",
              "      border-bottom-color: var(--fill-color);\n",
              "    }\n",
              "  }\n",
              "</style>\n",
              "\n",
              "  <script>\n",
              "    async function quickchart(key) {\n",
              "      const quickchartButtonEl =\n",
              "        document.querySelector('#' + key + ' button');\n",
              "      quickchartButtonEl.disabled = true;  // To prevent multiple clicks.\n",
              "      quickchartButtonEl.classList.add('colab-df-spinner');\n",
              "      try {\n",
              "        const charts = await google.colab.kernel.invokeFunction(\n",
              "            'suggestCharts', [key], {});\n",
              "      } catch (error) {\n",
              "        console.error('Error during call to suggestCharts:', error);\n",
              "      }\n",
              "      quickchartButtonEl.classList.remove('colab-df-spinner');\n",
              "      quickchartButtonEl.classList.add('colab-df-quickchart-complete');\n",
              "    }\n",
              "    (() => {\n",
              "      let quickchartButtonEl =\n",
              "        document.querySelector('#df-5cf43aea-35f4-492c-b154-89b5053b3e5a button');\n",
              "      quickchartButtonEl.style.display =\n",
              "        google.colab.kernel.accessAllowed ? 'block' : 'none';\n",
              "    })();\n",
              "  </script>\n",
              "</div>\n",
              "\n",
              "    </div>\n",
              "  </div>\n"
            ],
            "text/plain": [
              "   index            Timestamp     Subreddit     Type Post_id  \\\n",
              "0  42306  2022-08-04 06:20:31  mentalhealth  Comment  wfa03v   \n",
              "1  42307  2022-08-04 08:25:19  mentalhealth  Comment  wfa03v   \n",
              "2  42308  2022-08-04 11:26:10  mentalhealth  Comment  wfa03v   \n",
              "3  42309  2022-08-03 18:15:22  mentalhealth  Comment  wfa03v   \n",
              "4  42310  2022-08-04 02:20:04  mentalhealth  Comment  wfa03v   \n",
              "\n",
              "                                               Title            Author  \\\n",
              "0  just found out someone whose mentally tortured...     Takeitoff3000   \n",
              "1  just found out someone whose mentally tortured...         Yandereii   \n",
              "2  just found out someone whose mentally tortured...           Unknown   \n",
              "3  just found out someone whose mentally tortured...      thesnapening   \n",
              "4  just found out someone whose mentally tortured...  wonderlandisgone   \n",
              "\n",
              "                                                Text  Score  Total_comments  \\\n",
              "0  Honestly all I can say is Congratulations, tha...    1.0             0.0   \n",
              "1  Bless you. I love when Karma finally shows. If...    1.0             0.0   \n",
              "2                                        FUCK YEAHHH    1.0             0.0   \n",
              "3  Yep the police tweeted about having respect fo...   56.0             0.0   \n",
              "4  Or when everyone just lies and says how amazin...    3.0             0.0   \n",
              "\n",
              "   ...  hour  day_of_week Sentiment Title_word_count  Text_word_count  \\\n",
              "0  ...     6     Thursday  positive               13               11   \n",
              "1  ...     8     Thursday  positive               13               13   \n",
              "2  ...    11     Thursday  negative               13                2   \n",
              "3  ...    18    Wednesday  negative               13               25   \n",
              "4  ...     2     Thursday  negative               13               44   \n",
              "\n",
              "         Category                                    Processed_Title  \\\n",
              "0  MH_Improvement  found someone whose mentally tortured year killed   \n",
              "1  MH_Improvement  found someone whose mentally tortured year killed   \n",
              "2  MH_Improvement  found someone whose mentally tortured year killed   \n",
              "3  MH_Improvement  found someone whose mentally tortured year killed   \n",
              "4  MH_Improvement  found someone whose mentally tortured year killed   \n",
              "\n",
              "                                      Processed_Text Sentiment2  \\\n",
              "0  honestly say congratulation thats fucking awesome   POSITIVE   \n",
              "1           bless love karma finally show consistent   POSITIVE   \n",
              "2                                        fuck yeahhh   NEGATIVE   \n",
              "3  yep police tweeted respect family sad time tem...   NEGATIVE   \n",
              "4  everyone lie say amazing like someone died mea...   NEGATIVE   \n",
              "\n",
              "  Sentiment_Score  \n",
              "0        0.999609  \n",
              "1        0.999763  \n",
              "2        0.908888  \n",
              "3        0.994511  \n",
              "4        0.992835  \n",
              "\n",
              "[5 rows x 21 columns]"
            ]
          },
          "execution_count": 7,
          "metadata": {},
          "output_type": "execute_result"
        }
      ],
      "source": [
        "\n",
        "# Load the CSV file into a DataFrame\n",
        "data = pd.read_csv('/content/drive/MyDrive/mental-health-data/health_data_merged.csv')\n",
        "\n",
        "# Display the first few rows of the DataFrame\n",
        "data.head()"
      ]
    },
    {
      "cell_type": "code",
      "execution_count": null,
      "metadata": {
        "colab": {
          "base_uri": "https://localhost:8080/"
        },
        "id": "xTwOFg_EcWkD",
        "outputId": "e3722816-c8cf-4855-9292-1314b5a5f374"
      },
      "outputs": [
        {
          "name": "stdout",
          "output_type": "stream",
          "text": [
            "<class 'pandas.core.frame.DataFrame'>\n",
            "RangeIndex: 82568 entries, 0 to 82567\n",
            "Data columns (total 21 columns):\n",
            " #   Column            Non-Null Count  Dtype  \n",
            "---  ------            --------------  -----  \n",
            " 0   index             82568 non-null  int64  \n",
            " 1   Timestamp         82568 non-null  object \n",
            " 2   Subreddit         82568 non-null  object \n",
            " 3   Type              82568 non-null  object \n",
            " 4   Post_id           82568 non-null  object \n",
            " 5   Title             82568 non-null  object \n",
            " 6   Author            82568 non-null  object \n",
            " 7   Text              82568 non-null  object \n",
            " 8   Score             82568 non-null  float64\n",
            " 9   Total_comments    82568 non-null  float64\n",
            " 10  month             82568 non-null  int64  \n",
            " 11  hour              82568 non-null  int64  \n",
            " 12  day_of_week       82568 non-null  object \n",
            " 13  Sentiment         82568 non-null  object \n",
            " 14  Title_word_count  82568 non-null  int64  \n",
            " 15  Text_word_count   82568 non-null  int64  \n",
            " 16  Category          82568 non-null  object \n",
            " 17  Processed_Title   82568 non-null  object \n",
            " 18  Processed_Text    82568 non-null  object \n",
            " 19  Sentiment2        82568 non-null  object \n",
            " 20  Sentiment_Score   82568 non-null  float64\n",
            "dtypes: float64(3), int64(5), object(13)\n",
            "memory usage: 13.2+ MB\n"
          ]
        }
      ],
      "source": [
        "\n",
        "data.info()"
      ]
    },
    {
      "cell_type": "code",
      "execution_count": null,
      "metadata": {
        "colab": {
          "base_uri": "https://localhost:8080/",
          "height": 743
        },
        "id": "dtRoqKaBk5DT",
        "outputId": "d4cca6d3-7620-49f3-8b53-8e271aa339d3"
      },
      "outputs": [
        {
          "data": {
            "text/html": [
              "<div>\n",
              "<style scoped>\n",
              "    .dataframe tbody tr th:only-of-type {\n",
              "        vertical-align: middle;\n",
              "    }\n",
              "\n",
              "    .dataframe tbody tr th {\n",
              "        vertical-align: top;\n",
              "    }\n",
              "\n",
              "    .dataframe thead th {\n",
              "        text-align: right;\n",
              "    }\n",
              "</style>\n",
              "<table border=\"1\" class=\"dataframe\">\n",
              "  <thead>\n",
              "    <tr style=\"text-align: right;\">\n",
              "      <th></th>\n",
              "      <th>0</th>\n",
              "    </tr>\n",
              "  </thead>\n",
              "  <tbody>\n",
              "    <tr>\n",
              "      <th>index</th>\n",
              "      <td>0</td>\n",
              "    </tr>\n",
              "    <tr>\n",
              "      <th>Timestamp</th>\n",
              "      <td>0</td>\n",
              "    </tr>\n",
              "    <tr>\n",
              "      <th>Subreddit</th>\n",
              "      <td>0</td>\n",
              "    </tr>\n",
              "    <tr>\n",
              "      <th>Type</th>\n",
              "      <td>0</td>\n",
              "    </tr>\n",
              "    <tr>\n",
              "      <th>Post_id</th>\n",
              "      <td>0</td>\n",
              "    </tr>\n",
              "    <tr>\n",
              "      <th>Title</th>\n",
              "      <td>0</td>\n",
              "    </tr>\n",
              "    <tr>\n",
              "      <th>Author</th>\n",
              "      <td>0</td>\n",
              "    </tr>\n",
              "    <tr>\n",
              "      <th>Text</th>\n",
              "      <td>0</td>\n",
              "    </tr>\n",
              "    <tr>\n",
              "      <th>Score</th>\n",
              "      <td>0</td>\n",
              "    </tr>\n",
              "    <tr>\n",
              "      <th>Total_comments</th>\n",
              "      <td>0</td>\n",
              "    </tr>\n",
              "    <tr>\n",
              "      <th>month</th>\n",
              "      <td>0</td>\n",
              "    </tr>\n",
              "    <tr>\n",
              "      <th>hour</th>\n",
              "      <td>0</td>\n",
              "    </tr>\n",
              "    <tr>\n",
              "      <th>day_of_week</th>\n",
              "      <td>0</td>\n",
              "    </tr>\n",
              "    <tr>\n",
              "      <th>Sentiment</th>\n",
              "      <td>0</td>\n",
              "    </tr>\n",
              "    <tr>\n",
              "      <th>Title_word_count</th>\n",
              "      <td>0</td>\n",
              "    </tr>\n",
              "    <tr>\n",
              "      <th>Text_word_count</th>\n",
              "      <td>0</td>\n",
              "    </tr>\n",
              "    <tr>\n",
              "      <th>Category</th>\n",
              "      <td>0</td>\n",
              "    </tr>\n",
              "    <tr>\n",
              "      <th>Processed_Title</th>\n",
              "      <td>0</td>\n",
              "    </tr>\n",
              "    <tr>\n",
              "      <th>Processed_Text</th>\n",
              "      <td>0</td>\n",
              "    </tr>\n",
              "    <tr>\n",
              "      <th>Sentiment2</th>\n",
              "      <td>0</td>\n",
              "    </tr>\n",
              "    <tr>\n",
              "      <th>Sentiment_Score</th>\n",
              "      <td>0</td>\n",
              "    </tr>\n",
              "  </tbody>\n",
              "</table>\n",
              "</div><br><label><b>dtype:</b> int64</label>"
            ],
            "text/plain": [
              "index               0\n",
              "Timestamp           0\n",
              "Subreddit           0\n",
              "Type                0\n",
              "Post_id             0\n",
              "Title               0\n",
              "Author              0\n",
              "Text                0\n",
              "Score               0\n",
              "Total_comments      0\n",
              "month               0\n",
              "hour                0\n",
              "day_of_week         0\n",
              "Sentiment           0\n",
              "Title_word_count    0\n",
              "Text_word_count     0\n",
              "Category            0\n",
              "Processed_Title     0\n",
              "Processed_Text      0\n",
              "Sentiment2          0\n",
              "Sentiment_Score     0\n",
              "dtype: int64"
            ]
          },
          "execution_count": 9,
          "metadata": {},
          "output_type": "execute_result"
        }
      ],
      "source": [
        "data.isnull().sum()"
      ]
    },
    {
      "cell_type": "markdown",
      "metadata": {
        "id": "9E12UyTC0fCA"
      },
      "source": [
        "> There are no missing values"
      ]
    },
    {
      "cell_type": "markdown",
      "metadata": {
        "id": "6a1rjKWq0fCA"
      },
      "source": [
        "## Model Training"
      ]
    },
    {
      "cell_type": "markdown",
      "metadata": {
        "id": "HqrSeHqY0fCA"
      },
      "source": [
        "Here we ghave taken the relevent where I have replaced Sentiment calculated with distilbert TRANSFORMER instead of VADER SENTIMENT ANALYSER"
      ]
    },
    {
      "cell_type": "code",
      "execution_count": null,
      "metadata": {
        "id": "AO8by0HUpgrs"
      },
      "outputs": [],
      "source": [
        "relevant_columns = [\n",
        "    'Title_word_count', 'Text_word_count',\n",
        "    'Score', 'Total_comments','Sentiment2' ,'Processed_Title', 'Processed_Text','Sentiment_Score'\n",
        "]\n"
      ]
    },
    {
      "cell_type": "markdown",
      "metadata": {
        "id": "LYAj9EIT0fCA"
      },
      "source": [
        "Later divided the columns into features and target variable and applied text vectorization, label_encoding to categorical variables, scaling numerical columns"
      ]
    },
    {
      "cell_type": "code",
      "execution_count": null,
      "metadata": {
        "id": "4qz4_iNjj70c"
      },
      "outputs": [],
      "source": [
        "# Selecting relevant data for X\n",
        "X = data[relevant_columns]\n",
        "y = data['Category']\n",
        "\n",
        "# Text vectorization for 'Processed_Title' and 'Processed_Text'\n",
        "vectorizer_title = TfidfVectorizer(max_features=1000)\n",
        "vectorizer_text = TfidfVectorizer(max_features=5000)\n",
        "\n",
        "\n",
        "# Label encoding for categorical variables\n",
        "label_encoder = LabelEncoder()\n",
        "X['Sentiment2'] = label_encoder.fit_transform(X['Sentiment2'])\n",
        "\n",
        "# Standardizing numerical columns\n",
        "scaler = StandardScaler()"
      ]
    },
    {
      "cell_type": "code",
      "execution_count": null,
      "metadata": {
        "id": "VwoBgy-ej-br"
      },
      "outputs": [],
      "source": [
        "# Splitting data into train and test sets\n",
        "X_train, X_test, y_train, y_test = train_test_split(X, y, test_size=0.4, random_state=4)"
      ]
    },
    {
      "cell_type": "code",
      "execution_count": null,
      "metadata": {
        "id": "Og175J0rwAsF"
      },
      "outputs": [],
      "source": [
        "\n",
        "# Vectorizing text features for training data\n",
        "X_train_title_tfidf = vectorizer_title.fit_transform(X_train['Processed_Title'])\n",
        "X_train_text_tfidf = vectorizer_text.fit_transform(X_train['Processed_Text'])\n",
        "\n",
        "X_test_title_tfidf = vectorizer_title.transform(X_test['Processed_Title'])\n",
        "X_test_text_tfidf = vectorizer_text.transform(X_test['Processed_Text'])\n",
        "\n",
        "# Dropping the original text columns (since they are now vectorized)\n",
        "X_train = X_train.drop(columns=['Processed_Title', 'Processed_Text'])\n",
        "X_test = X_test.drop(columns=['Processed_Title', 'Processed_Text'])"
      ]
    },
    {
      "cell_type": "code",
      "execution_count": null,
      "metadata": {
        "id": "QzGAdu5-wDGQ"
      },
      "outputs": [],
      "source": [
        "\n",
        "\n",
        "# Scaling numerical columns\n",
        "X_train[['Title_word_count', 'Text_word_count', 'Score','Sentiment_Score', 'Total_comments']] = scaler.fit_transform(\n",
        "    X_train[['Title_word_count', 'Text_word_count', 'Score', 'Sentiment_Score','Total_comments']]\n",
        ")\n",
        "X_test[['Title_word_count', 'Text_word_count', 'Score', 'Sentiment_Score','Total_comments']] = scaler.transform(\n",
        "    X_test[['Title_word_count', 'Text_word_count', 'Score','Sentiment_Score', 'Total_comments']]\n",
        ")"
      ]
    },
    {
      "cell_type": "code",
      "execution_count": null,
      "metadata": {
        "id": "9v6rLaMewDNq"
      },
      "outputs": [],
      "source": [
        "\n",
        "# Concatenating vectorized text data with the other features\n",
        "import scipy\n",
        "X_train_combined = scipy.sparse.hstack([X_train, X_train_title_tfidf, X_train_text_tfidf])\n",
        "X_test_combined = scipy.sparse.hstack([X_test, X_test_title_tfidf, X_test_text_tfidf])"
      ]
    },
    {
      "cell_type": "code",
      "execution_count": null,
      "metadata": {
        "id": "J9CUDVbDwDTS"
      },
      "outputs": [],
      "source": [
        "import joblib\n",
        "import os\n",
        "\n",
        "# Directory to save the models\n",
        "model_dir = '/content/drive/MyDrive/mental-health-data/saved_models'\n",
        "os.makedirs(model_dir, exist_ok=True)"
      ]
    },
    {
      "cell_type": "markdown",
      "metadata": {
        "id": "JNSTRox50fCB"
      },
      "source": [
        "## Traditional ML MODELS\n",
        "\n",
        "### Logistic Regression"
      ]
    },
    {
      "cell_type": "code",
      "execution_count": null,
      "metadata": {
        "id": "e2re7bTVwNSy"
      },
      "outputs": [],
      "source": [
        "\n",
        "# Function to save and evaluate model\n",
        "def train_save_evaluate_model(model, model_name):\n",
        "    # Train the model\n",
        "    model.fit(X_train_combined, y_train)\n",
        "\n",
        "    # Save the trained model\n",
        "    model_path = os.path.join(model_dir, f'{model_name}.joblib')\n",
        "    joblib.dump(model, model_path)\n",
        "    print(f\"{model_name} saved to {model_path}\")\n",
        "\n",
        "    # Evaluate the model\n",
        "    y_pred = model.predict(X_test_combined)\n",
        "    accuracy = accuracy_score(y_test, y_pred)\n",
        "    print(f\"{model_name} Accuracy: {accuracy:.2f}\")\n",
        "    print(f\"Classification Report for {model_name}:\\n\", classification_report(y_test, y_pred))"
      ]
    },
    {
      "cell_type": "code",
      "execution_count": null,
      "metadata": {
        "colab": {
          "base_uri": "https://localhost:8080/"
        },
        "id": "QGDa91jMwhjh",
        "outputId": "d849e431-5e9b-4e20-b409-6fdff79768a6"
      },
      "outputs": [
        {
          "name": "stdout",
          "output_type": "stream",
          "text": [
            "logistic_regression saved to /content/drive/MyDrive/mental-health-data/saved_models/logistic_regression.joblib\n",
            "logistic_regression Accuracy: 0.99\n",
            "Classification Report for logistic_regression:\n",
            "                 precision    recall  f1-score   support\n",
            "\n",
            "  MH_Disorders       1.00      0.49      0.66        49\n",
            "   MH_Distress       0.99      0.96      0.97      7517\n",
            "MH_Improvement       0.99      1.00      0.99     25462\n",
            "\n",
            "      accuracy                           0.99     33028\n",
            "     macro avg       0.99      0.82      0.87     33028\n",
            "  weighted avg       0.99      0.99      0.99     33028\n",
            "\n"
          ]
        }
      ],
      "source": [
        "\n",
        "# Logistic Regression\n",
        "logistic_model = LogisticRegression(max_iter=1000)\n",
        "train_save_evaluate_model(logistic_model, 'logistic_regression')"
      ]
    },
    {
      "cell_type": "markdown",
      "metadata": {
        "id": "o8RUW8JR0fCB"
      },
      "source": [
        "### Random Forest Classifier\n"
      ]
    },
    {
      "cell_type": "code",
      "execution_count": null,
      "metadata": {
        "colab": {
          "base_uri": "https://localhost:8080/"
        },
        "id": "ufLhNvHWwpwO",
        "outputId": "35d65e09-ad70-47ba-9f94-86c765dab33f"
      },
      "outputs": [
        {
          "name": "stdout",
          "output_type": "stream",
          "text": [
            "random_forest saved to /content/drive/MyDrive/mental-health-data/saved_models/random_forest.joblib\n",
            "random_forest Accuracy: 0.99\n",
            "Classification Report for random_forest:\n",
            "                 precision    recall  f1-score   support\n",
            "\n",
            "  MH_Disorders       1.00      0.67      0.80        49\n",
            "   MH_Distress       0.99      0.99      0.99      7517\n",
            "MH_Improvement       1.00      1.00      1.00     25462\n",
            "\n",
            "      accuracy                           0.99     33028\n",
            "     macro avg       0.99      0.89      0.93     33028\n",
            "  weighted avg       0.99      0.99      0.99     33028\n",
            "\n"
          ]
        }
      ],
      "source": [
        "\n",
        "# Random Forest Classifier\n",
        "rf_model = RandomForestClassifier(n_estimators=100, random_state=42)\n",
        "train_save_evaluate_model(model=rf_model, model_name='random_forest')\n"
      ]
    },
    {
      "cell_type": "markdown",
      "metadata": {
        "id": "UZ6Vl5M4__FU"
      },
      "source": [
        "# Deep Learning Models\n",
        "\n",
        "### Variable and Data Preparation for CNN Models\n",
        "\n",
        "Assined parametes, tokenized the texts , label_encoding to categorical variables, scaling numerical columns"
      ]
    },
    {
      "cell_type": "code",
      "execution_count": null,
      "metadata": {
        "id": "x92-pMPk_QfG"
      },
      "outputs": [],
      "source": [
        "# Parameters\n",
        "max_vocab_size = 20000\n",
        "max_sequence_length = 100\n",
        "embedding_dim = 50"
      ]
    },
    {
      "cell_type": "code",
      "execution_count": null,
      "metadata": {
        "id": "WxnFk57g_NRo"
      },
      "outputs": [],
      "source": [
        "tokenizer = Tokenizer(num_words=max_vocab_size)\n",
        "tokenizer.fit_on_texts(data['Processed_Text'].values)\n",
        "X_text = tokenizer.texts_to_sequences(data['Processed_Text'].values)\n",
        "X_text = pad_sequences(X_text, maxlen=max_sequence_length)\n"
      ]
    },
    {
      "cell_type": "code",
      "execution_count": null,
      "metadata": {
        "id": "nleahJ2S_VVA"
      },
      "outputs": [],
      "source": [
        "# relevant columns and separate categorical from numerical columns\n",
        "relevant_columns = [\n",
        "    'Title_word_count', 'Text_word_count',\n",
        "    'Score', 'Total_comments','Sentiment2','Sentiment_Score'\n",
        "]\n",
        "numerical_columns = ['Title_word_count', 'Text_word_count', 'Score', 'Total_comments','Sentiment_Score']\n",
        "categorical_columns = ['Sentiment2']\n",
        "\n",
        "# Scaling the numerical features\n",
        "X_numerical = data[numerical_columns]\n",
        "scaler = StandardScaler()\n",
        "X_numerical = scaler.fit_transform(X_numerical)\n",
        "\n",
        "# Encoding the categorical features\n",
        "label_encoder = LabelEncoder()\n",
        "X_categorical = label_encoder.fit_transform(data['Sentiment2'])\n",
        "\n",
        "# Combining numerical and categorical features\n",
        "X_additional = np.concatenate([X_numerical, X_categorical.reshape(-1, 1)], axis=1)\n",
        "\n"
      ]
    },
    {
      "cell_type": "code",
      "execution_count": null,
      "metadata": {
        "id": "Vrv8cSQz_Y_I"
      },
      "outputs": [],
      "source": [
        "\n",
        "# Concatenate text and additional features along the second axis\n",
        "X_combined = np.concatenate([X_text, X_additional], axis=1)\n",
        "\n",
        "# Prepare labels\n",
        "label_encoder = LabelEncoder()\n",
        "y = label_encoder.fit_transform(data['Category'].values)\n",
        "\n",
        "# Train-test split\n",
        "X_train, X_test, y_train, y_test = train_test_split(X_combined, y, test_size=0.2, random_state=42)\n"
      ]
    },
    {
      "cell_type": "markdown",
      "metadata": {
        "id": "ARf5L1r3c5bE"
      },
      "source": [
        "## Hybrid CNN\n",
        "Hybrid CNN  combines a CNN-based text-processing pipeline (embedding, Conv1D, pooling) with an additional input layer for non-text features, which are then concatenated and passed into a fully connected layer.\n",
        "\n",
        "This is a multimodal neural network model using the Keras API in TensorFlow, combining text data with additional numeric or categorical features for a multi-class classification task.\n",
        "\n",
        "\n"
      ]
    },
    {
      "cell_type": "code",
      "execution_count": null,
      "metadata": {
        "colab": {
          "base_uri": "https://localhost:8080/",
          "height": 465
        },
        "id": "8kXUZDqReGHg",
        "outputId": "e19a2901-132e-4c8e-b0bd-3a57e7344d95"
      },
      "outputs": [
        {
          "data": {
            "text/html": [
              "<pre style=\"white-space:pre;overflow-x:auto;line-height:normal;font-family:Menlo,'DejaVu Sans Mono',consolas,'Courier New',monospace\"><span style=\"font-weight: bold\">Model: \"functional\"</span>\n",
              "</pre>\n"
            ],
            "text/plain": [
              "\u001b[1mModel: \"functional\"\u001b[0m\n"
            ]
          },
          "metadata": {},
          "output_type": "display_data"
        },
        {
          "data": {
            "text/html": [
              "<pre style=\"white-space:pre;overflow-x:auto;line-height:normal;font-family:Menlo,'DejaVu Sans Mono',consolas,'Courier New',monospace\">┏━━━━━━━━━━━━━━━━━━━━━━━━━━━┳━━━━━━━━━━━━━━━━━━━━━━━━┳━━━━━━━━━━━━━━━━┳━━━━━━━━━━━━━━━━━━━━━━━━┓\n",
              "┃<span style=\"font-weight: bold\"> Layer (type)              </span>┃<span style=\"font-weight: bold\"> Output Shape           </span>┃<span style=\"font-weight: bold\">        Param # </span>┃<span style=\"font-weight: bold\"> Connected to           </span>┃\n",
              "┡━━━━━━━━━━━━━━━━━━━━━━━━━━━╇━━━━━━━━━━━━━━━━━━━━━━━━╇━━━━━━━━━━━━━━━━╇━━━━━━━━━━━━━━━━━━━━━━━━┩\n",
              "│ input_layer (<span style=\"color: #0087ff; text-decoration-color: #0087ff\">InputLayer</span>)  │ (<span style=\"color: #00d7ff; text-decoration-color: #00d7ff\">None</span>, <span style=\"color: #00af00; text-decoration-color: #00af00\">100</span>)            │              <span style=\"color: #00af00; text-decoration-color: #00af00\">0</span> │ -                      │\n",
              "├───────────────────────────┼────────────────────────┼────────────────┼────────────────────────┤\n",
              "│ embedding (<span style=\"color: #0087ff; text-decoration-color: #0087ff\">Embedding</span>)     │ (<span style=\"color: #00d7ff; text-decoration-color: #00d7ff\">None</span>, <span style=\"color: #00af00; text-decoration-color: #00af00\">100</span>, <span style=\"color: #00af00; text-decoration-color: #00af00\">50</span>)        │      <span style=\"color: #00af00; text-decoration-color: #00af00\">1,000,000</span> │ input_layer[<span style=\"color: #00af00; text-decoration-color: #00af00\">0</span>][<span style=\"color: #00af00; text-decoration-color: #00af00\">0</span>]      │\n",
              "├───────────────────────────┼────────────────────────┼────────────────┼────────────────────────┤\n",
              "│ conv1d (<span style=\"color: #0087ff; text-decoration-color: #0087ff\">Conv1D</span>)           │ (<span style=\"color: #00d7ff; text-decoration-color: #00d7ff\">None</span>, <span style=\"color: #00af00; text-decoration-color: #00af00\">96</span>, <span style=\"color: #00af00; text-decoration-color: #00af00\">128</span>)        │         <span style=\"color: #00af00; text-decoration-color: #00af00\">32,128</span> │ embedding[<span style=\"color: #00af00; text-decoration-color: #00af00\">0</span>][<span style=\"color: #00af00; text-decoration-color: #00af00\">0</span>]        │\n",
              "├───────────────────────────┼────────────────────────┼────────────────┼────────────────────────┤\n",
              "│ global_max_pooling1d      │ (<span style=\"color: #00d7ff; text-decoration-color: #00d7ff\">None</span>, <span style=\"color: #00af00; text-decoration-color: #00af00\">128</span>)            │              <span style=\"color: #00af00; text-decoration-color: #00af00\">0</span> │ conv1d[<span style=\"color: #00af00; text-decoration-color: #00af00\">0</span>][<span style=\"color: #00af00; text-decoration-color: #00af00\">0</span>]           │\n",
              "│ (<span style=\"color: #0087ff; text-decoration-color: #0087ff\">GlobalMaxPooling1D</span>)      │                        │                │                        │\n",
              "├───────────────────────────┼────────────────────────┼────────────────┼────────────────────────┤\n",
              "│ input_layer_1             │ (<span style=\"color: #00d7ff; text-decoration-color: #00d7ff\">None</span>, <span style=\"color: #00af00; text-decoration-color: #00af00\">6</span>)              │              <span style=\"color: #00af00; text-decoration-color: #00af00\">0</span> │ -                      │\n",
              "│ (<span style=\"color: #0087ff; text-decoration-color: #0087ff\">InputLayer</span>)              │                        │                │                        │\n",
              "├───────────────────────────┼────────────────────────┼────────────────┼────────────────────────┤\n",
              "│ concatenate (<span style=\"color: #0087ff; text-decoration-color: #0087ff\">Concatenate</span>) │ (<span style=\"color: #00d7ff; text-decoration-color: #00d7ff\">None</span>, <span style=\"color: #00af00; text-decoration-color: #00af00\">134</span>)            │              <span style=\"color: #00af00; text-decoration-color: #00af00\">0</span> │ global_max_pooling1d[<span style=\"color: #00af00; text-decoration-color: #00af00\">…</span> │\n",
              "│                           │                        │                │ input_layer_1[<span style=\"color: #00af00; text-decoration-color: #00af00\">0</span>][<span style=\"color: #00af00; text-decoration-color: #00af00\">0</span>]    │\n",
              "├───────────────────────────┼────────────────────────┼────────────────┼────────────────────────┤\n",
              "│ dense (<span style=\"color: #0087ff; text-decoration-color: #0087ff\">Dense</span>)             │ (<span style=\"color: #00d7ff; text-decoration-color: #00d7ff\">None</span>, <span style=\"color: #00af00; text-decoration-color: #00af00\">32</span>)             │          <span style=\"color: #00af00; text-decoration-color: #00af00\">4,320</span> │ concatenate[<span style=\"color: #00af00; text-decoration-color: #00af00\">0</span>][<span style=\"color: #00af00; text-decoration-color: #00af00\">0</span>]      │\n",
              "├───────────────────────────┼────────────────────────┼────────────────┼────────────────────────┤\n",
              "│ dropout (<span style=\"color: #0087ff; text-decoration-color: #0087ff\">Dropout</span>)         │ (<span style=\"color: #00d7ff; text-decoration-color: #00d7ff\">None</span>, <span style=\"color: #00af00; text-decoration-color: #00af00\">32</span>)             │              <span style=\"color: #00af00; text-decoration-color: #00af00\">0</span> │ dense[<span style=\"color: #00af00; text-decoration-color: #00af00\">0</span>][<span style=\"color: #00af00; text-decoration-color: #00af00\">0</span>]            │\n",
              "├───────────────────────────┼────────────────────────┼────────────────┼────────────────────────┤\n",
              "│ dense_1 (<span style=\"color: #0087ff; text-decoration-color: #0087ff\">Dense</span>)           │ (<span style=\"color: #00d7ff; text-decoration-color: #00d7ff\">None</span>, <span style=\"color: #00af00; text-decoration-color: #00af00\">4</span>)              │            <span style=\"color: #00af00; text-decoration-color: #00af00\">132</span> │ dropout[<span style=\"color: #00af00; text-decoration-color: #00af00\">0</span>][<span style=\"color: #00af00; text-decoration-color: #00af00\">0</span>]          │\n",
              "└───────────────────────────┴────────────────────────┴────────────────┴────────────────────────┘\n",
              "</pre>\n"
            ],
            "text/plain": [
              "┏━━━━━━━━━━━━━━━━━━━━━━━━━━━┳━━━━━━━━━━━━━━━━━━━━━━━━┳━━━━━━━━━━━━━━━━┳━━━━━━━━━━━━━━━━━━━━━━━━┓\n",
              "┃\u001b[1m \u001b[0m\u001b[1mLayer (type)             \u001b[0m\u001b[1m \u001b[0m┃\u001b[1m \u001b[0m\u001b[1mOutput Shape          \u001b[0m\u001b[1m \u001b[0m┃\u001b[1m \u001b[0m\u001b[1m       Param #\u001b[0m\u001b[1m \u001b[0m┃\u001b[1m \u001b[0m\u001b[1mConnected to          \u001b[0m\u001b[1m \u001b[0m┃\n",
              "┡━━━━━━━━━━━━━━━━━━━━━━━━━━━╇━━━━━━━━━━━━━━━━━━━━━━━━╇━━━━━━━━━━━━━━━━╇━━━━━━━━━━━━━━━━━━━━━━━━┩\n",
              "│ input_layer (\u001b[38;5;33mInputLayer\u001b[0m)  │ (\u001b[38;5;45mNone\u001b[0m, \u001b[38;5;34m100\u001b[0m)            │              \u001b[38;5;34m0\u001b[0m │ -                      │\n",
              "├───────────────────────────┼────────────────────────┼────────────────┼────────────────────────┤\n",
              "│ embedding (\u001b[38;5;33mEmbedding\u001b[0m)     │ (\u001b[38;5;45mNone\u001b[0m, \u001b[38;5;34m100\u001b[0m, \u001b[38;5;34m50\u001b[0m)        │      \u001b[38;5;34m1,000,000\u001b[0m │ input_layer[\u001b[38;5;34m0\u001b[0m][\u001b[38;5;34m0\u001b[0m]      │\n",
              "├───────────────────────────┼────────────────────────┼────────────────┼────────────────────────┤\n",
              "│ conv1d (\u001b[38;5;33mConv1D\u001b[0m)           │ (\u001b[38;5;45mNone\u001b[0m, \u001b[38;5;34m96\u001b[0m, \u001b[38;5;34m128\u001b[0m)        │         \u001b[38;5;34m32,128\u001b[0m │ embedding[\u001b[38;5;34m0\u001b[0m][\u001b[38;5;34m0\u001b[0m]        │\n",
              "├───────────────────────────┼────────────────────────┼────────────────┼────────────────────────┤\n",
              "│ global_max_pooling1d      │ (\u001b[38;5;45mNone\u001b[0m, \u001b[38;5;34m128\u001b[0m)            │              \u001b[38;5;34m0\u001b[0m │ conv1d[\u001b[38;5;34m0\u001b[0m][\u001b[38;5;34m0\u001b[0m]           │\n",
              "│ (\u001b[38;5;33mGlobalMaxPooling1D\u001b[0m)      │                        │                │                        │\n",
              "├───────────────────────────┼────────────────────────┼────────────────┼────────────────────────┤\n",
              "│ input_layer_1             │ (\u001b[38;5;45mNone\u001b[0m, \u001b[38;5;34m6\u001b[0m)              │              \u001b[38;5;34m0\u001b[0m │ -                      │\n",
              "│ (\u001b[38;5;33mInputLayer\u001b[0m)              │                        │                │                        │\n",
              "├───────────────────────────┼────────────────────────┼────────────────┼────────────────────────┤\n",
              "│ concatenate (\u001b[38;5;33mConcatenate\u001b[0m) │ (\u001b[38;5;45mNone\u001b[0m, \u001b[38;5;34m134\u001b[0m)            │              \u001b[38;5;34m0\u001b[0m │ global_max_pooling1d[\u001b[38;5;34m…\u001b[0m │\n",
              "│                           │                        │                │ input_layer_1[\u001b[38;5;34m0\u001b[0m][\u001b[38;5;34m0\u001b[0m]    │\n",
              "├───────────────────────────┼────────────────────────┼────────────────┼────────────────────────┤\n",
              "│ dense (\u001b[38;5;33mDense\u001b[0m)             │ (\u001b[38;5;45mNone\u001b[0m, \u001b[38;5;34m32\u001b[0m)             │          \u001b[38;5;34m4,320\u001b[0m │ concatenate[\u001b[38;5;34m0\u001b[0m][\u001b[38;5;34m0\u001b[0m]      │\n",
              "├───────────────────────────┼────────────────────────┼────────────────┼────────────────────────┤\n",
              "│ dropout (\u001b[38;5;33mDropout\u001b[0m)         │ (\u001b[38;5;45mNone\u001b[0m, \u001b[38;5;34m32\u001b[0m)             │              \u001b[38;5;34m0\u001b[0m │ dense[\u001b[38;5;34m0\u001b[0m][\u001b[38;5;34m0\u001b[0m]            │\n",
              "├───────────────────────────┼────────────────────────┼────────────────┼────────────────────────┤\n",
              "│ dense_1 (\u001b[38;5;33mDense\u001b[0m)           │ (\u001b[38;5;45mNone\u001b[0m, \u001b[38;5;34m4\u001b[0m)              │            \u001b[38;5;34m132\u001b[0m │ dropout[\u001b[38;5;34m0\u001b[0m][\u001b[38;5;34m0\u001b[0m]          │\n",
              "└───────────────────────────┴────────────────────────┴────────────────┴────────────────────────┘\n"
            ]
          },
          "metadata": {},
          "output_type": "display_data"
        },
        {
          "data": {
            "text/html": [
              "<pre style=\"white-space:pre;overflow-x:auto;line-height:normal;font-family:Menlo,'DejaVu Sans Mono',consolas,'Courier New',monospace\"><span style=\"font-weight: bold\"> Total params: </span><span style=\"color: #00af00; text-decoration-color: #00af00\">1,036,580</span> (3.95 MB)\n",
              "</pre>\n"
            ],
            "text/plain": [
              "\u001b[1m Total params: \u001b[0m\u001b[38;5;34m1,036,580\u001b[0m (3.95 MB)\n"
            ]
          },
          "metadata": {},
          "output_type": "display_data"
        },
        {
          "data": {
            "text/html": [
              "<pre style=\"white-space:pre;overflow-x:auto;line-height:normal;font-family:Menlo,'DejaVu Sans Mono',consolas,'Courier New',monospace\"><span style=\"font-weight: bold\"> Trainable params: </span><span style=\"color: #00af00; text-decoration-color: #00af00\">1,036,580</span> (3.95 MB)\n",
              "</pre>\n"
            ],
            "text/plain": [
              "\u001b[1m Trainable params: \u001b[0m\u001b[38;5;34m1,036,580\u001b[0m (3.95 MB)\n"
            ]
          },
          "metadata": {},
          "output_type": "display_data"
        },
        {
          "data": {
            "text/html": [
              "<pre style=\"white-space:pre;overflow-x:auto;line-height:normal;font-family:Menlo,'DejaVu Sans Mono',consolas,'Courier New',monospace\"><span style=\"font-weight: bold\"> Non-trainable params: </span><span style=\"color: #00af00; text-decoration-color: #00af00\">0</span> (0.00 B)\n",
              "</pre>\n"
            ],
            "text/plain": [
              "\u001b[1m Non-trainable params: \u001b[0m\u001b[38;5;34m0\u001b[0m (0.00 B)\n"
            ]
          },
          "metadata": {},
          "output_type": "display_data"
        }
      ],
      "source": [
        "\n",
        "# Define the inputs for the model -- Accepts text data sequences, processed through an embedding and convolutional layer.\n",
        "text_input = Input(shape=(max_sequence_length,))\n",
        "additional_input = Input(shape=(X_additional.shape[1],)) # Accepts text data sequences, processed through an embedding and convolutional layer.\n",
        "\n",
        "# Text processing layers (embedding and convolution for text data)\n",
        "embedding_layer = Embedding(input_dim=max_vocab_size, output_dim=embedding_dim, input_length=max_sequence_length)(text_input) # Converts words into dense vectors of fixed size.\n",
        "conv_layer = Conv1D(128, 5, activation='relu')(embedding_layer) #  Applies a 1D convolution over the text embeddings, extracting features.\n",
        "\n",
        "pooling_layer = GlobalMaxPooling1D()(conv_layer) # Reduces the output from the convolution layer, capturing the most salient features.\n",
        "\n",
        "# Concatenate text and additional inputs\n",
        "concatenated = Concatenate()([pooling_layer, additional_input])\n",
        "\n",
        "# Fully connected layers\n",
        "dense_layer = Dense(32, activation='relu')(concatenated) # Adds a fully connected layer with 32 units for learning more complex patterns.\n",
        "dropout_layer = Dropout(0.7)(dense_layer) # Applies dropout to prevent overfitting.\n",
        "output_layer = Dense(4, activation='softmax')(dropout_layer)  #Produces a 4-class softmax output, suitable for a multi-class classification problem.\n",
        "\n",
        "\n",
        "# Compile the model -- Uses the Adam optimizer and sparse_categorical_crossentropy loss, with accuracy as the evaluation metric.\n",
        "\n",
        "model = Model(inputs=[text_input, additional_input], outputs=output_layer)\n",
        "model.compile(optimizer='adam', loss='sparse_categorical_crossentropy', metrics=['accuracy'])\n",
        "\n",
        "\n",
        "# Model summary\n",
        "model.summary()\n",
        "\n",
        "\n"
      ]
    },
    {
      "cell_type": "markdown",
      "metadata": {
        "id": "Qegp4QA40fCC"
      },
      "source": [
        "The architecture includes:\n",
        "Input Layer: Handles sequences of length 100 for the main input and 6 additional features for auxiliary input.\n",
        "Embedding Layer: Converts tokens into a 50-dimensional embedding space, with 1M trainable parameters.\n",
        "Conv1D Layer: Performs feature extraction with 128 filters, detecting patterns within the embeddings.\n",
        "Global Max Pooling: Reduces dimensionality while retaining the most important features.\n",
        "Dense Layers: Combines features from the main and auxiliary inputs for classification.\n",
        "Dropout: Adds regularization to reduce overfitting.\n",
        "This architecture effectively combines text-based features with auxiliary inputs for multi-class classification tasks."
      ]
    },
    {
      "cell_type": "code",
      "execution_count": null,
      "metadata": {
        "colab": {
          "base_uri": "https://localhost:8080/"
        },
        "id": "49P0FzW5_5d_",
        "outputId": "49d96226-0594-4002-c4c9-edc9217e075c"
      },
      "outputs": [
        {
          "name": "stdout",
          "output_type": "stream",
          "text": [
            "Epoch 1/10\n",
            "\u001b[1m1652/1652\u001b[0m \u001b[32m━━━━━━━━━━━━━━━━━━━━\u001b[0m\u001b[37m\u001b[0m \u001b[1m0s\u001b[0m 4ms/step - accuracy: 0.7859 - loss: 0.5548\n",
            "Epoch 1: val_accuracy improved from -inf to 0.91681, saving model to /content/drive/MyDrive/mental-health-data/checkpoints/model-01-0.92.weights.h5\n",
            "\u001b[1m1652/1652\u001b[0m \u001b[32m━━━━━━━━━━━━━━━━━━━━\u001b[0m\u001b[37m\u001b[0m \u001b[1m14s\u001b[0m 6ms/step - accuracy: 0.7859 - loss: 0.5547 - val_accuracy: 0.9168 - val_loss: 0.2339\n",
            "Epoch 2/10\n",
            "\u001b[1m1630/1652\u001b[0m \u001b[32m━━━━━━━━━━━━━━━━━━━\u001b[0m\u001b[37m━\u001b[0m \u001b[1m0s\u001b[0m 2ms/step - accuracy: 0.9127 - loss: 0.2524\n",
            "Epoch 2: val_accuracy improved from 0.91681 to 0.93316, saving model to /content/drive/MyDrive/mental-health-data/checkpoints/model-02-0.93.weights.h5\n",
            "\u001b[1m1652/1652\u001b[0m \u001b[32m━━━━━━━━━━━━━━━━━━━━\u001b[0m\u001b[37m\u001b[0m \u001b[1m5s\u001b[0m 3ms/step - accuracy: 0.9128 - loss: 0.2524 - val_accuracy: 0.9332 - val_loss: 0.2027\n",
            "Epoch 3/10\n",
            "\u001b[1m1645/1652\u001b[0m \u001b[32m━━━━━━━━━━━━━━━━━━━\u001b[0m\u001b[37m━\u001b[0m \u001b[1m0s\u001b[0m 3ms/step - accuracy: 0.9365 - loss: 0.1794\n",
            "Epoch 3: val_accuracy improved from 0.93316 to 0.94073, saving model to /content/drive/MyDrive/mental-health-data/checkpoints/model-03-0.94.weights.h5\n",
            "\u001b[1m1652/1652\u001b[0m \u001b[32m━━━━━━━━━━━━━━━━━━━━\u001b[0m\u001b[37m\u001b[0m \u001b[1m5s\u001b[0m 3ms/step - accuracy: 0.9365 - loss: 0.1794 - val_accuracy: 0.9407 - val_loss: 0.1934\n",
            "Epoch 4/10\n",
            "\u001b[1m1649/1652\u001b[0m \u001b[32m━━━━━━━━━━━━━━━━━━━\u001b[0m\u001b[37m━\u001b[0m \u001b[1m0s\u001b[0m 2ms/step - accuracy: 0.9557 - loss: 0.1283\n",
            "Epoch 4: val_accuracy improved from 0.94073 to 0.94361, saving model to /content/drive/MyDrive/mental-health-data/checkpoints/model-04-0.94.weights.h5\n",
            "\u001b[1m1652/1652\u001b[0m \u001b[32m━━━━━━━━━━━━━━━━━━━━\u001b[0m\u001b[37m\u001b[0m \u001b[1m10s\u001b[0m 3ms/step - accuracy: 0.9557 - loss: 0.1283 - val_accuracy: 0.9436 - val_loss: 0.2013\n",
            "Epoch 5/10\n",
            "\u001b[1m1648/1652\u001b[0m \u001b[32m━━━━━━━━━━━━━━━━━━━\u001b[0m\u001b[37m━\u001b[0m \u001b[1m0s\u001b[0m 3ms/step - accuracy: 0.9650 - loss: 0.0942\n",
            "Epoch 5: val_accuracy improved from 0.94361 to 0.95012, saving model to /content/drive/MyDrive/mental-health-data/checkpoints/model-05-0.95.weights.h5\n",
            "\u001b[1m1652/1652\u001b[0m \u001b[32m━━━━━━━━━━━━━━━━━━━━\u001b[0m\u001b[37m\u001b[0m \u001b[1m6s\u001b[0m 4ms/step - accuracy: 0.9650 - loss: 0.0942 - val_accuracy: 0.9501 - val_loss: 0.2250\n",
            "Epoch 6/10\n",
            "\u001b[1m1647/1652\u001b[0m \u001b[32m━━━━━━━━━━━━━━━━━━━\u001b[0m\u001b[37m━\u001b[0m \u001b[1m0s\u001b[0m 2ms/step - accuracy: 0.9750 - loss: 0.0748\n",
            "Epoch 6: val_accuracy improved from 0.95012 to 0.95231, saving model to /content/drive/MyDrive/mental-health-data/checkpoints/model-06-0.95.weights.h5\n",
            "\u001b[1m1652/1652\u001b[0m \u001b[32m━━━━━━━━━━━━━━━━━━━━\u001b[0m\u001b[37m\u001b[0m \u001b[1m9s\u001b[0m 3ms/step - accuracy: 0.9750 - loss: 0.0748 - val_accuracy: 0.9523 - val_loss: 0.2709\n",
            "Epoch 7/10\n",
            "\u001b[1m1649/1652\u001b[0m \u001b[32m━━━━━━━━━━━━━━━━━━━\u001b[0m\u001b[37m━\u001b[0m \u001b[1m0s\u001b[0m 3ms/step - accuracy: 0.9785 - loss: 0.0636\n",
            "Epoch 7: val_accuracy did not improve from 0.95231\n",
            "\u001b[1m1652/1652\u001b[0m \u001b[32m━━━━━━━━━━━━━━━━━━━━\u001b[0m\u001b[37m\u001b[0m \u001b[1m6s\u001b[0m 4ms/step - accuracy: 0.9785 - loss: 0.0636 - val_accuracy: 0.9521 - val_loss: 0.2669\n",
            "Epoch 7: early stopping\n",
            "Restoring model weights from the end of the best epoch: 3.\n",
            "Training history saved to training_history.json\n"
          ]
        }
      ],
      "source": [
        "# Set up checkpointing to save model weights\n",
        "checkpoint_dir = '/content/drive/MyDrive/mental-health-data/checkpoints'\n",
        "os.makedirs(checkpoint_dir, exist_ok=True)\n",
        "checkpoint_path = os.path.join(checkpoint_dir, \"model-{epoch:02d}-{val_accuracy:.2f}.weights.h5\")\n",
        "checkpoint_callback = ModelCheckpoint(filepath=checkpoint_path,\n",
        "                                      save_weights_only=True,\n",
        "                                      save_best_only=True,\n",
        "                                      monitor='val_accuracy',\n",
        "                                      mode='max',\n",
        "                                      verbose=1)\n",
        "\n",
        "\n",
        "# Early stopping to prevent overfitting\n",
        "early_stopping_callback = EarlyStopping(\n",
        "    monitor='val_loss',  # Monitor the validation loss\n",
        "    patience=4,          # Stop after 1 epoch with no improvement\n",
        "    restore_best_weights=True,  # Restore model weights from the epoch with the best validation loss\n",
        "    verbose=1\n",
        ")\n",
        "\n",
        "# Train the model and save history\n",
        "history = model.fit(\n",
        "    [X_train[:, :max_sequence_length], X_train[:, max_sequence_length:]],  # Adjust input data as needed\n",
        "    y_train,\n",
        "    epochs=10,\n",
        "    validation_split=0.2,\n",
        "    batch_size=32,\n",
        "    callbacks=[checkpoint_callback, early_stopping_callback]\n",
        ")\n",
        "\n",
        "# Save training history\n",
        "history_path = 'training_history.json'\n",
        "with open(history_path, 'w') as f:\n",
        "    json.dump(history.history, f)\n",
        "\n",
        "print(f\"Training history saved to {history_path}\")\n",
        "\n"
      ]
    },
    {
      "cell_type": "markdown",
      "metadata": {
        "id": "UcV4roRW0fCC"
      },
      "source": []
    },
    {
      "cell_type": "code",
      "execution_count": null,
      "metadata": {
        "id": "yrtuQeOQ-n93"
      },
      "outputs": [],
      "source": [
        "# # Reload model from checkpoint\n",
        "# latest_checkpoint = tf.train.latest_checkpoint(checkpoint_dir)\n",
        "# if latest_checkpoint:\n",
        "#     model.load_weights(latest_checkpoint)\n",
        "#     print(f\"Loaded model from {latest_checkpoint}\")\n",
        "\n",
        "# # Continue training if needed\n",
        "# model.fit(\n",
        "#     X_train, y_train,\n",
        "#     epochs=5,  # Add more epochs as needed\n",
        "#     validation_split=0.2,\n",
        "#     batch_size=32\n",
        "# )\n",
        "\n",
        "# Load and plot training history\n",
        "with open(history_path, 'r') as f:\n",
        "    saved_history = json.load(f)\n",
        "\n"
      ]
    },
    {
      "cell_type": "code",
      "execution_count": null,
      "metadata": {
        "colab": {
          "base_uri": "https://localhost:8080/"
        },
        "id": "wUC6wEeuwxDW",
        "outputId": "491a030e-af85-403c-b8f5-69b7c0e329a9"
      },
      "outputs": [
        {
          "name": "stdout",
          "output_type": "stream",
          "text": [
            "\u001b[1m517/517\u001b[0m \u001b[32m━━━━━━━━━━━━━━━━━━━━\u001b[0m\u001b[37m\u001b[0m \u001b[1m2s\u001b[0m 3ms/step - accuracy: 0.9354 - loss: 0.2006\n",
            "Test Accuracy: 0.93\n"
          ]
        }
      ],
      "source": [
        "# Split X_test into text and additional features\n",
        "X_test_text = X_test[:, :max_sequence_length]           # Text input\n",
        "X_test_additional = X_test[:, max_sequence_length:]     # Additional features input\n",
        "\n",
        "# Evaluate the model on the test set\n",
        "test_loss, test_accuracy = model.evaluate([X_test_text, X_test_additional], y_test)\n",
        "print(f\"Test Accuracy: {test_accuracy:.2f}\")\n"
      ]
    },
    {
      "cell_type": "code",
      "execution_count": null,
      "metadata": {
        "colab": {
          "base_uri": "https://localhost:8080/"
        },
        "id": "2K1lH7m2-o97",
        "outputId": "c04f6d10-f070-4a9c-9bd1-03fcf65163c6"
      },
      "outputs": [
        {
          "name": "stdout",
          "output_type": "stream",
          "text": [
            "Training and Validation Accuracy: [0.8532634377479553, 0.9138012528419495, 0.9384402632713318, 0.95585036277771, 0.9657286405563354, 0.9753609895706177, 0.9766477942466736] [0.9168117642402649, 0.933161735534668, 0.9407312273979187, 0.9436076283454895, 0.9501173496246338, 0.9523124694824219, 0.9520853757858276]\n"
          ]
        }
      ],
      "source": [
        "# Print saved history or plot (if you want to visualize training progress)\n",
        "print(\"Training and Validation Accuracy:\", saved_history.get('accuracy'), saved_history.get('val_accuracy'))\n"
      ]
    },
    {
      "cell_type": "markdown",
      "metadata": {
        "id": "A3LIqLKg0fCD"
      },
      "source": [
        "The test accuracy is 93.54%, close to the validation accuracy of 95.21%, indicating good generalization to unseen data.\n",
        "The test loss of 0.2006 aligns well with the validation loss, further confirming the model's robust performance."
      ]
    },
    {
      "cell_type": "code",
      "execution_count": null,
      "metadata": {
        "colab": {
          "base_uri": "https://localhost:8080/",
          "height": 507
        },
        "id": "CU7eqRlqoTJq",
        "outputId": "15dc32ef-5590-4781-f123-6567b910b58f"
      },
      "outputs": [
        {
          "data": {
            "image/png": "[encoded data removed]",
            "text/plain": [
              "<Figure size 1200x500 with 2 Axes>"
            ]
          },
          "metadata": {},
          "output_type": "display_data"
        }
      ],
      "source": [
        "\n",
        "\n",
        "# Load training history\n",
        "history_path = 'training_history.json'\n",
        "with open(history_path, 'r') as f:\n",
        "    saved_history = json.load(f)\n",
        "\n",
        "# Extract accuracy and loss data\n",
        "train_accuracy = saved_history.get('accuracy', [])\n",
        "val_accuracy = saved_history.get('val_accuracy', [])\n",
        "train_loss = saved_history.get('loss', [])\n",
        "val_loss = saved_history.get('val_loss', [])\n",
        "\n",
        "# Plot training & validation accuracy values\n",
        "plt.figure(figsize=(12, 5))\n",
        "\n",
        "# Accuracy\n",
        "plt.subplot(1, 2, 1)\n",
        "plt.plot(train_accuracy, label='Training Accuracy')\n",
        "plt.plot(val_accuracy, label='Validation Accuracy')\n",
        "plt.title('Training and Validation Accuracy')\n",
        "plt.xlabel('Epochs')\n",
        "plt.ylabel('Accuracy')\n",
        "plt.legend()\n",
        "\n",
        "# Loss\n",
        "plt.subplot(1, 2, 2)\n",
        "plt.plot(train_loss, label='Training Loss')\n",
        "plt.plot(val_loss, label='Validation Loss')\n",
        "plt.title('Training and Validation Loss')\n",
        "plt.xlabel('Epochs')\n",
        "plt.ylabel('Loss')\n",
        "plt.legend()\n",
        "\n",
        "# Show the plots\n",
        "plt.tight_layout()\n",
        "plt.show()\n"
      ]
    },
    {
      "cell_type": "markdown",
      "metadata": {
        "id": "pD4Dabtax4K8"
      },
      "source": [
        "Training Accuracy starts at 85.32% and increases steadily to 97.66%, showing effective learning on the training data.\n",
        "Validation Accuracy starts at 91.68% and stabilizes at 95.21%. The improvement rate decreases after Epoch 4, indicating the model is reaching its generalization limit.\n",
        "Training Loss reduces significantly from 0.5548 to 0.0636, showing successful error minimization during training.\n",
        "Validation Loss decreases initially but begins to increase slightly after Epoch 4, rising from 0.1934 to 0.2669 at Epoch 7. This divergence suggests mild overfitting in the later epochs.\n",
        "\n"
      ]
    },
    {
      "cell_type": "code",
      "execution_count": null,
      "metadata": {
        "colab": {
          "base_uri": "https://localhost:8080/"
        },
        "id": "sGuFy_DJOCsP",
        "outputId": "a64112e7-058b-4389-edc0-49facec10456"
      },
      "outputs": [
        {
          "name": "stdout",
          "output_type": "stream",
          "text": [
            "Epoch 1/50\n",
            "\u001b[1m1645/1652\u001b[0m \u001b[32m━━━━━━━━━━━━━━━━━━━\u001b[0m\u001b[37m━\u001b[0m \u001b[1m0s\u001b[0m 2ms/step - accuracy: 0.9559 - loss: 0.1264\n",
            "Epoch 1: val_accuracy improved from -inf to 0.94641, saving model to /content/drive/MyDrive/mental-health-data/checkpoints/model1-50-01-0.95.weights.h5\n",
            "\u001b[1m1652/1652\u001b[0m \u001b[32m━━━━━━━━━━━━━━━━━━━━\u001b[0m\u001b[37m\u001b[0m \u001b[1m5s\u001b[0m 3ms/step - accuracy: 0.9559 - loss: 0.1264 - val_accuracy: 0.9464 - val_loss: 0.2201\n",
            "Epoch 2/50\n",
            "\u001b[1m1643/1652\u001b[0m \u001b[32m━━━━━━━━━━━━━━━━━━━\u001b[0m\u001b[37m━\u001b[0m \u001b[1m0s\u001b[0m 2ms/step - accuracy: 0.9666 - loss: 0.0904\n",
            "Epoch 2: val_accuracy did not improve from 0.94641\n",
            "\u001b[1m1652/1652\u001b[0m \u001b[32m━━━━━━━━━━━━━━━━━━━━\u001b[0m\u001b[37m\u001b[0m \u001b[1m5s\u001b[0m 3ms/step - accuracy: 0.9666 - loss: 0.0904 - val_accuracy: 0.9435 - val_loss: 0.2153\n",
            "Epoch 3/50\n",
            "\u001b[1m1644/1652\u001b[0m \u001b[32m━━━━━━━━━━━━━━━━━━━\u001b[0m\u001b[37m━\u001b[0m \u001b[1m0s\u001b[0m 4ms/step - accuracy: 0.9705 - loss: 0.0773\n",
            "Epoch 3: val_accuracy improved from 0.94641 to 0.94966, saving model to /content/drive/MyDrive/mental-health-data/checkpoints/model1-50-03-0.95.weights.h5\n",
            "\u001b[1m1652/1652\u001b[0m \u001b[32m━━━━━━━━━━━━━━━━━━━━\u001b[0m\u001b[37m\u001b[0m \u001b[1m7s\u001b[0m 4ms/step - accuracy: 0.9705 - loss: 0.0773 - val_accuracy: 0.9497 - val_loss: 0.2502\n",
            "Epoch 4/50\n",
            "\u001b[1m1637/1652\u001b[0m \u001b[32m━━━━━━━━━━━━━━━━━━━\u001b[0m\u001b[37m━\u001b[0m \u001b[1m0s\u001b[0m 3ms/step - accuracy: 0.9718 - loss: 0.0697\n",
            "Epoch 4: val_accuracy improved from 0.94966 to 0.95095, saving model to /content/drive/MyDrive/mental-health-data/checkpoints/model1-50-04-0.95.weights.h5\n",
            "\u001b[1m1652/1652\u001b[0m \u001b[32m━━━━━━━━━━━━━━━━━━━━\u001b[0m\u001b[37m\u001b[0m \u001b[1m9s\u001b[0m 3ms/step - accuracy: 0.9718 - loss: 0.0696 - val_accuracy: 0.9509 - val_loss: 0.3237\n",
            "Epoch 5/50\n",
            "\u001b[1m1637/1652\u001b[0m \u001b[32m━━━━━━━━━━━━━━━━━━━\u001b[0m\u001b[37m━\u001b[0m \u001b[1m0s\u001b[0m 2ms/step - accuracy: 0.9793 - loss: 0.0593\n",
            "Epoch 5: val_accuracy improved from 0.95095 to 0.95360, saving model to /content/drive/MyDrive/mental-health-data/checkpoints/model1-50-05-0.95.weights.h5\n",
            "\u001b[1m1652/1652\u001b[0m \u001b[32m━━━━━━━━━━━━━━━━━━━━\u001b[0m\u001b[37m\u001b[0m \u001b[1m10s\u001b[0m 3ms/step - accuracy: 0.9793 - loss: 0.0593 - val_accuracy: 0.9536 - val_loss: 0.3497\n",
            "Epoch 5: early stopping\n",
            "Restoring model weights from the end of the best epoch: 2.\n",
            "Training history saved to training_history50.json\n"
          ]
        }
      ],
      "source": [
        "# Set up checkpointing to save model weights\n",
        "checkpoint_dir = '/content/drive/MyDrive/mental-health-data/checkpoints'\n",
        "os.makedirs(checkpoint_dir, exist_ok=True)\n",
        "checkpoint_path = os.path.join(checkpoint_dir, \"model1-50-{epoch:02d}-{val_accuracy:.2f}.weights.h5\")  # Changed extension to .weights.h5\n",
        "checkpoint_callback = ModelCheckpoint(filepath=checkpoint_path,\n",
        "                                      save_weights_only=True,\n",
        "                                      save_best_only=True,\n",
        "                                      monitor='val_accuracy',\n",
        "                                      mode='max',\n",
        "                                      verbose=1)\n",
        "\n",
        "# Early stopping to prevent overfitting\n",
        "early_stopping_callback = EarlyStopping(\n",
        "    monitor='val_loss',  # Monitor the validation loss\n",
        "    patience=3,          # Stop after 1 epoch with no improvement\n",
        "    restore_best_weights=True,  # Restore model weights from the epoch with the best validation loss\n",
        "    verbose=1\n",
        ")\n",
        "\n",
        "# Train the model and save history\n",
        "history = model.fit(\n",
        "    [X_train[:, :max_sequence_length], X_train[:, max_sequence_length:]],  # Adjust input data as needed\n",
        "    y_train,\n",
        "    epochs=50,\n",
        "    validation_split=0.2,\n",
        "    batch_size=32,\n",
        "    callbacks=[checkpoint_callback, early_stopping_callback]\n",
        ")\n",
        "\n",
        "# Save training history\n",
        "history_path = 'training_history50.json'\n",
        "with open(history_path, 'w') as f:\n",
        "    json.dump(history.history, f)\n",
        "\n",
        "print(f\"Training history saved to {history_path}\")\n"
      ]
    },
    {
      "cell_type": "code",
      "execution_count": null,
      "metadata": {
        "colab": {
          "base_uri": "https://localhost:8080/",
          "height": 507
        },
        "id": "IfUn0wDHovuV",
        "outputId": "5d035184-c33c-4057-bb1e-718d31f6e294"
      },
      "outputs": [
        {
          "data": {
            "image/png": "[encoded data removed]",
            "text/plain": [
              "<Figure size 1200x500 with 2 Axes>"
            ]
          },
          "metadata": {},
          "output_type": "display_data"
        }
      ],
      "source": [
        "\n",
        "\n",
        "# Load training history\n",
        "history_path = 'training_history50.json'\n",
        "with open(history_path, 'r') as f:\n",
        "    saved_history = json.load(f)\n",
        "\n",
        "# Extract accuracy and loss data\n",
        "train_accuracy = saved_history.get('accuracy', [])\n",
        "val_accuracy = saved_history.get('val_accuracy', [])\n",
        "train_loss = saved_history.get('loss', [])\n",
        "val_loss = saved_history.get('val_loss', [])\n",
        "\n",
        "# Plot training & validation accuracy values\n",
        "plt.figure(figsize=(12, 5))\n",
        "\n",
        "# Accuracy\n",
        "plt.subplot(1, 2, 1)\n",
        "plt.plot(train_accuracy, label='Training Accuracy')\n",
        "plt.plot(val_accuracy, label='Validation Accuracy')\n",
        "plt.title('Training and Validation Accuracy')\n",
        "plt.xlabel('Epochs')\n",
        "plt.ylabel('Accuracy')\n",
        "plt.legend()\n",
        "\n",
        "# Loss\n",
        "plt.subplot(1, 2, 2)\n",
        "plt.plot(train_loss, label='Training Loss')\n",
        "plt.plot(val_loss, label='Validation Loss')\n",
        "plt.title('Training and Validation Loss')\n",
        "plt.xlabel('Epochs')\n",
        "plt.ylabel('Loss')\n",
        "plt.legend()\n",
        "\n",
        "# Show the plots\n",
        "plt.tight_layout()\n",
        "plt.show()"
      ]
    },
    {
      "cell_type": "markdown",
      "metadata": {
        "id": "YHDOotsw0fCJ"
      },
      "source": [
        "* Training Accuracy: The model consistently improves across epochs, reaching a high of 97.83% at Epoch 5.\n",
        "This shows that the model is learning effectively from the training data and has a strong ability to classify training samples correctly.\n",
        "* Validation Accuracy starts at 94.64%, decreases slightly in Epoch 2 (94.34%), and gradually increases, peaking at 95.36% in Epoch 5.\n",
        "This reflects good generalization to unseen data but shows minor fluctuations, potentially due to noise or small dataset variance.\n",
        "* Training Loss decreases steadily from 0.1264 to 0.0593, indicating effective minimization of the loss function.\n",
        "* Validation Loss decreases initially but begins to increase after Epoch 3, rising from 0.2502 to 0.3497 by Epoch 5.\n",
        "This increase in validation loss despite improving validation accuracy suggests mild overfitting or a plateau in the model's generalization ability.\n",
        "\n",
        "* The divergence between validation loss and validation accuracy could indicate that the loss function penalizes certain predictions more heavily, even if accuracy improves. This might require further analysis of class-wise predictions or weighting adjustments in the loss function.\n"
      ]
    },
    {
      "cell_type": "code",
      "execution_count": null,
      "metadata": {
        "id": "hJmLOId8N5j3"
      },
      "outputs": [],
      "source": [
        "# Load and plot training history\n",
        "with open(history_path, 'r') as f:\n",
        "    saved_history = json.load(f)"
      ]
    },
    {
      "cell_type": "code",
      "execution_count": null,
      "metadata": {
        "colab": {
          "base_uri": "https://localhost:8080/"
        },
        "id": "LHt9rEI1OACs",
        "outputId": "4ebeed3f-4f69-42fa-d976-82f03ed37302"
      },
      "outputs": [
        {
          "name": "stdout",
          "output_type": "stream",
          "text": [
            "\u001b[1m517/517\u001b[0m \u001b[32m━━━━━━━━━━━━━━━━━━━━\u001b[0m\u001b[37m\u001b[0m \u001b[1m1s\u001b[0m 2ms/step - accuracy: 0.9422 - loss: 0.2261\n",
            "Test Accuracy: 0.94\n"
          ]
        }
      ],
      "source": [
        "# Split X_test into text and additional features\n",
        "X_test_text = X_test[:, :max_sequence_length]           # Text input\n",
        "X_test_additional = X_test[:, max_sequence_length:]     # Additional features input\n",
        "\n",
        "# Evaluate the model on the test set\n",
        "test_loss, test_accuracy = model.evaluate([X_test_text, X_test_additional], y_test)\n",
        "print(f\"Test Accuracy: {test_accuracy:.2f}\")"
      ]
    },
    {
      "cell_type": "code",
      "execution_count": null,
      "metadata": {
        "colab": {
          "base_uri": "https://localhost:8080/"
        },
        "id": "lL1VLvRWOKTx",
        "outputId": "26874405-fdd7-4664-8d4c-ee8101e88a0f"
      },
      "outputs": [
        {
          "name": "stdout",
          "output_type": "stream",
          "text": [
            "Training and Validation Accuracy: [0.9564559459686279, 0.9646689295768738, 0.9697784185409546, 0.9741498231887817, 0.9783130884170532] [0.9464082717895508, 0.94345623254776, 0.9496631622314453, 0.9509499669075012, 0.9535992741584778]\n"
          ]
        }
      ],
      "source": [
        "# Print saved history or plot (if you want to visualize training progress)\n",
        "print(\"Training and Validation Accuracy:\", saved_history.get('accuracy'), saved_history.get('val_accuracy'))\n"
      ]
    },
    {
      "cell_type": "markdown",
      "metadata": {
        "id": "P-__kEMM0fCK"
      },
      "source": [
        "The test accuracy is 94.22%, which is close to the validation accuracy (95.36%).\n",
        "This consistency between validation and test accuracies indicates good generalization and supports the conclusion that the model performs reliably on unseen data."
      ]
    },
    {
      "cell_type": "markdown",
      "metadata": {
        "id": "YBF7GCpbbivA"
      },
      "source": [
        "## Kim’s CNN Model\n",
        "\n",
        "- The model includes multiple convolution layers with different filter sizes (3, 4, and 5), which is a hallmark of Kim's model. This approach allows it to identify various n-gram features from the text data.\n",
        "- Each convolutional layer is followed by Global Max Pooling, as in Kim’s original model, which selects the most main feature from each feature map.\n",
        "- This model is hybrid because it incorporates additional non-textual input (using the additional_input layer).This hybrid structure enables the model to learn from both text and non-text data simultaneously."
      ]
    },
    {
      "cell_type": "code",
      "execution_count": null,
      "metadata": {
        "colab": {
          "base_uri": "https://localhost:8080/",
          "height": 657
        },
        "id": "SX9wAEBBOMWj",
        "outputId": "a2a6f6e1-fb83-46ce-bf19-02ca322b929e"
      },
      "outputs": [
        {
          "data": {
            "text/html": [
              "<pre style=\"white-space:pre;overflow-x:auto;line-height:normal;font-family:Menlo,'DejaVu Sans Mono',consolas,'Courier New',monospace\"><span style=\"font-weight: bold\">Model: \"functional_1\"</span>\n",
              "</pre>\n"
            ],
            "text/plain": [
              "\u001b[1mModel: \"functional_1\"\u001b[0m\n"
            ]
          },
          "metadata": {},
          "output_type": "display_data"
        },
        {
          "data": {
            "text/html": [
              "<pre style=\"white-space:pre;overflow-x:auto;line-height:normal;font-family:Menlo,'DejaVu Sans Mono',consolas,'Courier New',monospace\">┏━━━━━━━━━━━━━━━━━━━━━━━━━━━┳━━━━━━━━━━━━━━━━━━━━━━━━┳━━━━━━━━━━━━━━━━┳━━━━━━━━━━━━━━━━━━━━━━━━┓\n",
              "┃<span style=\"font-weight: bold\"> Layer (type)              </span>┃<span style=\"font-weight: bold\"> Output Shape           </span>┃<span style=\"font-weight: bold\">        Param # </span>┃<span style=\"font-weight: bold\"> Connected to           </span>┃\n",
              "┡━━━━━━━━━━━━━━━━━━━━━━━━━━━╇━━━━━━━━━━━━━━━━━━━━━━━━╇━━━━━━━━━━━━━━━━╇━━━━━━━━━━━━━━━━━━━━━━━━┩\n",
              "│ text_input (<span style=\"color: #0087ff; text-decoration-color: #0087ff\">InputLayer</span>)   │ (<span style=\"color: #00d7ff; text-decoration-color: #00d7ff\">None</span>, <span style=\"color: #00af00; text-decoration-color: #00af00\">100</span>)            │              <span style=\"color: #00af00; text-decoration-color: #00af00\">0</span> │ -                      │\n",
              "├───────────────────────────┼────────────────────────┼────────────────┼────────────────────────┤\n",
              "│ embedding_1 (<span style=\"color: #0087ff; text-decoration-color: #0087ff\">Embedding</span>)   │ (<span style=\"color: #00d7ff; text-decoration-color: #00d7ff\">None</span>, <span style=\"color: #00af00; text-decoration-color: #00af00\">100</span>, <span style=\"color: #00af00; text-decoration-color: #00af00\">64</span>)        │      <span style=\"color: #00af00; text-decoration-color: #00af00\">1,280,000</span> │ text_input[<span style=\"color: #00af00; text-decoration-color: #00af00\">0</span>][<span style=\"color: #00af00; text-decoration-color: #00af00\">0</span>]       │\n",
              "├───────────────────────────┼────────────────────────┼────────────────┼────────────────────────┤\n",
              "│ conv1d_1 (<span style=\"color: #0087ff; text-decoration-color: #0087ff\">Conv1D</span>)         │ (<span style=\"color: #00d7ff; text-decoration-color: #00d7ff\">None</span>, <span style=\"color: #00af00; text-decoration-color: #00af00\">98</span>, <span style=\"color: #00af00; text-decoration-color: #00af00\">64</span>)         │         <span style=\"color: #00af00; text-decoration-color: #00af00\">12,352</span> │ embedding_1[<span style=\"color: #00af00; text-decoration-color: #00af00\">0</span>][<span style=\"color: #00af00; text-decoration-color: #00af00\">0</span>]      │\n",
              "├───────────────────────────┼────────────────────────┼────────────────┼────────────────────────┤\n",
              "│ conv1d_2 (<span style=\"color: #0087ff; text-decoration-color: #0087ff\">Conv1D</span>)         │ (<span style=\"color: #00d7ff; text-decoration-color: #00d7ff\">None</span>, <span style=\"color: #00af00; text-decoration-color: #00af00\">97</span>, <span style=\"color: #00af00; text-decoration-color: #00af00\">64</span>)         │         <span style=\"color: #00af00; text-decoration-color: #00af00\">16,448</span> │ embedding_1[<span style=\"color: #00af00; text-decoration-color: #00af00\">0</span>][<span style=\"color: #00af00; text-decoration-color: #00af00\">0</span>]      │\n",
              "├───────────────────────────┼────────────────────────┼────────────────┼────────────────────────┤\n",
              "│ conv1d_3 (<span style=\"color: #0087ff; text-decoration-color: #0087ff\">Conv1D</span>)         │ (<span style=\"color: #00d7ff; text-decoration-color: #00d7ff\">None</span>, <span style=\"color: #00af00; text-decoration-color: #00af00\">96</span>, <span style=\"color: #00af00; text-decoration-color: #00af00\">64</span>)         │         <span style=\"color: #00af00; text-decoration-color: #00af00\">20,544</span> │ embedding_1[<span style=\"color: #00af00; text-decoration-color: #00af00\">0</span>][<span style=\"color: #00af00; text-decoration-color: #00af00\">0</span>]      │\n",
              "├───────────────────────────┼────────────────────────┼────────────────┼────────────────────────┤\n",
              "│ global_max_pooling1d_1    │ (<span style=\"color: #00d7ff; text-decoration-color: #00d7ff\">None</span>, <span style=\"color: #00af00; text-decoration-color: #00af00\">64</span>)             │              <span style=\"color: #00af00; text-decoration-color: #00af00\">0</span> │ conv1d_1[<span style=\"color: #00af00; text-decoration-color: #00af00\">0</span>][<span style=\"color: #00af00; text-decoration-color: #00af00\">0</span>]         │\n",
              "│ (<span style=\"color: #0087ff; text-decoration-color: #0087ff\">GlobalMaxPooling1D</span>)      │                        │                │                        │\n",
              "├───────────────────────────┼────────────────────────┼────────────────┼────────────────────────┤\n",
              "│ global_max_pooling1d_2    │ (<span style=\"color: #00d7ff; text-decoration-color: #00d7ff\">None</span>, <span style=\"color: #00af00; text-decoration-color: #00af00\">64</span>)             │              <span style=\"color: #00af00; text-decoration-color: #00af00\">0</span> │ conv1d_2[<span style=\"color: #00af00; text-decoration-color: #00af00\">0</span>][<span style=\"color: #00af00; text-decoration-color: #00af00\">0</span>]         │\n",
              "│ (<span style=\"color: #0087ff; text-decoration-color: #0087ff\">GlobalMaxPooling1D</span>)      │                        │                │                        │\n",
              "├───────────────────────────┼────────────────────────┼────────────────┼────────────────────────┤\n",
              "│ global_max_pooling1d_3    │ (<span style=\"color: #00d7ff; text-decoration-color: #00d7ff\">None</span>, <span style=\"color: #00af00; text-decoration-color: #00af00\">64</span>)             │              <span style=\"color: #00af00; text-decoration-color: #00af00\">0</span> │ conv1d_3[<span style=\"color: #00af00; text-decoration-color: #00af00\">0</span>][<span style=\"color: #00af00; text-decoration-color: #00af00\">0</span>]         │\n",
              "│ (<span style=\"color: #0087ff; text-decoration-color: #0087ff\">GlobalMaxPooling1D</span>)      │                        │                │                        │\n",
              "├───────────────────────────┼────────────────────────┼────────────────┼────────────────────────┤\n",
              "│ additional_input          │ (<span style=\"color: #00d7ff; text-decoration-color: #00d7ff\">None</span>, <span style=\"color: #00af00; text-decoration-color: #00af00\">6</span>)              │              <span style=\"color: #00af00; text-decoration-color: #00af00\">0</span> │ -                      │\n",
              "│ (<span style=\"color: #0087ff; text-decoration-color: #0087ff\">InputLayer</span>)              │                        │                │                        │\n",
              "├───────────────────────────┼────────────────────────┼────────────────┼────────────────────────┤\n",
              "│ concatenate_1             │ (<span style=\"color: #00d7ff; text-decoration-color: #00d7ff\">None</span>, <span style=\"color: #00af00; text-decoration-color: #00af00\">198</span>)            │              <span style=\"color: #00af00; text-decoration-color: #00af00\">0</span> │ global_max_pooling1d_… │\n",
              "│ (<span style=\"color: #0087ff; text-decoration-color: #0087ff\">Concatenate</span>)             │                        │                │ global_max_pooling1d_… │\n",
              "│                           │                        │                │ global_max_pooling1d_… │\n",
              "│                           │                        │                │ additional_input[<span style=\"color: #00af00; text-decoration-color: #00af00\">0</span>][<span style=\"color: #00af00; text-decoration-color: #00af00\">0</span>] │\n",
              "├───────────────────────────┼────────────────────────┼────────────────┼────────────────────────┤\n",
              "│ dense_2 (<span style=\"color: #0087ff; text-decoration-color: #0087ff\">Dense</span>)           │ (<span style=\"color: #00d7ff; text-decoration-color: #00d7ff\">None</span>, <span style=\"color: #00af00; text-decoration-color: #00af00\">32</span>)             │          <span style=\"color: #00af00; text-decoration-color: #00af00\">6,368</span> │ concatenate_1[<span style=\"color: #00af00; text-decoration-color: #00af00\">0</span>][<span style=\"color: #00af00; text-decoration-color: #00af00\">0</span>]    │\n",
              "├───────────────────────────┼────────────────────────┼────────────────┼────────────────────────┤\n",
              "│ dropout_1 (<span style=\"color: #0087ff; text-decoration-color: #0087ff\">Dropout</span>)       │ (<span style=\"color: #00d7ff; text-decoration-color: #00d7ff\">None</span>, <span style=\"color: #00af00; text-decoration-color: #00af00\">32</span>)             │              <span style=\"color: #00af00; text-decoration-color: #00af00\">0</span> │ dense_2[<span style=\"color: #00af00; text-decoration-color: #00af00\">0</span>][<span style=\"color: #00af00; text-decoration-color: #00af00\">0</span>]          │\n",
              "├───────────────────────────┼────────────────────────┼────────────────┼────────────────────────┤\n",
              "│ dense_3 (<span style=\"color: #0087ff; text-decoration-color: #0087ff\">Dense</span>)           │ (<span style=\"color: #00d7ff; text-decoration-color: #00d7ff\">None</span>, <span style=\"color: #00af00; text-decoration-color: #00af00\">4</span>)              │            <span style=\"color: #00af00; text-decoration-color: #00af00\">132</span> │ dropout_1[<span style=\"color: #00af00; text-decoration-color: #00af00\">0</span>][<span style=\"color: #00af00; text-decoration-color: #00af00\">0</span>]        │\n",
              "└───────────────────────────┴────────────────────────┴────────────────┴────────────────────────┘\n",
              "</pre>\n"
            ],
            "text/plain": [
              "┏━━━━━━━━━━━━━━━━━━━━━━━━━━━┳━━━━━━━━━━━━━━━━━━━━━━━━┳━━━━━━━━━━━━━━━━┳━━━━━━━━━━━━━━━━━━━━━━━━┓\n",
              "┃\u001b[1m \u001b[0m\u001b[1mLayer (type)             \u001b[0m\u001b[1m \u001b[0m┃\u001b[1m \u001b[0m\u001b[1mOutput Shape          \u001b[0m\u001b[1m \u001b[0m┃\u001b[1m \u001b[0m\u001b[1m       Param #\u001b[0m\u001b[1m \u001b[0m┃\u001b[1m \u001b[0m\u001b[1mConnected to          \u001b[0m\u001b[1m \u001b[0m┃\n",
              "┡━━━━━━━━━━━━━━━━━━━━━━━━━━━╇━━━━━━━━━━━━━━━━━━━━━━━━╇━━━━━━━━━━━━━━━━╇━━━━━━━━━━━━━━━━━━━━━━━━┩\n",
              "│ text_input (\u001b[38;5;33mInputLayer\u001b[0m)   │ (\u001b[38;5;45mNone\u001b[0m, \u001b[38;5;34m100\u001b[0m)            │              \u001b[38;5;34m0\u001b[0m │ -                      │\n",
              "├───────────────────────────┼────────────────────────┼────────────────┼────────────────────────┤\n",
              "│ embedding_1 (\u001b[38;5;33mEmbedding\u001b[0m)   │ (\u001b[38;5;45mNone\u001b[0m, \u001b[38;5;34m100\u001b[0m, \u001b[38;5;34m64\u001b[0m)        │      \u001b[38;5;34m1,280,000\u001b[0m │ text_input[\u001b[38;5;34m0\u001b[0m][\u001b[38;5;34m0\u001b[0m]       │\n",
              "├───────────────────────────┼────────────────────────┼────────────────┼────────────────────────┤\n",
              "│ conv1d_1 (\u001b[38;5;33mConv1D\u001b[0m)         │ (\u001b[38;5;45mNone\u001b[0m, \u001b[38;5;34m98\u001b[0m, \u001b[38;5;34m64\u001b[0m)         │         \u001b[38;5;34m12,352\u001b[0m │ embedding_1[\u001b[38;5;34m0\u001b[0m][\u001b[38;5;34m0\u001b[0m]      │\n",
              "├───────────────────────────┼────────────────────────┼────────────────┼────────────────────────┤\n",
              "│ conv1d_2 (\u001b[38;5;33mConv1D\u001b[0m)         │ (\u001b[38;5;45mNone\u001b[0m, \u001b[38;5;34m97\u001b[0m, \u001b[38;5;34m64\u001b[0m)         │         \u001b[38;5;34m16,448\u001b[0m │ embedding_1[\u001b[38;5;34m0\u001b[0m][\u001b[38;5;34m0\u001b[0m]      │\n",
              "├───────────────────────────┼────────────────────────┼────────────────┼────────────────────────┤\n",
              "│ conv1d_3 (\u001b[38;5;33mConv1D\u001b[0m)         │ (\u001b[38;5;45mNone\u001b[0m, \u001b[38;5;34m96\u001b[0m, \u001b[38;5;34m64\u001b[0m)         │         \u001b[38;5;34m20,544\u001b[0m │ embedding_1[\u001b[38;5;34m0\u001b[0m][\u001b[38;5;34m0\u001b[0m]      │\n",
              "├───────────────────────────┼────────────────────────┼────────────────┼────────────────────────┤\n",
              "│ global_max_pooling1d_1    │ (\u001b[38;5;45mNone\u001b[0m, \u001b[38;5;34m64\u001b[0m)             │              \u001b[38;5;34m0\u001b[0m │ conv1d_1[\u001b[38;5;34m0\u001b[0m][\u001b[38;5;34m0\u001b[0m]         │\n",
              "│ (\u001b[38;5;33mGlobalMaxPooling1D\u001b[0m)      │                        │                │                        │\n",
              "├───────────────────────────┼────────────────────────┼────────────────┼────────────────────────┤\n",
              "│ global_max_pooling1d_2    │ (\u001b[38;5;45mNone\u001b[0m, \u001b[38;5;34m64\u001b[0m)             │              \u001b[38;5;34m0\u001b[0m │ conv1d_2[\u001b[38;5;34m0\u001b[0m][\u001b[38;5;34m0\u001b[0m]         │\n",
              "│ (\u001b[38;5;33mGlobalMaxPooling1D\u001b[0m)      │                        │                │                        │\n",
              "├───────────────────────────┼────────────────────────┼────────────────┼────────────────────────┤\n",
              "│ global_max_pooling1d_3    │ (\u001b[38;5;45mNone\u001b[0m, \u001b[38;5;34m64\u001b[0m)             │              \u001b[38;5;34m0\u001b[0m │ conv1d_3[\u001b[38;5;34m0\u001b[0m][\u001b[38;5;34m0\u001b[0m]         │\n",
              "│ (\u001b[38;5;33mGlobalMaxPooling1D\u001b[0m)      │                        │                │                        │\n",
              "├───────────────────────────┼────────────────────────┼────────────────┼────────────────────────┤\n",
              "│ additional_input          │ (\u001b[38;5;45mNone\u001b[0m, \u001b[38;5;34m6\u001b[0m)              │              \u001b[38;5;34m0\u001b[0m │ -                      │\n",
              "│ (\u001b[38;5;33mInputLayer\u001b[0m)              │                        │                │                        │\n",
              "├───────────────────────────┼────────────────────────┼────────────────┼────────────────────────┤\n",
              "│ concatenate_1             │ (\u001b[38;5;45mNone\u001b[0m, \u001b[38;5;34m198\u001b[0m)            │              \u001b[38;5;34m0\u001b[0m │ global_max_pooling1d_… │\n",
              "│ (\u001b[38;5;33mConcatenate\u001b[0m)             │                        │                │ global_max_pooling1d_… │\n",
              "│                           │                        │                │ global_max_pooling1d_… │\n",
              "│                           │                        │                │ additional_input[\u001b[38;5;34m0\u001b[0m][\u001b[38;5;34m0\u001b[0m] │\n",
              "├───────────────────────────┼────────────────────────┼────────────────┼────────────────────────┤\n",
              "│ dense_2 (\u001b[38;5;33mDense\u001b[0m)           │ (\u001b[38;5;45mNone\u001b[0m, \u001b[38;5;34m32\u001b[0m)             │          \u001b[38;5;34m6,368\u001b[0m │ concatenate_1[\u001b[38;5;34m0\u001b[0m][\u001b[38;5;34m0\u001b[0m]    │\n",
              "├───────────────────────────┼────────────────────────┼────────────────┼────────────────────────┤\n",
              "│ dropout_1 (\u001b[38;5;33mDropout\u001b[0m)       │ (\u001b[38;5;45mNone\u001b[0m, \u001b[38;5;34m32\u001b[0m)             │              \u001b[38;5;34m0\u001b[0m │ dense_2[\u001b[38;5;34m0\u001b[0m][\u001b[38;5;34m0\u001b[0m]          │\n",
              "├───────────────────────────┼────────────────────────┼────────────────┼────────────────────────┤\n",
              "│ dense_3 (\u001b[38;5;33mDense\u001b[0m)           │ (\u001b[38;5;45mNone\u001b[0m, \u001b[38;5;34m4\u001b[0m)              │            \u001b[38;5;34m132\u001b[0m │ dropout_1[\u001b[38;5;34m0\u001b[0m][\u001b[38;5;34m0\u001b[0m]        │\n",
              "└───────────────────────────┴────────────────────────┴────────────────┴────────────────────────┘\n"
            ]
          },
          "metadata": {},
          "output_type": "display_data"
        },
        {
          "data": {
            "text/html": [
              "<pre style=\"white-space:pre;overflow-x:auto;line-height:normal;font-family:Menlo,'DejaVu Sans Mono',consolas,'Courier New',monospace\"><span style=\"font-weight: bold\"> Total params: </span><span style=\"color: #00af00; text-decoration-color: #00af00\">1,335,844</span> (5.10 MB)\n",
              "</pre>\n"
            ],
            "text/plain": [
              "\u001b[1m Total params: \u001b[0m\u001b[38;5;34m1,335,844\u001b[0m (5.10 MB)\n"
            ]
          },
          "metadata": {},
          "output_type": "display_data"
        },
        {
          "data": {
            "text/html": [
              "<pre style=\"white-space:pre;overflow-x:auto;line-height:normal;font-family:Menlo,'DejaVu Sans Mono',consolas,'Courier New',monospace\"><span style=\"font-weight: bold\"> Trainable params: </span><span style=\"color: #00af00; text-decoration-color: #00af00\">1,335,844</span> (5.10 MB)\n",
              "</pre>\n"
            ],
            "text/plain": [
              "\u001b[1m Trainable params: \u001b[0m\u001b[38;5;34m1,335,844\u001b[0m (5.10 MB)\n"
            ]
          },
          "metadata": {},
          "output_type": "display_data"
        },
        {
          "data": {
            "text/html": [
              "<pre style=\"white-space:pre;overflow-x:auto;line-height:normal;font-family:Menlo,'DejaVu Sans Mono',consolas,'Courier New',monospace\"><span style=\"font-weight: bold\"> Non-trainable params: </span><span style=\"color: #00af00; text-decoration-color: #00af00\">0</span> (0.00 B)\n",
              "</pre>\n"
            ],
            "text/plain": [
              "\u001b[1m Non-trainable params: \u001b[0m\u001b[38;5;34m0\u001b[0m (0.00 B)\n"
            ]
          },
          "metadata": {},
          "output_type": "display_data"
        }
      ],
      "source": [
        "\n",
        "# Define inputs for text and additional features\n",
        "text_input = Input(shape=(max_sequence_length,), name=\"text_input\")\n",
        "additional_input = Input(shape=(X_additional.shape[1],), name=\"additional_input\")\n",
        "\n",
        "# Embedding layer\n",
        "embedding_layer = Embedding(input_dim=max_vocab_size, output_dim=64, input_length=max_sequence_length)(text_input)\n",
        "\n",
        "# Multiple Conv1D layers with different filter sizes (Kim's model)\n",
        "conv_3 = Conv1D(64, 3, activation='relu')(embedding_layer)\n",
        "conv_4 = Conv1D(64, 4, activation='relu')(embedding_layer)\n",
        "conv_5 = Conv1D(64, 5, activation='relu')(embedding_layer)\n",
        "\n",
        "# Global Max Pooling for each convolution layer\n",
        "pool_3 = GlobalMaxPooling1D()(conv_3)\n",
        "pool_4 = GlobalMaxPooling1D()(conv_4)\n",
        "pool_5 = GlobalMaxPooling1D()(conv_5)\n",
        "\n",
        "# Concatenate all pooled features\n",
        "concatenated = Concatenate()([pool_3, pool_4, pool_5, additional_input])\n",
        "\n",
        "# Fully connected layers\n",
        "dense_layer = Dense(32, activation='relu')(concatenated)\n",
        "dropout_layer = Dropout(0.7)(dense_layer)\n",
        "output_layer = Dense(4, activation='softmax')(dropout_layer)  # Multi-class classification (4 classes)\n",
        "\n",
        "# Compile the model with appropriate loss for multi-class classification\n",
        "model_kim = Model(inputs=[text_input, additional_input], outputs=output_layer)\n",
        "model_kim.compile(optimizer='adam', loss='sparse_categorical_crossentropy', metrics=['accuracy'])\n",
        "\n",
        "# Model summary\n",
        "model_kim.summary()\n",
        "\n",
        "\n"
      ]
    },
    {
      "cell_type": "markdown",
      "metadata": {
        "id": "b0VhVbOC0fCK"
      },
      "source": [
        "The architecture is a hybrid model combining:\n",
        "1D Convolutional Layers: These extract features from the text input.\n",
        "Global Max Pooling: Helps reduce the dimensionality while retaining important features.\n",
        "Additional Inputs: Suggests integration of auxiliary features (likely categorical or numeric data).\n",
        "Fully Connected Dense Layers: Used for combining features and final classification.\n",
        "Dropout Layer: Used to prevent overfitting by randomly deactivating neurons during training.\n",
        "This architecture is well-suited for text-based multi-class classification tasks with auxiliary data."
      ]
    },
    {
      "cell_type": "code",
      "execution_count": null,
      "metadata": {
        "colab": {
          "base_uri": "https://localhost:8080/"
        },
        "id": "uOwxjeTYamMM",
        "outputId": "a8c6325b-e460-4669-8af9-9e1f5396988a"
      },
      "outputs": [
        {
          "name": "stdout",
          "output_type": "stream",
          "text": [
            "Epoch 1/50\n",
            "\u001b[1m1652/1652\u001b[0m \u001b[32m━━━━━━━━━━━━━━━━━━━━\u001b[0m\u001b[37m\u001b[0m \u001b[1m0s\u001b[0m 4ms/step - accuracy: 0.7912 - loss: 0.5393\n",
            "Epoch 1: val_accuracy improved from -inf to 0.91878, saving model to ./checkpoints/modelkim-01-0.92.weights.h5\n",
            "\u001b[1m1652/1652\u001b[0m \u001b[32m━━━━━━━━━━━━━━━━━━━━\u001b[0m\u001b[37m\u001b[0m \u001b[1m15s\u001b[0m 6ms/step - accuracy: 0.7913 - loss: 0.5392 - val_accuracy: 0.9188 - val_loss: 0.2463\n",
            "Epoch 2/50\n",
            "\u001b[1m1643/1652\u001b[0m \u001b[32m━━━━━━━━━━━━━━━━━━━\u001b[0m\u001b[37m━\u001b[0m \u001b[1m0s\u001b[0m 3ms/step - accuracy: 0.8949 - loss: 0.2675\n",
            "Epoch 2: val_accuracy improved from 0.91878 to 0.92900, saving model to ./checkpoints/modelkim-02-0.93.weights.h5\n",
            "\u001b[1m1652/1652\u001b[0m \u001b[32m━━━━━━━━━━━━━━━━━━━━\u001b[0m\u001b[37m\u001b[0m \u001b[1m14s\u001b[0m 4ms/step - accuracy: 0.8950 - loss: 0.2675 - val_accuracy: 0.9290 - val_loss: 0.2085\n",
            "Epoch 3/50\n",
            "\u001b[1m1634/1652\u001b[0m \u001b[32m━━━━━━━━━━━━━━━━━━━\u001b[0m\u001b[37m━\u001b[0m \u001b[1m0s\u001b[0m 3ms/step - accuracy: 0.9290 - loss: 0.1882\n",
            "Epoch 3: val_accuracy improved from 0.92900 to 0.93369, saving model to ./checkpoints/modelkim-03-0.93.weights.h5\n",
            "\u001b[1m1652/1652\u001b[0m \u001b[32m━━━━━━━━━━━━━━━━━━━━\u001b[0m\u001b[37m\u001b[0m \u001b[1m9s\u001b[0m 3ms/step - accuracy: 0.9291 - loss: 0.1882 - val_accuracy: 0.9337 - val_loss: 0.1978\n",
            "Epoch 4/50\n",
            "\u001b[1m1644/1652\u001b[0m \u001b[32m━━━━━━━━━━━━━━━━━━━\u001b[0m\u001b[37m━\u001b[0m \u001b[1m0s\u001b[0m 3ms/step - accuracy: 0.9572 - loss: 0.1401\n",
            "Epoch 4: val_accuracy improved from 0.93369 to 0.94489, saving model to ./checkpoints/modelkim-04-0.94.weights.h5\n",
            "\u001b[1m1652/1652\u001b[0m \u001b[32m━━━━━━━━━━━━━━━━━━━━\u001b[0m\u001b[37m\u001b[0m \u001b[1m10s\u001b[0m 3ms/step - accuracy: 0.9572 - loss: 0.1401 - val_accuracy: 0.9449 - val_loss: 0.2001\n",
            "Epoch 5/50\n",
            "\u001b[1m1648/1652\u001b[0m \u001b[32m━━━━━━━━━━━━━━━━━━━\u001b[0m\u001b[37m━\u001b[0m \u001b[1m0s\u001b[0m 4ms/step - accuracy: 0.9673 - loss: 0.1031\n",
            "Epoch 5: val_accuracy improved from 0.94489 to 0.95027, saving model to ./checkpoints/modelkim-05-0.95.weights.h5\n",
            "\u001b[1m1652/1652\u001b[0m \u001b[32m━━━━━━━━━━━━━━━━━━━━\u001b[0m\u001b[37m\u001b[0m \u001b[1m8s\u001b[0m 5ms/step - accuracy: 0.9672 - loss: 0.1031 - val_accuracy: 0.9503 - val_loss: 0.2318\n",
            "Epoch 6/50\n",
            "\u001b[1m1636/1652\u001b[0m \u001b[32m━━━━━━━━━━━━━━━━━━━\u001b[0m\u001b[37m━\u001b[0m \u001b[1m0s\u001b[0m 3ms/step - accuracy: 0.9737 - loss: 0.0784\n",
            "Epoch 6: val_accuracy improved from 0.95027 to 0.95231, saving model to ./checkpoints/modelkim-06-0.95.weights.h5\n",
            "\u001b[1m1652/1652\u001b[0m \u001b[32m━━━━━━━━━━━━━━━━━━━━\u001b[0m\u001b[37m\u001b[0m \u001b[1m7s\u001b[0m 3ms/step - accuracy: 0.9737 - loss: 0.0784 - val_accuracy: 0.9523 - val_loss: 0.2613\n",
            "Training history saved to kim_cnn_history.json\n",
            "\u001b[1m517/517\u001b[0m \u001b[32m━━━━━━━━━━━━━━━━━━━━\u001b[0m\u001b[37m\u001b[0m \u001b[1m2s\u001b[0m 3ms/step - accuracy: 0.9455 - loss: 0.2764\n",
            "Test Accuracy: 0.94\n"
          ]
        }
      ],
      "source": [
        "# Split X_train and X_test into separate inputs for training and testing\n",
        "X_train_text = X_train[:, :max_sequence_length]           # Text input\n",
        "X_train_additional = X_train[:, max_sequence_length:]     # Additional features input\n",
        "\n",
        "# Set up checkpointing and early stopping\n",
        "checkpoint_dir = './checkpoints'\n",
        "os.makedirs(checkpoint_dir, exist_ok=True)\n",
        "checkpoint_path = os.path.join(checkpoint_dir, \"modelkim-{epoch:02d}-{val_accuracy:.2f}.weights.h5\")\n",
        "checkpoint_callback = ModelCheckpoint(filepath=checkpoint_path, save_weights_only=True, save_best_only=True, monitor='val_accuracy', mode='max', verbose=1)\n",
        "early_stopping_callback = EarlyStopping(monitor='val_loss', patience=3)\n",
        "\n",
        "# Train the model\n",
        "history_kim = model_kim.fit(\n",
        "    [X_train_text, X_train_additional],  # Provided text and additional inputs separately\n",
        "    y_train,\n",
        "    epochs=50,\n",
        "    validation_split=0.2,\n",
        "    batch_size=32,\n",
        "    callbacks=[checkpoint_callback, early_stopping_callback]\n",
        ")\n",
        "\n",
        "# Save the training history\n",
        "history_path = 'kim_cnn_history.json'\n",
        "with open(history_path, 'w') as f:\n",
        "    json.dump(history_kim.history, f)\n",
        "print(f\"Training history saved to {history_path}\")\n",
        "\n",
        "# Prepare test data for evaluation\n",
        "X_test_text = X_test[:, :max_sequence_length]\n",
        "X_test_additional = X_test[:, max_sequence_length:]\n",
        "\n",
        "# Evaluate the model on test data\n",
        "test_loss, test_accuracy = model_kim.evaluate([X_test_text, X_test_additional], y_test)\n",
        "print(f\"Test Accuracy: {test_accuracy:.2f}\")\n",
        "\n"
      ]
    },
    {
      "cell_type": "code",
      "execution_count": null,
      "metadata": {
        "id": "3t3kE3IbbeoN"
      },
      "outputs": [],
      "source": [
        "# Load and plot training history\n",
        "with open(history_path, 'r') as f:\n",
        "    saved_history = json.load(f)"
      ]
    },
    {
      "cell_type": "code",
      "execution_count": null,
      "metadata": {
        "colab": {
          "base_uri": "https://localhost:8080/"
        },
        "id": "qV6LhR5vbSjD",
        "outputId": "c4bacd1b-df5a-427f-c911-cc9d2e622111"
      },
      "outputs": [
        {
          "name": "stdout",
          "output_type": "stream",
          "text": [
            "Training and Validation Accuracy: [0.8369131088256836, 0.9015952944755554, 0.9331983327865601, 0.9572318196296692, 0.9668073058128357, 0.9727305173873901] [0.9187797904014587, 0.928998589515686, 0.9336916208267212, 0.9448944330215454, 0.9502686858177185, 0.9523124694824219]\n"
          ]
        }
      ],
      "source": [
        "# Print saved history or plot (if you want to visualize training progress)\n",
        "print(\"Training and Validation Accuracy:\", saved_history.get('accuracy'), saved_history.get('val_accuracy'))"
      ]
    },
    {
      "cell_type": "markdown",
      "metadata": {
        "id": "zLj4cTER0fCL"
      },
      "source": [
        "The final test accuracy is 94%, which aligns closely with the validation accuracy. This suggests that the model generalizes well to unseen data, with minimal overfitting.\n"
      ]
    },
    {
      "cell_type": "code",
      "execution_count": null,
      "metadata": {
        "colab": {
          "base_uri": "https://localhost:8080/",
          "height": 507
        },
        "id": "akpb-NGmcNsw",
        "outputId": "af1d1485-6131-4a3a-af1f-924ed29a95ba"
      },
      "outputs": [
        {
          "data": {
            "image/png": "[encoded data removed]",
            "text/plain": [
              "<Figure size 1200x500 with 2 Axes>"
            ]
          },
          "metadata": {},
          "output_type": "display_data"
        }
      ],
      "source": [
        "\n",
        "\n",
        "# Load training history\n",
        "history_path = 'kim_cnn_history.json'\n",
        "with open(history_path, 'r') as f:\n",
        "    saved_history = json.load(f)\n",
        "\n",
        "# Extract accuracy and loss data\n",
        "train_accuracy = saved_history.get('accuracy', [])\n",
        "val_accuracy = saved_history.get('val_accuracy', [])\n",
        "train_loss = saved_history.get('loss', [])\n",
        "val_loss = saved_history.get('val_loss', [])\n",
        "\n",
        "# Plot training & validation accuracy values\n",
        "plt.figure(figsize=(12, 5))\n",
        "\n",
        "# Accuracy\n",
        "plt.subplot(1, 2, 1)\n",
        "plt.plot(train_accuracy, label='Training Accuracy')\n",
        "plt.plot(val_accuracy, label='Validation Accuracy')\n",
        "plt.title('Training and Validation Accuracy')\n",
        "plt.xlabel('Epochs')\n",
        "plt.ylabel('Accuracy')\n",
        "plt.legend()\n",
        "\n",
        "# Loss\n",
        "plt.subplot(1, 2, 2)\n",
        "plt.plot(train_loss, label='Training Loss')\n",
        "plt.plot(val_loss, label='Validation Loss')\n",
        "plt.title('Training and Validation Loss')\n",
        "plt.xlabel('Epochs')\n",
        "plt.ylabel('Loss')\n",
        "plt.legend()\n",
        "\n",
        "# Show the plots\n",
        "plt.tight_layout()\n",
        "plt.show()"
      ]
    },
    {
      "cell_type": "markdown",
      "metadata": {
        "id": "yhW-1QAmw_5G"
      },
      "source": [
        "1. Accuracy and Loss Trends\n",
        "* Training Accuracy steadily improves across epochs, starting from 83.69% in Epoch 1 and reaching 97.27% in Epoch 6. This indicates that the model is learning effectively and fitting well to the training data.\n",
        "* Validation Accuracy shows a similarly increasing trend but with diminishing gains after Epoch 4. It improves from 91.88% in Epoch 1 to 95.23% in Epoch 6. This suggests strong generalization but also indicates that the model might be nearing its optimal performance on the validation set.\n",
        "* * Training Loss decreases steadily, starting at 0.5393 and dropping to 0.0784 in Epoch 6. This aligns with the increasing training accuracy.\n",
        "Validation Loss decreases initially (indicating effective learning) but starts to fluctuate slightly after Epoch 3, rising from 0.2001 to 0.2613 by Epoch 6. This indicates slight overfitting in the later epochs.\n",
        "\n",
        "\n",
        "* The increasing gap between training and validation accuracy (and the slight rise in validation loss after Epoch 3) suggests slight overfitting as the model optimizes more for the training data.\n",
        "* Despite slight overfitting, the validation and test accuracies remain consistently high, indicating good generalization to unseen data."
      ]
    },
    {
      "cell_type": "markdown",
      "metadata": {
        "id": "D8dLmIQVvdvu"
      },
      "source": [
        "# Recurrent Neural Network (RNN) with LSTM\n",
        "\n",
        "- This model is a hybrid LSTM model combining both text data (processed through an LSTM layer) and additional non-text features.\n",
        "- The LSTM layer is part of the broader RNN family of models, which are designed to process sequential data by retaining information from previous time steps.\n",
        "- LSTMs are well-suited for text as they can retain information over longer sequences, making them useful for tasks like sentiment analysis, sequence classification, or any task that benefits from understanding word order and context.\n",
        "- Since this model combines an LSTM layer with additional non-text features, it is as a hybrid LSTM-based RNN model.\n",
        "\n",
        "\n",
        "\n",
        "\n"
      ]
    },
    {
      "cell_type": "code",
      "execution_count": null,
      "metadata": {
        "colab": {
          "base_uri": "https://localhost:8080/",
          "height": 417
        },
        "id": "bMcWFVVppKKw",
        "outputId": "4a71d8cc-05c6-4788-cc70-fdec5640ca98"
      },
      "outputs": [
        {
          "data": {
            "text/html": [
              "<pre style=\"white-space:pre;overflow-x:auto;line-height:normal;font-family:Menlo,'DejaVu Sans Mono',consolas,'Courier New',monospace\"><span style=\"font-weight: bold\">Model: \"functional_2\"</span>\n",
              "</pre>\n"
            ],
            "text/plain": [
              "\u001b[1mModel: \"functional_2\"\u001b[0m\n"
            ]
          },
          "metadata": {},
          "output_type": "display_data"
        },
        {
          "data": {
            "text/html": [
              "<pre style=\"white-space:pre;overflow-x:auto;line-height:normal;font-family:Menlo,'DejaVu Sans Mono',consolas,'Courier New',monospace\">┏━━━━━━━━━━━━━━━━━━━━━━━━━━━┳━━━━━━━━━━━━━━━━━━━━━━━━┳━━━━━━━━━━━━━━━━┳━━━━━━━━━━━━━━━━━━━━━━━━┓\n",
              "┃<span style=\"font-weight: bold\"> Layer (type)              </span>┃<span style=\"font-weight: bold\"> Output Shape           </span>┃<span style=\"font-weight: bold\">        Param # </span>┃<span style=\"font-weight: bold\"> Connected to           </span>┃\n",
              "┡━━━━━━━━━━━━━━━━━━━━━━━━━━━╇━━━━━━━━━━━━━━━━━━━━━━━━╇━━━━━━━━━━━━━━━━╇━━━━━━━━━━━━━━━━━━━━━━━━┩\n",
              "│ text_input (<span style=\"color: #0087ff; text-decoration-color: #0087ff\">InputLayer</span>)   │ (<span style=\"color: #00d7ff; text-decoration-color: #00d7ff\">None</span>, <span style=\"color: #00af00; text-decoration-color: #00af00\">100</span>)            │              <span style=\"color: #00af00; text-decoration-color: #00af00\">0</span> │ -                      │\n",
              "├───────────────────────────┼────────────────────────┼────────────────┼────────────────────────┤\n",
              "│ embedding_2 (<span style=\"color: #0087ff; text-decoration-color: #0087ff\">Embedding</span>)   │ (<span style=\"color: #00d7ff; text-decoration-color: #00d7ff\">None</span>, <span style=\"color: #00af00; text-decoration-color: #00af00\">100</span>, <span style=\"color: #00af00; text-decoration-color: #00af00\">32</span>)        │        <span style=\"color: #00af00; text-decoration-color: #00af00\">640,000</span> │ text_input[<span style=\"color: #00af00; text-decoration-color: #00af00\">0</span>][<span style=\"color: #00af00; text-decoration-color: #00af00\">0</span>]       │\n",
              "├───────────────────────────┼────────────────────────┼────────────────┼────────────────────────┤\n",
              "│ lstm (<span style=\"color: #0087ff; text-decoration-color: #0087ff\">LSTM</span>)               │ (<span style=\"color: #00d7ff; text-decoration-color: #00d7ff\">None</span>, <span style=\"color: #00af00; text-decoration-color: #00af00\">32</span>)             │          <span style=\"color: #00af00; text-decoration-color: #00af00\">8,320</span> │ embedding_2[<span style=\"color: #00af00; text-decoration-color: #00af00\">0</span>][<span style=\"color: #00af00; text-decoration-color: #00af00\">0</span>]      │\n",
              "├───────────────────────────┼────────────────────────┼────────────────┼────────────────────────┤\n",
              "│ additional_input          │ (<span style=\"color: #00d7ff; text-decoration-color: #00d7ff\">None</span>, <span style=\"color: #00af00; text-decoration-color: #00af00\">6</span>)              │              <span style=\"color: #00af00; text-decoration-color: #00af00\">0</span> │ -                      │\n",
              "│ (<span style=\"color: #0087ff; text-decoration-color: #0087ff\">InputLayer</span>)              │                        │                │                        │\n",
              "├───────────────────────────┼────────────────────────┼────────────────┼────────────────────────┤\n",
              "│ concatenate_2             │ (<span style=\"color: #00d7ff; text-decoration-color: #00d7ff\">None</span>, <span style=\"color: #00af00; text-decoration-color: #00af00\">38</span>)             │              <span style=\"color: #00af00; text-decoration-color: #00af00\">0</span> │ lstm[<span style=\"color: #00af00; text-decoration-color: #00af00\">0</span>][<span style=\"color: #00af00; text-decoration-color: #00af00\">0</span>],            │\n",
              "│ (<span style=\"color: #0087ff; text-decoration-color: #0087ff\">Concatenate</span>)             │                        │                │ additional_input[<span style=\"color: #00af00; text-decoration-color: #00af00\">0</span>][<span style=\"color: #00af00; text-decoration-color: #00af00\">0</span>] │\n",
              "├───────────────────────────┼────────────────────────┼────────────────┼────────────────────────┤\n",
              "│ dense_4 (<span style=\"color: #0087ff; text-decoration-color: #0087ff\">Dense</span>)           │ (<span style=\"color: #00d7ff; text-decoration-color: #00d7ff\">None</span>, <span style=\"color: #00af00; text-decoration-color: #00af00\">32</span>)             │          <span style=\"color: #00af00; text-decoration-color: #00af00\">1,248</span> │ concatenate_2[<span style=\"color: #00af00; text-decoration-color: #00af00\">0</span>][<span style=\"color: #00af00; text-decoration-color: #00af00\">0</span>]    │\n",
              "├───────────────────────────┼────────────────────────┼────────────────┼────────────────────────┤\n",
              "│ dropout_2 (<span style=\"color: #0087ff; text-decoration-color: #0087ff\">Dropout</span>)       │ (<span style=\"color: #00d7ff; text-decoration-color: #00d7ff\">None</span>, <span style=\"color: #00af00; text-decoration-color: #00af00\">32</span>)             │              <span style=\"color: #00af00; text-decoration-color: #00af00\">0</span> │ dense_4[<span style=\"color: #00af00; text-decoration-color: #00af00\">0</span>][<span style=\"color: #00af00; text-decoration-color: #00af00\">0</span>]          │\n",
              "├───────────────────────────┼────────────────────────┼────────────────┼────────────────────────┤\n",
              "│ dense_5 (<span style=\"color: #0087ff; text-decoration-color: #0087ff\">Dense</span>)           │ (<span style=\"color: #00d7ff; text-decoration-color: #00d7ff\">None</span>, <span style=\"color: #00af00; text-decoration-color: #00af00\">4</span>)              │            <span style=\"color: #00af00; text-decoration-color: #00af00\">132</span> │ dropout_2[<span style=\"color: #00af00; text-decoration-color: #00af00\">0</span>][<span style=\"color: #00af00; text-decoration-color: #00af00\">0</span>]        │\n",
              "└───────────────────────────┴────────────────────────┴────────────────┴────────────────────────┘\n",
              "</pre>\n"
            ],
            "text/plain": [
              "┏━━━━━━━━━━━━━━━━━━━━━━━━━━━┳━━━━━━━━━━━━━━━━━━━━━━━━┳━━━━━━━━━━━━━━━━┳━━━━━━━━━━━━━━━━━━━━━━━━┓\n",
              "┃\u001b[1m \u001b[0m\u001b[1mLayer (type)             \u001b[0m\u001b[1m \u001b[0m┃\u001b[1m \u001b[0m\u001b[1mOutput Shape          \u001b[0m\u001b[1m \u001b[0m┃\u001b[1m \u001b[0m\u001b[1m       Param #\u001b[0m\u001b[1m \u001b[0m┃\u001b[1m \u001b[0m\u001b[1mConnected to          \u001b[0m\u001b[1m \u001b[0m┃\n",
              "┡━━━━━━━━━━━━━━━━━━━━━━━━━━━╇━━━━━━━━━━━━━━━━━━━━━━━━╇━━━━━━━━━━━━━━━━╇━━━━━━━━━━━━━━━━━━━━━━━━┩\n",
              "│ text_input (\u001b[38;5;33mInputLayer\u001b[0m)   │ (\u001b[38;5;45mNone\u001b[0m, \u001b[38;5;34m100\u001b[0m)            │              \u001b[38;5;34m0\u001b[0m │ -                      │\n",
              "├───────────────────────────┼────────────────────────┼────────────────┼────────────────────────┤\n",
              "│ embedding_2 (\u001b[38;5;33mEmbedding\u001b[0m)   │ (\u001b[38;5;45mNone\u001b[0m, \u001b[38;5;34m100\u001b[0m, \u001b[38;5;34m32\u001b[0m)        │        \u001b[38;5;34m640,000\u001b[0m │ text_input[\u001b[38;5;34m0\u001b[0m][\u001b[38;5;34m0\u001b[0m]       │\n",
              "├───────────────────────────┼────────────────────────┼────────────────┼────────────────────────┤\n",
              "│ lstm (\u001b[38;5;33mLSTM\u001b[0m)               │ (\u001b[38;5;45mNone\u001b[0m, \u001b[38;5;34m32\u001b[0m)             │          \u001b[38;5;34m8,320\u001b[0m │ embedding_2[\u001b[38;5;34m0\u001b[0m][\u001b[38;5;34m0\u001b[0m]      │\n",
              "├───────────────────────────┼────────────────────────┼────────────────┼────────────────────────┤\n",
              "│ additional_input          │ (\u001b[38;5;45mNone\u001b[0m, \u001b[38;5;34m6\u001b[0m)              │              \u001b[38;5;34m0\u001b[0m │ -                      │\n",
              "│ (\u001b[38;5;33mInputLayer\u001b[0m)              │                        │                │                        │\n",
              "├───────────────────────────┼────────────────────────┼────────────────┼────────────────────────┤\n",
              "│ concatenate_2             │ (\u001b[38;5;45mNone\u001b[0m, \u001b[38;5;34m38\u001b[0m)             │              \u001b[38;5;34m0\u001b[0m │ lstm[\u001b[38;5;34m0\u001b[0m][\u001b[38;5;34m0\u001b[0m],            │\n",
              "│ (\u001b[38;5;33mConcatenate\u001b[0m)             │                        │                │ additional_input[\u001b[38;5;34m0\u001b[0m][\u001b[38;5;34m0\u001b[0m] │\n",
              "├───────────────────────────┼────────────────────────┼────────────────┼────────────────────────┤\n",
              "│ dense_4 (\u001b[38;5;33mDense\u001b[0m)           │ (\u001b[38;5;45mNone\u001b[0m, \u001b[38;5;34m32\u001b[0m)             │          \u001b[38;5;34m1,248\u001b[0m │ concatenate_2[\u001b[38;5;34m0\u001b[0m][\u001b[38;5;34m0\u001b[0m]    │\n",
              "├───────────────────────────┼────────────────────────┼────────────────┼────────────────────────┤\n",
              "│ dropout_2 (\u001b[38;5;33mDropout\u001b[0m)       │ (\u001b[38;5;45mNone\u001b[0m, \u001b[38;5;34m32\u001b[0m)             │              \u001b[38;5;34m0\u001b[0m │ dense_4[\u001b[38;5;34m0\u001b[0m][\u001b[38;5;34m0\u001b[0m]          │\n",
              "├───────────────────────────┼────────────────────────┼────────────────┼────────────────────────┤\n",
              "│ dense_5 (\u001b[38;5;33mDense\u001b[0m)           │ (\u001b[38;5;45mNone\u001b[0m, \u001b[38;5;34m4\u001b[0m)              │            \u001b[38;5;34m132\u001b[0m │ dropout_2[\u001b[38;5;34m0\u001b[0m][\u001b[38;5;34m0\u001b[0m]        │\n",
              "└───────────────────────────┴────────────────────────┴────────────────┴────────────────────────┘\n"
            ]
          },
          "metadata": {},
          "output_type": "display_data"
        },
        {
          "data": {
            "text/html": [
              "<pre style=\"white-space:pre;overflow-x:auto;line-height:normal;font-family:Menlo,'DejaVu Sans Mono',consolas,'Courier New',monospace\"><span style=\"font-weight: bold\"> Total params: </span><span style=\"color: #00af00; text-decoration-color: #00af00\">649,700</span> (2.48 MB)\n",
              "</pre>\n"
            ],
            "text/plain": [
              "\u001b[1m Total params: \u001b[0m\u001b[38;5;34m649,700\u001b[0m (2.48 MB)\n"
            ]
          },
          "metadata": {},
          "output_type": "display_data"
        },
        {
          "data": {
            "text/html": [
              "<pre style=\"white-space:pre;overflow-x:auto;line-height:normal;font-family:Menlo,'DejaVu Sans Mono',consolas,'Courier New',monospace\"><span style=\"font-weight: bold\"> Trainable params: </span><span style=\"color: #00af00; text-decoration-color: #00af00\">649,700</span> (2.48 MB)\n",
              "</pre>\n"
            ],
            "text/plain": [
              "\u001b[1m Trainable params: \u001b[0m\u001b[38;5;34m649,700\u001b[0m (2.48 MB)\n"
            ]
          },
          "metadata": {},
          "output_type": "display_data"
        },
        {
          "data": {
            "text/html": [
              "<pre style=\"white-space:pre;overflow-x:auto;line-height:normal;font-family:Menlo,'DejaVu Sans Mono',consolas,'Courier New',monospace\"><span style=\"font-weight: bold\"> Non-trainable params: </span><span style=\"color: #00af00; text-decoration-color: #00af00\">0</span> (0.00 B)\n",
              "</pre>\n"
            ],
            "text/plain": [
              "\u001b[1m Non-trainable params: \u001b[0m\u001b[38;5;34m0\u001b[0m (0.00 B)\n"
            ]
          },
          "metadata": {},
          "output_type": "display_data"
        }
      ],
      "source": [
        "\n",
        "\n",
        "# Define inputs for text and additional features\n",
        "text_input = Input(shape=(max_sequence_length,), name=\"text_input\")\n",
        "additional_input = Input(shape=(X_additional.shape[1],), name=\"additional_input\")\n",
        "\n",
        "# Embedding layer with LSTM\n",
        "embedding_layer = Embedding(input_dim=max_vocab_size, output_dim=32, input_length=max_sequence_length)(text_input) # Transforms the text input into dense embeddings.\n",
        "lstm_layer = LSTM(32)(embedding_layer)  # Use a single LSTM layer -  Processes the embeddings sequentially, capturing temporal or sequential dependencies in the text data.\n",
        "\n",
        "# Concatenate LSTM output with additional features\n",
        "concatenated = Concatenate()([lstm_layer, additional_input]) # This model takes a second input for additional features (numeric or categorical), which are concatenated with the LSTM output.\n",
        "\n",
        "\n",
        "# Dense layer\n",
        "dense_layer = Dense(32, activation='relu')(concatenated)\n",
        "dropout_layer = Dropout(0.5)(dense_layer)\n",
        "output_layer = Dense(4, activation='softmax')(dropout_layer)\n",
        "\n",
        "# Compile model\n",
        "model = Model(inputs=[text_input, additional_input], outputs=output_layer)\n",
        "model.compile(optimizer='adam', loss='sparse_categorical_crossentropy', metrics=['accuracy'])\n",
        "\n",
        "# Model summary\n",
        "model.summary()\n"
      ]
    },
    {
      "cell_type": "code",
      "execution_count": null,
      "metadata": {
        "colab": {
          "base_uri": "https://localhost:8080/"
        },
        "id": "rn-rqZRuvf4y",
        "outputId": "ea6c3817-f6c1-4bb0-e113-1d575bbaa3f0"
      },
      "outputs": [
        {
          "name": "stdout",
          "output_type": "stream",
          "text": [
            "Epoch 1/50\n",
            "\u001b[1m1645/1652\u001b[0m \u001b[32m━━━━━━━━━━━━━━━━━━━\u001b[0m\u001b[37m━\u001b[0m \u001b[1m0s\u001b[0m 8ms/step - accuracy: 0.7782 - loss: 0.5686\n",
            "Epoch 1: val_accuracy improved from -inf to 0.92037, saving model to ./checkpoints/modelkim-01-0.92.weights.h5\n",
            "\u001b[1m1652/1652\u001b[0m \u001b[32m━━━━━━━━━━━━━━━━━━━━\u001b[0m\u001b[37m\u001b[0m \u001b[1m19s\u001b[0m 9ms/step - accuracy: 0.7786 - loss: 0.5677 - val_accuracy: 0.9204 - val_loss: 0.2356\n",
            "Epoch 2/50\n",
            "\u001b[1m1649/1652\u001b[0m \u001b[32m━━━━━━━━━━━━━━━━━━━\u001b[0m\u001b[37m━\u001b[0m \u001b[1m0s\u001b[0m 7ms/step - accuracy: 0.9199 - loss: 0.2345\n",
            "Epoch 2: val_accuracy improved from 0.92037 to 0.93021, saving model to ./checkpoints/modelkim-02-0.93.weights.h5\n",
            "\u001b[1m1652/1652\u001b[0m \u001b[32m━━━━━━━━━━━━━━━━━━━━\u001b[0m\u001b[37m\u001b[0m \u001b[1m17s\u001b[0m 8ms/step - accuracy: 0.9199 - loss: 0.2345 - val_accuracy: 0.9302 - val_loss: 0.2086\n",
            "Epoch 3/50\n",
            "\u001b[1m1651/1652\u001b[0m \u001b[32m━━━━━━━━━━━━━━━━━━━\u001b[0m\u001b[37m━\u001b[0m \u001b[1m0s\u001b[0m 8ms/step - accuracy: 0.9354 - loss: 0.1869\n",
            "Epoch 3: val_accuracy improved from 0.93021 to 0.93271, saving model to ./checkpoints/modelkim-03-0.93.weights.h5\n",
            "\u001b[1m1652/1652\u001b[0m \u001b[32m━━━━━━━━━━━━━━━━━━━━\u001b[0m\u001b[37m\u001b[0m \u001b[1m21s\u001b[0m 9ms/step - accuracy: 0.9354 - loss: 0.1869 - val_accuracy: 0.9327 - val_loss: 0.2036\n",
            "Epoch 4/50\n",
            "\u001b[1m1651/1652\u001b[0m \u001b[32m━━━━━━━━━━━━━━━━━━━\u001b[0m\u001b[37m━\u001b[0m \u001b[1m0s\u001b[0m 7ms/step - accuracy: 0.9435 - loss: 0.1582\n",
            "Epoch 4: val_accuracy improved from 0.93271 to 0.93505, saving model to ./checkpoints/modelkim-04-0.94.weights.h5\n",
            "\u001b[1m1652/1652\u001b[0m \u001b[32m━━━━━━━━━━━━━━━━━━━━\u001b[0m\u001b[37m\u001b[0m \u001b[1m20s\u001b[0m 8ms/step - accuracy: 0.9435 - loss: 0.1582 - val_accuracy: 0.9351 - val_loss: 0.2076\n",
            "Epoch 5/50\n",
            "\u001b[1m1646/1652\u001b[0m \u001b[32m━━━━━━━━━━━━━━━━━━━\u001b[0m\u001b[37m━\u001b[0m \u001b[1m0s\u001b[0m 7ms/step - accuracy: 0.9509 - loss: 0.1362\n",
            "Epoch 5: val_accuracy improved from 0.93505 to 0.93680, saving model to ./checkpoints/modelkim-05-0.94.weights.h5\n",
            "\u001b[1m1652/1652\u001b[0m \u001b[32m━━━━━━━━━━━━━━━━━━━━\u001b[0m\u001b[37m\u001b[0m \u001b[1m14s\u001b[0m 8ms/step - accuracy: 0.9509 - loss: 0.1362 - val_accuracy: 0.9368 - val_loss: 0.2001\n",
            "Epoch 6/50\n",
            "\u001b[1m1649/1652\u001b[0m \u001b[32m━━━━━━━━━━━━━━━━━━━\u001b[0m\u001b[37m━\u001b[0m \u001b[1m0s\u001b[0m 8ms/step - accuracy: 0.9575 - loss: 0.1139\n",
            "Epoch 6: val_accuracy improved from 0.93680 to 0.94187, saving model to ./checkpoints/modelkim-06-0.94.weights.h5\n",
            "\u001b[1m1652/1652\u001b[0m \u001b[32m━━━━━━━━━━━━━━━━━━━━\u001b[0m\u001b[37m\u001b[0m \u001b[1m21s\u001b[0m 8ms/step - accuracy: 0.9575 - loss: 0.1139 - val_accuracy: 0.9419 - val_loss: 0.2123\n",
            "Epoch 7/50\n",
            "\u001b[1m1652/1652\u001b[0m \u001b[32m━━━━━━━━━━━━━━━━━━━━\u001b[0m\u001b[37m\u001b[0m \u001b[1m0s\u001b[0m 8ms/step - accuracy: 0.9619 - loss: 0.1010\n",
            "Epoch 7: val_accuracy did not improve from 0.94187\n",
            "\u001b[1m1652/1652\u001b[0m \u001b[32m━━━━━━━━━━━━━━━━━━━━\u001b[0m\u001b[37m\u001b[0m \u001b[1m15s\u001b[0m 9ms/step - accuracy: 0.9618 - loss: 0.1010 - val_accuracy: 0.9400 - val_loss: 0.2421\n",
            "Epoch 8/50\n",
            "\u001b[1m1648/1652\u001b[0m \u001b[32m━━━━━━━━━━━━━━━━━━━\u001b[0m\u001b[37m━\u001b[0m \u001b[1m0s\u001b[0m 7ms/step - accuracy: 0.9663 - loss: 0.0885\n",
            "Epoch 8: val_accuracy did not improve from 0.94187\n",
            "\u001b[1m1652/1652\u001b[0m \u001b[32m━━━━━━━━━━━━━━━━━━━━\u001b[0m\u001b[37m\u001b[0m \u001b[1m19s\u001b[0m 8ms/step - accuracy: 0.9663 - loss: 0.0886 - val_accuracy: 0.9413 - val_loss: 0.2415\n",
            "Training history saved to rnn_lstm_history.json\n",
            "\u001b[1m517/517\u001b[0m \u001b[32m━━━━━━━━━━━━━━━━━━━━\u001b[0m\u001b[37m\u001b[0m \u001b[1m1s\u001b[0m 2ms/step - accuracy: 0.9455 - loss: 0.2764\n",
            "Test Accuracy: 0.94\n"
          ]
        }
      ],
      "source": [
        "# Split X_train and X_test into separate inputs for training and testing\n",
        "X_train_text = X_train[:, :max_sequence_length]           # Text input\n",
        "X_train_additional = X_train[:, max_sequence_length:]     # Additional features input\n",
        "\n",
        "# Set up checkpointing and early stopping\n",
        "checkpoint_dir = './checkpoints'\n",
        "os.makedirs(checkpoint_dir, exist_ok=True)\n",
        "checkpoint_path = os.path.join(checkpoint_dir, \"modelkim-{epoch:02d}-{val_accuracy:.2f}.weights.h5\")\n",
        "checkpoint_callback = ModelCheckpoint(filepath=checkpoint_path, save_weights_only=True, save_best_only=True, monitor='val_accuracy', mode='max', verbose=1)\n",
        "early_stopping_callback = EarlyStopping(monitor='val_loss', patience=3)\n",
        "\n",
        "# Train the model\n",
        "history_kim = model.fit(\n",
        "    [X_train_text, X_train_additional],  # Provided text and additional inputs separately\n",
        "    y_train,\n",
        "    epochs=50,\n",
        "    validation_split=0.2,\n",
        "    batch_size=32,\n",
        "    callbacks=[checkpoint_callback, early_stopping_callback]\n",
        ")\n",
        "\n",
        "# Save the training history\n",
        "history_path = 'rnn_lstm_history.json'\n",
        "with open(history_path, 'w') as f:\n",
        "    json.dump(history_kim.history, f)\n",
        "print(f\"Training history saved to {history_path}\")\n",
        "\n",
        "# Prepare test data for evaluation\n",
        "X_test_text = X_test[:, :max_sequence_length]\n",
        "X_test_additional = X_test[:, max_sequence_length:]\n",
        "\n",
        "# Evaluate the model on test data\n",
        "test_loss, test_accuracy = model_kim.evaluate([X_test_text, X_test_additional], y_test)\n",
        "print(f\"Test Accuracy: {test_accuracy:.2f}\")\n",
        "\n"
      ]
    },
    {
      "cell_type": "code",
      "execution_count": null,
      "metadata": {
        "id": "WdhlnagWvoAl"
      },
      "outputs": [],
      "source": [
        "# Load and plot training history\n",
        "with open(history_path, 'r') as f:\n",
        "    saved_history = json.load(f)"
      ]
    },
    {
      "cell_type": "code",
      "execution_count": null,
      "metadata": {
        "colab": {
          "base_uri": "https://localhost:8080/"
        },
        "id": "EnO6fSLvvqmJ",
        "outputId": "cc625bf4-fc22-4c41-e490-8582369e981a"
      },
      "outputs": [
        {
          "name": "stdout",
          "output_type": "stream",
          "text": [
            "Training and Validation Accuracy: [0.8618360161781311, 0.9214465618133545, 0.9344662427902222, 0.9440039396286011, 0.9503434896469116, 0.9560017585754395, 0.9609408974647522, 0.9646121263504028] [0.9203693866729736, 0.9302096962928772, 0.9327076077461243, 0.9350541234016418, 0.9367951154708862, 0.9418666362762451, 0.9399742484092712, 0.9412610530853271]\n"
          ]
        }
      ],
      "source": [
        "# Print saved history or plot (if you want to visualize training progress)\n",
        "print(\"Training and Validation Accuracy:\", saved_history.get('accuracy'), saved_history.get('val_accuracy'))"
      ]
    },
    {
      "cell_type": "code",
      "execution_count": null,
      "metadata": {
        "colab": {
          "base_uri": "https://localhost:8080/",
          "height": 507
        },
        "id": "6er41wjTvvmi",
        "outputId": "39a69074-70fd-46b0-a9dd-6ae86164b343"
      },
      "outputs": [
        {
          "data": {
            "image/png": "[encoded data removed]",
            "text/plain": [
              "<Figure size 1200x500 with 2 Axes>"
            ]
          },
          "metadata": {},
          "output_type": "display_data"
        }
      ],
      "source": [
        "\n",
        "\n",
        "# Load training history\n",
        "history_path = 'rnn_lstm_history.json'\n",
        "with open(history_path, 'r') as f:\n",
        "    saved_history = json.load(f)\n",
        "\n",
        "# Extract accuracy and loss data\n",
        "train_accuracy = saved_history.get('accuracy', [])\n",
        "val_accuracy = saved_history.get('val_accuracy', [])\n",
        "train_loss = saved_history.get('loss', [])\n",
        "val_loss = saved_history.get('val_loss', [])\n",
        "\n",
        "# Plot training & validation accuracy values\n",
        "plt.figure(figsize=(12, 5))\n",
        "\n",
        "# Accuracy\n",
        "plt.subplot(1, 2, 1)\n",
        "plt.plot(train_accuracy, label='Training Accuracy')\n",
        "plt.plot(val_accuracy, label='Validation Accuracy')\n",
        "plt.title('Training and Validation Accuracy')\n",
        "plt.xlabel('Epochs')\n",
        "plt.ylabel('Accuracy')\n",
        "plt.legend()\n",
        "\n",
        "# Loss\n",
        "plt.subplot(1, 2, 2)\n",
        "plt.plot(train_loss, label='Training Loss')\n",
        "plt.plot(val_loss, label='Validation Loss')\n",
        "plt.title('Training and Validation Loss')\n",
        "plt.xlabel('Epochs')\n",
        "plt.ylabel('Loss')\n",
        "plt.legend()\n",
        "\n",
        "# Show the plots\n",
        "plt.tight_layout()\n",
        "plt.show()"
      ]
    },
    {
      "cell_type": "markdown",
      "metadata": {
        "id": "_qzqJrjfeSHs"
      },
      "source": [
        "* Training Accuracy steadily increases across epochs, indicating that the model is learning effectively on the training data.\n",
        "By the end of training, the accuracy is close to 96%, suggesting the model performs well on the training dataset.\n",
        "\n",
        "* Validation accuracy improves initially, peaking around epoch 3–4. After that, it remains relatively stable, showing no significant improvements, possibly indicating the model is approaching its generalization limit for this data.\n",
        "\n",
        "* Training Loss decreases consistently, which aligns with the improvement in training accuracy.\n",
        "This shows the model is minimizing its error on the training dataset effectively.\n",
        "\n",
        "* Validation Loss decreases initially but starts fluctuating and slightly increasing after epoch 3–4.\n",
        "This could indicate the model is starting to overfit the training data."
      ]
    },
    {
      "cell_type": "markdown",
      "metadata": {
        "id": "koVyGV8Lz66c"
      },
      "source": [
        "## Conclusion"
      ]
    },
    {
      "cell_type": "code",
      "source": [
        "from IPython.core.display import display, HTML\n",
        "\n",
        "html_content = \"\"\"\n",
        "<!DOCTYPE html>\n",
        "<html lang=\"en\">\n",
        "<head>\n",
        "  <style>\n",
        "    body {\n",
        "      font-family: Arial, sans-serif;\n",
        "    }\n",
        "    table {\n",
        "      width: 80%;\n",
        "      border-collapse: collapse;\n",
        "      margin: 20px 0;\n",
        "      font-size: 18px;\n",
        "      text-align: left;\n",
        "    }\n",
        "    table th, table td {\n",
        "      padding: 12px;\n",
        "      border: 1px solid #ddd;\n",
        "    }\n",
        "    table th {\n",
        "      background-color: #2980b9;\n",
        "      color: white;\n",
        "    }\n",
        "    table tr:nth-child(even) {\n",
        "      background-color: lightblue;\n",
        "      color: black;\n",
        "    }\n",
        "    h2 {\n",
        "      color: green;\n",
        "    }\n",
        "  </style>\n",
        "</head>\n",
        "<body>\n",
        "  <h2>MODEL EVALUATION</h2>\n",
        "  <h3>DistilBERT TRANSFORMER</h3>\n",
        "  <p>Transformer-based deep learning model capable of capturing contextual sentiment nuances.</p>\n",
        "  <table>\n",
        "    <tr>\n",
        "      <th>Models</th>\n",
        "      <th>Training Accuracy</th>\n",
        "      <th>Testing Accuracy</th>\n",
        "      <th>Validation Accuracy</th>\n",
        "    </tr>\n",
        "    <tr>\n",
        "      <td><strong>Hybrid CNN</strong></td>\n",
        "      <td>97.6%</td>\n",
        "      <td>93.55%</td>\n",
        "      <td>95.21%</td>\n",
        "    </tr>\n",
        "    <tr>\n",
        "      <td><strong>KIM CNN</strong></td>\n",
        "      <td>97.2%</td>\n",
        "      <td>94.5%</td>\n",
        "      <td>95.23%</td>\n",
        "    </tr>\n",
        "    <tr>\n",
        "      <td><strong>RNN CNN</strong></td>\n",
        "      <td>96.5%</td>\n",
        "      <td>94.5%</td>\n",
        "      <td>94.1%</td>\n",
        "    </tr>\n",
        "     </table>\n",
        "     <h3>VADER SENTIMENT ANALYSER</h3>\n",
        "     <p>Rule-based approach with simple heuristics and limited contextual understanding, especially for nuanced or complex text inputs.</p>\n",
        "      <table>\n",
        "      <tr>\n",
        "      <th>Models</th>\n",
        "      <th>Training Accuracy</th>\n",
        "      <th>Testing Accuracy</th>\n",
        "      <th>Validation Accuracy</th>\n",
        "    </tr>\n",
        "    <tr>\n",
        "      <td><strong>Hybrid CNN</strong></td>\n",
        "      <td>77.5%</td>\n",
        "      <td>71.6%</td>\n",
        "      <td>70.6%</td>\n",
        "    </tr>\n",
        "    <tr>\n",
        "      <td><strong>KIM CNN</strong></td>\n",
        "      <td>76.3%</td>\n",
        "      <td>71.1%</td>\n",
        "      <td>71.1%</td>\n",
        "    </tr>\n",
        "    <tr>\n",
        "      <td><strong>RNN CNN</strong></td>\n",
        "      <td>75.9%</td>\n",
        "      <td>71.1%</td>\n",
        "      <td>72.1%</td>\n",
        "    </tr>\n",
        "  </table>\n",
        "</body>\n",
        "</html>\n",
        "\"\"\"\n",
        "\n",
        "display(HTML(html_content))"
      ],
      "metadata": {
        "colab": {
          "base_uri": "https://localhost:8080/",
          "height": 620
        },
        "id": "C5QwiA7T1a6R",
        "outputId": "f130174d-52a1-48af-a488-9e63f77a02a7"
      },
      "execution_count": 1,
      "outputs": [
        {
          "output_type": "display_data",
          "data": {
            "text/plain": [
              "<IPython.core.display.HTML object>"
            ],
            "text/html": [
              "\n",
              "<!DOCTYPE html>\n",
              "<html lang=\"en\">\n",
              "<head>\n",
              "  <style>\n",
              "    body {\n",
              "      font-family: Arial, sans-serif;\n",
              "    }\n",
              "    table {\n",
              "      width: 80%;\n",
              "      border-collapse: collapse;\n",
              "      margin: 20px 0;\n",
              "      font-size: 18px;\n",
              "      text-align: left;\n",
              "    }\n",
              "    table th, table td {\n",
              "      padding: 12px;\n",
              "      border: 1px solid #ddd;\n",
              "    }\n",
              "    table th {\n",
              "      background-color: #2980b9;\n",
              "      color: white;\n",
              "    }\n",
              "    table tr:nth-child(even) {\n",
              "      background-color: lightblue;\n",
              "      color: black;\n",
              "    }\n",
              "    h2 {\n",
              "      color: green;\n",
              "    }\n",
              "  </style>\n",
              "</head>\n",
              "<body>\n",
              "  <h2>MODEL EVALUATION</h2>\n",
              "  <h3>DistilBERT TRANSFORMER</h3>\n",
              "  <p>Transformer-based deep learning model capable of capturing contextual sentiment nuances.</p>\n",
              "  <table>\n",
              "    <tr>\n",
              "      <th>Models</th>\n",
              "      <th>Training Accuracy</th>\n",
              "      <th>Testing Accuracy</th>\n",
              "      <th>Validation Accuracy</th>\n",
              "    </tr>\n",
              "    <tr>\n",
              "      <td><strong>Hybrid CNN</strong></td>\n",
              "      <td>97.6%</td>\n",
              "      <td>93.55%</td>\n",
              "      <td>95.21%</td>\n",
              "    </tr>\n",
              "    <tr>\n",
              "      <td><strong>KIM CNN</strong></td>\n",
              "      <td>97.2%</td>\n",
              "      <td>94.5%</td>\n",
              "      <td>95.23%</td>\n",
              "    </tr>\n",
              "    <tr>\n",
              "      <td><strong>RNN CNN</strong></td>\n",
              "      <td>96.5%</td>\n",
              "      <td>94.5%</td>\n",
              "      <td>94.1%</td>\n",
              "    </tr>\n",
              "     </table>\n",
              "     <h3>VADER SENTIMENT ANALYSER</h3>\n",
              "     <p>Rule-based approach with simple heuristics and limited contextual understanding, especially for nuanced or complex text inputs.</p>\n",
              "      <table>\n",
              "      <tr>\n",
              "      <th>Models</th>\n",
              "      <th>Training Accuracy</th>\n",
              "      <th>Testing Accuracy</th>\n",
              "      <th>Validation Accuracy</th>\n",
              "    </tr>\n",
              "    <tr>\n",
              "      <td><strong>Hybrid CNN</strong></td>\n",
              "      <td>77.5%</td>\n",
              "      <td>71.6%</td>\n",
              "      <td>70.6%</td>\n",
              "    </tr>\n",
              "    <tr>\n",
              "      <td><strong>KIM CNN</strong></td>\n",
              "      <td>76.3%</td>\n",
              "      <td>71.1%</td>\n",
              "      <td>71.1%</td>\n",
              "    </tr>\n",
              "    <tr>\n",
              "      <td><strong>RNN CNN</strong></td>\n",
              "      <td>75.9%</td>\n",
              "      <td>71.1%</td>\n",
              "      <td>72.1%</td>\n",
              "    </tr>\n",
              "  </table>\n",
              "</body>\n",
              "</html>\n"
            ]
          },
          "metadata": {}
        }
      ]
    },
    {
      "cell_type": "markdown",
      "metadata": {
        "id": "Q1DznXHqz69t"
      },
      "source": [
        "## Vader sentiment Analyser Work:\n",
        "* Included the columns: ['Title_word_count', 'Text_word_count', 'Score', 'Total_comments', 'Sentiment', 'Processed_Title', 'Processed_Text'].\n",
        "* The Sentiment column was derived from VADER Sentiment Analysis achieved an accuracy of 70–75% with significant overfitting (large gaps between training and validation metrics). Validation loss diverged noticeably after a few epochs, indicating poor generalization.\n",
        "\n",
        "## DistilBERT Transformer Work:\n",
        "* Added  Sentiment_Score and sentiment generated using DistilBERT (fine-tuned on SST-2), a transformer-based deep learning model for sentiment classification.\n",
        "* The columns used were: ['Title_word_count', 'Text_word_count', 'Score', 'Total_comments', 'Sentiment2', 'Processed_Title', 'Processed_Text', 'Sentiment_Score'].\n",
        "* Achieved significantly higher validation accuracy (95%) and test accuracy (93%).Moreover overfitting was minimized, with validation metrics closely aligned with test metrics, indicating improved generalization.\n",
        "* Validation loss showed minor divergence after early epochs but was controlled effectively through early stopping.\n",
        "\n",
        "## Conclusion\n",
        "\n",
        "* Using Sentiment_Score  and sentiment from DistilBERT significantly boosted model accuracy, increasing it from 70–75% in the previous work to 95% validation accuracy and 93% test accuracy in the current work.\n",
        "\n",
        "* The addition of Sentiment_Score improved the model's ability to generalize to unseen data, by closely aligned training, validation, and test metrics.\n",
        "\n",
        "* Overfitting was decreased by adding features that better captured the semantic meaning of text, along with the use of dropout regularization and early stopping.\n",
        "\n",
        "* In the current work, validation loss was controlled effectively, although it showed minor increases in later epochs. With early stopping I was able to achieve optimal performance without further divergence.\n",
        "\n",
        "* Features like Title_word_count, Text_word_count, Score, and Total_comments provided useful auxiliary information that complemented the textual features, improving the overall performance in both approaches.\n",
        "\n",
        "\n"
      ]
    },
    {
      "cell_type": "markdown",
      "metadata": {
        "id": "biiFaQjX0fCM"
      },
      "source": [
        ">This approach, using DistilBERT fine-tuned on SST-2, showed significant improvement in both accuracy and generalization compared to the previous work using VADER Sentiment Analysis."
      ]
    }
  ],
  "metadata": {
    "accelerator": "GPU",
    "colab": {
      "gpuType": "T4",
      "provenance": []
    },
    "kernelspec": {
      "display_name": "Python 3",
      "name": "python3"
    },
    "language_info": {
      "name": "python"
    }
  },
  "nbformat": 4,
  "nbformat_minor": 0
}