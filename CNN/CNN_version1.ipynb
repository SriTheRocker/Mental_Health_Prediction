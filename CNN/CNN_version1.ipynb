{
  "cells": [
    {
      "cell_type": "code",
      "execution_count": 1,
      "metadata": {
        "id": "MFpD76vyaMv2"
      },
      "outputs": [],
      "source": [
        "import pandas as pd\n",
        "import numpy as np\n",
        "import warnings\n",
        "warnings.filterwarnings('ignore')\n",
        "from sklearn.model_selection import train_test_split\n",
        "from sklearn.preprocessing import LabelEncoder, StandardScaler\n",
        "from sklearn.feature_extraction.text import TfidfVectorizer\n",
        "from sklearn.metrics import accuracy_score, classification_report,confusion_matrix\n",
        "from sklearn.linear_model import LogisticRegression\n",
        "from sklearn.tree import DecisionTreeClassifier\n",
        "from sklearn.svm import SVC\n",
        "\n",
        "from sklearn.ensemble import RandomForestClassifier\n",
        "from sklearn.pipeline import FeatureUnion\n",
        "from sklearn.compose import ColumnTransformer"
      ]
    },
    {
      "cell_type": "markdown",
      "source": [
        "## Data Loading\n",
        "\n",
        "Loaded the save data from Feature Engineering"
      ],
      "metadata": {
        "id": "zGKWBbbd_LJE"
      }
    },
    {
      "cell_type": "code",
      "execution_count": 2,
      "metadata": {
        "colab": {
          "base_uri": "https://localhost:8080/",
          "height": 660
        },
        "id": "biZMUvC7aQv-",
        "outputId": "cc3558b7-c0a0-4829-e07e-96b7a4d5b739"
      },
      "outputs": [
        {
          "output_type": "execute_result",
          "data": {
            "text/plain": [
              "   index            Timestamp     Subreddit     Type Post_id  \\\n",
              "0      0  2018-05-28 19:41:32  mentalhealth  Comment  8msp9v   \n",
              "1      1  2018-05-28 19:53:47  mentalhealth  Comment  8msp9v   \n",
              "2      2  2018-05-28 20:04:29  mentalhealth  Comment  8msp9v   \n",
              "3      3  2018-05-28 20:00:07  mentalhealth  Comment  8msp9v   \n",
              "4      4  2018-05-28 21:21:11  mentalhealth  Comment  8msp9v   \n",
              "\n",
              "                                               Title           Author  \\\n",
              "0  Mental Health Awareness Month: I have schizoaf...  Candle1nTh3Dark   \n",
              "1  Mental Health Awareness Month: I have schizoaf...  sciencelove1994   \n",
              "2  Mental Health Awareness Month: I have schizoaf...          Unknown   \n",
              "3  Mental Health Awareness Month: I have schizoaf...          swild89   \n",
              "4  Mental Health Awareness Month: I have schizoaf...  BoozeMeUpScotty   \n",
              "\n",
              "                                                Text  Score  Total_comments  \\\n",
              "0  Thank you for posting this, I've failed univer...  141.0             0.0   \n",
              "1  I have schizoaffective mixed episode type. I a...   61.0             0.0   \n",
              "2  As someone who is struggling with mental illne...   36.0             0.0   \n",
              "3  I’m heading back now at 28! Thanks for the ins...   28.0             0.0   \n",
              "4  Yayyyy!!! Good for you! This is my favorite ki...   11.0             0.0   \n",
              "\n",
              "   month  hour day_of_week Sentiment  Title_word_count  Text_word_count  \\\n",
              "0      5    19      Monday  negative                48               20   \n",
              "1      5    19      Monday  positive                48               33   \n",
              "2      5    20      Monday  negative                48               49   \n",
              "3      5    20      Monday  positive                48               11   \n",
              "4      5    21      Monday  positive                48              499   \n",
              "\n",
              "         Category                                    Processed_Title  \\\n",
              "0  MH_Improvement  mental health awareness month schizoaffective ...   \n",
              "1  MH_Improvement  mental health awareness month schizoaffective ...   \n",
              "2  MH_Improvement  mental health awareness month schizoaffective ...   \n",
              "3  MH_Improvement  mental health awareness month schizoaffective ...   \n",
              "4  MH_Improvement  mental health awareness month schizoaffective ...   \n",
              "\n",
              "                                      Processed_Text  \n",
              "0  thank posting failed university 3 time due hos...  \n",
              "1  schizoaffective mixed episode type junior ivy ...  \n",
              "2  someone struggling mental illness currently co...  \n",
              "3                 heading back 28 thanks inspiration  \n",
              "4  yayyyy good favorite kind post see anywhere wo...  "
            ],
            "text/html": [
              "\n",
              "  <div id=\"df-86f9a343-c4e1-44bc-8ee1-e124abf3a901\" class=\"colab-df-container\">\n",
              "    <div>\n",
              "<style scoped>\n",
              "    .dataframe tbody tr th:only-of-type {\n",
              "        vertical-align: middle;\n",
              "    }\n",
              "\n",
              "    .dataframe tbody tr th {\n",
              "        vertical-align: top;\n",
              "    }\n",
              "\n",
              "    .dataframe thead th {\n",
              "        text-align: right;\n",
              "    }\n",
              "</style>\n",
              "<table border=\"1\" class=\"dataframe\">\n",
              "  <thead>\n",
              "    <tr style=\"text-align: right;\">\n",
              "      <th></th>\n",
              "      <th>index</th>\n",
              "      <th>Timestamp</th>\n",
              "      <th>Subreddit</th>\n",
              "      <th>Type</th>\n",
              "      <th>Post_id</th>\n",
              "      <th>Title</th>\n",
              "      <th>Author</th>\n",
              "      <th>Text</th>\n",
              "      <th>Score</th>\n",
              "      <th>Total_comments</th>\n",
              "      <th>month</th>\n",
              "      <th>hour</th>\n",
              "      <th>day_of_week</th>\n",
              "      <th>Sentiment</th>\n",
              "      <th>Title_word_count</th>\n",
              "      <th>Text_word_count</th>\n",
              "      <th>Category</th>\n",
              "      <th>Processed_Title</th>\n",
              "      <th>Processed_Text</th>\n",
              "    </tr>\n",
              "  </thead>\n",
              "  <tbody>\n",
              "    <tr>\n",
              "      <th>0</th>\n",
              "      <td>0</td>\n",
              "      <td>2018-05-28 19:41:32</td>\n",
              "      <td>mentalhealth</td>\n",
              "      <td>Comment</td>\n",
              "      <td>8msp9v</td>\n",
              "      <td>Mental Health Awareness Month: I have schizoaf...</td>\n",
              "      <td>Candle1nTh3Dark</td>\n",
              "      <td>Thank you for posting this, I've failed univer...</td>\n",
              "      <td>141.0</td>\n",
              "      <td>0.0</td>\n",
              "      <td>5</td>\n",
              "      <td>19</td>\n",
              "      <td>Monday</td>\n",
              "      <td>negative</td>\n",
              "      <td>48</td>\n",
              "      <td>20</td>\n",
              "      <td>MH_Improvement</td>\n",
              "      <td>mental health awareness month schizoaffective ...</td>\n",
              "      <td>thank posting failed university 3 time due hos...</td>\n",
              "    </tr>\n",
              "    <tr>\n",
              "      <th>1</th>\n",
              "      <td>1</td>\n",
              "      <td>2018-05-28 19:53:47</td>\n",
              "      <td>mentalhealth</td>\n",
              "      <td>Comment</td>\n",
              "      <td>8msp9v</td>\n",
              "      <td>Mental Health Awareness Month: I have schizoaf...</td>\n",
              "      <td>sciencelove1994</td>\n",
              "      <td>I have schizoaffective mixed episode type. I a...</td>\n",
              "      <td>61.0</td>\n",
              "      <td>0.0</td>\n",
              "      <td>5</td>\n",
              "      <td>19</td>\n",
              "      <td>Monday</td>\n",
              "      <td>positive</td>\n",
              "      <td>48</td>\n",
              "      <td>33</td>\n",
              "      <td>MH_Improvement</td>\n",
              "      <td>mental health awareness month schizoaffective ...</td>\n",
              "      <td>schizoaffective mixed episode type junior ivy ...</td>\n",
              "    </tr>\n",
              "    <tr>\n",
              "      <th>2</th>\n",
              "      <td>2</td>\n",
              "      <td>2018-05-28 20:04:29</td>\n",
              "      <td>mentalhealth</td>\n",
              "      <td>Comment</td>\n",
              "      <td>8msp9v</td>\n",
              "      <td>Mental Health Awareness Month: I have schizoaf...</td>\n",
              "      <td>Unknown</td>\n",
              "      <td>As someone who is struggling with mental illne...</td>\n",
              "      <td>36.0</td>\n",
              "      <td>0.0</td>\n",
              "      <td>5</td>\n",
              "      <td>20</td>\n",
              "      <td>Monday</td>\n",
              "      <td>negative</td>\n",
              "      <td>48</td>\n",
              "      <td>49</td>\n",
              "      <td>MH_Improvement</td>\n",
              "      <td>mental health awareness month schizoaffective ...</td>\n",
              "      <td>someone struggling mental illness currently co...</td>\n",
              "    </tr>\n",
              "    <tr>\n",
              "      <th>3</th>\n",
              "      <td>3</td>\n",
              "      <td>2018-05-28 20:00:07</td>\n",
              "      <td>mentalhealth</td>\n",
              "      <td>Comment</td>\n",
              "      <td>8msp9v</td>\n",
              "      <td>Mental Health Awareness Month: I have schizoaf...</td>\n",
              "      <td>swild89</td>\n",
              "      <td>I’m heading back now at 28! Thanks for the ins...</td>\n",
              "      <td>28.0</td>\n",
              "      <td>0.0</td>\n",
              "      <td>5</td>\n",
              "      <td>20</td>\n",
              "      <td>Monday</td>\n",
              "      <td>positive</td>\n",
              "      <td>48</td>\n",
              "      <td>11</td>\n",
              "      <td>MH_Improvement</td>\n",
              "      <td>mental health awareness month schizoaffective ...</td>\n",
              "      <td>heading back 28 thanks inspiration</td>\n",
              "    </tr>\n",
              "    <tr>\n",
              "      <th>4</th>\n",
              "      <td>4</td>\n",
              "      <td>2018-05-28 21:21:11</td>\n",
              "      <td>mentalhealth</td>\n",
              "      <td>Comment</td>\n",
              "      <td>8msp9v</td>\n",
              "      <td>Mental Health Awareness Month: I have schizoaf...</td>\n",
              "      <td>BoozeMeUpScotty</td>\n",
              "      <td>Yayyyy!!! Good for you! This is my favorite ki...</td>\n",
              "      <td>11.0</td>\n",
              "      <td>0.0</td>\n",
              "      <td>5</td>\n",
              "      <td>21</td>\n",
              "      <td>Monday</td>\n",
              "      <td>positive</td>\n",
              "      <td>48</td>\n",
              "      <td>499</td>\n",
              "      <td>MH_Improvement</td>\n",
              "      <td>mental health awareness month schizoaffective ...</td>\n",
              "      <td>yayyyy good favorite kind post see anywhere wo...</td>\n",
              "    </tr>\n",
              "  </tbody>\n",
              "</table>\n",
              "</div>\n",
              "    <div class=\"colab-df-buttons\">\n",
              "\n",
              "  <div class=\"colab-df-container\">\n",
              "    <button class=\"colab-df-convert\" onclick=\"convertToInteractive('df-86f9a343-c4e1-44bc-8ee1-e124abf3a901')\"\n",
              "            title=\"Convert this dataframe to an interactive table.\"\n",
              "            style=\"display:none;\">\n",
              "\n",
              "  <svg xmlns=\"http://www.w3.org/2000/svg\" height=\"24px\" viewBox=\"0 -960 960 960\">\n",
              "    <path d=\"M120-120v-720h720v720H120Zm60-500h600v-160H180v160Zm220 220h160v-160H400v160Zm0 220h160v-160H400v160ZM180-400h160v-160H180v160Zm440 0h160v-160H620v160ZM180-180h160v-160H180v160Zm440 0h160v-160H620v160Z\"/>\n",
              "  </svg>\n",
              "    </button>\n",
              "\n",
              "  <style>\n",
              "    .colab-df-container {\n",
              "      display:flex;\n",
              "      gap: 12px;\n",
              "    }\n",
              "\n",
              "    .colab-df-convert {\n",
              "      background-color: #E8F0FE;\n",
              "      border: none;\n",
              "      border-radius: 50%;\n",
              "      cursor: pointer;\n",
              "      display: none;\n",
              "      fill: #1967D2;\n",
              "      height: 32px;\n",
              "      padding: 0 0 0 0;\n",
              "      width: 32px;\n",
              "    }\n",
              "\n",
              "    .colab-df-convert:hover {\n",
              "      background-color: #E2EBFA;\n",
              "      box-shadow: 0px 1px 2px rgba(60, 64, 67, 0.3), 0px 1px 3px 1px rgba(60, 64, 67, 0.15);\n",
              "      fill: #174EA6;\n",
              "    }\n",
              "\n",
              "    .colab-df-buttons div {\n",
              "      margin-bottom: 4px;\n",
              "    }\n",
              "\n",
              "    [theme=dark] .colab-df-convert {\n",
              "      background-color: #3B4455;\n",
              "      fill: #D2E3FC;\n",
              "    }\n",
              "\n",
              "    [theme=dark] .colab-df-convert:hover {\n",
              "      background-color: #434B5C;\n",
              "      box-shadow: 0px 1px 3px 1px rgba(0, 0, 0, 0.15);\n",
              "      filter: drop-shadow(0px 1px 2px rgba(0, 0, 0, 0.3));\n",
              "      fill: #FFFFFF;\n",
              "    }\n",
              "  </style>\n",
              "\n",
              "    <script>\n",
              "      const buttonEl =\n",
              "        document.querySelector('#df-86f9a343-c4e1-44bc-8ee1-e124abf3a901 button.colab-df-convert');\n",
              "      buttonEl.style.display =\n",
              "        google.colab.kernel.accessAllowed ? 'block' : 'none';\n",
              "\n",
              "      async function convertToInteractive(key) {\n",
              "        const element = document.querySelector('#df-86f9a343-c4e1-44bc-8ee1-e124abf3a901');\n",
              "        const dataTable =\n",
              "          await google.colab.kernel.invokeFunction('convertToInteractive',\n",
              "                                                    [key], {});\n",
              "        if (!dataTable) return;\n",
              "\n",
              "        const docLinkHtml = 'Like what you see? Visit the ' +\n",
              "          '<a target=\"_blank\" href=https://colab.research.google.com/notebooks/data_table.ipynb>data table notebook</a>'\n",
              "          + ' to learn more about interactive tables.';\n",
              "        element.innerHTML = '';\n",
              "        dataTable['output_type'] = 'display_data';\n",
              "        await google.colab.output.renderOutput(dataTable, element);\n",
              "        const docLink = document.createElement('div');\n",
              "        docLink.innerHTML = docLinkHtml;\n",
              "        element.appendChild(docLink);\n",
              "      }\n",
              "    </script>\n",
              "  </div>\n",
              "\n",
              "\n",
              "<div id=\"df-a7d01d0e-5768-4564-a993-03e2b99dddd2\">\n",
              "  <button class=\"colab-df-quickchart\" onclick=\"quickchart('df-a7d01d0e-5768-4564-a993-03e2b99dddd2')\"\n",
              "            title=\"Suggest charts\"\n",
              "            style=\"display:none;\">\n",
              "\n",
              "<svg xmlns=\"http://www.w3.org/2000/svg\" height=\"24px\"viewBox=\"0 0 24 24\"\n",
              "     width=\"24px\">\n",
              "    <g>\n",
              "        <path d=\"M19 3H5c-1.1 0-2 .9-2 2v14c0 1.1.9 2 2 2h14c1.1 0 2-.9 2-2V5c0-1.1-.9-2-2-2zM9 17H7v-7h2v7zm4 0h-2V7h2v10zm4 0h-2v-4h2v4z\"/>\n",
              "    </g>\n",
              "</svg>\n",
              "  </button>\n",
              "\n",
              "<style>\n",
              "  .colab-df-quickchart {\n",
              "      --bg-color: #E8F0FE;\n",
              "      --fill-color: #1967D2;\n",
              "      --hover-bg-color: #E2EBFA;\n",
              "      --hover-fill-color: #174EA6;\n",
              "      --disabled-fill-color: #AAA;\n",
              "      --disabled-bg-color: #DDD;\n",
              "  }\n",
              "\n",
              "  [theme=dark] .colab-df-quickchart {\n",
              "      --bg-color: #3B4455;\n",
              "      --fill-color: #D2E3FC;\n",
              "      --hover-bg-color: #434B5C;\n",
              "      --hover-fill-color: #FFFFFF;\n",
              "      --disabled-bg-color: #3B4455;\n",
              "      --disabled-fill-color: #666;\n",
              "  }\n",
              "\n",
              "  .colab-df-quickchart {\n",
              "    background-color: var(--bg-color);\n",
              "    border: none;\n",
              "    border-radius: 50%;\n",
              "    cursor: pointer;\n",
              "    display: none;\n",
              "    fill: var(--fill-color);\n",
              "    height: 32px;\n",
              "    padding: 0;\n",
              "    width: 32px;\n",
              "  }\n",
              "\n",
              "  .colab-df-quickchart:hover {\n",
              "    background-color: var(--hover-bg-color);\n",
              "    box-shadow: 0 1px 2px rgba(60, 64, 67, 0.3), 0 1px 3px 1px rgba(60, 64, 67, 0.15);\n",
              "    fill: var(--button-hover-fill-color);\n",
              "  }\n",
              "\n",
              "  .colab-df-quickchart-complete:disabled,\n",
              "  .colab-df-quickchart-complete:disabled:hover {\n",
              "    background-color: var(--disabled-bg-color);\n",
              "    fill: var(--disabled-fill-color);\n",
              "    box-shadow: none;\n",
              "  }\n",
              "\n",
              "  .colab-df-spinner {\n",
              "    border: 2px solid var(--fill-color);\n",
              "    border-color: transparent;\n",
              "    border-bottom-color: var(--fill-color);\n",
              "    animation:\n",
              "      spin 1s steps(1) infinite;\n",
              "  }\n",
              "\n",
              "  @keyframes spin {\n",
              "    0% {\n",
              "      border-color: transparent;\n",
              "      border-bottom-color: var(--fill-color);\n",
              "      border-left-color: var(--fill-color);\n",
              "    }\n",
              "    20% {\n",
              "      border-color: transparent;\n",
              "      border-left-color: var(--fill-color);\n",
              "      border-top-color: var(--fill-color);\n",
              "    }\n",
              "    30% {\n",
              "      border-color: transparent;\n",
              "      border-left-color: var(--fill-color);\n",
              "      border-top-color: var(--fill-color);\n",
              "      border-right-color: var(--fill-color);\n",
              "    }\n",
              "    40% {\n",
              "      border-color: transparent;\n",
              "      border-right-color: var(--fill-color);\n",
              "      border-top-color: var(--fill-color);\n",
              "    }\n",
              "    60% {\n",
              "      border-color: transparent;\n",
              "      border-right-color: var(--fill-color);\n",
              "    }\n",
              "    80% {\n",
              "      border-color: transparent;\n",
              "      border-right-color: var(--fill-color);\n",
              "      border-bottom-color: var(--fill-color);\n",
              "    }\n",
              "    90% {\n",
              "      border-color: transparent;\n",
              "      border-bottom-color: var(--fill-color);\n",
              "    }\n",
              "  }\n",
              "</style>\n",
              "\n",
              "  <script>\n",
              "    async function quickchart(key) {\n",
              "      const quickchartButtonEl =\n",
              "        document.querySelector('#' + key + ' button');\n",
              "      quickchartButtonEl.disabled = true;  // To prevent multiple clicks.\n",
              "      quickchartButtonEl.classList.add('colab-df-spinner');\n",
              "      try {\n",
              "        const charts = await google.colab.kernel.invokeFunction(\n",
              "            'suggestCharts', [key], {});\n",
              "      } catch (error) {\n",
              "        console.error('Error during call to suggestCharts:', error);\n",
              "      }\n",
              "      quickchartButtonEl.classList.remove('colab-df-spinner');\n",
              "      quickchartButtonEl.classList.add('colab-df-quickchart-complete');\n",
              "    }\n",
              "    (() => {\n",
              "      let quickchartButtonEl =\n",
              "        document.querySelector('#df-a7d01d0e-5768-4564-a993-03e2b99dddd2 button');\n",
              "      quickchartButtonEl.style.display =\n",
              "        google.colab.kernel.accessAllowed ? 'block' : 'none';\n",
              "    })();\n",
              "  </script>\n",
              "</div>\n",
              "\n",
              "    </div>\n",
              "  </div>\n"
            ],
            "application/vnd.google.colaboratory.intrinsic+json": {
              "type": "dataframe",
              "variable_name": "data"
            }
          },
          "metadata": {},
          "execution_count": 2
        }
      ],
      "source": [
        "# Load the CSV file into a DataFrame\n",
        "data = pd.read_csv('/content/drive/MyDrive/Relevant_health_data.csv')\n",
        "\n",
        "# Display the first few rows of the DataFrame\n",
        "data.head()"
      ]
    },
    {
      "cell_type": "markdown",
      "source": [
        "> The above data has the preprocessed title, text and category"
      ],
      "metadata": {
        "id": "q93QtcZK_Ris"
      }
    },
    {
      "cell_type": "code",
      "execution_count": 3,
      "metadata": {
        "colab": {
          "base_uri": "https://localhost:8080/"
        },
        "id": "xTwOFg_EcWkD",
        "outputId": "f31cd0e3-ef2d-4e70-e4a1-f24622815a7e"
      },
      "outputs": [
        {
          "output_type": "stream",
          "name": "stdout",
          "text": [
            "<class 'pandas.core.frame.DataFrame'>\n",
            "RangeIndex: 838721 entries, 0 to 838720\n",
            "Data columns (total 19 columns):\n",
            " #   Column            Non-Null Count   Dtype  \n",
            "---  ------            --------------   -----  \n",
            " 0   index             838721 non-null  int64  \n",
            " 1   Timestamp         838721 non-null  object \n",
            " 2   Subreddit         838721 non-null  object \n",
            " 3   Type              838721 non-null  object \n",
            " 4   Post_id           838721 non-null  object \n",
            " 5   Title             838721 non-null  object \n",
            " 6   Author            838721 non-null  object \n",
            " 7   Text              838721 non-null  object \n",
            " 8   Score             838721 non-null  float64\n",
            " 9   Total_comments    838721 non-null  float64\n",
            " 10  month             838721 non-null  int64  \n",
            " 11  hour              838721 non-null  int64  \n",
            " 12  day_of_week       838721 non-null  object \n",
            " 13  Sentiment         838721 non-null  object \n",
            " 14  Title_word_count  838721 non-null  int64  \n",
            " 15  Text_word_count   838721 non-null  int64  \n",
            " 16  Category          838721 non-null  object \n",
            " 17  Processed_Title   834656 non-null  object \n",
            " 18  Processed_Text    829648 non-null  object \n",
            "dtypes: float64(2), int64(5), object(12)\n",
            "memory usage: 121.6+ MB\n"
          ]
        }
      ],
      "source": [
        "data.info()"
      ]
    },
    {
      "cell_type": "code",
      "execution_count": 4,
      "metadata": {
        "colab": {
          "base_uri": "https://localhost:8080/",
          "height": 679
        },
        "id": "dtRoqKaBk5DT",
        "outputId": "5b484e30-7772-4ed0-c215-596d470507f8"
      },
      "outputs": [
        {
          "output_type": "execute_result",
          "data": {
            "text/plain": [
              "index                  0\n",
              "Timestamp              0\n",
              "Subreddit              0\n",
              "Type                   0\n",
              "Post_id                0\n",
              "Title                  0\n",
              "Author                 0\n",
              "Text                   0\n",
              "Score                  0\n",
              "Total_comments         0\n",
              "month                  0\n",
              "hour                   0\n",
              "day_of_week            0\n",
              "Sentiment              0\n",
              "Title_word_count       0\n",
              "Text_word_count        0\n",
              "Category               0\n",
              "Processed_Title     4065\n",
              "Processed_Text      9073\n",
              "dtype: int64"
            ],
            "text/html": [
              "<div>\n",
              "<style scoped>\n",
              "    .dataframe tbody tr th:only-of-type {\n",
              "        vertical-align: middle;\n",
              "    }\n",
              "\n",
              "    .dataframe tbody tr th {\n",
              "        vertical-align: top;\n",
              "    }\n",
              "\n",
              "    .dataframe thead th {\n",
              "        text-align: right;\n",
              "    }\n",
              "</style>\n",
              "<table border=\"1\" class=\"dataframe\">\n",
              "  <thead>\n",
              "    <tr style=\"text-align: right;\">\n",
              "      <th></th>\n",
              "      <th>0</th>\n",
              "    </tr>\n",
              "  </thead>\n",
              "  <tbody>\n",
              "    <tr>\n",
              "      <th>index</th>\n",
              "      <td>0</td>\n",
              "    </tr>\n",
              "    <tr>\n",
              "      <th>Timestamp</th>\n",
              "      <td>0</td>\n",
              "    </tr>\n",
              "    <tr>\n",
              "      <th>Subreddit</th>\n",
              "      <td>0</td>\n",
              "    </tr>\n",
              "    <tr>\n",
              "      <th>Type</th>\n",
              "      <td>0</td>\n",
              "    </tr>\n",
              "    <tr>\n",
              "      <th>Post_id</th>\n",
              "      <td>0</td>\n",
              "    </tr>\n",
              "    <tr>\n",
              "      <th>Title</th>\n",
              "      <td>0</td>\n",
              "    </tr>\n",
              "    <tr>\n",
              "      <th>Author</th>\n",
              "      <td>0</td>\n",
              "    </tr>\n",
              "    <tr>\n",
              "      <th>Text</th>\n",
              "      <td>0</td>\n",
              "    </tr>\n",
              "    <tr>\n",
              "      <th>Score</th>\n",
              "      <td>0</td>\n",
              "    </tr>\n",
              "    <tr>\n",
              "      <th>Total_comments</th>\n",
              "      <td>0</td>\n",
              "    </tr>\n",
              "    <tr>\n",
              "      <th>month</th>\n",
              "      <td>0</td>\n",
              "    </tr>\n",
              "    <tr>\n",
              "      <th>hour</th>\n",
              "      <td>0</td>\n",
              "    </tr>\n",
              "    <tr>\n",
              "      <th>day_of_week</th>\n",
              "      <td>0</td>\n",
              "    </tr>\n",
              "    <tr>\n",
              "      <th>Sentiment</th>\n",
              "      <td>0</td>\n",
              "    </tr>\n",
              "    <tr>\n",
              "      <th>Title_word_count</th>\n",
              "      <td>0</td>\n",
              "    </tr>\n",
              "    <tr>\n",
              "      <th>Text_word_count</th>\n",
              "      <td>0</td>\n",
              "    </tr>\n",
              "    <tr>\n",
              "      <th>Category</th>\n",
              "      <td>0</td>\n",
              "    </tr>\n",
              "    <tr>\n",
              "      <th>Processed_Title</th>\n",
              "      <td>4065</td>\n",
              "    </tr>\n",
              "    <tr>\n",
              "      <th>Processed_Text</th>\n",
              "      <td>9073</td>\n",
              "    </tr>\n",
              "  </tbody>\n",
              "</table>\n",
              "</div><br><label><b>dtype:</b> int64</label>"
            ]
          },
          "metadata": {},
          "execution_count": 4
        }
      ],
      "source": [
        "data.isnull().sum()"
      ]
    },
    {
      "cell_type": "code",
      "execution_count": 5,
      "metadata": {
        "id": "n5LexG9ck9Cl"
      },
      "outputs": [],
      "source": [
        "data = data.dropna(subset=['Processed_Title', 'Processed_Text']).reset_index(drop=True)\n"
      ]
    },
    {
      "cell_type": "code",
      "execution_count": 6,
      "metadata": {
        "colab": {
          "base_uri": "https://localhost:8080/",
          "height": 679
        },
        "id": "sxBj9y-IlJTe",
        "outputId": "4d912e83-d970-41fb-e2e9-b8c1b2081b19"
      },
      "outputs": [
        {
          "output_type": "execute_result",
          "data": {
            "text/plain": [
              "index               0\n",
              "Timestamp           0\n",
              "Subreddit           0\n",
              "Type                0\n",
              "Post_id             0\n",
              "Title               0\n",
              "Author              0\n",
              "Text                0\n",
              "Score               0\n",
              "Total_comments      0\n",
              "month               0\n",
              "hour                0\n",
              "day_of_week         0\n",
              "Sentiment           0\n",
              "Title_word_count    0\n",
              "Text_word_count     0\n",
              "Category            0\n",
              "Processed_Title     0\n",
              "Processed_Text      0\n",
              "dtype: int64"
            ],
            "text/html": [
              "<div>\n",
              "<style scoped>\n",
              "    .dataframe tbody tr th:only-of-type {\n",
              "        vertical-align: middle;\n",
              "    }\n",
              "\n",
              "    .dataframe tbody tr th {\n",
              "        vertical-align: top;\n",
              "    }\n",
              "\n",
              "    .dataframe thead th {\n",
              "        text-align: right;\n",
              "    }\n",
              "</style>\n",
              "<table border=\"1\" class=\"dataframe\">\n",
              "  <thead>\n",
              "    <tr style=\"text-align: right;\">\n",
              "      <th></th>\n",
              "      <th>0</th>\n",
              "    </tr>\n",
              "  </thead>\n",
              "  <tbody>\n",
              "    <tr>\n",
              "      <th>index</th>\n",
              "      <td>0</td>\n",
              "    </tr>\n",
              "    <tr>\n",
              "      <th>Timestamp</th>\n",
              "      <td>0</td>\n",
              "    </tr>\n",
              "    <tr>\n",
              "      <th>Subreddit</th>\n",
              "      <td>0</td>\n",
              "    </tr>\n",
              "    <tr>\n",
              "      <th>Type</th>\n",
              "      <td>0</td>\n",
              "    </tr>\n",
              "    <tr>\n",
              "      <th>Post_id</th>\n",
              "      <td>0</td>\n",
              "    </tr>\n",
              "    <tr>\n",
              "      <th>Title</th>\n",
              "      <td>0</td>\n",
              "    </tr>\n",
              "    <tr>\n",
              "      <th>Author</th>\n",
              "      <td>0</td>\n",
              "    </tr>\n",
              "    <tr>\n",
              "      <th>Text</th>\n",
              "      <td>0</td>\n",
              "    </tr>\n",
              "    <tr>\n",
              "      <th>Score</th>\n",
              "      <td>0</td>\n",
              "    </tr>\n",
              "    <tr>\n",
              "      <th>Total_comments</th>\n",
              "      <td>0</td>\n",
              "    </tr>\n",
              "    <tr>\n",
              "      <th>month</th>\n",
              "      <td>0</td>\n",
              "    </tr>\n",
              "    <tr>\n",
              "      <th>hour</th>\n",
              "      <td>0</td>\n",
              "    </tr>\n",
              "    <tr>\n",
              "      <th>day_of_week</th>\n",
              "      <td>0</td>\n",
              "    </tr>\n",
              "    <tr>\n",
              "      <th>Sentiment</th>\n",
              "      <td>0</td>\n",
              "    </tr>\n",
              "    <tr>\n",
              "      <th>Title_word_count</th>\n",
              "      <td>0</td>\n",
              "    </tr>\n",
              "    <tr>\n",
              "      <th>Text_word_count</th>\n",
              "      <td>0</td>\n",
              "    </tr>\n",
              "    <tr>\n",
              "      <th>Category</th>\n",
              "      <td>0</td>\n",
              "    </tr>\n",
              "    <tr>\n",
              "      <th>Processed_Title</th>\n",
              "      <td>0</td>\n",
              "    </tr>\n",
              "    <tr>\n",
              "      <th>Processed_Text</th>\n",
              "      <td>0</td>\n",
              "    </tr>\n",
              "  </tbody>\n",
              "</table>\n",
              "</div><br><label><b>dtype:</b> int64</label>"
            ]
          },
          "metadata": {},
          "execution_count": 6
        }
      ],
      "source": [
        "data.isnull().sum()"
      ]
    },
    {
      "cell_type": "markdown",
      "source": [
        "## Model Training"
      ],
      "metadata": {
        "id": "82xBMCnQ_a6a"
      }
    },
    {
      "cell_type": "markdown",
      "source": [
        "> Considered the relevant columns for X and target value for y"
      ],
      "metadata": {
        "id": "M-vVOQQ0_exk"
      }
    },
    {
      "cell_type": "code",
      "execution_count": 7,
      "metadata": {
        "id": "TC1UgZOpjqVr"
      },
      "outputs": [],
      "source": [
        "relevant_columns = [\n",
        "    'Subreddit',  'Title_word_count', 'Text_word_count',\n",
        "    'Score', 'Total_comments','Sentiment' ,'Processed_Title', 'Processed_Text'\n",
        "]"
      ]
    },
    {
      "cell_type": "markdown",
      "source": [
        "## Label Encoding and Text vectorization"
      ],
      "metadata": {
        "id": "noi5sz-1_mh9"
      }
    },
    {
      "cell_type": "code",
      "execution_count": 8,
      "metadata": {
        "id": "4qz4_iNjj70c"
      },
      "outputs": [],
      "source": [
        "# Selecting relevant data for X\n",
        "X = data[relevant_columns]\n",
        "y = data['Category']\n",
        "\n",
        "# Text vectorization for 'Processed_Title' and 'Processed_Text'\n",
        "vectorizer_title = TfidfVectorizer(max_features=1000)\n",
        "vectorizer_text = TfidfVectorizer(max_features=5000)\n",
        "\n",
        "\n",
        "# Label encoding for categorical variables\n",
        "label_encoder = LabelEncoder()\n",
        "X['Subreddit'] = label_encoder.fit_transform(X['Subreddit'])\n",
        "X['Sentiment'] = label_encoder.fit_transform(X['Sentiment'])\n",
        "\n",
        "# Standardizing numerical columns\n",
        "scaler = StandardScaler()"
      ]
    },
    {
      "cell_type": "code",
      "execution_count": 9,
      "metadata": {
        "id": "VwoBgy-ej-br"
      },
      "outputs": [],
      "source": [
        "\n",
        "\n",
        "# Splitting data into train and test sets\n",
        "X_train, X_test, y_train, y_test = train_test_split(X, y, test_size=0.4, random_state=4)"
      ]
    },
    {
      "cell_type": "code",
      "execution_count": 10,
      "metadata": {
        "id": "KWv2ZrODkMZE"
      },
      "outputs": [],
      "source": [
        "\n",
        "# Vectorizing text features for training data\n",
        "X_train_title_tfidf = vectorizer_title.fit_transform(X_train['Processed_Title'])\n",
        "X_train_text_tfidf = vectorizer_text.fit_transform(X_train['Processed_Text'])\n",
        "\n",
        "X_test_title_tfidf = vectorizer_title.transform(X_test['Processed_Title'])\n",
        "X_test_text_tfidf = vectorizer_text.transform(X_test['Processed_Text'])\n",
        "\n",
        "# Dropping the original text columns (since they are now vectorized)\n",
        "X_train = X_train.drop(columns=['Processed_Title', 'Processed_Text'])\n",
        "X_test = X_test.drop(columns=['Processed_Title', 'Processed_Text'])"
      ]
    },
    {
      "cell_type": "code",
      "execution_count": 11,
      "metadata": {
        "id": "h3ZskYfRkGvK"
      },
      "outputs": [],
      "source": [
        "\n",
        "# Scaling numerical columns\n",
        "X_train[['Title_word_count', 'Text_word_count', 'Score', 'Total_comments']] = scaler.fit_transform(\n",
        "    X_train[['Title_word_count', 'Text_word_count', 'Score', 'Total_comments']]\n",
        ")\n",
        "X_test[['Title_word_count', 'Text_word_count', 'Score', 'Total_comments']] = scaler.transform(\n",
        "    X_test[['Title_word_count', 'Text_word_count', 'Score', 'Total_comments']]\n",
        ")"
      ]
    },
    {
      "cell_type": "code",
      "execution_count": 12,
      "metadata": {
        "id": "B4VROQMPkNNb"
      },
      "outputs": [],
      "source": [
        "# Concatenating vectorized text data with the other features\n",
        "import scipy\n",
        "X_train_combined = scipy.sparse.hstack([X_train, X_train_title_tfidf, X_train_text_tfidf])\n",
        "X_test_combined = scipy.sparse.hstack([X_test, X_test_title_tfidf, X_test_text_tfidf])"
      ]
    },
    {
      "cell_type": "code",
      "execution_count": 13,
      "metadata": {
        "id": "So1zvtkc9IKU"
      },
      "outputs": [],
      "source": [
        "import joblib\n",
        "import os\n",
        "\n",
        "# Directory to save the models\n",
        "model_dir = './saved_models'\n",
        "os.makedirs(model_dir, exist_ok=True)\n"
      ]
    },
    {
      "cell_type": "code",
      "execution_count": 14,
      "metadata": {
        "id": "KoieNmOQ9TMU"
      },
      "outputs": [],
      "source": [
        "# Function to save and evaluate model\n",
        "def train_save_evaluate_model(model, model_name):\n",
        "    # Train the model\n",
        "    model.fit(X_train_combined, y_train)\n",
        "\n",
        "    # Save the trained model\n",
        "    model_path = os.path.join(model_dir, f'{model_name}.joblib')\n",
        "    joblib.dump(model, model_path)\n",
        "    print(f\"{model_name} saved to {model_path}\")\n",
        "\n",
        "    # Evaluate the model\n",
        "    y_pred = model.predict(X_test_combined)\n",
        "    accuracy = accuracy_score(y_test, y_pred)\n",
        "    print(f\"{model_name} Accuracy: {accuracy:.2f}\")\n",
        "    print(f\"Classification Report for {model_name}:\\n\", classification_report(y_test, y_pred))\n"
      ]
    },
    {
      "cell_type": "markdown",
      "source": [
        "## Logistic Regression\n"
      ],
      "metadata": {
        "id": "2zmmZ8Nt_zof"
      }
    },
    {
      "cell_type": "code",
      "execution_count": null,
      "metadata": {
        "colab": {
          "base_uri": "https://localhost:8080/"
        },
        "id": "Cj7ALrQO9nKz",
        "outputId": "705e1f13-80d4-4fd0-aff1-66c72476498f"
      },
      "outputs": [
        {
          "name": "stdout",
          "output_type": "stream",
          "text": [
            "logistic_regression saved to ./saved_models/logistic_regression.joblib\n",
            "logistic_regression Accuracy: 0.89\n",
            "Classification Report for logistic_regression:\n",
            "                 precision    recall  f1-score   support\n",
            "\n",
            "  MH_Disorders       0.91      0.93      0.92    208770\n",
            "   MH_Distress       0.82      0.57      0.67     16068\n",
            "MH_Improvement       0.85      0.85      0.85    103066\n",
            "         Other       0.84      0.38      0.52      2368\n",
            "\n",
            "      accuracy                           0.89    330272\n",
            "     macro avg       0.85      0.68      0.74    330272\n",
            "  weighted avg       0.88      0.89      0.88    330272\n",
            "\n"
          ]
        }
      ],
      "source": [
        "# Logistic Regression\n",
        "logistic_model = LogisticRegression(max_iter=1000)\n",
        "train_save_evaluate_model(logistic_model, 'logistic_regression')\n",
        "\n"
      ]
    },
    {
      "cell_type": "markdown",
      "source": [
        "# Random Forest Classifier"
      ],
      "metadata": {
        "id": "zKkdaY3P_30M"
      }
    },
    {
      "cell_type": "code",
      "execution_count": null,
      "metadata": {
        "colab": {
          "base_uri": "https://localhost:8080/"
        },
        "id": "TcdDQ7599r_1",
        "outputId": "d36b7da8-a0d9-453d-e918-308055e7e5d5"
      },
      "outputs": [
        {
          "name": "stdout",
          "output_type": "stream",
          "text": [
            "random_forest saved to ./saved_models/random_forest.joblib\n",
            "random_forest Accuracy: 0.99\n",
            "Classification Report for random_forest:\n",
            "                 precision    recall  f1-score   support\n",
            "\n",
            "  MH_Disorders       0.99      1.00      0.99    208770\n",
            "   MH_Distress       1.00      0.87      0.93     16068\n",
            "MH_Improvement       0.99      0.99      0.99    103066\n",
            "         Other       1.00      0.79      0.88      2368\n",
            "\n",
            "      accuracy                           0.99    330272\n",
            "     macro avg       0.99      0.91      0.95    330272\n",
            "  weighted avg       0.99      0.99      0.99    330272\n",
            "\n"
          ]
        }
      ],
      "source": [
        "# Random Forest Classifier\n",
        "rf_model = RandomForestClassifier(n_estimators=100, random_state=42)\n",
        "train_save_evaluate_model(model=rf_model, model_name='random_forest')\n"
      ]
    },
    {
      "cell_type": "markdown",
      "source": [
        "# Deep Learning Models"
      ],
      "metadata": {
        "id": "UZ6Vl5M4__FU"
      }
    },
    {
      "cell_type": "code",
      "execution_count": 15,
      "metadata": {
        "id": "lr3bXUyb_NIi"
      },
      "outputs": [],
      "source": [
        "import tensorflow as tf\n",
        "from tensorflow.keras.models import Sequential\n",
        "from tensorflow.keras.layers import Embedding, Conv1D, GlobalMaxPooling1D, Dense, Dropout,Input, Concatenate\n",
        "from tensorflow.keras.callbacks import ModelCheckpoint, EarlyStopping\n",
        "from tensorflow.keras.preprocessing.text import Tokenizer\n",
        "from tensorflow.keras.preprocessing.sequence import pad_sequences\n",
        "from sklearn.preprocessing import LabelEncoder\n",
        "from sklearn.model_selection import train_test_split\n",
        "import json\n",
        "import os\n"
      ]
    },
    {
      "cell_type": "code",
      "execution_count": 16,
      "metadata": {
        "id": "x92-pMPk_QfG"
      },
      "outputs": [],
      "source": [
        "# Parameters\n",
        "max_vocab_size = 20000\n",
        "max_sequence_length = 100\n",
        "embedding_dim = 50"
      ]
    },
    {
      "cell_type": "code",
      "execution_count": 17,
      "metadata": {
        "id": "WxnFk57g_NRo"
      },
      "outputs": [],
      "source": [
        "tokenizer = Tokenizer(num_words=max_vocab_size)\n",
        "tokenizer.fit_on_texts(data['Processed_Text'].values)\n",
        "X_text = tokenizer.texts_to_sequences(data['Processed_Text'].values)\n",
        "X_text = pad_sequences(X_text, maxlen=max_sequence_length)\n"
      ]
    },
    {
      "cell_type": "code",
      "execution_count": 18,
      "metadata": {
        "id": "nleahJ2S_VVA"
      },
      "outputs": [],
      "source": [
        "\n",
        "# Select relevant columns and separate categorical from numerical\n",
        "relevant_columns = ['Title_word_count', 'Text_word_count', 'Score', 'Total_comments', 'Sentiment']\n",
        "numerical_columns = ['Title_word_count', 'Text_word_count', 'Score', 'Total_comments']\n",
        "categorical_columns = ['Sentiment']\n",
        "\n",
        "# Scale the numerical features\n",
        "X_numerical = data[numerical_columns]\n",
        "scaler = StandardScaler()\n",
        "X_numerical = scaler.fit_transform(X_numerical)\n",
        "\n",
        "# Encode the categorical features\n",
        "label_encoder = LabelEncoder()\n",
        "X_categorical = label_encoder.fit_transform(data['Sentiment'])\n",
        "\n",
        "# Combine numerical and categorical features\n",
        "X_additional = np.concatenate([X_numerical, X_categorical.reshape(-1, 1)], axis=1)\n",
        "\n"
      ]
    },
    {
      "cell_type": "code",
      "execution_count": 19,
      "metadata": {
        "id": "Vrv8cSQz_Y_I"
      },
      "outputs": [],
      "source": [
        "\n",
        "# Concatenate text and additional features along the second axis\n",
        "X_combined = np.concatenate([X_text, X_additional], axis=1)\n",
        "\n",
        "# Prepare labels\n",
        "label_encoder = LabelEncoder()\n",
        "y = label_encoder.fit_transform(data['Category'].values)\n",
        "\n",
        "# Train-test split\n",
        "X_train, X_test, y_train, y_test = train_test_split(X_combined, y, test_size=0.2, random_state=42)\n"
      ]
    },
    {
      "cell_type": "markdown",
      "metadata": {
        "id": "ARf5L1r3c5bE"
      },
      "source": []
    },
    {
      "cell_type": "code",
      "execution_count": 25,
      "metadata": {
        "colab": {
          "base_uri": "https://localhost:8080/",
          "height": 481
        },
        "id": "8kXUZDqReGHg",
        "outputId": "3fabecc8-fadb-4298-b77d-e2d92f17ce30"
      },
      "outputs": [
        {
          "output_type": "display_data",
          "data": {
            "text/plain": [
              "\u001b[1mModel: \"functional_3\"\u001b[0m\n"
            ],
            "text/html": [
              "<pre style=\"white-space:pre;overflow-x:auto;line-height:normal;font-family:Menlo,'DejaVu Sans Mono',consolas,'Courier New',monospace\"><span style=\"font-weight: bold\">Model: \"functional_3\"</span>\n",
              "</pre>\n"
            ]
          },
          "metadata": {}
        },
        {
          "output_type": "display_data",
          "data": {
            "text/plain": [
              "┏━━━━━━━━━━━━━━━━━━━━━━━━━━━┳━━━━━━━━━━━━━━━━━━━━━━━━┳━━━━━━━━━━━━━━━━┳━━━━━━━━━━━━━━━━━━━━━━━━┓\n",
              "┃\u001b[1m \u001b[0m\u001b[1mLayer (type)             \u001b[0m\u001b[1m \u001b[0m┃\u001b[1m \u001b[0m\u001b[1mOutput Shape          \u001b[0m\u001b[1m \u001b[0m┃\u001b[1m \u001b[0m\u001b[1m       Param #\u001b[0m\u001b[1m \u001b[0m┃\u001b[1m \u001b[0m\u001b[1mConnected to          \u001b[0m\u001b[1m \u001b[0m┃\n",
              "┡━━━━━━━━━━━━━━━━━━━━━━━━━━━╇━━━━━━━━━━━━━━━━━━━━━━━━╇━━━━━━━━━━━━━━━━╇━━━━━━━━━━━━━━━━━━━━━━━━┩\n",
              "│ input_layer_6             │ (\u001b[38;5;45mNone\u001b[0m, \u001b[38;5;34m100\u001b[0m)            │              \u001b[38;5;34m0\u001b[0m │ -                      │\n",
              "│ (\u001b[38;5;33mInputLayer\u001b[0m)              │                        │                │                        │\n",
              "├───────────────────────────┼────────────────────────┼────────────────┼────────────────────────┤\n",
              "│ embedding_3 (\u001b[38;5;33mEmbedding\u001b[0m)   │ (\u001b[38;5;45mNone\u001b[0m, \u001b[38;5;34m100\u001b[0m, \u001b[38;5;34m50\u001b[0m)        │      \u001b[38;5;34m1,000,000\u001b[0m │ input_layer_6[\u001b[38;5;34m0\u001b[0m][\u001b[38;5;34m0\u001b[0m]    │\n",
              "├───────────────────────────┼────────────────────────┼────────────────┼────────────────────────┤\n",
              "│ conv1d_3 (\u001b[38;5;33mConv1D\u001b[0m)         │ (\u001b[38;5;45mNone\u001b[0m, \u001b[38;5;34m96\u001b[0m, \u001b[38;5;34m128\u001b[0m)        │         \u001b[38;5;34m32,128\u001b[0m │ embedding_3[\u001b[38;5;34m0\u001b[0m][\u001b[38;5;34m0\u001b[0m]      │\n",
              "├───────────────────────────┼────────────────────────┼────────────────┼────────────────────────┤\n",
              "│ global_max_pooling1d_3    │ (\u001b[38;5;45mNone\u001b[0m, \u001b[38;5;34m128\u001b[0m)            │              \u001b[38;5;34m0\u001b[0m │ conv1d_3[\u001b[38;5;34m0\u001b[0m][\u001b[38;5;34m0\u001b[0m]         │\n",
              "│ (\u001b[38;5;33mGlobalMaxPooling1D\u001b[0m)      │                        │                │                        │\n",
              "├───────────────────────────┼────────────────────────┼────────────────┼────────────────────────┤\n",
              "│ input_layer_7             │ (\u001b[38;5;45mNone\u001b[0m, \u001b[38;5;34m5\u001b[0m)              │              \u001b[38;5;34m0\u001b[0m │ -                      │\n",
              "│ (\u001b[38;5;33mInputLayer\u001b[0m)              │                        │                │                        │\n",
              "├───────────────────────────┼────────────────────────┼────────────────┼────────────────────────┤\n",
              "│ concatenate_3             │ (\u001b[38;5;45mNone\u001b[0m, \u001b[38;5;34m133\u001b[0m)            │              \u001b[38;5;34m0\u001b[0m │ global_max_pooling1d_… │\n",
              "│ (\u001b[38;5;33mConcatenate\u001b[0m)             │                        │                │ input_layer_7[\u001b[38;5;34m0\u001b[0m][\u001b[38;5;34m0\u001b[0m]    │\n",
              "├───────────────────────────┼────────────────────────┼────────────────┼────────────────────────┤\n",
              "│ dense_6 (\u001b[38;5;33mDense\u001b[0m)           │ (\u001b[38;5;45mNone\u001b[0m, \u001b[38;5;34m64\u001b[0m)             │          \u001b[38;5;34m8,576\u001b[0m │ concatenate_3[\u001b[38;5;34m0\u001b[0m][\u001b[38;5;34m0\u001b[0m]    │\n",
              "├───────────────────────────┼────────────────────────┼────────────────┼────────────────────────┤\n",
              "│ dropout_3 (\u001b[38;5;33mDropout\u001b[0m)       │ (\u001b[38;5;45mNone\u001b[0m, \u001b[38;5;34m64\u001b[0m)             │              \u001b[38;5;34m0\u001b[0m │ dense_6[\u001b[38;5;34m0\u001b[0m][\u001b[38;5;34m0\u001b[0m]          │\n",
              "├───────────────────────────┼────────────────────────┼────────────────┼────────────────────────┤\n",
              "│ dense_7 (\u001b[38;5;33mDense\u001b[0m)           │ (\u001b[38;5;45mNone\u001b[0m, \u001b[38;5;34m4\u001b[0m)              │            \u001b[38;5;34m260\u001b[0m │ dropout_3[\u001b[38;5;34m0\u001b[0m][\u001b[38;5;34m0\u001b[0m]        │\n",
              "└───────────────────────────┴────────────────────────┴────────────────┴────────────────────────┘\n"
            ],
            "text/html": [
              "<pre style=\"white-space:pre;overflow-x:auto;line-height:normal;font-family:Menlo,'DejaVu Sans Mono',consolas,'Courier New',monospace\">┏━━━━━━━━━━━━━━━━━━━━━━━━━━━┳━━━━━━━━━━━━━━━━━━━━━━━━┳━━━━━━━━━━━━━━━━┳━━━━━━━━━━━━━━━━━━━━━━━━┓\n",
              "┃<span style=\"font-weight: bold\"> Layer (type)              </span>┃<span style=\"font-weight: bold\"> Output Shape           </span>┃<span style=\"font-weight: bold\">        Param # </span>┃<span style=\"font-weight: bold\"> Connected to           </span>┃\n",
              "┡━━━━━━━━━━━━━━━━━━━━━━━━━━━╇━━━━━━━━━━━━━━━━━━━━━━━━╇━━━━━━━━━━━━━━━━╇━━━━━━━━━━━━━━━━━━━━━━━━┩\n",
              "│ input_layer_6             │ (<span style=\"color: #00d7ff; text-decoration-color: #00d7ff\">None</span>, <span style=\"color: #00af00; text-decoration-color: #00af00\">100</span>)            │              <span style=\"color: #00af00; text-decoration-color: #00af00\">0</span> │ -                      │\n",
              "│ (<span style=\"color: #0087ff; text-decoration-color: #0087ff\">InputLayer</span>)              │                        │                │                        │\n",
              "├───────────────────────────┼────────────────────────┼────────────────┼────────────────────────┤\n",
              "│ embedding_3 (<span style=\"color: #0087ff; text-decoration-color: #0087ff\">Embedding</span>)   │ (<span style=\"color: #00d7ff; text-decoration-color: #00d7ff\">None</span>, <span style=\"color: #00af00; text-decoration-color: #00af00\">100</span>, <span style=\"color: #00af00; text-decoration-color: #00af00\">50</span>)        │      <span style=\"color: #00af00; text-decoration-color: #00af00\">1,000,000</span> │ input_layer_6[<span style=\"color: #00af00; text-decoration-color: #00af00\">0</span>][<span style=\"color: #00af00; text-decoration-color: #00af00\">0</span>]    │\n",
              "├───────────────────────────┼────────────────────────┼────────────────┼────────────────────────┤\n",
              "│ conv1d_3 (<span style=\"color: #0087ff; text-decoration-color: #0087ff\">Conv1D</span>)         │ (<span style=\"color: #00d7ff; text-decoration-color: #00d7ff\">None</span>, <span style=\"color: #00af00; text-decoration-color: #00af00\">96</span>, <span style=\"color: #00af00; text-decoration-color: #00af00\">128</span>)        │         <span style=\"color: #00af00; text-decoration-color: #00af00\">32,128</span> │ embedding_3[<span style=\"color: #00af00; text-decoration-color: #00af00\">0</span>][<span style=\"color: #00af00; text-decoration-color: #00af00\">0</span>]      │\n",
              "├───────────────────────────┼────────────────────────┼────────────────┼────────────────────────┤\n",
              "│ global_max_pooling1d_3    │ (<span style=\"color: #00d7ff; text-decoration-color: #00d7ff\">None</span>, <span style=\"color: #00af00; text-decoration-color: #00af00\">128</span>)            │              <span style=\"color: #00af00; text-decoration-color: #00af00\">0</span> │ conv1d_3[<span style=\"color: #00af00; text-decoration-color: #00af00\">0</span>][<span style=\"color: #00af00; text-decoration-color: #00af00\">0</span>]         │\n",
              "│ (<span style=\"color: #0087ff; text-decoration-color: #0087ff\">GlobalMaxPooling1D</span>)      │                        │                │                        │\n",
              "├───────────────────────────┼────────────────────────┼────────────────┼────────────────────────┤\n",
              "│ input_layer_7             │ (<span style=\"color: #00d7ff; text-decoration-color: #00d7ff\">None</span>, <span style=\"color: #00af00; text-decoration-color: #00af00\">5</span>)              │              <span style=\"color: #00af00; text-decoration-color: #00af00\">0</span> │ -                      │\n",
              "│ (<span style=\"color: #0087ff; text-decoration-color: #0087ff\">InputLayer</span>)              │                        │                │                        │\n",
              "├───────────────────────────┼────────────────────────┼────────────────┼────────────────────────┤\n",
              "│ concatenate_3             │ (<span style=\"color: #00d7ff; text-decoration-color: #00d7ff\">None</span>, <span style=\"color: #00af00; text-decoration-color: #00af00\">133</span>)            │              <span style=\"color: #00af00; text-decoration-color: #00af00\">0</span> │ global_max_pooling1d_… │\n",
              "│ (<span style=\"color: #0087ff; text-decoration-color: #0087ff\">Concatenate</span>)             │                        │                │ input_layer_7[<span style=\"color: #00af00; text-decoration-color: #00af00\">0</span>][<span style=\"color: #00af00; text-decoration-color: #00af00\">0</span>]    │\n",
              "├───────────────────────────┼────────────────────────┼────────────────┼────────────────────────┤\n",
              "│ dense_6 (<span style=\"color: #0087ff; text-decoration-color: #0087ff\">Dense</span>)           │ (<span style=\"color: #00d7ff; text-decoration-color: #00d7ff\">None</span>, <span style=\"color: #00af00; text-decoration-color: #00af00\">64</span>)             │          <span style=\"color: #00af00; text-decoration-color: #00af00\">8,576</span> │ concatenate_3[<span style=\"color: #00af00; text-decoration-color: #00af00\">0</span>][<span style=\"color: #00af00; text-decoration-color: #00af00\">0</span>]    │\n",
              "├───────────────────────────┼────────────────────────┼────────────────┼────────────────────────┤\n",
              "│ dropout_3 (<span style=\"color: #0087ff; text-decoration-color: #0087ff\">Dropout</span>)       │ (<span style=\"color: #00d7ff; text-decoration-color: #00d7ff\">None</span>, <span style=\"color: #00af00; text-decoration-color: #00af00\">64</span>)             │              <span style=\"color: #00af00; text-decoration-color: #00af00\">0</span> │ dense_6[<span style=\"color: #00af00; text-decoration-color: #00af00\">0</span>][<span style=\"color: #00af00; text-decoration-color: #00af00\">0</span>]          │\n",
              "├───────────────────────────┼────────────────────────┼────────────────┼────────────────────────┤\n",
              "│ dense_7 (<span style=\"color: #0087ff; text-decoration-color: #0087ff\">Dense</span>)           │ (<span style=\"color: #00d7ff; text-decoration-color: #00d7ff\">None</span>, <span style=\"color: #00af00; text-decoration-color: #00af00\">4</span>)              │            <span style=\"color: #00af00; text-decoration-color: #00af00\">260</span> │ dropout_3[<span style=\"color: #00af00; text-decoration-color: #00af00\">0</span>][<span style=\"color: #00af00; text-decoration-color: #00af00\">0</span>]        │\n",
              "└───────────────────────────┴────────────────────────┴────────────────┴────────────────────────┘\n",
              "</pre>\n"
            ]
          },
          "metadata": {}
        },
        {
          "output_type": "display_data",
          "data": {
            "text/plain": [
              "\u001b[1m Total params: \u001b[0m\u001b[38;5;34m1,040,964\u001b[0m (3.97 MB)\n"
            ],
            "text/html": [
              "<pre style=\"white-space:pre;overflow-x:auto;line-height:normal;font-family:Menlo,'DejaVu Sans Mono',consolas,'Courier New',monospace\"><span style=\"font-weight: bold\"> Total params: </span><span style=\"color: #00af00; text-decoration-color: #00af00\">1,040,964</span> (3.97 MB)\n",
              "</pre>\n"
            ]
          },
          "metadata": {}
        },
        {
          "output_type": "display_data",
          "data": {
            "text/plain": [
              "\u001b[1m Trainable params: \u001b[0m\u001b[38;5;34m1,040,964\u001b[0m (3.97 MB)\n"
            ],
            "text/html": [
              "<pre style=\"white-space:pre;overflow-x:auto;line-height:normal;font-family:Menlo,'DejaVu Sans Mono',consolas,'Courier New',monospace\"><span style=\"font-weight: bold\"> Trainable params: </span><span style=\"color: #00af00; text-decoration-color: #00af00\">1,040,964</span> (3.97 MB)\n",
              "</pre>\n"
            ]
          },
          "metadata": {}
        },
        {
          "output_type": "display_data",
          "data": {
            "text/plain": [
              "\u001b[1m Non-trainable params: \u001b[0m\u001b[38;5;34m0\u001b[0m (0.00 B)\n"
            ],
            "text/html": [
              "<pre style=\"white-space:pre;overflow-x:auto;line-height:normal;font-family:Menlo,'DejaVu Sans Mono',consolas,'Courier New',monospace\"><span style=\"font-weight: bold\"> Non-trainable params: </span><span style=\"color: #00af00; text-decoration-color: #00af00\">0</span> (0.00 B)\n",
              "</pre>\n"
            ]
          },
          "metadata": {}
        }
      ],
      "source": [
        "from tensorflow.keras.models import Model  # Ensure Model is imported\n",
        "from tensorflow.keras.layers import Embedding, Conv1D, GlobalMaxPooling1D, Dense, Dropout, Input, Concatenate\n",
        "\n",
        "# Define the inputs for the model\n",
        "text_input = Input(shape=(max_sequence_length,))\n",
        "additional_input = Input(shape=(X_additional.shape[1],))\n",
        "\n",
        "# Text processing layers (embedding and convolution for text data)\n",
        "embedding_layer = Embedding(input_dim=max_vocab_size, output_dim=embedding_dim, input_length=max_sequence_length)(text_input)\n",
        "conv_layer = Conv1D(128, 5, activation='relu')(embedding_layer)\n",
        "pooling_layer = GlobalMaxPooling1D()(conv_layer)\n",
        "\n",
        "# Concatenate text and additional inputs\n",
        "concatenated = Concatenate()([pooling_layer, additional_input])\n",
        "\n",
        "# Fully connected layers\n",
        "dense_layer = Dense(64, activation='relu')(concatenated)\n",
        "dropout_layer = Dropout(0.5)(dense_layer)\n",
        "output_layer = Dense(4, activation='softmax')(dropout_layer)  # Multi classification\n",
        "\n",
        "# Compile the model with appropriate loss function for multi-class classification\n",
        "model = Model(inputs=[text_input, additional_input], outputs=output_layer)\n",
        "model.compile(optimizer='adam', loss='sparse_categorical_crossentropy', metrics=['accuracy'])\n",
        "\n",
        "\n",
        "# Model summary\n",
        "model.summary()\n",
        "\n",
        "\n"
      ]
    },
    {
      "cell_type": "code",
      "execution_count": 26,
      "metadata": {
        "colab": {
          "base_uri": "https://localhost:8080/"
        },
        "id": "49P0FzW5_5d_",
        "outputId": "4f93119b-b06c-4b44-8ff1-933dc2d6b593"
      },
      "outputs": [
        {
          "output_type": "stream",
          "name": "stdout",
          "text": [
            "Epoch 1/10\n",
            "\u001b[1m16512/16514\u001b[0m \u001b[32m━━━━━━━━━━━━━━━━━━━\u001b[0m\u001b[37m━\u001b[0m \u001b[1m0s\u001b[0m 27ms/step - accuracy: 0.6856 - loss: 0.7185\n",
            "Epoch 1: val_accuracy improved from -inf to 0.71830, saving model to ./checkpoints/model-01-0.72.weights.h5\n",
            "\u001b[1m16514/16514\u001b[0m \u001b[32m━━━━━━━━━━━━━━━━━━━━\u001b[0m\u001b[37m\u001b[0m \u001b[1m480s\u001b[0m 29ms/step - accuracy: 0.6856 - loss: 0.7185 - val_accuracy: 0.7183 - val_loss: 0.6398\n",
            "Epoch 2/10\n",
            "\u001b[1m16514/16514\u001b[0m \u001b[32m━━━━━━━━━━━━━━━━━━━━\u001b[0m\u001b[37m\u001b[0m \u001b[1m0s\u001b[0m 26ms/step - accuracy: 0.7309 - loss: 0.6228\n",
            "Epoch 2: val_accuracy improved from 0.71830 to 0.72341, saving model to ./checkpoints/model-02-0.72.weights.h5\n",
            "\u001b[1m16514/16514\u001b[0m \u001b[32m━━━━━━━━━━━━━━━━━━━━\u001b[0m\u001b[37m\u001b[0m \u001b[1m496s\u001b[0m 29ms/step - accuracy: 0.7309 - loss: 0.6228 - val_accuracy: 0.7234 - val_loss: 0.6328\n",
            "Epoch 3/10\n",
            "\u001b[1m16512/16514\u001b[0m \u001b[32m━━━━━━━━━━━━━━━━━━━\u001b[0m\u001b[37m━\u001b[0m \u001b[1m0s\u001b[0m 26ms/step - accuracy: 0.7493 - loss: 0.5841\n",
            "Epoch 3: val_accuracy did not improve from 0.72341\n",
            "\u001b[1m16514/16514\u001b[0m \u001b[32m━━━━━━━━━━━━━━━━━━━━\u001b[0m\u001b[37m\u001b[0m \u001b[1m487s\u001b[0m 28ms/step - accuracy: 0.7493 - loss: 0.5841 - val_accuracy: 0.7191 - val_loss: 0.6438\n",
            "Epoch 4/10\n",
            "\u001b[1m16513/16514\u001b[0m \u001b[32m━━━━━━━━━━━━━━━━━━━\u001b[0m\u001b[37m━\u001b[0m \u001b[1m0s\u001b[0m 26ms/step - accuracy: 0.7714 - loss: 0.5386\n",
            "Epoch 4: val_accuracy did not improve from 0.72341\n",
            "\u001b[1m16514/16514\u001b[0m \u001b[32m━━━━━━━━━━━━━━━━━━━━\u001b[0m\u001b[37m\u001b[0m \u001b[1m504s\u001b[0m 28ms/step - accuracy: 0.7714 - loss: 0.5386 - val_accuracy: 0.7148 - val_loss: 0.6684\n",
            "Epoch 5/10\n",
            "\u001b[1m16514/16514\u001b[0m \u001b[32m━━━━━━━━━━━━━━━━━━━━\u001b[0m\u001b[37m\u001b[0m \u001b[1m0s\u001b[0m 25ms/step - accuracy: 0.7928 - loss: 0.4912\n",
            "Epoch 5: val_accuracy did not improve from 0.72341\n",
            "\u001b[1m16514/16514\u001b[0m \u001b[32m━━━━━━━━━━━━━━━━━━━━\u001b[0m\u001b[37m\u001b[0m \u001b[1m483s\u001b[0m 27ms/step - accuracy: 0.7928 - loss: 0.4912 - val_accuracy: 0.7063 - val_loss: 0.6988\n",
            "Training history saved to training_history.json\n"
          ]
        }
      ],
      "source": [
        "# Set up checkpointing to save model weights\n",
        "checkpoint_dir = './checkpoints'\n",
        "os.makedirs(checkpoint_dir, exist_ok=True)\n",
        "checkpoint_path = os.path.join(checkpoint_dir, \"model-{epoch:02d}-{val_accuracy:.2f}.weights.h5\")\n",
        "checkpoint_callback = ModelCheckpoint(filepath=checkpoint_path,\n",
        "                                      save_weights_only=True,\n",
        "                                      save_best_only=True,\n",
        "                                      monitor='val_accuracy',\n",
        "                                      mode='max',\n",
        "                                      verbose=1)\n",
        "\n",
        "# Early stopping to prevent overfitting\n",
        "early_stopping_callback = EarlyStopping(monitor='val_loss', patience=3)\n",
        "\n",
        "# Train the model and save history\n",
        "history = model.fit(\n",
        "    [X_train[:, :max_sequence_length], X_train[:, max_sequence_length:]],  # Adjust input data as needed\n",
        "    y_train,\n",
        "    epochs=10,\n",
        "    validation_split=0.2,\n",
        "    batch_size=32,\n",
        "    callbacks=[checkpoint_callback, early_stopping_callback]\n",
        ")\n",
        "\n",
        "# Save training history\n",
        "history_path = 'training_history.json'\n",
        "with open(history_path, 'w') as f:\n",
        "    json.dump(history.history, f)\n",
        "\n",
        "print(f\"Training history saved to {history_path}\")\n",
        "\n"
      ]
    },
    {
      "cell_type": "code",
      "execution_count": 27,
      "metadata": {
        "id": "yrtuQeOQ-n93"
      },
      "outputs": [],
      "source": [
        "# # Reload model from checkpoint\n",
        "# latest_checkpoint = tf.train.latest_checkpoint(checkpoint_dir)\n",
        "# if latest_checkpoint:\n",
        "#     model.load_weights(latest_checkpoint)\n",
        "#     print(f\"Loaded model from {latest_checkpoint}\")\n",
        "\n",
        "# # Continue training if needed\n",
        "# model.fit(\n",
        "#     X_train, y_train,\n",
        "#     epochs=5,  # Add more epochs as needed\n",
        "#     validation_split=0.2,\n",
        "#     batch_size=32\n",
        "# )\n",
        "\n",
        "# Load and plot training history\n",
        "with open(history_path, 'r') as f:\n",
        "    saved_history = json.load(f)\n",
        "\n"
      ]
    },
    {
      "cell_type": "code",
      "execution_count": 28,
      "metadata": {
        "id": "wUC6wEeuwxDW",
        "colab": {
          "base_uri": "https://localhost:8080/"
        },
        "outputId": "f4ae1306-ac5d-4ceb-9e74-cfefc71077db"
      },
      "outputs": [
        {
          "output_type": "stream",
          "name": "stdout",
          "text": [
            "\u001b[1m5161/5161\u001b[0m \u001b[32m━━━━━━━━━━━━━━━━━━━━\u001b[0m\u001b[37m\u001b[0m \u001b[1m34s\u001b[0m 7ms/step - accuracy: 0.7067 - loss: 0.7008\n",
            "Test Accuracy: 0.71\n"
          ]
        }
      ],
      "source": [
        "# Split X_test into text and additional features\n",
        "X_test_text = X_test[:, :max_sequence_length]           # Text input\n",
        "X_test_additional = X_test[:, max_sequence_length:]     # Additional features input\n",
        "\n",
        "# Evaluate the model on the test set\n",
        "test_loss, test_accuracy = model.evaluate([X_test_text, X_test_additional], y_test)\n",
        "print(f\"Test Accuracy: {test_accuracy:.2f}\")\n"
      ]
    },
    {
      "cell_type": "code",
      "execution_count": 29,
      "metadata": {
        "id": "2K1lH7m2-o97",
        "colab": {
          "base_uri": "https://localhost:8080/"
        },
        "outputId": "5965073a-ec80-4200-bc43-87252cd94784"
      },
      "outputs": [
        {
          "output_type": "stream",
          "name": "stdout",
          "text": [
            "Training and Validation Accuracy: [0.7027013897895813, 0.7294028401374817, 0.7472650408744812, 0.7675684094429016, 0.7870391011238098] [0.7183008193969727, 0.7234101891517639, 0.7191258668899536, 0.7147582769393921, 0.7063031196594238]\n"
          ]
        }
      ],
      "source": [
        "# Print saved history or plot (if you want to visualize training progress)\n",
        "print(\"Training and Validation Accuracy:\", saved_history.get('accuracy'), saved_history.get('val_accuracy'))\n"
      ]
    },
    {
      "cell_type": "code",
      "source": [
        "import json\n",
        "import matplotlib.pyplot as plt\n",
        "\n",
        "# Load training history\n",
        "history_path = 'training_history.json'\n",
        "with open(history_path, 'r') as f:\n",
        "    saved_history = json.load(f)\n",
        "\n",
        "# Extract accuracy and loss data\n",
        "train_accuracy = saved_history.get('accuracy', [])\n",
        "val_accuracy = saved_history.get('val_accuracy', [])\n",
        "train_loss = saved_history.get('loss', [])\n",
        "val_loss = saved_history.get('val_loss', [])\n",
        "\n",
        "# Plot training & validation accuracy values\n",
        "plt.figure(figsize=(12, 5))\n",
        "\n",
        "# Accuracy\n",
        "plt.subplot(1, 2, 1)\n",
        "plt.plot(train_accuracy, label='Training Accuracy')\n",
        "plt.plot(val_accuracy, label='Validation Accuracy')\n",
        "plt.title('Training and Validation Accuracy')\n",
        "plt.xlabel('Epochs')\n",
        "plt.ylabel('Accuracy')\n",
        "plt.legend()\n",
        "\n",
        "# Loss\n",
        "plt.subplot(1, 2, 2)\n",
        "plt.plot(train_loss, label='Training Loss')\n",
        "plt.plot(val_loss, label='Validation Loss')\n",
        "plt.title('Training and Validation Loss')\n",
        "plt.xlabel('Epochs')\n",
        "plt.ylabel('Loss')\n",
        "plt.legend()\n",
        "\n",
        "# Show the plots\n",
        "plt.tight_layout()\n",
        "plt.show()\n"
      ],
      "metadata": {
        "colab": {
          "base_uri": "https://localhost:8080/",
          "height": 507
        },
        "id": "CU7eqRlqoTJq",
        "outputId": "81ada936-3ff5-4704-de09-cca2bb6d519b"
      },
      "execution_count": 39,
      "outputs": [
        {
          "output_type": "display_data",
          "data": {
            "text/plain": [
              "<Figure size 1200x500 with 2 Axes>"
            ],
            "image/png": "[encoded data removed]"
          },
          "metadata": {}
        }
      ]
    },
    {
      "cell_type": "markdown",
      "source": [
        "\n",
        "\n",
        "The training accuracy shows a steady upward trend, indicating that the model is learning and fitting the training data well.\n",
        "The training loss consistently decreases across epochs, suggesting that the model is minimizing the error on the training data effectively.\n",
        "\n",
        "The validation accuracy initially increases slightly but then starts to decrease. This trend indicates that the model might be overfitting to the training data after the first few epochs.\n",
        "The validation loss shows a concave pattern: it initially decreases, indicating some generalization, but then it starts increasing, which is a classic sign of overfitting.\n"
      ],
      "metadata": {
        "id": "W9o3s9KBprxP"
      }
    },
    {
      "cell_type": "code",
      "execution_count": 30,
      "metadata": {
        "colab": {
          "base_uri": "https://localhost:8080/"
        },
        "id": "sGuFy_DJOCsP",
        "outputId": "c3a487af-7255-4564-cfa7-621a40daf411"
      },
      "outputs": [
        {
          "output_type": "stream",
          "name": "stdout",
          "text": [
            "Epoch 1/50\n",
            "\u001b[1m16513/16514\u001b[0m \u001b[32m━━━━━━━━━━━━━━━━━━━\u001b[0m\u001b[37m━\u001b[0m \u001b[1m0s\u001b[0m 25ms/step - accuracy: 0.8108 - loss: 0.4509\n",
            "Epoch 1: val_accuracy improved from -inf to 0.70568, saving model to ./checkpoints/model1-50-01-0.71.weights.h5\n",
            "\u001b[1m16514/16514\u001b[0m \u001b[32m━━━━━━━━━━━━━━━━━━━━\u001b[0m\u001b[37m\u001b[0m \u001b[1m435s\u001b[0m 26ms/step - accuracy: 0.8108 - loss: 0.4509 - val_accuracy: 0.7057 - val_loss: 0.7616\n",
            "Epoch 2/50\n",
            "\u001b[1m16513/16514\u001b[0m \u001b[32m━━━━━━━━━━━━━━━━━━━\u001b[0m\u001b[37m━\u001b[0m \u001b[1m0s\u001b[0m 25ms/step - accuracy: 0.8258 - loss: 0.4161\n",
            "Epoch 2: val_accuracy did not improve from 0.70568\n",
            "\u001b[1m16514/16514\u001b[0m \u001b[32m━━━━━━━━━━━━━━━━━━━━\u001b[0m\u001b[37m\u001b[0m \u001b[1m443s\u001b[0m 26ms/step - accuracy: 0.8258 - loss: 0.4161 - val_accuracy: 0.7007 - val_loss: 0.8101\n",
            "Epoch 3/50\n",
            "\u001b[1m16512/16514\u001b[0m \u001b[32m━━━━━━━━━━━━━━━━━━━\u001b[0m\u001b[37m━\u001b[0m \u001b[1m0s\u001b[0m 25ms/step - accuracy: 0.8379 - loss: 0.3881\n",
            "Epoch 3: val_accuracy did not improve from 0.70568\n",
            "\u001b[1m16514/16514\u001b[0m \u001b[32m━━━━━━━━━━━━━━━━━━━━\u001b[0m\u001b[37m\u001b[0m \u001b[1m438s\u001b[0m 27ms/step - accuracy: 0.8379 - loss: 0.3881 - val_accuracy: 0.6925 - val_loss: 0.8915\n",
            "Epoch 4/50\n",
            "\u001b[1m16512/16514\u001b[0m \u001b[32m━━━━━━━━━━━━━━━━━━━\u001b[0m\u001b[37m━\u001b[0m \u001b[1m0s\u001b[0m 25ms/step - accuracy: 0.8468 - loss: 0.3658\n",
            "Epoch 4: val_accuracy did not improve from 0.70568\n",
            "\u001b[1m16514/16514\u001b[0m \u001b[32m━━━━━━━━━━━━━━━━━━━━\u001b[0m\u001b[37m\u001b[0m \u001b[1m461s\u001b[0m 28ms/step - accuracy: 0.8468 - loss: 0.3658 - val_accuracy: 0.6911 - val_loss: 0.9748\n",
            "Training history saved to training_history50.json\n"
          ]
        }
      ],
      "source": [
        "# Set up checkpointing to save model weights\n",
        "checkpoint_dir = './checkpoints'\n",
        "os.makedirs(checkpoint_dir, exist_ok=True)\n",
        "checkpoint_path = os.path.join(checkpoint_dir, \"model1-50-{epoch:02d}-{val_accuracy:.2f}.weights.h5\")  # Changed extension to .weights.h5\n",
        "checkpoint_callback = ModelCheckpoint(filepath=checkpoint_path,\n",
        "                                      save_weights_only=True,\n",
        "                                      save_best_only=True,\n",
        "                                      monitor='val_accuracy',\n",
        "                                      mode='max',\n",
        "                                      verbose=1)\n",
        "\n",
        "# Early stopping to prevent overfitting\n",
        "early_stopping_callback = EarlyStopping(monitor='val_loss', patience=3)\n",
        "\n",
        "# Train the model and save history\n",
        "history = model.fit(\n",
        "    [X_train[:, :max_sequence_length], X_train[:, max_sequence_length:]],  # Adjust input data as needed\n",
        "    y_train,\n",
        "    epochs=50,\n",
        "    validation_split=0.2,\n",
        "    batch_size=32,\n",
        "    callbacks=[checkpoint_callback, early_stopping_callback]\n",
        ")\n",
        "\n",
        "# Save training history\n",
        "history_path = 'training_history50.json'\n",
        "with open(history_path, 'w') as f:\n",
        "    json.dump(history.history, f)\n",
        "\n",
        "print(f\"Training history saved to {history_path}\")\n"
      ]
    },
    {
      "cell_type": "code",
      "source": [
        "import json\n",
        "import matplotlib.pyplot as plt\n",
        "\n",
        "# Load training history\n",
        "history_path = 'training_history50.json'\n",
        "with open(history_path, 'r') as f:\n",
        "    saved_history = json.load(f)\n",
        "\n",
        "# Extract accuracy and loss data\n",
        "train_accuracy = saved_history.get('accuracy', [])\n",
        "val_accuracy = saved_history.get('val_accuracy', [])\n",
        "train_loss = saved_history.get('loss', [])\n",
        "val_loss = saved_history.get('val_loss', [])\n",
        "\n",
        "# Plot training & validation accuracy values\n",
        "plt.figure(figsize=(12, 5))\n",
        "\n",
        "# Accuracy\n",
        "plt.subplot(1, 2, 1)\n",
        "plt.plot(train_accuracy, label='Training Accuracy')\n",
        "plt.plot(val_accuracy, label='Validation Accuracy')\n",
        "plt.title('Training and Validation Accuracy')\n",
        "plt.xlabel('Epochs')\n",
        "plt.ylabel('Accuracy')\n",
        "plt.legend()\n",
        "\n",
        "# Loss\n",
        "plt.subplot(1, 2, 2)\n",
        "plt.plot(train_loss, label='Training Loss')\n",
        "plt.plot(val_loss, label='Validation Loss')\n",
        "plt.title('Training and Validation Loss')\n",
        "plt.xlabel('Epochs')\n",
        "plt.ylabel('Loss')\n",
        "plt.legend()\n",
        "\n",
        "# Show the plots\n",
        "plt.tight_layout()\n",
        "plt.show()"
      ],
      "metadata": {
        "colab": {
          "base_uri": "https://localhost:8080/",
          "height": 507
        },
        "id": "IfUn0wDHovuV",
        "outputId": "193fa68a-3d73-4713-9458-defbc77486eb"
      },
      "execution_count": 40,
      "outputs": [
        {
          "output_type": "display_data",
          "data": {
            "text/plain": [
              "<Figure size 1200x500 with 2 Axes>"
            ],
            "image/png": "[encoded data removed]"
          },
          "metadata": {}
        }
      ]
    },
    {
      "cell_type": "markdown",
      "source": [
        "\n",
        "\n",
        "Training accuracy is steadily increasing -- the model is learning well on the training data.\n",
        "Training loss is steadily decreasing, which is consistent with improved learning.\n",
        "\n",
        "Validation accuracy is slowly decreasing, shows that the model's performance on unseen data is worsening slightly with each epoch.\n",
        "Validation loss is increasing steadily, which is a clear sign of overfitting.\n",
        "\n",
        "\n",
        "Analysis\n",
        "The model starts to overfit from the very first few epochs, as seen by the divergence between training and validation metrics. The training accuracy improves, but the validation accuracy declines, and the validation loss increases, indicating a lack of generalization.\n",
        "\n"
      ],
      "metadata": {
        "id": "C9Z1trR2pnPa"
      }
    },
    {
      "cell_type": "code",
      "execution_count": 31,
      "metadata": {
        "id": "hJmLOId8N5j3"
      },
      "outputs": [],
      "source": [
        "# Load and plot training history\n",
        "with open(history_path, 'r') as f:\n",
        "    saved_history = json.load(f)"
      ]
    },
    {
      "cell_type": "code",
      "execution_count": 32,
      "metadata": {
        "colab": {
          "base_uri": "https://localhost:8080/"
        },
        "id": "LHt9rEI1OACs",
        "outputId": "312d7234-3e21-456a-b939-feabd13a8c0f"
      },
      "outputs": [
        {
          "output_type": "stream",
          "name": "stdout",
          "text": [
            "\u001b[1m5161/5161\u001b[0m \u001b[32m━━━━━━━━━━━━━━━━━━━━\u001b[0m\u001b[37m\u001b[0m \u001b[1m32s\u001b[0m 6ms/step - accuracy: 0.6889 - loss: 0.9749\n",
            "Test Accuracy: 0.69\n"
          ]
        }
      ],
      "source": [
        "# Split X_test into text and additional features\n",
        "X_test_text = X_test[:, :max_sequence_length]           # Text input\n",
        "X_test_additional = X_test[:, max_sequence_length:]     # Additional features input\n",
        "\n",
        "# Evaluate the model on the test set\n",
        "test_loss, test_accuracy = model.evaluate([X_test_text, X_test_additional], y_test)\n",
        "print(f\"Test Accuracy: {test_accuracy:.2f}\")"
      ]
    },
    {
      "cell_type": "code",
      "execution_count": 33,
      "metadata": {
        "colab": {
          "base_uri": "https://localhost:8080/"
        },
        "id": "lL1VLvRWOKTx",
        "outputId": "640e4cbf-a471-4744-de16-1cbcda39a9b5"
      },
      "outputs": [
        {
          "output_type": "stream",
          "name": "stdout",
          "text": [
            "Training and Validation Accuracy: [0.8044357299804688, 0.818952202796936, 0.8309707045555115, 0.8397892117500305] [0.7056824564933777, 0.7007017135620117, 0.6924887895584106, 0.6911187171936035]\n"
          ]
        }
      ],
      "source": [
        "# Print saved history or plot (if you want to visualize training progress)\n",
        "print(\"Training and Validation Accuracy:\", saved_history.get('accuracy'), saved_history.get('val_accuracy'))\n"
      ]
    },
    {
      "cell_type": "code",
      "execution_count": 34,
      "metadata": {
        "colab": {
          "base_uri": "https://localhost:8080/",
          "height": 657
        },
        "id": "SX9wAEBBOMWj",
        "outputId": "361242b3-c04e-423c-f771-c1078b06d14e"
      },
      "outputs": [
        {
          "output_type": "display_data",
          "data": {
            "text/plain": [
              "\u001b[1mModel: \"functional_4\"\u001b[0m\n"
            ],
            "text/html": [
              "<pre style=\"white-space:pre;overflow-x:auto;line-height:normal;font-family:Menlo,'DejaVu Sans Mono',consolas,'Courier New',monospace\"><span style=\"font-weight: bold\">Model: \"functional_4\"</span>\n",
              "</pre>\n"
            ]
          },
          "metadata": {}
        },
        {
          "output_type": "display_data",
          "data": {
            "text/plain": [
              "┏━━━━━━━━━━━━━━━━━━━━━━━━━━━┳━━━━━━━━━━━━━━━━━━━━━━━━┳━━━━━━━━━━━━━━━━┳━━━━━━━━━━━━━━━━━━━━━━━━┓\n",
              "┃\u001b[1m \u001b[0m\u001b[1mLayer (type)             \u001b[0m\u001b[1m \u001b[0m┃\u001b[1m \u001b[0m\u001b[1mOutput Shape          \u001b[0m\u001b[1m \u001b[0m┃\u001b[1m \u001b[0m\u001b[1m       Param #\u001b[0m\u001b[1m \u001b[0m┃\u001b[1m \u001b[0m\u001b[1mConnected to          \u001b[0m\u001b[1m \u001b[0m┃\n",
              "┡━━━━━━━━━━━━━━━━━━━━━━━━━━━╇━━━━━━━━━━━━━━━━━━━━━━━━╇━━━━━━━━━━━━━━━━╇━━━━━━━━━━━━━━━━━━━━━━━━┩\n",
              "│ text_input (\u001b[38;5;33mInputLayer\u001b[0m)   │ (\u001b[38;5;45mNone\u001b[0m, \u001b[38;5;34m100\u001b[0m)            │              \u001b[38;5;34m0\u001b[0m │ -                      │\n",
              "├───────────────────────────┼────────────────────────┼────────────────┼────────────────────────┤\n",
              "│ embedding_4 (\u001b[38;5;33mEmbedding\u001b[0m)   │ (\u001b[38;5;45mNone\u001b[0m, \u001b[38;5;34m100\u001b[0m, \u001b[38;5;34m50\u001b[0m)        │      \u001b[38;5;34m1,000,000\u001b[0m │ text_input[\u001b[38;5;34m0\u001b[0m][\u001b[38;5;34m0\u001b[0m]       │\n",
              "├───────────────────────────┼────────────────────────┼────────────────┼────────────────────────┤\n",
              "│ conv1d_4 (\u001b[38;5;33mConv1D\u001b[0m)         │ (\u001b[38;5;45mNone\u001b[0m, \u001b[38;5;34m98\u001b[0m, \u001b[38;5;34m128\u001b[0m)        │         \u001b[38;5;34m19,328\u001b[0m │ embedding_4[\u001b[38;5;34m0\u001b[0m][\u001b[38;5;34m0\u001b[0m]      │\n",
              "├───────────────────────────┼────────────────────────┼────────────────┼────────────────────────┤\n",
              "│ conv1d_5 (\u001b[38;5;33mConv1D\u001b[0m)         │ (\u001b[38;5;45mNone\u001b[0m, \u001b[38;5;34m97\u001b[0m, \u001b[38;5;34m128\u001b[0m)        │         \u001b[38;5;34m25,728\u001b[0m │ embedding_4[\u001b[38;5;34m0\u001b[0m][\u001b[38;5;34m0\u001b[0m]      │\n",
              "├───────────────────────────┼────────────────────────┼────────────────┼────────────────────────┤\n",
              "│ conv1d_6 (\u001b[38;5;33mConv1D\u001b[0m)         │ (\u001b[38;5;45mNone\u001b[0m, \u001b[38;5;34m96\u001b[0m, \u001b[38;5;34m128\u001b[0m)        │         \u001b[38;5;34m32,128\u001b[0m │ embedding_4[\u001b[38;5;34m0\u001b[0m][\u001b[38;5;34m0\u001b[0m]      │\n",
              "├───────────────────────────┼────────────────────────┼────────────────┼────────────────────────┤\n",
              "│ global_max_pooling1d_4    │ (\u001b[38;5;45mNone\u001b[0m, \u001b[38;5;34m128\u001b[0m)            │              \u001b[38;5;34m0\u001b[0m │ conv1d_4[\u001b[38;5;34m0\u001b[0m][\u001b[38;5;34m0\u001b[0m]         │\n",
              "│ (\u001b[38;5;33mGlobalMaxPooling1D\u001b[0m)      │                        │                │                        │\n",
              "├───────────────────────────┼────────────────────────┼────────────────┼────────────────────────┤\n",
              "│ global_max_pooling1d_5    │ (\u001b[38;5;45mNone\u001b[0m, \u001b[38;5;34m128\u001b[0m)            │              \u001b[38;5;34m0\u001b[0m │ conv1d_5[\u001b[38;5;34m0\u001b[0m][\u001b[38;5;34m0\u001b[0m]         │\n",
              "│ (\u001b[38;5;33mGlobalMaxPooling1D\u001b[0m)      │                        │                │                        │\n",
              "├───────────────────────────┼────────────────────────┼────────────────┼────────────────────────┤\n",
              "│ global_max_pooling1d_6    │ (\u001b[38;5;45mNone\u001b[0m, \u001b[38;5;34m128\u001b[0m)            │              \u001b[38;5;34m0\u001b[0m │ conv1d_6[\u001b[38;5;34m0\u001b[0m][\u001b[38;5;34m0\u001b[0m]         │\n",
              "│ (\u001b[38;5;33mGlobalMaxPooling1D\u001b[0m)      │                        │                │                        │\n",
              "├───────────────────────────┼────────────────────────┼────────────────┼────────────────────────┤\n",
              "│ additional_input          │ (\u001b[38;5;45mNone\u001b[0m, \u001b[38;5;34m5\u001b[0m)              │              \u001b[38;5;34m0\u001b[0m │ -                      │\n",
              "│ (\u001b[38;5;33mInputLayer\u001b[0m)              │                        │                │                        │\n",
              "├───────────────────────────┼────────────────────────┼────────────────┼────────────────────────┤\n",
              "│ concatenate_4             │ (\u001b[38;5;45mNone\u001b[0m, \u001b[38;5;34m389\u001b[0m)            │              \u001b[38;5;34m0\u001b[0m │ global_max_pooling1d_… │\n",
              "│ (\u001b[38;5;33mConcatenate\u001b[0m)             │                        │                │ global_max_pooling1d_… │\n",
              "│                           │                        │                │ global_max_pooling1d_… │\n",
              "│                           │                        │                │ additional_input[\u001b[38;5;34m0\u001b[0m][\u001b[38;5;34m0\u001b[0m] │\n",
              "├───────────────────────────┼────────────────────────┼────────────────┼────────────────────────┤\n",
              "│ dense_8 (\u001b[38;5;33mDense\u001b[0m)           │ (\u001b[38;5;45mNone\u001b[0m, \u001b[38;5;34m64\u001b[0m)             │         \u001b[38;5;34m24,960\u001b[0m │ concatenate_4[\u001b[38;5;34m0\u001b[0m][\u001b[38;5;34m0\u001b[0m]    │\n",
              "├───────────────────────────┼────────────────────────┼────────────────┼────────────────────────┤\n",
              "│ dropout_4 (\u001b[38;5;33mDropout\u001b[0m)       │ (\u001b[38;5;45mNone\u001b[0m, \u001b[38;5;34m64\u001b[0m)             │              \u001b[38;5;34m0\u001b[0m │ dense_8[\u001b[38;5;34m0\u001b[0m][\u001b[38;5;34m0\u001b[0m]          │\n",
              "├───────────────────────────┼────────────────────────┼────────────────┼────────────────────────┤\n",
              "│ dense_9 (\u001b[38;5;33mDense\u001b[0m)           │ (\u001b[38;5;45mNone\u001b[0m, \u001b[38;5;34m4\u001b[0m)              │            \u001b[38;5;34m260\u001b[0m │ dropout_4[\u001b[38;5;34m0\u001b[0m][\u001b[38;5;34m0\u001b[0m]        │\n",
              "└───────────────────────────┴────────────────────────┴────────────────┴────────────────────────┘\n"
            ],
            "text/html": [
              "<pre style=\"white-space:pre;overflow-x:auto;line-height:normal;font-family:Menlo,'DejaVu Sans Mono',consolas,'Courier New',monospace\">┏━━━━━━━━━━━━━━━━━━━━━━━━━━━┳━━━━━━━━━━━━━━━━━━━━━━━━┳━━━━━━━━━━━━━━━━┳━━━━━━━━━━━━━━━━━━━━━━━━┓\n",
              "┃<span style=\"font-weight: bold\"> Layer (type)              </span>┃<span style=\"font-weight: bold\"> Output Shape           </span>┃<span style=\"font-weight: bold\">        Param # </span>┃<span style=\"font-weight: bold\"> Connected to           </span>┃\n",
              "┡━━━━━━━━━━━━━━━━━━━━━━━━━━━╇━━━━━━━━━━━━━━━━━━━━━━━━╇━━━━━━━━━━━━━━━━╇━━━━━━━━━━━━━━━━━━━━━━━━┩\n",
              "│ text_input (<span style=\"color: #0087ff; text-decoration-color: #0087ff\">InputLayer</span>)   │ (<span style=\"color: #00d7ff; text-decoration-color: #00d7ff\">None</span>, <span style=\"color: #00af00; text-decoration-color: #00af00\">100</span>)            │              <span style=\"color: #00af00; text-decoration-color: #00af00\">0</span> │ -                      │\n",
              "├───────────────────────────┼────────────────────────┼────────────────┼────────────────────────┤\n",
              "│ embedding_4 (<span style=\"color: #0087ff; text-decoration-color: #0087ff\">Embedding</span>)   │ (<span style=\"color: #00d7ff; text-decoration-color: #00d7ff\">None</span>, <span style=\"color: #00af00; text-decoration-color: #00af00\">100</span>, <span style=\"color: #00af00; text-decoration-color: #00af00\">50</span>)        │      <span style=\"color: #00af00; text-decoration-color: #00af00\">1,000,000</span> │ text_input[<span style=\"color: #00af00; text-decoration-color: #00af00\">0</span>][<span style=\"color: #00af00; text-decoration-color: #00af00\">0</span>]       │\n",
              "├───────────────────────────┼────────────────────────┼────────────────┼────────────────────────┤\n",
              "│ conv1d_4 (<span style=\"color: #0087ff; text-decoration-color: #0087ff\">Conv1D</span>)         │ (<span style=\"color: #00d7ff; text-decoration-color: #00d7ff\">None</span>, <span style=\"color: #00af00; text-decoration-color: #00af00\">98</span>, <span style=\"color: #00af00; text-decoration-color: #00af00\">128</span>)        │         <span style=\"color: #00af00; text-decoration-color: #00af00\">19,328</span> │ embedding_4[<span style=\"color: #00af00; text-decoration-color: #00af00\">0</span>][<span style=\"color: #00af00; text-decoration-color: #00af00\">0</span>]      │\n",
              "├───────────────────────────┼────────────────────────┼────────────────┼────────────────────────┤\n",
              "│ conv1d_5 (<span style=\"color: #0087ff; text-decoration-color: #0087ff\">Conv1D</span>)         │ (<span style=\"color: #00d7ff; text-decoration-color: #00d7ff\">None</span>, <span style=\"color: #00af00; text-decoration-color: #00af00\">97</span>, <span style=\"color: #00af00; text-decoration-color: #00af00\">128</span>)        │         <span style=\"color: #00af00; text-decoration-color: #00af00\">25,728</span> │ embedding_4[<span style=\"color: #00af00; text-decoration-color: #00af00\">0</span>][<span style=\"color: #00af00; text-decoration-color: #00af00\">0</span>]      │\n",
              "├───────────────────────────┼────────────────────────┼────────────────┼────────────────────────┤\n",
              "│ conv1d_6 (<span style=\"color: #0087ff; text-decoration-color: #0087ff\">Conv1D</span>)         │ (<span style=\"color: #00d7ff; text-decoration-color: #00d7ff\">None</span>, <span style=\"color: #00af00; text-decoration-color: #00af00\">96</span>, <span style=\"color: #00af00; text-decoration-color: #00af00\">128</span>)        │         <span style=\"color: #00af00; text-decoration-color: #00af00\">32,128</span> │ embedding_4[<span style=\"color: #00af00; text-decoration-color: #00af00\">0</span>][<span style=\"color: #00af00; text-decoration-color: #00af00\">0</span>]      │\n",
              "├───────────────────────────┼────────────────────────┼────────────────┼────────────────────────┤\n",
              "│ global_max_pooling1d_4    │ (<span style=\"color: #00d7ff; text-decoration-color: #00d7ff\">None</span>, <span style=\"color: #00af00; text-decoration-color: #00af00\">128</span>)            │              <span style=\"color: #00af00; text-decoration-color: #00af00\">0</span> │ conv1d_4[<span style=\"color: #00af00; text-decoration-color: #00af00\">0</span>][<span style=\"color: #00af00; text-decoration-color: #00af00\">0</span>]         │\n",
              "│ (<span style=\"color: #0087ff; text-decoration-color: #0087ff\">GlobalMaxPooling1D</span>)      │                        │                │                        │\n",
              "├───────────────────────────┼────────────────────────┼────────────────┼────────────────────────┤\n",
              "│ global_max_pooling1d_5    │ (<span style=\"color: #00d7ff; text-decoration-color: #00d7ff\">None</span>, <span style=\"color: #00af00; text-decoration-color: #00af00\">128</span>)            │              <span style=\"color: #00af00; text-decoration-color: #00af00\">0</span> │ conv1d_5[<span style=\"color: #00af00; text-decoration-color: #00af00\">0</span>][<span style=\"color: #00af00; text-decoration-color: #00af00\">0</span>]         │\n",
              "│ (<span style=\"color: #0087ff; text-decoration-color: #0087ff\">GlobalMaxPooling1D</span>)      │                        │                │                        │\n",
              "├───────────────────────────┼────────────────────────┼────────────────┼────────────────────────┤\n",
              "│ global_max_pooling1d_6    │ (<span style=\"color: #00d7ff; text-decoration-color: #00d7ff\">None</span>, <span style=\"color: #00af00; text-decoration-color: #00af00\">128</span>)            │              <span style=\"color: #00af00; text-decoration-color: #00af00\">0</span> │ conv1d_6[<span style=\"color: #00af00; text-decoration-color: #00af00\">0</span>][<span style=\"color: #00af00; text-decoration-color: #00af00\">0</span>]         │\n",
              "│ (<span style=\"color: #0087ff; text-decoration-color: #0087ff\">GlobalMaxPooling1D</span>)      │                        │                │                        │\n",
              "├───────────────────────────┼────────────────────────┼────────────────┼────────────────────────┤\n",
              "│ additional_input          │ (<span style=\"color: #00d7ff; text-decoration-color: #00d7ff\">None</span>, <span style=\"color: #00af00; text-decoration-color: #00af00\">5</span>)              │              <span style=\"color: #00af00; text-decoration-color: #00af00\">0</span> │ -                      │\n",
              "│ (<span style=\"color: #0087ff; text-decoration-color: #0087ff\">InputLayer</span>)              │                        │                │                        │\n",
              "├───────────────────────────┼────────────────────────┼────────────────┼────────────────────────┤\n",
              "│ concatenate_4             │ (<span style=\"color: #00d7ff; text-decoration-color: #00d7ff\">None</span>, <span style=\"color: #00af00; text-decoration-color: #00af00\">389</span>)            │              <span style=\"color: #00af00; text-decoration-color: #00af00\">0</span> │ global_max_pooling1d_… │\n",
              "│ (<span style=\"color: #0087ff; text-decoration-color: #0087ff\">Concatenate</span>)             │                        │                │ global_max_pooling1d_… │\n",
              "│                           │                        │                │ global_max_pooling1d_… │\n",
              "│                           │                        │                │ additional_input[<span style=\"color: #00af00; text-decoration-color: #00af00\">0</span>][<span style=\"color: #00af00; text-decoration-color: #00af00\">0</span>] │\n",
              "├───────────────────────────┼────────────────────────┼────────────────┼────────────────────────┤\n",
              "│ dense_8 (<span style=\"color: #0087ff; text-decoration-color: #0087ff\">Dense</span>)           │ (<span style=\"color: #00d7ff; text-decoration-color: #00d7ff\">None</span>, <span style=\"color: #00af00; text-decoration-color: #00af00\">64</span>)             │         <span style=\"color: #00af00; text-decoration-color: #00af00\">24,960</span> │ concatenate_4[<span style=\"color: #00af00; text-decoration-color: #00af00\">0</span>][<span style=\"color: #00af00; text-decoration-color: #00af00\">0</span>]    │\n",
              "├───────────────────────────┼────────────────────────┼────────────────┼────────────────────────┤\n",
              "│ dropout_4 (<span style=\"color: #0087ff; text-decoration-color: #0087ff\">Dropout</span>)       │ (<span style=\"color: #00d7ff; text-decoration-color: #00d7ff\">None</span>, <span style=\"color: #00af00; text-decoration-color: #00af00\">64</span>)             │              <span style=\"color: #00af00; text-decoration-color: #00af00\">0</span> │ dense_8[<span style=\"color: #00af00; text-decoration-color: #00af00\">0</span>][<span style=\"color: #00af00; text-decoration-color: #00af00\">0</span>]          │\n",
              "├───────────────────────────┼────────────────────────┼────────────────┼────────────────────────┤\n",
              "│ dense_9 (<span style=\"color: #0087ff; text-decoration-color: #0087ff\">Dense</span>)           │ (<span style=\"color: #00d7ff; text-decoration-color: #00d7ff\">None</span>, <span style=\"color: #00af00; text-decoration-color: #00af00\">4</span>)              │            <span style=\"color: #00af00; text-decoration-color: #00af00\">260</span> │ dropout_4[<span style=\"color: #00af00; text-decoration-color: #00af00\">0</span>][<span style=\"color: #00af00; text-decoration-color: #00af00\">0</span>]        │\n",
              "└───────────────────────────┴────────────────────────┴────────────────┴────────────────────────┘\n",
              "</pre>\n"
            ]
          },
          "metadata": {}
        },
        {
          "output_type": "display_data",
          "data": {
            "text/plain": [
              "\u001b[1m Total params: \u001b[0m\u001b[38;5;34m1,102,404\u001b[0m (4.21 MB)\n"
            ],
            "text/html": [
              "<pre style=\"white-space:pre;overflow-x:auto;line-height:normal;font-family:Menlo,'DejaVu Sans Mono',consolas,'Courier New',monospace\"><span style=\"font-weight: bold\"> Total params: </span><span style=\"color: #00af00; text-decoration-color: #00af00\">1,102,404</span> (4.21 MB)\n",
              "</pre>\n"
            ]
          },
          "metadata": {}
        },
        {
          "output_type": "display_data",
          "data": {
            "text/plain": [
              "\u001b[1m Trainable params: \u001b[0m\u001b[38;5;34m1,102,404\u001b[0m (4.21 MB)\n"
            ],
            "text/html": [
              "<pre style=\"white-space:pre;overflow-x:auto;line-height:normal;font-family:Menlo,'DejaVu Sans Mono',consolas,'Courier New',monospace\"><span style=\"font-weight: bold\"> Trainable params: </span><span style=\"color: #00af00; text-decoration-color: #00af00\">1,102,404</span> (4.21 MB)\n",
              "</pre>\n"
            ]
          },
          "metadata": {}
        },
        {
          "output_type": "display_data",
          "data": {
            "text/plain": [
              "\u001b[1m Non-trainable params: \u001b[0m\u001b[38;5;34m0\u001b[0m (0.00 B)\n"
            ],
            "text/html": [
              "<pre style=\"white-space:pre;overflow-x:auto;line-height:normal;font-family:Menlo,'DejaVu Sans Mono',consolas,'Courier New',monospace\"><span style=\"font-weight: bold\"> Non-trainable params: </span><span style=\"color: #00af00; text-decoration-color: #00af00\">0</span> (0.00 B)\n",
              "</pre>\n"
            ]
          },
          "metadata": {}
        }
      ],
      "source": [
        "from tensorflow.keras.layers import Concatenate, Input, Embedding, Conv1D, GlobalMaxPooling1D, Dense, Dropout\n",
        "from tensorflow.keras.models import Model\n",
        "\n",
        "# Define inputs for text and additional features\n",
        "text_input = Input(shape=(max_sequence_length,), name=\"text_input\")\n",
        "additional_input = Input(shape=(X_additional.shape[1],), name=\"additional_input\")\n",
        "\n",
        "# Embedding layer\n",
        "embedding_layer = Embedding(input_dim=max_vocab_size, output_dim=embedding_dim, input_length=max_sequence_length)(text_input)\n",
        "\n",
        "# Multiple Conv1D layers with different filter sizes (Kim's model)\n",
        "conv_3 = Conv1D(128, 3, activation='relu')(embedding_layer)\n",
        "conv_4 = Conv1D(128, 4, activation='relu')(embedding_layer)\n",
        "conv_5 = Conv1D(128, 5, activation='relu')(embedding_layer)\n",
        "\n",
        "# Global Max Pooling for each convolution layer\n",
        "pool_3 = GlobalMaxPooling1D()(conv_3)\n",
        "pool_4 = GlobalMaxPooling1D()(conv_4)\n",
        "pool_5 = GlobalMaxPooling1D()(conv_5)\n",
        "\n",
        "# Concatenate all pooled features\n",
        "concatenated = Concatenate()([pool_3, pool_4, pool_5, additional_input])\n",
        "\n",
        "# Fully connected layers\n",
        "dense_layer = Dense(64, activation='relu')(concatenated)\n",
        "dropout_layer = Dropout(0.5)(dense_layer)\n",
        "output_layer = Dense(4, activation='softmax')(dropout_layer)  # Multi-class classification (4 classes)\n",
        "\n",
        "# Compile the model with appropriate loss for multi-class classification\n",
        "model_kim = Model(inputs=[text_input, additional_input], outputs=output_layer)\n",
        "model_kim.compile(optimizer='adam', loss='sparse_categorical_crossentropy', metrics=['accuracy'])\n",
        "\n",
        "# Model summary\n",
        "model_kim.summary()\n",
        "\n",
        "\n"
      ]
    },
    {
      "cell_type": "code",
      "execution_count": 35,
      "metadata": {
        "id": "uOwxjeTYamMM",
        "colab": {
          "base_uri": "https://localhost:8080/"
        },
        "outputId": "9985d319-9347-450a-e769-6f42e8ceb130"
      },
      "outputs": [
        {
          "output_type": "stream",
          "name": "stdout",
          "text": [
            "Epoch 1/50\n",
            "\u001b[1m16513/16514\u001b[0m \u001b[32m━━━━━━━━━━━━━━━━━━━\u001b[0m\u001b[37m━\u001b[0m \u001b[1m0s\u001b[0m 48ms/step - accuracy: 0.6870 - loss: 0.7209\n",
            "Epoch 1: val_accuracy improved from -inf to 0.71801, saving model to ./checkpoints/modelkim-01-0.72.weights.h5\n",
            "\u001b[1m16514/16514\u001b[0m \u001b[32m━━━━━━━━━━━━━━━━━━━━\u001b[0m\u001b[37m\u001b[0m \u001b[1m847s\u001b[0m 51ms/step - accuracy: 0.6870 - loss: 0.7209 - val_accuracy: 0.7180 - val_loss: 0.6434\n",
            "Epoch 2/50\n",
            "\u001b[1m16514/16514\u001b[0m \u001b[32m━━━━━━━━━━━━━━━━━━━━\u001b[0m\u001b[37m\u001b[0m \u001b[1m0s\u001b[0m 49ms/step - accuracy: 0.7291 - loss: 0.6287\n",
            "Epoch 2: val_accuracy improved from 0.71801 to 0.72199, saving model to ./checkpoints/modelkim-02-0.72.weights.h5\n",
            "\u001b[1m16514/16514\u001b[0m \u001b[32m━━━━━━━━━━━━━━━━━━━━\u001b[0m\u001b[37m\u001b[0m \u001b[1m881s\u001b[0m 52ms/step - accuracy: 0.7291 - loss: 0.6287 - val_accuracy: 0.7220 - val_loss: 0.6360\n",
            "Epoch 3/50\n",
            "\u001b[1m16514/16514\u001b[0m \u001b[32m━━━━━━━━━━━━━━━━━━━━\u001b[0m\u001b[37m\u001b[0m \u001b[1m0s\u001b[0m 48ms/step - accuracy: 0.7504 - loss: 0.5871\n",
            "Epoch 3: val_accuracy did not improve from 0.72199\n",
            "\u001b[1m16514/16514\u001b[0m \u001b[32m━━━━━━━━━━━━━━━━━━━━\u001b[0m\u001b[37m\u001b[0m \u001b[1m903s\u001b[0m 51ms/step - accuracy: 0.7504 - loss: 0.5871 - val_accuracy: 0.7198 - val_loss: 0.6446\n",
            "Epoch 4/50\n",
            "\u001b[1m16513/16514\u001b[0m \u001b[32m━━━━━━━━━━━━━━━━━━━\u001b[0m\u001b[37m━\u001b[0m \u001b[1m0s\u001b[0m 48ms/step - accuracy: 0.7736 - loss: 0.5386\n",
            "Epoch 4: val_accuracy did not improve from 0.72199\n",
            "\u001b[1m16514/16514\u001b[0m \u001b[32m━━━━━━━━━━━━━━━━━━━━\u001b[0m\u001b[37m\u001b[0m \u001b[1m866s\u001b[0m 51ms/step - accuracy: 0.7736 - loss: 0.5386 - val_accuracy: 0.7146 - val_loss: 0.6780\n",
            "Epoch 5/50\n",
            "\u001b[1m16513/16514\u001b[0m \u001b[32m━━━━━━━━━━━━━━━━━━━\u001b[0m\u001b[37m━\u001b[0m \u001b[1m0s\u001b[0m 48ms/step - accuracy: 0.7942 - loss: 0.4902\n",
            "Epoch 5: val_accuracy did not improve from 0.72199\n",
            "\u001b[1m16514/16514\u001b[0m \u001b[32m━━━━━━━━━━━━━━━━━━━━\u001b[0m\u001b[37m\u001b[0m \u001b[1m894s\u001b[0m 53ms/step - accuracy: 0.7942 - loss: 0.4902 - val_accuracy: 0.7074 - val_loss: 0.7137\n",
            "Training history saved to kim_cnn_history.json\n",
            "\u001b[1m5161/5161\u001b[0m \u001b[32m━━━━━━━━━━━━━━━━━━━━\u001b[0m\u001b[37m\u001b[0m \u001b[1m67s\u001b[0m 13ms/step - accuracy: 0.7093 - loss: 0.7123\n",
            "Test Accuracy: 0.71\n"
          ]
        }
      ],
      "source": [
        "# Split X_train and X_test into separate inputs for training and testing\n",
        "X_train_text = X_train[:, :max_sequence_length]           # Text input\n",
        "X_train_additional = X_train[:, max_sequence_length:]     # Additional features input\n",
        "\n",
        "# Set up checkpointing and early stopping\n",
        "checkpoint_dir = './checkpoints'\n",
        "os.makedirs(checkpoint_dir, exist_ok=True)\n",
        "checkpoint_path = os.path.join(checkpoint_dir, \"modelkim-{epoch:02d}-{val_accuracy:.2f}.weights.h5\")\n",
        "checkpoint_callback = ModelCheckpoint(filepath=checkpoint_path, save_weights_only=True, save_best_only=True, monitor='val_accuracy', mode='max', verbose=1)\n",
        "early_stopping_callback = EarlyStopping(monitor='val_loss', patience=3)\n",
        "\n",
        "# Train the model\n",
        "history_kim = model_kim.fit(\n",
        "    [X_train_text, X_train_additional],  # Provided text and additional inputs separately\n",
        "    y_train,\n",
        "    epochs=50,\n",
        "    validation_split=0.2,\n",
        "    batch_size=32,\n",
        "    callbacks=[checkpoint_callback, early_stopping_callback]\n",
        ")\n",
        "\n",
        "# Save the training history\n",
        "history_path = 'kim_cnn_history.json'\n",
        "with open(history_path, 'w') as f:\n",
        "    json.dump(history_kim.history, f)\n",
        "print(f\"Training history saved to {history_path}\")\n",
        "\n",
        "# Prepare test data for evaluation\n",
        "X_test_text = X_test[:, :max_sequence_length]\n",
        "X_test_additional = X_test[:, max_sequence_length:]\n",
        "\n",
        "# Evaluate the model on test data\n",
        "test_loss, test_accuracy = model_kim.evaluate([X_test_text, X_test_additional], y_test)\n",
        "print(f\"Test Accuracy: {test_accuracy:.2f}\")\n",
        "\n"
      ]
    },
    {
      "cell_type": "code",
      "source": [
        "# Load and plot training history\n",
        "with open(history_path, 'r') as f:\n",
        "    saved_history = json.load(f)"
      ],
      "metadata": {
        "id": "3t3kE3IbbeoN"
      },
      "execution_count": 36,
      "outputs": []
    },
    {
      "cell_type": "code",
      "source": [
        "# Print saved history or plot (if you want to visualize training progress)\n",
        "print(\"Training and Validation Accuracy:\", saved_history.get('accuracy'), saved_history.get('val_accuracy'))"
      ],
      "metadata": {
        "colab": {
          "base_uri": "https://localhost:8080/"
        },
        "id": "qV6LhR5vbSjD",
        "outputId": "55ccdf7e-4d73-40dd-9c22-d987949ecd4e"
      },
      "execution_count": 37,
      "outputs": [
        {
          "output_type": "stream",
          "name": "stdout",
          "text": [
            "Training and Validation Accuracy: [0.7015413641929626, 0.7283241748809814, 0.7475072741508484, 0.7679487466812134, 0.7874345779418945] [0.7180055975914001, 0.7219871282577515, 0.7198222875595093, 0.7145614624023438, 0.7073855400085449]\n"
          ]
        }
      ]
    },
    {
      "cell_type": "code",
      "execution_count": 41,
      "metadata": {
        "id": "akpb-NGmcNsw",
        "colab": {
          "base_uri": "https://localhost:8080/",
          "height": 507
        },
        "outputId": "d75fa8b0-36a7-404a-fa00-12c6b578202e"
      },
      "outputs": [
        {
          "output_type": "display_data",
          "data": {
            "text/plain": [
              "<Figure size 1200x500 with 2 Axes>"
            ],
            "image/png": "[encoded data removed]"
          },
          "metadata": {}
        }
      ],
      "source": [
        "import json\n",
        "import matplotlib.pyplot as plt\n",
        "\n",
        "# Load training history\n",
        "history_path = 'kim_cnn_history.json'\n",
        "with open(history_path, 'r') as f:\n",
        "    saved_history = json.load(f)\n",
        "\n",
        "# Extract accuracy and loss data\n",
        "train_accuracy = saved_history.get('accuracy', [])\n",
        "val_accuracy = saved_history.get('val_accuracy', [])\n",
        "train_loss = saved_history.get('loss', [])\n",
        "val_loss = saved_history.get('val_loss', [])\n",
        "\n",
        "# Plot training & validation accuracy values\n",
        "plt.figure(figsize=(12, 5))\n",
        "\n",
        "# Accuracy\n",
        "plt.subplot(1, 2, 1)\n",
        "plt.plot(train_accuracy, label='Training Accuracy')\n",
        "plt.plot(val_accuracy, label='Validation Accuracy')\n",
        "plt.title('Training and Validation Accuracy')\n",
        "plt.xlabel('Epochs')\n",
        "plt.ylabel('Accuracy')\n",
        "plt.legend()\n",
        "\n",
        "# Loss\n",
        "plt.subplot(1, 2, 2)\n",
        "plt.plot(train_loss, label='Training Loss')\n",
        "plt.plot(val_loss, label='Validation Loss')\n",
        "plt.title('Training and Validation Loss')\n",
        "plt.xlabel('Epochs')\n",
        "plt.ylabel('Loss')\n",
        "plt.legend()\n",
        "\n",
        "# Show the plots\n",
        "plt.tight_layout()\n",
        "plt.show()"
      ]
    },
    {
      "cell_type": "markdown",
      "source": [
        "\n",
        "\n",
        "Training accuracy continues to increase with each epoch, reaching around 78%.\n",
        "Training loss steadily decreases, which indicates that the model is fitting well to the training data.\n",
        "\n",
        "\n",
        "Validation accuracy initially improves but then declines, showing a sign of overfitting from around the second epoch onward.\n",
        "Validation loss decreases slightly initially but then starts to increase, confirming that the model is overfitting after a few epochs.\n",
        "\n"
      ],
      "metadata": {
        "id": "v8wEvumrp2Uh"
      }
    },
    {
      "cell_type": "code",
      "source": [],
      "metadata": {
        "id": "bMcWFVVppKKw"
      },
      "execution_count": null,
      "outputs": []
    }
  ],
  "metadata": {
    "colab": {
      "provenance": []
    },
    "kernelspec": {
      "display_name": "Python 3",
      "name": "python3"
    },
    "language_info": {
      "name": "python"
    }
  },
  "nbformat": 4,
  "nbformat_minor": 0
}